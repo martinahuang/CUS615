{
  "nbformat": 4,
  "nbformat_minor": 0,
  "metadata": {
    "colab": {
      "name": "Assignment_yourname_model_evaluation.ipynb",
      "provenance": [],
      "collapsed_sections": [
        "G_yM-ar43hYs"
      ],
      "authorship_tag": "ABX9TyPMDhqPomExMt1739D2RldQ"
    },
    "kernelspec": {
      "name": "python3",
      "display_name": "Python 3"
    }
  },
  "cells": [
    {
      "cell_type": "markdown",
      "metadata": {
        "id": "G_yM-ar43hYs",
        "colab_type": "text"
      },
      "source": [
        "# 1. Hyperparameter Tuning and Model Selection\n",
        "## 1.1 Cross Valudation for Hyperparameter Tuning\n",
        "In this exercise, you will be working with the **Pima Indians Diabetes Database** database by Vincent Sigillito, which is available from the UCI database (https://archive.ics.uci.edu/ml/datasets/pima+indians+diabetes) or OpenML (https://www.openml.org/d/37).\n",
        "\n",
        "The dataset contains information about 768 patients along with the Diabetes diagnosis. The Diabetes diagnosis is a binary label, where \"tested_positive\" means that a patient has diabetes and \"tested_negative\" means that a patient does not have diabetes.\n",
        "\n",
        "I additional to the class label, there are 8 numeric features in the dataset, which are listed below:\n",
        "\n",
        "- Number of times pregnant\n",
        "- Plasma glucose concentration a 2 hours in an oral glucose tolerance test\n",
        "- Diastolic blood pressure (mm Hg)\n",
        "- Triceps skin fold thickness (mm)\n",
        "- 2-Hour serum insulin (mu U/ml)\n",
        "- Body mass index (weight in kg/(height in m)^2)\n",
        "- Diabetes pedigree function\n",
        "- Age (years)"
      ]
    },
    {
      "cell_type": "code",
      "metadata": {
        "id": "1CSn4K5E3fuE",
        "colab_type": "code",
        "colab": {}
      },
      "source": [
        "%%capture \n",
        "# Execute this cell first to download the necessary data for this assignment .\n",
        "!wget -O /content/sample_data/dataset_37_diabetes.csv https://raw.githubusercontent.com/rasbt/stat479-machine-learning-fs19/master/hw03/dataset_37_diabetes.csv\n"
      ],
      "execution_count": 0,
      "outputs": []
    },
    {
      "cell_type": "code",
      "metadata": {
        "id": "BG4YA_gY18Z6",
        "colab_type": "code",
        "colab": {}
      },
      "source": [
        ""
      ],
      "execution_count": 0,
      "outputs": []
    },
    {
      "cell_type": "markdown",
      "metadata": {
        "id": "GWg1_L5O5hOJ",
        "colab_type": "text"
      },
      "source": [
        "\n",
        "## 1.1.1 Load the Dataset \n",
        "Use pandas to load the dataset from the dataset_37_diabetes.csv CSV file located under the sample_data folder in your colab enviroment. Make sure you downloaded the data by executing the at the top of this notebook.\n"
      ]
    },
    {
      "cell_type": "code",
      "metadata": {
        "id": "tcGmVFN65h9k",
        "colab_type": "code",
        "colab": {}
      },
      "source": [
        "\n",
        "import pandas as pd\n",
        "\n",
        "\n",
        "df = pd.read_csv(# Complete the code \n",
        "df.head()\n"
      ],
      "execution_count": 0,
      "outputs": []
    },
    {
      "cell_type": "markdown",
      "metadata": {
        "id": "YWSrncB96ICS",
        "colab_type": "text"
      },
      "source": [
        "### 1.1.2 Preprocess the class label \n",
        "Convert the class label using pandas apply or map method. The mapping should be as follows:\n",
        "\n",
        "'tested_positive' should be converted to 1\n",
        "'tested_negative' should be converted to 0"
      ]
    },
    {
      "cell_type": "code",
      "metadata": {
        "id": "L3aLdtsk6PLL",
        "colab_type": "code",
        "colab": {}
      },
      "source": [
        "df['class'] = df['class'].#Complete the code \n",
        "df.head()"
      ],
      "execution_count": 0,
      "outputs": []
    },
    {
      "cell_type": "code",
      "metadata": {
        "id": "r9AkEUk56ahy",
        "colab_type": "code",
        "colab": {}
      },
      "source": [
        ""
      ],
      "execution_count": 0,
      "outputs": []
    },
    {
      "cell_type": "markdown",
      "metadata": {
        "id": "nRXzMcsT6568",
        "colab_type": "text"
      },
      "source": [
        "# 1. 1.3 Split dataset into training and test sets \n",
        "Split the dataset into 70% training and 30% test data\n",
        "Perform a stratified split use 0 as the random seed for shuffling. You might want to check the documentatin of the train_test_split method of sklearn. \n"
      ]
    },
    {
      "cell_type": "code",
      "metadata": {
        "id": "iQzCnLNn6_AB",
        "colab_type": "code",
        "colab": {}
      },
      "source": [
        "\n",
        "from sklearn.model_selection import train_test_split\n",
        "\n",
        "\n",
        "y = df['class'].values\n",
        "X = df.iloc[:, :-1].values\n",
        "\n",
        "X_train, X_test, y_train, y_test = \\\n",
        "    train_test_split(X, y, # # Complete the code "
      ],
      "execution_count": 0,
      "outputs": []
    },
    {
      "cell_type": "markdown",
      "metadata": {
        "id": "xewbMZqa7hj4",
        "colab_type": "text"
      },
      "source": [
        "## 2 Perform model selection on the KNN classifier. \n",
        "Use the above dataset to identify and evaluate the best model for this dataset when you are using the K-NN classifier. Explore different parameters for K. \n",
        "\n",
        "1. Report which parameter K gives best result under the cross validation procedure. \n",
        "\n",
        "2. Report the classification accuracy for the optimal parameter using cross validation for model evaluation. \n",
        "\n",
        "3. Report the generalization performance of the optimal model on the holdout dataset. \n"
      ]
    },
    {
      "cell_type": "code",
      "metadata": {
        "id": "3VtevO-v79CU",
        "colab_type": "code",
        "colab": {}
      },
      "source": [
        "# Use this cell to run cross validation and select the optimial model for KNN classifier\n",
        "# (i.e. the optimal K value \n",
        "\n"
      ],
      "execution_count": 0,
      "outputs": []
    },
    {
      "cell_type": "code",
      "metadata": {
        "id": "K71Vmnwb8u3x",
        "colab_type": "code",
        "colab": {}
      },
      "source": [
        "# Use this cell to calculate and report optimal model parameters and cross validation performance. \n",
        "\n"
      ],
      "execution_count": 0,
      "outputs": []
    },
    {
      "cell_type": "code",
      "metadata": {
        "id": "YmSK_7Ix80rM",
        "colab_type": "code",
        "colab": {}
      },
      "source": [
        "# Use this cell to calculate and report the generalization performance of the optimal model\n",
        "\n",
        "\n"
      ],
      "execution_count": 0,
      "outputs": []
    },
    {
      "cell_type": "markdown",
      "metadata": {
        "id": "jNmU2cnV86GY",
        "colab_type": "text"
      },
      "source": [
        "## 3 Perform model selection on the SVM classifier. \n",
        "Use the above dataset to identify and evaluate the best model for this dataset when you are using the SVM classifier. Explore different parameters for C, gamma and kernel.\n",
        "\n",
        "1. Report which parameter configuration (C, gamma, kernel) gives best result under the cross validation procedure. \n",
        "\n",
        "2. Report the classification accuracy for the optimal parameter using cross validation for model evaluation. \n",
        "\n",
        "3. Report the generalization performance of the optimal model on the holdout dataset. "
      ]
    },
    {
      "cell_type": "code",
      "metadata": {
        "id": "DLFeBTKE851M",
        "colab_type": "code",
        "colab": {}
      },
      "source": [
        "# Use this cell to run cross validation and select the optimial model for SVM classifier\n",
        "# (i.e. the optimal C, gamma, kernal parameter configuration) "
      ],
      "execution_count": 0,
      "outputs": []
    },
    {
      "cell_type": "code",
      "metadata": {
        "id": "XzTLt-w59WIU",
        "colab_type": "code",
        "colab": {}
      },
      "source": [
        "# Use this cell to calculate and report optimal model parameters and cross validation performance. \n"
      ],
      "execution_count": 0,
      "outputs": []
    },
    {
      "cell_type": "code",
      "metadata": {
        "id": "gNtG2_LP9Wkq",
        "colab_type": "code",
        "colab": {}
      },
      "source": [
        "# Use this cell to calculate and report the generalization performance of the optimal model\n",
        "\n"
      ],
      "execution_count": 0,
      "outputs": []
    },
    {
      "cell_type": "code",
      "metadata": {
        "id": "t4Dp-_QA9W84",
        "colab_type": "code",
        "colab": {}
      },
      "source": [
        ""
      ],
      "execution_count": 0,
      "outputs": []
    },
    {
      "cell_type": "markdown",
      "metadata": {
        "id": "XKoPxhIo9lUX",
        "colab_type": "text"
      },
      "source": [
        "## 4 Perform model selection on a classifier of your choice.\n",
        "\n",
        "Research the sklearn website and identify a classifer implementation that you think might be a good model for classifying the above dataset. (see for example https://scikit-learn.org/stable/auto_examples/classification/plot_classifier_comparison.html)\n",
        "\n",
        "Choose a classifier that is implemented in sklearn, and identify what hyperparameters it expect. \n",
        "\n",
        "Come with a hypothesis space (possible values for the hyper-parameters you want to explore). \n",
        "\n",
        "Use the above dataset to identify and evaluate the best model for this dataset when you are using the classifer you have choosen . Explore different parameters for its hyper parameters.\n",
        "\n",
        "1. Report which hyper parameter configuration  gives best result under the cross validation procedure. \n",
        "\n",
        "2. Report the classification accuracy for the optimal parameter using cross validation for model evaluation. \n",
        "\n",
        "3. Report the generalization performance of the optimal model on the holdout dataset. "
      ]
    },
    {
      "cell_type": "code",
      "metadata": {
        "id": "LzBsvPP3-gI9",
        "colab_type": "code",
        "colab": {}
      },
      "source": [
        "# Use this cell to run cross validation and select the optimial model for SVM classifier\n",
        "# (i.e. the optimal C, gamma, kernal parameter configuration) \n",
        "\n"
      ],
      "execution_count": 0,
      "outputs": []
    },
    {
      "cell_type": "code",
      "metadata": {
        "id": "FAev300x-lLk",
        "colab_type": "code",
        "colab": {}
      },
      "source": [
        "# Use this cell to calculate and report optimal model parameters and cross validation performance. \n"
      ],
      "execution_count": 0,
      "outputs": []
    },
    {
      "cell_type": "code",
      "metadata": {
        "id": "FncEFi_G-nu2",
        "colab_type": "code",
        "colab": {}
      },
      "source": [
        "# Use this cell to calculate and report the generalization performance of the optimal model\n",
        "\n"
      ],
      "execution_count": 0,
      "outputs": []
    }
  ]
}