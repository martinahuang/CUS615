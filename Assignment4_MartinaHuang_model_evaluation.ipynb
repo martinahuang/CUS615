{
  "nbformat": 4,
  "nbformat_minor": 0,
  "metadata": {
    "colab": {
      "name": "Assignment_yourname_model_evaluation.ipynb",
      "provenance": [],
      "collapsed_sections": [
        "G_yM-ar43hYs"
      ],
      "include_colab_link": true
    },
    "kernelspec": {
      "name": "python3",
      "display_name": "Python 3"
    }
  },
  "cells": [
    {
      "cell_type": "markdown",
      "metadata": {
        "id": "view-in-github",
        "colab_type": "text"
      },
      "source": [
        "<a href=\"https://colab.research.google.com/github/martinahuang/CUS615/blob/master/Assignment4_MartinaHuang_model_evaluation.ipynb\" target=\"_parent\"><img src=\"https://colab.research.google.com/assets/colab-badge.svg\" alt=\"Open In Colab\"/></a>"
      ]
    },
    {
      "cell_type": "markdown",
      "metadata": {
        "id": "G_yM-ar43hYs",
        "colab_type": "text"
      },
      "source": [
        "# 1. Hyperparameter Tuning and Model Selection\n",
        "## 1.1 Cross Valudation for Hyperparameter Tuning\n",
        "In this exercise, you will be working with the **Pima Indians Diabetes Database** database by Vincent Sigillito, which is available from the UCI database (https://archive.ics.uci.edu/ml/datasets/pima+indians+diabetes) or OpenML (https://www.openml.org/d/37).\n",
        "\n",
        "The dataset contains information about 768 patients along with the Diabetes diagnosis. The Diabetes diagnosis is a binary label, where \"tested_positive\" means that a patient has diabetes and \"tested_negative\" means that a patient does not have diabetes.\n",
        "\n",
        "I additional to the class label, there are 8 numeric features in the dataset, which are listed below:\n",
        "\n",
        "- Number of times pregnant\n",
        "- Plasma glucose concentration a 2 hours in an oral glucose tolerance test\n",
        "- Diastolic blood pressure (mm Hg)\n",
        "- Triceps skin fold thickness (mm)\n",
        "- 2-Hour serum insulin (mu U/ml)\n",
        "- Body mass index (weight in kg/(height in m)^2)\n",
        "- Diabetes pedigree function\n",
        "- Age (years)"
      ]
    },
    {
      "cell_type": "code",
      "metadata": {
        "id": "1CSn4K5E3fuE",
        "colab_type": "code",
        "colab": {}
      },
      "source": [
        "%%capture \n",
        "# Execute this cell first to download the necessary data for this assignment .\n",
        "!wget -O /content/sample_data/dataset_37_diabetes.csv https://raw.githubusercontent.com/rasbt/stat479-machine-learning-fs19/master/hw03/dataset_37_diabetes.csv\n"
      ],
      "execution_count": 0,
      "outputs": []
    },
    {
      "cell_type": "code",
      "metadata": {
        "id": "BG4YA_gY18Z6",
        "colab_type": "code",
        "colab": {}
      },
      "source": [
        ""
      ],
      "execution_count": 0,
      "outputs": []
    },
    {
      "cell_type": "markdown",
      "metadata": {
        "id": "GWg1_L5O5hOJ",
        "colab_type": "text"
      },
      "source": [
        "\n",
        "## 1.1.1 Load the Dataset \n",
        "Use pandas to load the dataset from the dataset_37_diabetes.csv CSV file located under the sample_data folder in your colab enviroment. Make sure you downloaded the data by executing the at the top of this notebook.\n"
      ]
    },
    {
      "cell_type": "code",
      "metadata": {
        "id": "tcGmVFN65h9k",
        "colab_type": "code",
        "colab": {
          "base_uri": "https://localhost:8080/",
          "height": 204
        },
        "outputId": "493297a1-67d3-4b3a-dbab-3b956f040f76"
      },
      "source": [
        "\n",
        "import pandas as pd\n",
        "\n",
        "\n",
        "df = pd.read_csv(\"./sample_data/dataset_37_diabetes.csv\" )\n",
        "df.head()\n"
      ],
      "execution_count": 20,
      "outputs": [
        {
          "output_type": "execute_result",
          "data": {
            "text/html": [
              "<div>\n",
              "<style scoped>\n",
              "    .dataframe tbody tr th:only-of-type {\n",
              "        vertical-align: middle;\n",
              "    }\n",
              "\n",
              "    .dataframe tbody tr th {\n",
              "        vertical-align: top;\n",
              "    }\n",
              "\n",
              "    .dataframe thead th {\n",
              "        text-align: right;\n",
              "    }\n",
              "</style>\n",
              "<table border=\"1\" class=\"dataframe\">\n",
              "  <thead>\n",
              "    <tr style=\"text-align: right;\">\n",
              "      <th></th>\n",
              "      <th>preg</th>\n",
              "      <th>plas</th>\n",
              "      <th>pres</th>\n",
              "      <th>skin</th>\n",
              "      <th>insu</th>\n",
              "      <th>mass</th>\n",
              "      <th>pedi</th>\n",
              "      <th>age</th>\n",
              "      <th>class</th>\n",
              "    </tr>\n",
              "  </thead>\n",
              "  <tbody>\n",
              "    <tr>\n",
              "      <th>0</th>\n",
              "      <td>6</td>\n",
              "      <td>148</td>\n",
              "      <td>72</td>\n",
              "      <td>35</td>\n",
              "      <td>0</td>\n",
              "      <td>33.6</td>\n",
              "      <td>0.627</td>\n",
              "      <td>50</td>\n",
              "      <td>tested_positive</td>\n",
              "    </tr>\n",
              "    <tr>\n",
              "      <th>1</th>\n",
              "      <td>1</td>\n",
              "      <td>85</td>\n",
              "      <td>66</td>\n",
              "      <td>29</td>\n",
              "      <td>0</td>\n",
              "      <td>26.6</td>\n",
              "      <td>0.351</td>\n",
              "      <td>31</td>\n",
              "      <td>tested_negative</td>\n",
              "    </tr>\n",
              "    <tr>\n",
              "      <th>2</th>\n",
              "      <td>8</td>\n",
              "      <td>183</td>\n",
              "      <td>64</td>\n",
              "      <td>0</td>\n",
              "      <td>0</td>\n",
              "      <td>23.3</td>\n",
              "      <td>0.672</td>\n",
              "      <td>32</td>\n",
              "      <td>tested_positive</td>\n",
              "    </tr>\n",
              "    <tr>\n",
              "      <th>3</th>\n",
              "      <td>1</td>\n",
              "      <td>89</td>\n",
              "      <td>66</td>\n",
              "      <td>23</td>\n",
              "      <td>94</td>\n",
              "      <td>28.1</td>\n",
              "      <td>0.167</td>\n",
              "      <td>21</td>\n",
              "      <td>tested_negative</td>\n",
              "    </tr>\n",
              "    <tr>\n",
              "      <th>4</th>\n",
              "      <td>0</td>\n",
              "      <td>137</td>\n",
              "      <td>40</td>\n",
              "      <td>35</td>\n",
              "      <td>168</td>\n",
              "      <td>43.1</td>\n",
              "      <td>2.288</td>\n",
              "      <td>33</td>\n",
              "      <td>tested_positive</td>\n",
              "    </tr>\n",
              "  </tbody>\n",
              "</table>\n",
              "</div>"
            ],
            "text/plain": [
              "   preg  plas  pres  skin  insu  mass   pedi  age            class\n",
              "0     6   148    72    35     0  33.6  0.627   50  tested_positive\n",
              "1     1    85    66    29     0  26.6  0.351   31  tested_negative\n",
              "2     8   183    64     0     0  23.3  0.672   32  tested_positive\n",
              "3     1    89    66    23    94  28.1  0.167   21  tested_negative\n",
              "4     0   137    40    35   168  43.1  2.288   33  tested_positive"
            ]
          },
          "metadata": {
            "tags": []
          },
          "execution_count": 20
        }
      ]
    },
    {
      "cell_type": "markdown",
      "metadata": {
        "id": "YWSrncB96ICS",
        "colab_type": "text"
      },
      "source": [
        "### 1.1.2 Preprocess the class label \n",
        "Convert the class label using pandas apply or map method. The mapping should be as follows:\n",
        "\n",
        "'tested_positive' should be converted to 1\n",
        "'tested_negative' should be converted to 0"
      ]
    },
    {
      "cell_type": "code",
      "metadata": {
        "id": "j3bm9_LYt1g8",
        "colab_type": "code",
        "colab": {}
      },
      "source": [
        ""
      ],
      "execution_count": 0,
      "outputs": []
    },
    {
      "cell_type": "code",
      "metadata": {
        "id": "L3aLdtsk6PLL",
        "colab_type": "code",
        "colab": {
          "base_uri": "https://localhost:8080/",
          "height": 204
        },
        "outputId": "912fa042-2d94-4da1-c1a8-9a58e4d85e55"
      },
      "source": [
        "df['class'] = df['class'].replace('tested_positive',1)\n",
        "df['class'] = df['class'].replace('tested_negative',0)\n",
        "#Complete the code \n",
        "df.head()"
      ],
      "execution_count": 21,
      "outputs": [
        {
          "output_type": "execute_result",
          "data": {
            "text/html": [
              "<div>\n",
              "<style scoped>\n",
              "    .dataframe tbody tr th:only-of-type {\n",
              "        vertical-align: middle;\n",
              "    }\n",
              "\n",
              "    .dataframe tbody tr th {\n",
              "        vertical-align: top;\n",
              "    }\n",
              "\n",
              "    .dataframe thead th {\n",
              "        text-align: right;\n",
              "    }\n",
              "</style>\n",
              "<table border=\"1\" class=\"dataframe\">\n",
              "  <thead>\n",
              "    <tr style=\"text-align: right;\">\n",
              "      <th></th>\n",
              "      <th>preg</th>\n",
              "      <th>plas</th>\n",
              "      <th>pres</th>\n",
              "      <th>skin</th>\n",
              "      <th>insu</th>\n",
              "      <th>mass</th>\n",
              "      <th>pedi</th>\n",
              "      <th>age</th>\n",
              "      <th>class</th>\n",
              "    </tr>\n",
              "  </thead>\n",
              "  <tbody>\n",
              "    <tr>\n",
              "      <th>0</th>\n",
              "      <td>6</td>\n",
              "      <td>148</td>\n",
              "      <td>72</td>\n",
              "      <td>35</td>\n",
              "      <td>0</td>\n",
              "      <td>33.6</td>\n",
              "      <td>0.627</td>\n",
              "      <td>50</td>\n",
              "      <td>1</td>\n",
              "    </tr>\n",
              "    <tr>\n",
              "      <th>1</th>\n",
              "      <td>1</td>\n",
              "      <td>85</td>\n",
              "      <td>66</td>\n",
              "      <td>29</td>\n",
              "      <td>0</td>\n",
              "      <td>26.6</td>\n",
              "      <td>0.351</td>\n",
              "      <td>31</td>\n",
              "      <td>0</td>\n",
              "    </tr>\n",
              "    <tr>\n",
              "      <th>2</th>\n",
              "      <td>8</td>\n",
              "      <td>183</td>\n",
              "      <td>64</td>\n",
              "      <td>0</td>\n",
              "      <td>0</td>\n",
              "      <td>23.3</td>\n",
              "      <td>0.672</td>\n",
              "      <td>32</td>\n",
              "      <td>1</td>\n",
              "    </tr>\n",
              "    <tr>\n",
              "      <th>3</th>\n",
              "      <td>1</td>\n",
              "      <td>89</td>\n",
              "      <td>66</td>\n",
              "      <td>23</td>\n",
              "      <td>94</td>\n",
              "      <td>28.1</td>\n",
              "      <td>0.167</td>\n",
              "      <td>21</td>\n",
              "      <td>0</td>\n",
              "    </tr>\n",
              "    <tr>\n",
              "      <th>4</th>\n",
              "      <td>0</td>\n",
              "      <td>137</td>\n",
              "      <td>40</td>\n",
              "      <td>35</td>\n",
              "      <td>168</td>\n",
              "      <td>43.1</td>\n",
              "      <td>2.288</td>\n",
              "      <td>33</td>\n",
              "      <td>1</td>\n",
              "    </tr>\n",
              "  </tbody>\n",
              "</table>\n",
              "</div>"
            ],
            "text/plain": [
              "   preg  plas  pres  skin  insu  mass   pedi  age  class\n",
              "0     6   148    72    35     0  33.6  0.627   50      1\n",
              "1     1    85    66    29     0  26.6  0.351   31      0\n",
              "2     8   183    64     0     0  23.3  0.672   32      1\n",
              "3     1    89    66    23    94  28.1  0.167   21      0\n",
              "4     0   137    40    35   168  43.1  2.288   33      1"
            ]
          },
          "metadata": {
            "tags": []
          },
          "execution_count": 21
        }
      ]
    },
    {
      "cell_type": "code",
      "metadata": {
        "id": "r9AkEUk56ahy",
        "colab_type": "code",
        "colab": {}
      },
      "source": [
        ""
      ],
      "execution_count": 0,
      "outputs": []
    },
    {
      "cell_type": "markdown",
      "metadata": {
        "id": "nRXzMcsT6568",
        "colab_type": "text"
      },
      "source": [
        "# 1. 1.3 Split dataset into training and test sets \n",
        "Split the dataset into 70% training and 30% test data\n",
        "Perform a stratified split use 0 as the random seed for shuffling. You might want to check the documentatin of the train_test_split method of sklearn. \n"
      ]
    },
    {
      "cell_type": "code",
      "metadata": {
        "id": "iQzCnLNn6_AB",
        "colab_type": "code",
        "colab": {}
      },
      "source": [
        "\n",
        "from sklearn.model_selection import train_test_split\n",
        "\n",
        "\n",
        "y = df['class'].values\n",
        "X = df.iloc[:, :-1].values\n",
        "\n",
        "X_train, X_test, y_train, y_test =  train_test_split(X, y, test_size=0.30, random_state=0,shuffle=True, stratify=y)\n",
        "                     \n",
        "                "
      ],
      "execution_count": 0,
      "outputs": []
    },
    {
      "cell_type": "markdown",
      "metadata": {
        "id": "xewbMZqa7hj4",
        "colab_type": "text"
      },
      "source": [
        "## 2 Perform model selection on the KNN classifier. \n",
        "Use the above dataset to identify and evaluate the best model for this dataset when you are using the K-NN classifier. Explore different parameters for K. \n",
        "\n",
        "1. Report which parameter K gives best result under the cross validation procedure. \n",
        "\n",
        "2. Report the classification accuracy for the optimal parameter using cross validation for model evaluation. \n",
        "\n",
        "3. Report the generalization performance of the optimal model on the holdout dataset. \n"
      ]
    },
    {
      "cell_type": "code",
      "metadata": {
        "id": "Wx2O9dQSIpyz",
        "colab_type": "code",
        "colab": {
          "base_uri": "https://localhost:8080/",
          "height": 224
        },
        "outputId": "97d0a017-0d90-4e38-8540-60b956eb2a49"
      },
      "source": [
        "import numpy as np\n",
        "import matplotlib.pyplot as plt \n",
        "from sklearn import metrics\n",
        "from sklearn import datasets\n",
        "from sklearn.model_selection import cross_val_score\n",
        "!wget -O /content/cus615_utils.py https://raw.githubusercontent.com/christoforou/intro_to_pandas_lab/master/cus615_utils/cus615_utils.py\n",
        "from cus615_utils import *"
      ],
      "execution_count": 23,
      "outputs": [
        {
          "output_type": "stream",
          "text": [
            "--2020-02-24 03:22:05--  https://raw.githubusercontent.com/christoforou/intro_to_pandas_lab/master/cus615_utils/cus615_utils.py\n",
            "Resolving raw.githubusercontent.com (raw.githubusercontent.com)... 151.101.0.133, 151.101.64.133, 151.101.128.133, ...\n",
            "Connecting to raw.githubusercontent.com (raw.githubusercontent.com)|151.101.0.133|:443... connected.\n",
            "HTTP request sent, awaiting response... 200 OK\n",
            "Length: 2309 (2.3K) [text/plain]\n",
            "Saving to: ‘/content/cus615_utils.py’\n",
            "\n",
            "\r/content/cus615_uti   0%[                    ]       0  --.-KB/s               \r/content/cus615_uti 100%[===================>]   2.25K  --.-KB/s    in 0s      \n",
            "\n",
            "2020-02-24 03:22:05 (38.6 MB/s) - ‘/content/cus615_utils.py’ saved [2309/2309]\n",
            "\n"
          ],
          "name": "stdout"
        }
      ]
    },
    {
      "cell_type": "code",
      "metadata": {
        "id": "3VtevO-v79CU",
        "colab_type": "code",
        "colab": {
          "base_uri": "https://localhost:8080/",
          "height": 68
        },
        "outputId": "2a9b6803-0888-4b5a-986a-270205c37577"
      },
      "source": [
        "# Use this cell to run cross validation and select the optimial model for KNN classifier\n",
        "# (i.e. the optimal K value \n",
        "from sklearn.neighbors import KNeighborsClassifier\n",
        "model =KNeighborsClassifier(n_neighbors=3)\n",
        "\n",
        "model.fit(X_train,y_train)"
      ],
      "execution_count": 46,
      "outputs": [
        {
          "output_type": "execute_result",
          "data": {
            "text/plain": [
              "KNeighborsClassifier(algorithm='auto', leaf_size=30, metric='minkowski',\n",
              "                     metric_params=None, n_jobs=None, n_neighbors=3, p=2,\n",
              "                     weights='uniform')"
            ]
          },
          "metadata": {
            "tags": []
          },
          "execution_count": 46
        }
      ]
    },
    {
      "cell_type": "code",
      "metadata": {
        "id": "-V4c1DCmVTLq",
        "colab_type": "code",
        "colab": {
          "base_uri": "https://localhost:8080/",
          "height": 34
        },
        "outputId": "4e0254f6-42c8-4fc1-c565-f58f9970bd98"
      },
      "source": [
        "model.score(X_test, y_test)"
      ],
      "execution_count": 49,
      "outputs": [
        {
          "output_type": "execute_result",
          "data": {
            "text/plain": [
              "0.6926406926406926"
            ]
          },
          "metadata": {
            "tags": []
          },
          "execution_count": 49
        }
      ]
    },
    {
      "cell_type": "code",
      "metadata": {
        "id": "1XvOMC_oVcSD",
        "colab_type": "code",
        "colab": {
          "base_uri": "https://localhost:8080/",
          "height": 34
        },
        "outputId": "a23b0ff8-b47e-4309-d45a-01374b3868a5"
      },
      "source": [
        "model1 =KNeighborsClassifier(n_neighbors=5)\n",
        "\n",
        "model1.fit(X_train,y_train)\n",
        "model1.score(X_test, y_test)"
      ],
      "execution_count": 50,
      "outputs": [
        {
          "output_type": "execute_result",
          "data": {
            "text/plain": [
              "0.7445887445887446"
            ]
          },
          "metadata": {
            "tags": []
          },
          "execution_count": 50
        }
      ]
    },
    {
      "cell_type": "code",
      "metadata": {
        "id": "9CIUjH4kVhzF",
        "colab_type": "code",
        "colab": {
          "base_uri": "https://localhost:8080/",
          "height": 34
        },
        "outputId": "bd22fc97-00e2-48d0-cd8a-49fdfc7f1760"
      },
      "source": [
        "model2 =KNeighborsClassifier(n_neighbors=8)\n",
        "\n",
        "model2.fit(X_train,y_train)\n",
        "model2.score(X_test, y_test)"
      ],
      "execution_count": 51,
      "outputs": [
        {
          "output_type": "execute_result",
          "data": {
            "text/plain": [
              "0.7705627705627706"
            ]
          },
          "metadata": {
            "tags": []
          },
          "execution_count": 51
        }
      ]
    },
    {
      "cell_type": "markdown",
      "metadata": {
        "id": "e-oKWXNoWVv1",
        "colab_type": "text"
      },
      "source": [
        "K = 8 shows the highest value. Thus, we will use model 2 for the cross validation part. \n"
      ]
    },
    {
      "cell_type": "code",
      "metadata": {
        "id": "K71Vmnwb8u3x",
        "colab_type": "code",
        "colab": {}
      },
      "source": [
        "# Use this cell to calculate and report optimal model parameters and cross validation performance. \n",
        "\n"
      ],
      "execution_count": 0,
      "outputs": []
    },
    {
      "cell_type": "markdown",
      "metadata": {
        "id": "fbDJlVilWeH0",
        "colab_type": "text"
      },
      "source": [
        "We had"
      ]
    },
    {
      "cell_type": "code",
      "metadata": {
        "id": "t8CmlK19S7WZ",
        "colab_type": "code",
        "colab": {
          "base_uri": "https://localhost:8080/",
          "height": 34
        },
        "outputId": "bf7f152d-cb35-4c65-85f8-6bb8fab147c8"
      },
      "source": [
        "from sklearn.model_selection import cross_val_score\n",
        "from sklearn.model_selection import StratifiedKFold\n",
        "\n",
        "cv = StratifiedKFold(n_splits=10, random_state=15, shuffle=True)\n",
        "cv_acc = cross_val_score(estimator=model2,\n",
        "                         X=X_train,\n",
        "                         y=y_train,\n",
        "                         cv=cv,\n",
        "                         n_jobs=-1)\n",
        "print(\"Cross-validation: {:.2f}\".format(np.mean(cv_acc)))"
      ],
      "execution_count": 52,
      "outputs": [
        {
          "output_type": "stream",
          "text": [
            "Cross-validation: 0.72\n"
          ],
          "name": "stdout"
        }
      ]
    },
    {
      "cell_type": "code",
      "metadata": {
        "id": "MzDvjsFJUovI",
        "colab_type": "code",
        "colab": {
          "base_uri": "https://localhost:8080/",
          "height": 34
        },
        "outputId": "d2377524-5a98-4d4c-e783-17f47be41346"
      },
      "source": [
        "from sklearn.model_selection import cross_val_score\n",
        "from sklearn.model_selection import StratifiedKFold\n",
        "\n",
        "cv = StratifiedKFold(n_splits=5, random_state=15, shuffle=True)\n",
        "cv_acc = cross_val_score(estimator=model2,\n",
        "                         X=X_train,\n",
        "                         y=y_train,\n",
        "                         cv=cv,\n",
        "                         n_jobs=-1)\n",
        "print(\"Cross-validation: {:.2f}\".format(np.mean(cv_acc)))"
      ],
      "execution_count": 55,
      "outputs": [
        {
          "output_type": "stream",
          "text": [
            "Cross-validation: 0.70\n"
          ],
          "name": "stdout"
        }
      ]
    },
    {
      "cell_type": "code",
      "metadata": {
        "id": "iyP6EkcnUuga",
        "colab_type": "code",
        "colab": {
          "base_uri": "https://localhost:8080/",
          "height": 34
        },
        "outputId": "7c35a694-297a-44ad-eda8-b09d32067ce0"
      },
      "source": [
        "from sklearn.model_selection import cross_val_score\n",
        "from sklearn.model_selection import StratifiedKFold\n",
        "\n",
        "cv = StratifiedKFold(n_splits=3, random_state=15, shuffle=True)\n",
        "cv_acc = cross_val_score(estimator=model2,\n",
        "                         X=X_train,\n",
        "                         y=y_train,\n",
        "                         cv=cv,\n",
        "                         n_jobs=-1)\n",
        "print(\"Cross-validation: {:.2f}\".format(np.mean(cv_acc)))"
      ],
      "execution_count": 56,
      "outputs": [
        {
          "output_type": "stream",
          "text": [
            "Cross-validation: 0.73\n"
          ],
          "name": "stdout"
        }
      ]
    },
    {
      "cell_type": "code",
      "metadata": {
        "id": "YmSK_7Ix80rM",
        "colab_type": "code",
        "colab": {
          "base_uri": "https://localhost:8080/",
          "height": 34
        },
        "outputId": "99cc2744-640e-4cad-fb55-26ed4cdd0593"
      },
      "source": [
        "# Use this cell to calculate and report the generalization performance of the optimal model\n",
        "\n",
        "model2 =KNeighborsClassifier(n_neighbors=8)\n",
        "\n",
        "model2.fit(X_train,y_train)\n",
        "model2.score(X_test, y_test)\n",
        "\n",
        "cv = StratifiedKFold(n_splits=3, random_state=15, shuffle=True)\n",
        "cv_acc = cross_val_score(estimator=model2,\n",
        "                         X=X_train,\n",
        "                         y=y_train,\n",
        "                         cv=cv,\n",
        "                         n_jobs=-1)\n",
        "print(\"Cross-validation: {:.2f}\".format(np.mean(cv_acc)))\n"
      ],
      "execution_count": 57,
      "outputs": [
        {
          "output_type": "stream",
          "text": [
            "Cross-validation: 0.73\n"
          ],
          "name": "stdout"
        }
      ]
    },
    {
      "cell_type": "markdown",
      "metadata": {
        "id": "jNmU2cnV86GY",
        "colab_type": "text"
      },
      "source": [
        "## 3 Perform model selection on the SVM classifier. \n",
        "Use the above dataset to identify and evaluate the best model for this dataset when you are using the SVM classifier. Explore different parameters for C, gamma and kernel.\n",
        "\n",
        "1. Report which parameter configuration (C, gamma, kernel) gives best result under the cross validation procedure. \n",
        "\n",
        "2. Report the classification accuracy for the optimal parameter using cross validation for model evaluation. \n",
        "\n",
        "3. Report the generalization performance of the optimal model on the holdout dataset. "
      ]
    },
    {
      "cell_type": "code",
      "metadata": {
        "id": "DLFeBTKE851M",
        "colab_type": "code",
        "colab": {
          "base_uri": "https://localhost:8080/",
          "height": 85
        },
        "outputId": "7530381d-91d1-44b1-8287-545ca9321b5e"
      },
      "source": [
        "# Use this cell to run cross validation and select the optimial model for SVM classifier\n",
        "# (i.e. the optimal C, gamma, kernal parameter configuration) \n",
        "from sklearn import svm\n",
        "\n",
        "model = svm.SVC(C=1.4,kernel = 'rbf')\n",
        "model.fit(X_train,y_train)\n",
        "y_pred = model.predict(X_test)\n",
        "y_true = y_test\n",
        "model.fit(X_train,y_train)"
      ],
      "execution_count": 61,
      "outputs": [
        {
          "output_type": "execute_result",
          "data": {
            "text/plain": [
              "SVC(C=1.4, break_ties=False, cache_size=200, class_weight=None, coef0=0.0,\n",
              "    decision_function_shape='ovr', degree=3, gamma='scale', kernel='rbf',\n",
              "    max_iter=-1, probability=False, random_state=None, shrinking=True,\n",
              "    tol=0.001, verbose=False)"
            ]
          },
          "metadata": {
            "tags": []
          },
          "execution_count": 61
        }
      ]
    },
    {
      "cell_type": "code",
      "metadata": {
        "id": "XzTLt-w59WIU",
        "colab_type": "code",
        "colab": {
          "base_uri": "https://localhost:8080/",
          "height": 85
        },
        "outputId": "014ae254-28f9-41d8-d87e-983689d56646"
      },
      "source": [
        "# Use this cell to calculate and report optimal model parameters and cross validation performance. \n",
        "\n",
        "model1 = svm.SVC(C=5,kernel = 'poly')\n",
        "model1.fit(X_train,y_train)\n",
        "y_pred = model1.predict(X_test)\n",
        "y_true = y_test\n",
        "model1.fit(X_train,y_train)\n"
      ],
      "execution_count": 62,
      "outputs": [
        {
          "output_type": "execute_result",
          "data": {
            "text/plain": [
              "SVC(C=5, break_ties=False, cache_size=200, class_weight=None, coef0=0.0,\n",
              "    decision_function_shape='ovr', degree=3, gamma='scale', kernel='poly',\n",
              "    max_iter=-1, probability=False, random_state=None, shrinking=True,\n",
              "    tol=0.001, verbose=False)"
            ]
          },
          "metadata": {
            "tags": []
          },
          "execution_count": 62
        }
      ]
    },
    {
      "cell_type": "code",
      "metadata": {
        "id": "EcXUO1B5fK2J",
        "colab_type": "code",
        "colab": {
          "base_uri": "https://localhost:8080/",
          "height": 85
        },
        "outputId": "9f2b2542-a8be-4469-e2f2-663810a5bb8c"
      },
      "source": [
        "\n",
        "model3 = svm.SVC(C=3,kernel = 'linear')\n",
        "model3.fit(X_train,y_train)\n",
        "y_pred = model3.predict(X_test)\n",
        "y_true = y_test\n",
        "model3.fit(X_train,y_train)"
      ],
      "execution_count": 83,
      "outputs": [
        {
          "output_type": "execute_result",
          "data": {
            "text/plain": [
              "SVC(C=3, break_ties=False, cache_size=200, class_weight=None, coef0=0.0,\n",
              "    decision_function_shape='ovr', degree=3, gamma='scale', kernel='linear',\n",
              "    max_iter=-1, probability=False, random_state=None, shrinking=True,\n",
              "    tol=0.001, verbose=False)"
            ]
          },
          "metadata": {
            "tags": []
          },
          "execution_count": 83
        }
      ]
    },
    {
      "cell_type": "code",
      "metadata": {
        "id": "gNtG2_LP9Wkq",
        "colab_type": "code",
        "colab": {}
      },
      "source": [
        "# Use this cell to calculate and report the generalization performance of the optimal model\n",
        "\n"
      ],
      "execution_count": 0,
      "outputs": []
    },
    {
      "cell_type": "code",
      "metadata": {
        "id": "t4Dp-_QA9W84",
        "colab_type": "code",
        "colab": {}
      },
      "source": [
        ""
      ],
      "execution_count": 0,
      "outputs": []
    },
    {
      "cell_type": "markdown",
      "metadata": {
        "id": "XKoPxhIo9lUX",
        "colab_type": "text"
      },
      "source": [
        "## 4 Perform model selection on a classifier of your choice.\n",
        "\n",
        "Research the sklearn website and identify a classifer implementation that you think might be a good model for classifying the above dataset. (see for example https://scikit-learn.org/stable/auto_examples/classification/plot_classifier_comparison.html)\n",
        "\n",
        "Choose a classifier that is implemented in sklearn, and identify what hyperparameters it expect. \n",
        "\n",
        "Come with a hypothesis space (possible values for the hyper-parameters you want to explore). \n",
        "\n",
        "Use the above dataset to identify and evaluate the best model for this dataset when you are using the classifer you have choosen . Explore different parameters for its hyper parameters.\n",
        "\n",
        "1. Report which hyper parameter configuration  gives best result under the cross validation procedure. \n",
        "\n",
        "2. Report the classification accuracy for the optimal parameter using cross validation for model evaluation. \n",
        "\n",
        "3. Report the generalization performance of the optimal model on the holdout dataset. "
      ]
    },
    {
      "cell_type": "code",
      "metadata": {
        "id": "LzBsvPP3-gI9",
        "colab_type": "code",
        "colab": {}
      },
      "source": [
        "# Use this cell to run cross validation and select the optimial model for SVM classifier\n",
        "# (i.e. the optimal C, gamma, kernal parameter configuration) \n",
        "\n",
        "import pandas as pd\n",
        "from sklearn import datasets, linear_model\n",
        "from sklearn.model_selection import train_test_split\n",
        "from matplotlib import pyplot as plt"
      ],
      "execution_count": 0,
      "outputs": []
    },
    {
      "cell_type": "code",
      "metadata": {
        "id": "FAev300x-lLk",
        "colab_type": "code",
        "colab": {
          "base_uri": "https://localhost:8080/",
          "height": 51
        },
        "outputId": "b8faa67b-4018-4c8d-85b9-fa9a76e72614"
      },
      "source": [
        "# Use this cell to calculate and report optimal model parameters and cross validation performance. \n",
        "model = svm.SVC(C=1,kernel = 'linear')\n",
        "model.fit(X_train,y_train)\n",
        "y_pred = model.predict(X_test)\n",
        "y_true = y_test\n",
        "model.fit(X_train,y_train)\n",
        "\n",
        "X_train, X_test, y_train, y_test = train_test_split(df, y, test_size=0.2)\n",
        "print(X_train.shape, y_train.shape)\n",
        "print (X_test.shape, y_test.shape)"
      ],
      "execution_count": 81,
      "outputs": [
        {
          "output_type": "stream",
          "text": [
            "(614, 9) (614,)\n",
            "(154, 9) (154,)\n"
          ],
          "name": "stdout"
        }
      ]
    },
    {
      "cell_type": "code",
      "metadata": {
        "id": "FncEFi_G-nu2",
        "colab_type": "code",
        "colab": {
          "base_uri": "https://localhost:8080/",
          "height": 34
        },
        "outputId": "590b9e99-a800-4e79-f61d-6ac0118f570d"
      },
      "source": [
        "# Use this cell to calculate and report the generalization performance of the optimal model\n",
        "\n",
        "from sklearn.model_selection import KFold\n",
        "kf = KFold(n_splits=2) \n",
        "kf.get_n_splits(X)\n",
        "print(kf) "
      ],
      "execution_count": 73,
      "outputs": [
        {
          "output_type": "stream",
          "text": [
            "KFold(n_splits=2, random_state=None, shuffle=False)\n"
          ],
          "name": "stdout"
        }
      ]
    },
    {
      "cell_type": "code",
      "metadata": {
        "id": "8AYIg3-ZiGuD",
        "colab_type": "code",
        "colab": {
          "base_uri": "https://localhost:8080/",
          "height": 34
        },
        "outputId": "bc0563f0-35ee-47d9-ced7-47d7a9e46e3a"
      },
      "source": [
        "from sklearn.model_selection import cross_val_score, cross_val_predict\n",
        "from sklearn import metrics\n",
        "scores = cross_val_score(model, df, y, cv=6)\n",
        "print('Cross-validated scores:', scores)"
      ],
      "execution_count": 80,
      "outputs": [
        {
          "output_type": "stream",
          "text": [
            "Cross-validated scores: [1. 1. 1. 1. 1. 1.]\n"
          ],
          "name": "stdout"
        }
      ]
    }
  ]
}