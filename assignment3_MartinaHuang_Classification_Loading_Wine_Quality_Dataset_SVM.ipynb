{
  "nbformat": 4,
  "nbformat_minor": 0,
  "metadata": {
    "kernelspec": {
      "display_name": "Python 3",
      "language": "python",
      "name": "python3"
    },
    "language_info": {
      "codemirror_mode": {
        "name": "ipython",
        "version": 3
      },
      "file_extension": ".py",
      "mimetype": "text/x-python",
      "name": "python",
      "nbconvert_exporter": "python",
      "pygments_lexer": "ipython3",
      "version": "3.6.6"
    },
    "colab": {
      "name": "assignment_yourname_Classification_Loading_Wine_Quality_Dataset.ipynb",
      "provenance": [],
      "include_colab_link": true
    }
  },
  "cells": [
    {
      "cell_type": "markdown",
      "metadata": {
        "id": "view-in-github",
        "colab_type": "text"
      },
      "source": [
        "<a href=\"https://colab.research.google.com/github/martinahuang/CUS615/blob/master/assignment3_MartinaHuang_Classification_Loading_Wine_Quality_Dataset_SVM.ipynb\" target=\"_parent\"><img src=\"https://colab.research.google.com/assets/colab-badge.svg\" alt=\"Open In Colab\"/></a>"
      ]
    },
    {
      "cell_type": "markdown",
      "metadata": {
        "id": "jYRWDeowYXCj",
        "colab_type": "text"
      },
      "source": [
        "# Wine Quality Dataset \n",
        "\n",
        "## Data Description\n",
        "\n",
        "### Red Wine Quality - Parameters\n",
        "* fixed.acidity (tartaric acid - g / dm^3): most acids involved with wine or fixed or nonvolatile (do not evaporate readily) \n",
        "* volatile.acidity (acetic acid - g / dm^3): the amount of acetic acid in wine, which at too high of levels can lead to an unpleasant, vinegar taste \n",
        "* citric.acid (g / dm^3): the amount of acetic acid in wine, which at too high of levels can lead to an unpleasant, vinegar taste \n",
        "* residual.sugar (g / dm^3): the amount of sugar remaining after fermentation stops, it's rare to find wines with less than 1 gram/liter and wines with greater than 45 grams/liter are considered sweet \n",
        "* chlorides (sodium chloride - g / dm^3): the amount of salt in the wine \n",
        "* free.sulfur.dioxide (mg / dm^3): the free form of SO2 exists in equilibrium between molecular SO2 (as a dissolved gas) and bisulfite ion; it prevents microbial growth and the oxidation of wine \n",
        "* total.sulfur.dioxide (mg / dm^3): amount of free and bound forms of S02; in low concentrations, SO2 is mostly undetectable in wine, but at free SO2 concentrations over 50 ppm, SO2 becomes evident in the nose and taste of wine \n",
        "* density (g / cm^3): the density of water is close to that of water depending on the percent alcohol and sugar content \n",
        "* pH: describes how acidic or basic a wine is on a scale from 0 (very acidic) to 14 (very basic); most wines are between 3-4 on the pH scale \n",
        "* sulphates (potassium sulphate - g / dm3): a wine additive which can contribute to sulfur dioxide gas (S02) levels, wich acts as an antimicrobial and antioxidant \n",
        "* alcohol (% by volume): the percent alcohol content of the wine \n",
        "* quality: quality score between 0 and 10\n",
        "\n",
        "### Objective.\n",
        "\n",
        "* To explore the physiocochemical properties of red wine\n",
        "* To determine an optimal machine learning model for red wine quality classification\n"
      ]
    },
    {
      "cell_type": "code",
      "metadata": {
        "id": "7qkkCRy9YXCl",
        "colab_type": "code",
        "colab": {}
      },
      "source": [
        "# Import librarires\n",
        "import pandas as pd\n",
        "import seaborn as sns\n",
        "import numpy as np\n",
        "from matplotlib import pyplot as plt\n",
        "\n",
        "# Sklearn moduels.\n",
        "from sklearn.model_selection import train_test_split\n"
      ],
      "execution_count": 0,
      "outputs": []
    },
    {
      "cell_type": "code",
      "metadata": {
        "id": "FVgBGUS0YXCq",
        "colab_type": "code",
        "colab": {}
      },
      "source": [
        "# Include any additional modules libraries your code might need here.\n",
        "\n",
        "from sklearn.neighbors import KNeighborsClassifier\n",
        "from sklearn import metrics"
      ],
      "execution_count": 0,
      "outputs": []
    },
    {
      "cell_type": "code",
      "metadata": {
        "id": "UBt65lyHYih3",
        "colab_type": "code",
        "colab": {}
      },
      "source": [
        "%%capture \n",
        "\n",
        "# Execute this cell first to download the necessary data \n",
        "# This cell installs sample data necessary for this workshow on your colab virtual enviroment\n",
        "!wget -O /content/sample_data/wineQualityReds.csv https://raw.githubusercontent.com/christoforou/intro_to_pandas_lab/master/data/red-wine-dataset/wineQualityReds.csv\n"
      ],
      "execution_count": 0,
      "outputs": []
    },
    {
      "cell_type": "code",
      "metadata": {
        "id": "lpsj8s3DYXCt",
        "colab_type": "code",
        "colab": {}
      },
      "source": [
        "# Code to load the data from file. Here we use the pandas library to read the csv file. \n",
        "datafile = \"./sample_data/wineQualityReds.csv\"\n",
        "wine_df = pd.read_csv(datafile)\n",
        "wine_df.drop(wine_df.columns[0],axis=1,inplace=True)\n"
      ],
      "execution_count": 0,
      "outputs": []
    },
    {
      "cell_type": "code",
      "metadata": {
        "id": "QqL0XWrqYXCx",
        "colab_type": "code",
        "colab": {}
      },
      "source": [
        "# Split the data into a training and testing set using the sklearn function train_test_split\n",
        "# Noteice that \n",
        "X_train, X_test, y_train, y_test = train_test_split(wine_df.drop('quality',axis=1), wine_df['quality'], test_size=.25, random_state=42)\n"
      ],
      "execution_count": 0,
      "outputs": []
    },
    {
      "cell_type": "markdown",
      "metadata": {
        "id": "gA3vk26dYXC2",
        "colab_type": "text"
      },
      "source": [
        "## Challenge 1\n",
        "Use the variables `X_train`, `X_test`, `y_train`, and `y_test` to explore your data. In particular, calculate and display the following information.\n",
        "\n",
        "* Number of samples in the training set in total and in each class.\n",
        "* Number of samples in the testing set in total and in each class.\n",
        "* Number of features in the dataset. \n",
        "* Number of classes in the dataset.\n",
        "* IDs of the number of classes.\n"
      ]
    },
    {
      "cell_type": "code",
      "metadata": {
        "id": "iiXoK_qwYXC3",
        "colab_type": "code",
        "colab": {
          "base_uri": "https://localhost:8080/",
          "height": 102
        },
        "outputId": "b6c3e706-dd38-43b8-9794-7bf2fd871e59"
      },
      "source": [
        "# Your Solution here\n",
        "n_samples_train, n_features = X_train.shape\n",
        "n_samples_test, _ = X_test.shape\n",
        "n_features = len(np.unique(y_test))\n",
        "n_classes = len(np.unique(y_train))\n",
        "\n",
        "print(\"Number of samples in training set: %d ( %d positive, %d negative)\" % (n_samples_train,np.sum(y_train==1),np.sum(y_train==0)))\n",
        "print(\"Number of samples in the testing set: %d (%d positive, %d negative)\" % (n_samples_test,np.sum(y_test==1),np.sum(y_test==0)))\n",
        "print(\"Number of features: \" +  str(n_features))\n",
        "print(\"Number of classes: \" + str(n_classes))\n",
        "print(\"IDs for class labels: \" + str(np.unique(y_train)))\n",
        "\n"
      ],
      "execution_count": 30,
      "outputs": [
        {
          "output_type": "stream",
          "text": [
            "Number of samples in training set: 1199 ( 0 positive, 0 negative)\n",
            "Number of samples in the testing set: 400 (0 positive, 0 negative)\n",
            "Number of features: 6\n",
            "Number of classes: 6\n",
            "IDs for class labels: [3 4 5 6 7 8]\n"
          ],
          "name": "stdout"
        }
      ]
    },
    {
      "cell_type": "markdown",
      "metadata": {
        "id": "AiI3psnpYXC7",
        "colab_type": "text"
      },
      "source": [
        "# Challenge 2\n",
        "\n",
        "Train a **Support Vector Machine** classifier using the `(X_train,y_train)` dataset and use the trained model to predict the underlying classes for the observations in the test dataset `X_test`. Store your prediction in a variable called `y_pred`."
      ]
    },
    {
      "cell_type": "code",
      "metadata": {
        "id": "DqyJrw2vYXC9",
        "colab_type": "code",
        "colab": {}
      },
      "source": [
        "# Your solution \n",
        "from sklearn import svm\n",
        "\n",
        "#specify the classifier\n",
        "model = svm.SVC(C=1.4,kernel = 'rbf')\n",
        "\n",
        "#train the model using training set\n",
        "model.fit(X_train,y_train)\n",
        "\n",
        "#predict output\n",
        "y_pred = model.predict(X_test)\n",
        "y_true = y_test"
      ],
      "execution_count": 0,
      "outputs": []
    },
    {
      "cell_type": "markdown",
      "metadata": {
        "id": "dXzRoS9zYXDA",
        "colab_type": "text"
      },
      "source": [
        "# Challenge 3\n",
        "\n",
        "Evaluate the performance of your classifier. Calculate and display the following:\n",
        "* print the `confusion matrix`.\n",
        "* `normalized confusion matrix`. \n",
        "* the probablitity of correct classification (accuracy score). \n",
        "* the `precision`, `recall`, and `f1-score` for each class."
      ]
    },
    {
      "cell_type": "code",
      "metadata": {
        "id": "KLY8dmj9YXDB",
        "colab_type": "code",
        "colab": {
          "base_uri": "https://localhost:8080/",
          "height": 306
        },
        "outputId": "9f1870e7-f624-487d-df47-66cea10c7eab"
      },
      "source": [
        "# Your solution \n",
        "from sklearn.metrics import confusion_matrix\n",
        "\n",
        "print(\"\\n This is the confusion matrix\")\n",
        "cnf_mx = metrics.confusion_matrix(y_true, y_pred)\n",
        "print(cnf_mx)\n",
        "\n",
        "print(\"\\n This is the normalized confusion matrix.\")\n",
        "cnf_mx_joint = cnf_mx.astype('float')/ cnf_mx.sum()\n",
        "print(cnf_mx_joint)\n",
        "\n",
        "# Accuracy.\n",
        "#\n",
        "acc = metrics.accuracy_score(y_true, y_pred)\n",
        "# Display the output\n",
        "print(\"Accuracy: %.3f\" % acc)\n",
        "\n",
        "\n"
      ],
      "execution_count": 32,
      "outputs": [
        {
          "output_type": "stream",
          "text": [
            "\n",
            " This is the confusion matrix\n",
            "[[  0   0   0   1   0   0]\n",
            " [  0   0   2  11   0   0]\n",
            " [  0   0  89  75   0   0]\n",
            " [  0   0  51 118   0   0]\n",
            " [  0   0   5  42   1   0]\n",
            " [  0   0   1   4   0   0]]\n",
            "\n",
            " This is the normalized confusion matrix.\n",
            "[[0.     0.     0.     0.0025 0.     0.    ]\n",
            " [0.     0.     0.005  0.0275 0.     0.    ]\n",
            " [0.     0.     0.2225 0.1875 0.     0.    ]\n",
            " [0.     0.     0.1275 0.295  0.     0.    ]\n",
            " [0.     0.     0.0125 0.105  0.0025 0.    ]\n",
            " [0.     0.     0.0025 0.01   0.     0.    ]]\n",
            "Accuracy: 0.520\n"
          ],
          "name": "stdout"
        }
      ]
    },
    {
      "cell_type": "code",
      "metadata": {
        "id": "8uMzSHjYW4sM",
        "colab_type": "code",
        "colab": {
          "base_uri": "https://localhost:8080/",
          "height": 292
        },
        "outputId": "8f4fe519-205b-4402-a77f-96847a84aa62"
      },
      "source": [
        "\n",
        "target_names = ['Negative', 'Positive','Negative', 'Positive','Negative', 'Positive']\n",
        "print(metrics.classification_report(y_true,y_pred,target_names=target_names))"
      ],
      "execution_count": 34,
      "outputs": [
        {
          "output_type": "stream",
          "text": [
            "              precision    recall  f1-score   support\n",
            "\n",
            "    Negative       0.00      0.00      0.00         1\n",
            "    Positive       0.00      0.00      0.00        13\n",
            "    Negative       0.60      0.54      0.57       164\n",
            "    Positive       0.47      0.70      0.56       169\n",
            "    Negative       1.00      0.02      0.04        48\n",
            "    Positive       0.00      0.00      0.00         5\n",
            "\n",
            "    accuracy                           0.52       400\n",
            "   macro avg       0.35      0.21      0.20       400\n",
            "weighted avg       0.57      0.52      0.48       400\n",
            "\n"
          ],
          "name": "stdout"
        },
        {
          "output_type": "stream",
          "text": [
            "/usr/local/lib/python3.6/dist-packages/sklearn/metrics/_classification.py:1272: UndefinedMetricWarning: Precision and F-score are ill-defined and being set to 0.0 in labels with no predicted samples. Use `zero_division` parameter to control this behavior.\n",
            "  _warn_prf(average, modifier, msg_start, len(result))\n"
          ],
          "name": "stderr"
        }
      ]
    },
    {
      "cell_type": "code",
      "metadata": {
        "id": "p1o9ZteJXNUF",
        "colab_type": "code",
        "colab": {}
      },
      "source": [
        "target_names = ['Negative', 'Positive']\n",
        "print(metrics.classification_report(y_true,y_pred,target_names=target_names))"
      ],
      "execution_count": 0,
      "outputs": []
    },
    {
      "cell_type": "markdown",
      "metadata": {
        "id": "tISC_CuuYXDE",
        "colab_type": "text"
      },
      "source": [
        "# Challenge 4\n",
        "\n",
        "The code below loads the same dataset, by treats it as a binary classification problem. That is, instead of classifying an observation into one of 10 categories (0..10), we consider all observations with score above 5 as being good and all observation below or equal to five as being bad.\n",
        "\n",
        "\n",
        "\n"
      ]
    },
    {
      "cell_type": "code",
      "metadata": {
        "id": "OOknQCteYXDG",
        "colab_type": "code",
        "colab": {}
      },
      "source": [
        "# Code to load the data from file. Here we use the pandas library to read the csv file. \n",
        "datafile = \"./sample_data/wineQualityReds.csv\"\n",
        "wine_df = pd.read_csv(datafile)\n",
        "wine_df.drop(wine_df.columns[0],axis=1,inplace=True)\n",
        "\n",
        "wine_df['quality'] = np.where(wine_df['quality']>5,\"Good\",\"Bad\")"
      ],
      "execution_count": 0,
      "outputs": []
    },
    {
      "cell_type": "code",
      "metadata": {
        "id": "lbQmpDuKYXDJ",
        "colab_type": "code",
        "colab": {}
      },
      "source": [
        "X_train, X_test, y_train, y_test = train_test_split(wine_df.drop('quality',axis=1), wine_df['quality'], test_size=.25, random_state=42)\n"
      ],
      "execution_count": 0,
      "outputs": []
    },
    {
      "cell_type": "markdown",
      "metadata": {
        "id": "6j1YJhHoYXDM",
        "colab_type": "text"
      },
      "source": [
        "## Callenge 4.1\n",
        "Use the variables `X_train`, `X_test`, `y_train`, and `y_test` to explore your data. In particular, calculate and display the following information.\n",
        "* Number of samples in the training set in total and in each class.\n",
        "* Number of samples in the testing set in total and in each class.\n",
        "* Number of features in the dataset. \n",
        "* Number of classes in the dataset.\n",
        "* IDs of the number of classes.\n",
        "\n",
        "\n"
      ]
    },
    {
      "cell_type": "code",
      "metadata": {
        "id": "lSm4hG_xYXDN",
        "colab_type": "code",
        "colab": {
          "base_uri": "https://localhost:8080/",
          "height": 102
        },
        "outputId": "ab996e3b-b3ca-4a14-e687-89747d090dc0"
      },
      "source": [
        "# Your Solution \n",
        "n_samples_train, n_features = X_train.shape\n",
        "n_samples_test, _ = X_test.shape\n",
        "n_features = len(np.unique(y_test))\n",
        "n_classes = len(np.unique(y_train))\n",
        "\n",
        "print(\"Number of samples in training set: %d ( %d positive, %d negative)\" % (n_samples_train,np.sum(y_train==1),np.sum(y_train==0)))\n",
        "print(\"Number of samples in the testing set: %d (%d positive, %d negative)\" % (n_samples_test,np.sum(y_test==1),np.sum(y_test==0)))\n",
        "print(\"Number of features: \" +  str(n_features))\n",
        "print(\"Number of classes: \" + str(n_classes))\n",
        "print(\"IDs for class labels: \" + str(np.unique(y_train)))"
      ],
      "execution_count": 39,
      "outputs": [
        {
          "output_type": "stream",
          "text": [
            "Number of samples in training set: 1199 ( 0 positive, 0 negative)\n",
            "Number of samples in the testing set: 400 (0 positive, 0 negative)\n",
            "Number of features: 2\n",
            "Number of classes: 2\n",
            "IDs for class labels: ['Bad' 'Good']\n"
          ],
          "name": "stdout"
        }
      ]
    },
    {
      "cell_type": "markdown",
      "metadata": {
        "id": "5dp5WBluYXDQ",
        "colab_type": "text"
      },
      "source": [
        "## Challenge 4.2 \n",
        "Train a **Support Vector Machine** classifier using the `(X_train,y_train)` dataset and use trained model to predict the underlying classes for the observations in the test dataset `X_test`. Store your prediction in a variable called `y_pred`."
      ]
    },
    {
      "cell_type": "code",
      "metadata": {
        "id": "hVFLojbcYXDQ",
        "colab_type": "code",
        "colab": {}
      },
      "source": [
        "# Your solution \n",
        "from sklearn import svm\n",
        "\n",
        "#specify the classifier\n",
        "model = svm.SVC(C=1.4,kernel = 'rbf')\n",
        "\n",
        "#train the model using training set\n",
        "model.fit(X_train,y_train)\n",
        "\n",
        "#predict output\n",
        "y_pred = model.predict(X_test)\n",
        "y_true = y_test"
      ],
      "execution_count": 0,
      "outputs": []
    },
    {
      "cell_type": "markdown",
      "metadata": {
        "id": "aX1MGX3bYXDT",
        "colab_type": "text"
      },
      "source": [
        "## Challenge 4.3\n",
        "Evaluate the performance of your classifier. Calculate and display the following:\n",
        "* print the `confusion matrix`.\n",
        "* `normalized confusion matrix`. \n",
        "* the probablitity of correct classification (accuracy score). \n",
        "* the `precision`, `recall`, and `f1-score` for each class."
      ]
    },
    {
      "cell_type": "code",
      "metadata": {
        "id": "3hoUdKozYXDU",
        "colab_type": "code",
        "colab": {
          "base_uri": "https://localhost:8080/",
          "height": 323
        },
        "outputId": "2d020940-0850-47db-fb81-e930a08c8ae7"
      },
      "source": [
        "# Your Solution \n",
        "from sklearn.metrics import confusion_matrix\n",
        "\n",
        "print(\"\\n This is the confusion matrix\")\n",
        "cnf_mx = metrics.confusion_matrix(y_true, y_pred)\n",
        "print(cnf_mx)\n",
        "\n",
        "print(\"\\n This is the normalized confusion matrix.\")\n",
        "cnf_mx_joint = cnf_mx.astype('float')/ cnf_mx.sum()\n",
        "print(cnf_mx_joint)\n",
        "\n",
        "\n",
        "# Accuracy.\n",
        "acc = metrics.accuracy_score(y_true, y_pred)\n",
        "# Display the output\n",
        "print(\"Accuracy: %.3f\" % acc)\n",
        "\n",
        "target_names = ['Negative', 'Positive']\n",
        "print(metrics.classification_report(y_true,y_pred,target_names=target_names))"
      ],
      "execution_count": 42,
      "outputs": [
        {
          "output_type": "stream",
          "text": [
            "\n",
            " This is the confusion matrix\n",
            "[[ 70 108]\n",
            " [ 37 185]]\n",
            "\n",
            " This is the normalized confusion matrix.\n",
            "[[0.175  0.27  ]\n",
            " [0.0925 0.4625]]\n",
            "Accuracy: 0.637\n",
            "              precision    recall  f1-score   support\n",
            "\n",
            "    Negative       0.65      0.39      0.49       178\n",
            "    Positive       0.63      0.83      0.72       222\n",
            "\n",
            "    accuracy                           0.64       400\n",
            "   macro avg       0.64      0.61      0.60       400\n",
            "weighted avg       0.64      0.64      0.62       400\n",
            "\n"
          ],
          "name": "stdout"
        }
      ]
    },
    {
      "cell_type": "markdown",
      "metadata": {
        "id": "ouqRqJw1YXDZ",
        "colab_type": "text"
      },
      "source": [
        "# Challenge 5\n",
        "\n",
        "The **Support Vector Machine** classifier accepts a number of parameters. These parameters include the parameter 'C' (i.e. the regularization parameter), the 'kernel' which specified the kernel function to be used, and the parameter 'gamma' which can be used to specify the kernel coefficents for certain kernels (i.e. ‘rbf’, ‘poly’ and ‘sigmoid’). You can find more information about the various parameters in implementation of the SVM classifier on the following website. \n",
        "\n",
        "[SVM documentation on sklearn](\n",
        "https://scikit-learn.org/stable/modules/generated/sklearn.svm.SVC.html#sklearn.svm.SVC)\n",
        "\n",
        "[User Guide on Support Vector Machines](https://scikit-learn.org/stable/modules/svm.html#svm-classification)\n",
        "\n",
        "[Kernel Function Supported by sklearn library](https://scikit-learn.org/stable/modules/svm.html#svm-kernels)\n",
        "\n",
        "After reading the documentation to understand how the various parameters are used, evaluate the classifier for different values of C, gamma and kernel parameters and identify which configuration achieve the best performance on the testing set. Plot or print your results.\n"
      ]
    },
    {
      "cell_type": "code",
      "metadata": {
        "id": "5FinafW1YXDb",
        "colab_type": "code",
        "colab": {}
      },
      "source": [
        "# Your solution here.\n",
        "from sklearn import svm\n",
        "#A low C makes the decision surface smooth, while a high C aims at classifying all training examples correctly.\n",
        "# gamma defines how much influence a single training example has. The larger gamma is, the closer other examples must be to be affected."
      ],
      "execution_count": 0,
      "outputs": []
    },
    {
      "cell_type": "code",
      "metadata": {
        "id": "05PrUJmfehzf",
        "colab_type": "code",
        "colab": {
          "base_uri": "https://localhost:8080/",
          "height": 85
        },
        "outputId": "cdb6596c-2f2e-4f06-bccb-b1d0ded03172"
      },
      "source": [
        "model = svm.SVC(C=1, kernel='rbf',probability=False)\n",
        "model.fit(X_train,y_train)\n"
      ],
      "execution_count": 44,
      "outputs": [
        {
          "output_type": "execute_result",
          "data": {
            "text/plain": [
              "SVC(C=1, break_ties=False, cache_size=200, class_weight=None, coef0=0.0,\n",
              "    decision_function_shape='ovr', degree=3, gamma='scale', kernel='rbf',\n",
              "    max_iter=-1, probability=False, random_state=None, shrinking=True,\n",
              "    tol=0.001, verbose=False)"
            ]
          },
          "metadata": {
            "tags": []
          },
          "execution_count": 44
        }
      ]
    },
    {
      "cell_type": "code",
      "metadata": {
        "id": "yHTDXojde4_t",
        "colab_type": "code",
        "colab": {
          "base_uri": "https://localhost:8080/",
          "height": 85
        },
        "outputId": "604dd530-9da2-4b67-9874-1bacc649909a"
      },
      "source": [
        "model = svm.SVC(C=0.1, kernel='rbf',probability=False)\n",
        "model.fit(X_train,y_train)"
      ],
      "execution_count": 46,
      "outputs": [
        {
          "output_type": "execute_result",
          "data": {
            "text/plain": [
              "SVC(C=0.1, break_ties=False, cache_size=200, class_weight=None, coef0=0.0,\n",
              "    decision_function_shape='ovr', degree=3, gamma='scale', kernel='rbf',\n",
              "    max_iter=-1, probability=False, random_state=None, shrinking=True,\n",
              "    tol=0.001, verbose=False)"
            ]
          },
          "metadata": {
            "tags": []
          },
          "execution_count": 46
        }
      ]
    },
    {
      "cell_type": "code",
      "metadata": {
        "id": "EXGcj6zIfKvw",
        "colab_type": "code",
        "colab": {
          "base_uri": "https://localhost:8080/",
          "height": 85
        },
        "outputId": "4e5136a2-212c-4528-92be-fc6519cdffe0"
      },
      "source": [
        "model = svm.SVC(C=1, kernel='poly',probability=False)\n",
        "model.fit(X_train,y_train)"
      ],
      "execution_count": 47,
      "outputs": [
        {
          "output_type": "execute_result",
          "data": {
            "text/plain": [
              "SVC(C=1, break_ties=False, cache_size=200, class_weight=None, coef0=0.0,\n",
              "    decision_function_shape='ovr', degree=3, gamma='scale', kernel='poly',\n",
              "    max_iter=-1, probability=False, random_state=None, shrinking=True,\n",
              "    tol=0.001, verbose=False)"
            ]
          },
          "metadata": {
            "tags": []
          },
          "execution_count": 47
        }
      ]
    },
    {
      "cell_type": "markdown",
      "metadata": {
        "id": "41WcG_QmfQ55",
        "colab_type": "text"
      },
      "source": [
        "They all show the same answer"
      ]
    }
  ]
}