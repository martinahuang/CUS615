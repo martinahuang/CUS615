{
  "nbformat": 4,
  "nbformat_minor": 0,
  "metadata": {
    "colab": {
      "name": "Copy of Copy of Final_Exam_Project_CUS615.ipynb",
      "provenance": [],
      "collapsed_sections": [],
      "machine_shape": "hm",
      "include_colab_link": true
    },
    "kernelspec": {
      "name": "python3",
      "display_name": "Python 3"
    }
  },
  "cells": [
    {
      "cell_type": "markdown",
      "metadata": {
        "id": "view-in-github",
        "colab_type": "text"
      },
      "source": [
        "<a href=\"https://colab.research.google.com/github/martinahuang/CUS615/blob/master/Final_Exam_Project_CUS615.ipynb\" target=\"_parent\"><img src=\"https://colab.research.google.com/assets/colab-badge.svg\" alt=\"Open In Colab\"/></a>"
      ]
    },
    {
      "cell_type": "markdown",
      "metadata": {
        "id": "I81n6Tk2bTd3",
        "colab_type": "text"
      },
      "source": [
        "This notebook is part the of **Dr. Christoforos Christoforou's** course materials. You may not, nor may you knowingly allow others to reproduce or distribute lecture notes, course materials or any of their derivatives without the instructor's express written consent."
      ]
    },
    {
      "cell_type": "markdown",
      "metadata": {
        "id": "zJd26bpK54JR",
        "colab_type": "text"
      },
      "source": [
        "# Final Exam Project\n",
        "**Professor**: Dr. Christoforos Christoforou\n",
        "\n",
        "The objective of this project is to reproduce the data analysis method presented in the paper:\n",
        "\n",
        "* **\"Mining Big Data to Extract Patterns and Predict Real-Life Outcomes\"**\n",
        "by Michal Kosinski, Yilun Wang, Himabindu Lakkaraju, and Jure Leskovec.\n",
        "\n",
        "\n",
        "You must implement the analysis using python code. This notebook provides you with the starting code to load the data and guides you through the requirement and each sub-task of the analysis. To complete this project you are expected to:\n",
        "\n",
        "1. Carefully read the paper.\n",
        "2. Refer the class lecture where this paper was discussed in detail.\n",
        "3. Research various python libraries and utility functions needed to implement your analysis.\n",
        "4. Complete all the challenges outlined in this notebook.\n",
        "\n"
      ]
    },
    {
      "cell_type": "markdown",
      "metadata": {
        "id": "BA45dOL-iEkE",
        "colab_type": "text"
      },
      "source": [
        "## Student Information \n",
        "Complete your information in the form provided below. This is visible in colab. \n"
      ]
    },
    {
      "cell_type": "code",
      "metadata": {
        "id": "NaAt15_OiVnw",
        "colab_type": "code",
        "cellView": "both",
        "colab": {}
      },
      "source": [
        "#@title Student Information \n",
        "student_name = \"Martina Huang\" #@param {type:\"string\"}\n",
        "course_code = \"CUS 615 -CRN: 12094\" #@param {type:\"string\"}\n"
      ],
      "execution_count": 0,
      "outputs": []
    },
    {
      "cell_type": "markdown",
      "metadata": {
        "id": "ZqGbeNmFGCCU",
        "colab_type": "text"
      },
      "source": [
        "## Starter code - Configuring the analysis environment\n",
        "The code cells below provide you a starting code to setup the environment for you to complete this project's tasks.\n",
        "\n",
        "In particular, the code downloads the three dataset associated with this project and stores them in the folder `/content/sample_data/`. The data files from the paper comprise the `likes.csv` file, the `users.csv` file and the `users-likes.csv`; description of each data file is availabile in the paper.\n",
        "\n",
        "\n"
      ]
    },
    {
      "cell_type": "code",
      "metadata": {
        "id": "AB33C_sJ5p4H",
        "colab_type": "code",
        "colab": {
          "base_uri": "https://localhost:8080/",
          "height": 377
        },
        "outputId": "dce1b772-6927-4209-db2d-9794cd9154e8"
      },
      "source": [
        "#\n",
        "# Run this sell to download the data for your analysis. \n",
        "#\n",
        "!wget -O /content/sample_data/sample_dataset.zip https://osf.io/9m87k/download\n",
        "!unzip /content/sample_data/sample_dataset.zip -d /content/sample_data/\n"
      ],
      "execution_count": 2,
      "outputs": [
        {
          "output_type": "stream",
          "text": [
            "--2020-05-09 22:32:50--  https://osf.io/9m87k/download\n",
            "Resolving osf.io (osf.io)... 35.190.84.173\n",
            "Connecting to osf.io (osf.io)|35.190.84.173|:443... connected.\n",
            "HTTP request sent, awaiting response... 302 FOUND\n",
            "Location: https://files.osf.io/v1/resources/fuqjg/providers/osfstorage/5e946850f1353503a3d52f24?action=download&direct&version=1 [following]\n",
            "--2020-05-09 22:32:50--  https://files.osf.io/v1/resources/fuqjg/providers/osfstorage/5e946850f1353503a3d52f24?action=download&direct&version=1\n",
            "Resolving files.osf.io (files.osf.io)... 35.186.214.196\n",
            "Connecting to files.osf.io (files.osf.io)|35.186.214.196|:443... connected.\n",
            "HTTP request sent, awaiting response... 200 OK\n",
            "Length: 314322145 (300M) [application/octet-stream]\n",
            "Saving to: ‘/content/sample_data/sample_dataset.zip’\n",
            "\n",
            "/content/sample_dat 100%[===================>] 299.76M  13.6MB/s    in 26s     \n",
            "\n",
            "2020-05-09 22:33:17 (11.7 MB/s) - ‘/content/sample_data/sample_dataset.zip’ saved [314322145/314322145]\n",
            "\n",
            "Archive:  /content/sample_data/sample_dataset.zip\n",
            "  inflating: /content/sample_data/likes.csv  \n",
            "  inflating: /content/sample_data/users.csv  \n",
            "  inflating: /content/sample_data/users-likes.csv  \n"
          ],
          "name": "stdout"
        }
      ]
    },
    {
      "cell_type": "code",
      "metadata": {
        "id": "D_k8ynI123ng",
        "colab_type": "code",
        "colab": {
          "base_uri": "https://localhost:8080/",
          "height": 343
        },
        "outputId": "1418c262-5b89-4c6a-d4e1-1997ed8ed840"
      },
      "source": [
        "#\n",
        "# Install additional package not available in colab.\n",
        "#\n",
        "pip install factor_analyzer"
      ],
      "execution_count": 3,
      "outputs": [
        {
          "output_type": "stream",
          "text": [
            "Collecting factor_analyzer\n",
            "\u001b[?25l  Downloading https://files.pythonhosted.org/packages/44/b5/cbd83484ca6dd4c6562c6d66a6a3a0ecf526e79b2b575b9fb4bf5ad172dd/factor_analyzer-0.3.2.tar.gz (40kB)\n",
            "\r\u001b[K     |████████▏                       | 10kB 21.5MB/s eta 0:00:01\r\u001b[K     |████████████████▍               | 20kB 1.7MB/s eta 0:00:01\r\u001b[K     |████████████████████████▌       | 30kB 2.3MB/s eta 0:00:01\r\u001b[K     |████████████████████████████████| 40kB 1.9MB/s \n",
            "\u001b[?25hRequirement already satisfied: pandas in /usr/local/lib/python3.6/dist-packages (from factor_analyzer) (1.0.3)\n",
            "Requirement already satisfied: scipy in /usr/local/lib/python3.6/dist-packages (from factor_analyzer) (1.4.1)\n",
            "Requirement already satisfied: numpy in /usr/local/lib/python3.6/dist-packages (from factor_analyzer) (1.18.4)\n",
            "Requirement already satisfied: scikit-learn in /usr/local/lib/python3.6/dist-packages (from factor_analyzer) (0.22.2.post1)\n",
            "Requirement already satisfied: python-dateutil>=2.6.1 in /usr/local/lib/python3.6/dist-packages (from pandas->factor_analyzer) (2.8.1)\n",
            "Requirement already satisfied: pytz>=2017.2 in /usr/local/lib/python3.6/dist-packages (from pandas->factor_analyzer) (2018.9)\n",
            "Requirement already satisfied: joblib>=0.11 in /usr/local/lib/python3.6/dist-packages (from scikit-learn->factor_analyzer) (0.14.1)\n",
            "Requirement already satisfied: six>=1.5 in /usr/local/lib/python3.6/dist-packages (from python-dateutil>=2.6.1->pandas->factor_analyzer) (1.12.0)\n",
            "Building wheels for collected packages: factor-analyzer\n",
            "  Building wheel for factor-analyzer (setup.py) ... \u001b[?25l\u001b[?25hdone\n",
            "  Created wheel for factor-analyzer: filename=factor_analyzer-0.3.2-cp36-none-any.whl size=40380 sha256=19f013693e4565d7e7caaac2a6ac4c3ddf333c9d45d97d476d2f36b2837ae7ba\n",
            "  Stored in directory: /root/.cache/pip/wheels/4a/d0/57/f1330cb9c80e82d8d05391c74c94ed61ce3f03bf6157f3d6db\n",
            "Successfully built factor-analyzer\n",
            "Installing collected packages: factor-analyzer\n",
            "Successfully installed factor-analyzer-0.3.2\n"
          ],
          "name": "stdout"
        }
      ]
    },
    {
      "cell_type": "code",
      "metadata": {
        "id": "aO_u3jLnJ6ut",
        "colab_type": "code",
        "colab": {}
      },
      "source": [
        "#\n",
        "# You will likely need the following python packages when implementing this project.\n",
        "# Add any additional package as you deem necessary \n",
        "\n",
        "import pandas as pd\n",
        "import numpy as np\n",
        "import matplotlib.pyplot as plt\n",
        "from scipy.sparse import csr_matrix\n",
        "from scipy.sparse.linalg import svds, eigs\n",
        "from factor_analyzer import Rotator\n",
        "\n",
        "# Additional package you want to use:\n",
        "\n",
        "from sklearn.linear_model import LogisticRegression\n",
        "from sklearn import neighbors"
      ],
      "execution_count": 0,
      "outputs": []
    },
    {
      "cell_type": "markdown",
      "metadata": {
        "id": "qc6GFQPhKTUn",
        "colab_type": "text"
      },
      "source": [
        "## Challenge 1 : Load the data into dataframes\n",
        "In this challenge you are expected to load the data from the raw files into the following variables:\n",
        "-  `users` : should reference a dataframe with the data in the `users.csv` file\n",
        "-  `likes` : should reference a dataframe with the data in the `likes.csv` file\n",
        "-  `ul` : should reference a dataframe with the data in `users.csv` file\n",
        "\n",
        "Then print the top 10 rows of reach dataframe."
      ]
    },
    {
      "cell_type": "code",
      "metadata": {
        "id": "U7jYTqf_Mabo",
        "colab_type": "code",
        "colab": {}
      },
      "source": [
        "# Your code goes here \n",
        "# \n",
        "\n",
        "datafile1 = './sample_data/likes.csv'  \n",
        "datafile2 =  './sample_data/users.csv'  \n",
        "datafile3 = './sample_data/users-likes.csv'\n",
        "\n",
        "likes = pd.read_csv(datafile1)\n",
        "users = pd.read_csv(datafile2)\n",
        "ul = pd.read_csv(datafile3)\n"
      ],
      "execution_count": 0,
      "outputs": []
    },
    {
      "cell_type": "code",
      "metadata": {
        "id": "9tlspDtjMf89",
        "colab_type": "code",
        "colab": {
          "base_uri": "https://localhost:8080/",
          "height": 359
        },
        "outputId": "edb5beed-3887-47b6-dd53-163a87eee908"
      },
      "source": [
        "# Answer summary cell: Print the top 10 row from each datafame. \n",
        "# \n",
        "likes.head(10)"
      ],
      "execution_count": 20,
      "outputs": [
        {
          "output_type": "execute_result",
          "data": {
            "text/html": [
              "<div>\n",
              "<style scoped>\n",
              "    .dataframe tbody tr th:only-of-type {\n",
              "        vertical-align: middle;\n",
              "    }\n",
              "\n",
              "    .dataframe tbody tr th {\n",
              "        vertical-align: top;\n",
              "    }\n",
              "\n",
              "    .dataframe thead th {\n",
              "        text-align: right;\n",
              "    }\n",
              "</style>\n",
              "<table border=\"1\" class=\"dataframe\">\n",
              "  <thead>\n",
              "    <tr style=\"text-align: right;\">\n",
              "      <th></th>\n",
              "      <th>likeid</th>\n",
              "      <th>name</th>\n",
              "    </tr>\n",
              "  </thead>\n",
              "  <tbody>\n",
              "    <tr>\n",
              "      <th>0</th>\n",
              "      <td>3c1636c878e6eb2acfd00c6b61086e38</td>\n",
              "      <td>REIGN by Paul Gibson</td>\n",
              "    </tr>\n",
              "    <tr>\n",
              "      <th>1</th>\n",
              "      <td>feca46ddb8ef04f86172ace0cb7e004c</td>\n",
              "      <td>Cupcake Wishes &amp; Birthday Dreams</td>\n",
              "    </tr>\n",
              "    <tr>\n",
              "      <th>2</th>\n",
              "      <td>b65f46d64c688fe98bdbcf93a76a71fc</td>\n",
              "      <td>Yo también me rei de la caída de otro jejeje</td>\n",
              "    </tr>\n",
              "    <tr>\n",
              "      <th>3</th>\n",
              "      <td>9c5c8bb82d2cd46fbd7582f944fe370e</td>\n",
              "      <td>Abraham Joshua Heschel Day School- Alumni Network</td>\n",
              "    </tr>\n",
              "    <tr>\n",
              "      <th>4</th>\n",
              "      <td>2d82fa84ad79b085dc516dde154327a2</td>\n",
              "      <td>Kennesaw Farmer's Market</td>\n",
              "    </tr>\n",
              "    <tr>\n",
              "      <th>5</th>\n",
              "      <td>0a7a01c82143347fc4703faa4e7f415c</td>\n",
              "      <td>Karlsruher SC</td>\n",
              "    </tr>\n",
              "    <tr>\n",
              "      <th>6</th>\n",
              "      <td>8ed466215d9a6a4168120387d6e390b8</td>\n",
              "      <td>Intercessory Prayer</td>\n",
              "    </tr>\n",
              "    <tr>\n",
              "      <th>7</th>\n",
              "      <td>f82d6a5b5fbfd48bd293971f998d4da5</td>\n",
              "      <td>Nitti Development</td>\n",
              "    </tr>\n",
              "    <tr>\n",
              "      <th>8</th>\n",
              "      <td>d2c160d8e526a8cd38a73b3186a06fbf</td>\n",
              "      <td>Lakewood Organic Juices</td>\n",
              "    </tr>\n",
              "    <tr>\n",
              "      <th>9</th>\n",
              "      <td>5485abaac8afc3f3807a92515aca3f2a</td>\n",
              "      <td>Space Lieutenant Z Hippo Tomahawk</td>\n",
              "    </tr>\n",
              "  </tbody>\n",
              "</table>\n",
              "</div>"
            ],
            "text/plain": [
              "                             likeid                                               name\n",
              "0  3c1636c878e6eb2acfd00c6b61086e38                               REIGN by Paul Gibson\n",
              "1  feca46ddb8ef04f86172ace0cb7e004c                   Cupcake Wishes & Birthday Dreams\n",
              "2  b65f46d64c688fe98bdbcf93a76a71fc       Yo también me rei de la caída de otro jejeje\n",
              "3  9c5c8bb82d2cd46fbd7582f944fe370e  Abraham Joshua Heschel Day School- Alumni Network\n",
              "4  2d82fa84ad79b085dc516dde154327a2                           Kennesaw Farmer's Market\n",
              "5  0a7a01c82143347fc4703faa4e7f415c                                      Karlsruher SC\n",
              "6  8ed466215d9a6a4168120387d6e390b8                                Intercessory Prayer\n",
              "7  f82d6a5b5fbfd48bd293971f998d4da5                                  Nitti Development\n",
              "8  d2c160d8e526a8cd38a73b3186a06fbf                            Lakewood Organic Juices\n",
              "9  5485abaac8afc3f3807a92515aca3f2a                  Space Lieutenant Z Hippo Tomahawk"
            ]
          },
          "metadata": {
            "tags": []
          },
          "execution_count": 20
        }
      ]
    },
    {
      "cell_type": "code",
      "metadata": {
        "id": "bDwjd2OE-9g1",
        "colab_type": "code",
        "colab": {
          "base_uri": "https://localhost:8080/",
          "height": 359
        },
        "outputId": "f1d88482-4e68-4d76-c5f8-1f64167bc255"
      },
      "source": [
        "users.head(10)"
      ],
      "execution_count": 21,
      "outputs": [
        {
          "output_type": "execute_result",
          "data": {
            "text/html": [
              "<div>\n",
              "<style scoped>\n",
              "    .dataframe tbody tr th:only-of-type {\n",
              "        vertical-align: middle;\n",
              "    }\n",
              "\n",
              "    .dataframe tbody tr th {\n",
              "        vertical-align: top;\n",
              "    }\n",
              "\n",
              "    .dataframe thead th {\n",
              "        text-align: right;\n",
              "    }\n",
              "</style>\n",
              "<table border=\"1\" class=\"dataframe\">\n",
              "  <thead>\n",
              "    <tr style=\"text-align: right;\">\n",
              "      <th></th>\n",
              "      <th>userid</th>\n",
              "      <th>gender</th>\n",
              "      <th>age</th>\n",
              "      <th>political</th>\n",
              "      <th>ope</th>\n",
              "      <th>con</th>\n",
              "      <th>ext</th>\n",
              "      <th>agr</th>\n",
              "      <th>neu</th>\n",
              "    </tr>\n",
              "  </thead>\n",
              "  <tbody>\n",
              "    <tr>\n",
              "      <th>0</th>\n",
              "      <td>54f34605aebd63f7680e37ffd299af79</td>\n",
              "      <td>0</td>\n",
              "      <td>33</td>\n",
              "      <td>0.0</td>\n",
              "      <td>1.26</td>\n",
              "      <td>1.65</td>\n",
              "      <td>1.17</td>\n",
              "      <td>-1.76</td>\n",
              "      <td>0.61</td>\n",
              "    </tr>\n",
              "    <tr>\n",
              "      <th>1</th>\n",
              "      <td>86399f8c44ba54224b2e60177ca89fa9</td>\n",
              "      <td>1</td>\n",
              "      <td>35</td>\n",
              "      <td>0.0</td>\n",
              "      <td>1.07</td>\n",
              "      <td>0.17</td>\n",
              "      <td>-0.14</td>\n",
              "      <td>1.49</td>\n",
              "      <td>0.30</td>\n",
              "    </tr>\n",
              "    <tr>\n",
              "      <th>2</th>\n",
              "      <td>84fab50f3c60d1fdc83aa91b5e584a78</td>\n",
              "      <td>1</td>\n",
              "      <td>36</td>\n",
              "      <td>0.0</td>\n",
              "      <td>0.89</td>\n",
              "      <td>1.28</td>\n",
              "      <td>0.86</td>\n",
              "      <td>1.07</td>\n",
              "      <td>0.99</td>\n",
              "    </tr>\n",
              "    <tr>\n",
              "      <th>3</th>\n",
              "      <td>f3b8fdaccce12ef6352bfad4d6052fe9</td>\n",
              "      <td>0</td>\n",
              "      <td>39</td>\n",
              "      <td>NaN</td>\n",
              "      <td>0.33</td>\n",
              "      <td>-1.01</td>\n",
              "      <td>-0.33</td>\n",
              "      <td>-0.68</td>\n",
              "      <td>0.92</td>\n",
              "    </tr>\n",
              "    <tr>\n",
              "      <th>4</th>\n",
              "      <td>8b06ea5e9cb87c61da387995450607f7</td>\n",
              "      <td>0</td>\n",
              "      <td>31</td>\n",
              "      <td>NaN</td>\n",
              "      <td>0.15</td>\n",
              "      <td>0.47</td>\n",
              "      <td>1.17</td>\n",
              "      <td>-1.01</td>\n",
              "      <td>-0.32</td>\n",
              "    </tr>\n",
              "    <tr>\n",
              "      <th>5</th>\n",
              "      <td>7a2ec9c1de4ec137367e66ad759ec848</td>\n",
              "      <td>0</td>\n",
              "      <td>38</td>\n",
              "      <td>NaN</td>\n",
              "      <td>1.26</td>\n",
              "      <td>0.76</td>\n",
              "      <td>-0.46</td>\n",
              "      <td>-1.76</td>\n",
              "      <td>-0.76</td>\n",
              "    </tr>\n",
              "    <tr>\n",
              "      <th>6</th>\n",
              "      <td>259f8f9cce95b214dc9924af48bcd6f0</td>\n",
              "      <td>1</td>\n",
              "      <td>36</td>\n",
              "      <td>NaN</td>\n",
              "      <td>1.44</td>\n",
              "      <td>-0.12</td>\n",
              "      <td>-0.21</td>\n",
              "      <td>0.99</td>\n",
              "      <td>0.18</td>\n",
              "    </tr>\n",
              "    <tr>\n",
              "      <th>7</th>\n",
              "      <td>ea3d6b771a87038cbc9e7da666f82b7a</td>\n",
              "      <td>0</td>\n",
              "      <td>58</td>\n",
              "      <td>NaN</td>\n",
              "      <td>0.70</td>\n",
              "      <td>-0.94</td>\n",
              "      <td>0.86</td>\n",
              "      <td>0.99</td>\n",
              "      <td>-0.32</td>\n",
              "    </tr>\n",
              "    <tr>\n",
              "      <th>8</th>\n",
              "      <td>e9552c9fe95d5cda02e2b55c05a943bc</td>\n",
              "      <td>0</td>\n",
              "      <td>37</td>\n",
              "      <td>NaN</td>\n",
              "      <td>1.63</td>\n",
              "      <td>0.32</td>\n",
              "      <td>0.98</td>\n",
              "      <td>1.49</td>\n",
              "      <td>-1.50</td>\n",
              "    </tr>\n",
              "    <tr>\n",
              "      <th>9</th>\n",
              "      <td>db85e9a0b1ab33ab7be878b9c236e7f2</td>\n",
              "      <td>1</td>\n",
              "      <td>33</td>\n",
              "      <td>0.0</td>\n",
              "      <td>0.70</td>\n",
              "      <td>0.54</td>\n",
              "      <td>-0.27</td>\n",
              "      <td>-0.26</td>\n",
              "      <td>0.92</td>\n",
              "    </tr>\n",
              "  </tbody>\n",
              "</table>\n",
              "</div>"
            ],
            "text/plain": [
              "                             userid  gender  age  ...   ext   agr   neu\n",
              "0  54f34605aebd63f7680e37ffd299af79       0   33  ...  1.17 -1.76  0.61\n",
              "1  86399f8c44ba54224b2e60177ca89fa9       1   35  ... -0.14  1.49  0.30\n",
              "2  84fab50f3c60d1fdc83aa91b5e584a78       1   36  ...  0.86  1.07  0.99\n",
              "3  f3b8fdaccce12ef6352bfad4d6052fe9       0   39  ... -0.33 -0.68  0.92\n",
              "4  8b06ea5e9cb87c61da387995450607f7       0   31  ...  1.17 -1.01 -0.32\n",
              "5  7a2ec9c1de4ec137367e66ad759ec848       0   38  ... -0.46 -1.76 -0.76\n",
              "6  259f8f9cce95b214dc9924af48bcd6f0       1   36  ... -0.21  0.99  0.18\n",
              "7  ea3d6b771a87038cbc9e7da666f82b7a       0   58  ...  0.86  0.99 -0.32\n",
              "8  e9552c9fe95d5cda02e2b55c05a943bc       0   37  ...  0.98  1.49 -1.50\n",
              "9  db85e9a0b1ab33ab7be878b9c236e7f2       1   33  ... -0.27 -0.26  0.92\n",
              "\n",
              "[10 rows x 9 columns]"
            ]
          },
          "metadata": {
            "tags": []
          },
          "execution_count": 21
        }
      ]
    },
    {
      "cell_type": "code",
      "metadata": {
        "id": "zLHrH5Js_B7l",
        "colab_type": "code",
        "outputId": "103874fe-1536-436e-95ad-31b659b33b2c",
        "colab": {
          "base_uri": "https://localhost:8080/",
          "height": 359
        }
      },
      "source": [
        "ul.head(10)"
      ],
      "execution_count": 22,
      "outputs": [
        {
          "output_type": "execute_result",
          "data": {
            "text/html": [
              "<div>\n",
              "<style scoped>\n",
              "    .dataframe tbody tr th:only-of-type {\n",
              "        vertical-align: middle;\n",
              "    }\n",
              "\n",
              "    .dataframe tbody tr th {\n",
              "        vertical-align: top;\n",
              "    }\n",
              "\n",
              "    .dataframe thead th {\n",
              "        text-align: right;\n",
              "    }\n",
              "</style>\n",
              "<table border=\"1\" class=\"dataframe\">\n",
              "  <thead>\n",
              "    <tr style=\"text-align: right;\">\n",
              "      <th></th>\n",
              "      <th>userid</th>\n",
              "      <th>likeid</th>\n",
              "    </tr>\n",
              "  </thead>\n",
              "  <tbody>\n",
              "    <tr>\n",
              "      <th>0</th>\n",
              "      <td>71bc7c0901488aec6d30f0add257e7c5</td>\n",
              "      <td>3c1636c878e6eb2acfd00c6b61086e38</td>\n",
              "    </tr>\n",
              "    <tr>\n",
              "      <th>1</th>\n",
              "      <td>978ab8e90c4d6ad1a48ef5c973b62f4d</td>\n",
              "      <td>feca46ddb8ef04f86172ace0cb7e004c</td>\n",
              "    </tr>\n",
              "    <tr>\n",
              "      <th>2</th>\n",
              "      <td>85123b0e358907725cf19a2cb0ec3983</td>\n",
              "      <td>b65f46d64c688fe98bdbcf93a76a71fc</td>\n",
              "    </tr>\n",
              "    <tr>\n",
              "      <th>3</th>\n",
              "      <td>ce110562b3e2f7e5cad3775b32d9caa5</td>\n",
              "      <td>b65f46d64c688fe98bdbcf93a76a71fc</td>\n",
              "    </tr>\n",
              "    <tr>\n",
              "      <th>4</th>\n",
              "      <td>8188d20745471273fa69ba44a5b28473</td>\n",
              "      <td>b65f46d64c688fe98bdbcf93a76a71fc</td>\n",
              "    </tr>\n",
              "    <tr>\n",
              "      <th>5</th>\n",
              "      <td>e9c621f322640e5f3b3842d19b38aaa8</td>\n",
              "      <td>b65f46d64c688fe98bdbcf93a76a71fc</td>\n",
              "    </tr>\n",
              "    <tr>\n",
              "      <th>6</th>\n",
              "      <td>f0c99cfcdbda49dc424848666c6b31a9</td>\n",
              "      <td>b65f46d64c688fe98bdbcf93a76a71fc</td>\n",
              "    </tr>\n",
              "    <tr>\n",
              "      <th>7</th>\n",
              "      <td>7de7b4609c6b51d956d27050c958d885</td>\n",
              "      <td>b65f46d64c688fe98bdbcf93a76a71fc</td>\n",
              "    </tr>\n",
              "    <tr>\n",
              "      <th>8</th>\n",
              "      <td>05ce4ab49d90139ec1f7af9f0255c9c6</td>\n",
              "      <td>b65f46d64c688fe98bdbcf93a76a71fc</td>\n",
              "    </tr>\n",
              "    <tr>\n",
              "      <th>9</th>\n",
              "      <td>051caa763b05e64d4c8699078e942dfd</td>\n",
              "      <td>9c5c8bb82d2cd46fbd7582f944fe370e</td>\n",
              "    </tr>\n",
              "  </tbody>\n",
              "</table>\n",
              "</div>"
            ],
            "text/plain": [
              "                             userid                            likeid\n",
              "0  71bc7c0901488aec6d30f0add257e7c5  3c1636c878e6eb2acfd00c6b61086e38\n",
              "1  978ab8e90c4d6ad1a48ef5c973b62f4d  feca46ddb8ef04f86172ace0cb7e004c\n",
              "2  85123b0e358907725cf19a2cb0ec3983  b65f46d64c688fe98bdbcf93a76a71fc\n",
              "3  ce110562b3e2f7e5cad3775b32d9caa5  b65f46d64c688fe98bdbcf93a76a71fc\n",
              "4  8188d20745471273fa69ba44a5b28473  b65f46d64c688fe98bdbcf93a76a71fc\n",
              "5  e9c621f322640e5f3b3842d19b38aaa8  b65f46d64c688fe98bdbcf93a76a71fc\n",
              "6  f0c99cfcdbda49dc424848666c6b31a9  b65f46d64c688fe98bdbcf93a76a71fc\n",
              "7  7de7b4609c6b51d956d27050c958d885  b65f46d64c688fe98bdbcf93a76a71fc\n",
              "8  05ce4ab49d90139ec1f7af9f0255c9c6  b65f46d64c688fe98bdbcf93a76a71fc\n",
              "9  051caa763b05e64d4c8699078e942dfd  9c5c8bb82d2cd46fbd7582f944fe370e"
            ]
          },
          "metadata": {
            "tags": []
          },
          "execution_count": 22
        }
      ]
    },
    {
      "cell_type": "markdown",
      "metadata": {
        "id": "XJYv5EFuMfkL",
        "colab_type": "text"
      },
      "source": [
        "## Challenge 2: Create the sparse user-likes matrix \n",
        "Create a **sparse matrix** that stores the data for the user-likes associations as described in the paper. The name of the user-likes matrix must be `M`, to keep the naming convention used in the paper. It is important that to store the data in a sparse matrix; you might need to research the topic of using sparse matrices in python (i.e. look at the `scipy.sparse` package and the `csr_matrix` class). *Hint: For this challenge,  you might find  the `merge` method from `pandas` library useful*. \n",
        "\n",
        "Once you create the matrix print its shape on the answer summary cell."
      ]
    },
    {
      "cell_type": "code",
      "metadata": {
        "id": "QnI9ocfkYox-",
        "colab_type": "code",
        "colab": {}
      },
      "source": [
        "#Merge the files first then matrix\n",
        "# Your code goes here.\n"
      ],
      "execution_count": 0,
      "outputs": []
    },
    {
      "cell_type": "code",
      "metadata": {
        "id": "NveCSBS9N8NW",
        "colab_type": "code",
        "colab": {}
      },
      "source": [
        "like_row = pd.merge(ul, likes, on='likeid', how='left')\n",
        "like_row.reset_index\n",
        "\n",
        "nameMap = {elem:index for index,elem in enumerate(set(like_row[\"name\"]))}\n",
        "data = np.array(like_row['name'].map(nameMap))\n",
        "\n",
        "useridMap = {elem:index for index,elem in enumerate(set(like_row[\"userid\"]))}\n",
        "row = np.array(like_row['userid'].map(useridMap))\n",
        "\n",
        "likeidMap = {elem:index for index,elem in enumerate(set(like_row[\"likeid\"]))}\n",
        "col = np.array(like_row['likeid'].map(likeidMap))\n",
        "\n",
        "M = csr_matrix((data, (row,col)),dtype=int)"
      ],
      "execution_count": 0,
      "outputs": []
    },
    {
      "cell_type": "code",
      "metadata": {
        "id": "GS_7sYqBlCAo",
        "colab_type": "code",
        "colab": {}
      },
      "source": [
        ""
      ],
      "execution_count": 0,
      "outputs": []
    },
    {
      "cell_type": "code",
      "metadata": {
        "id": "ycdPP77l1vdn",
        "colab_type": "code",
        "outputId": "05ce23f5-b903-4772-b835-0bdcd95d6861",
        "colab": {
          "base_uri": "https://localhost:8080/",
          "height": 51
        }
      },
      "source": [
        "M"
      ],
      "execution_count": 24,
      "outputs": [
        {
          "output_type": "execute_result",
          "data": {
            "text/plain": [
              "<110728x1580284 sparse matrix of type '<class 'numpy.longlong'>'\n",
              "\twith 10612326 stored elements in Compressed Sparse Row format>"
            ]
          },
          "metadata": {
            "tags": []
          },
          "execution_count": 24
        }
      ]
    },
    {
      "cell_type": "code",
      "metadata": {
        "id": "j1oBOMpoWJtN",
        "colab_type": "code",
        "outputId": "acd433a3-d791-4127-ee79-dca56935b3d7",
        "colab": {
          "base_uri": "https://localhost:8080/",
          "height": 34
        }
      },
      "source": [
        "M.shape"
      ],
      "execution_count": 25,
      "outputs": [
        {
          "output_type": "execute_result",
          "data": {
            "text/plain": [
              "(110728, 1580284)"
            ]
          },
          "metadata": {
            "tags": []
          },
          "execution_count": 25
        }
      ]
    },
    {
      "cell_type": "code",
      "metadata": {
        "id": "1_nvdBYB_U3U",
        "colab_type": "code",
        "outputId": "9c44de57-603b-4286-947e-6c8c0b401de5",
        "colab": {
          "base_uri": "https://localhost:8080/",
          "height": 51
        }
      },
      "source": [
        "M[0:10000,0:10000]"
      ],
      "execution_count": 26,
      "outputs": [
        {
          "output_type": "execute_result",
          "data": {
            "text/plain": [
              "<10000x10000 sparse matrix of type '<class 'numpy.int64'>'\n",
              "\twith 5390 stored elements in Compressed Sparse Row format>"
            ]
          },
          "metadata": {
            "tags": []
          },
          "execution_count": 26
        }
      ]
    },
    {
      "cell_type": "code",
      "metadata": {
        "id": "ckYGEacxYvho",
        "colab_type": "code",
        "colab": {}
      },
      "source": [
        "#\n",
        "# Answer summary cell:  Print the shape of the matrix M\n",
        "# The shape is 110,728 x 1,580,284\n"
      ],
      "execution_count": 0,
      "outputs": []
    },
    {
      "cell_type": "markdown",
      "metadata": {
        "id": "TKJldPiWY5Tr",
        "colab_type": "text"
      },
      "source": [
        "## Challege 3: Trim the sparse user-likes matrix M.\n",
        "The paper calls for the matrix `M` to be trimmed (i.e. to remove users which did not like a minimum number of posts and posts that did not receive a minimum number of likes). In this challenge, you are expected to implement the trimming preprocessing step as described in the paper. The resulting matrix must be a sparse matrix. *Hint: you might want to research to index slice sparse matrices in python*"
      ]
    },
    {
      "cell_type": "code",
      "metadata": {
        "id": "L_M8CC9-cXZs",
        "colab_type": "code",
        "colab": {}
      },
      "source": [
        "#\n",
        "# Your code here. \n"
      ],
      "execution_count": 0,
      "outputs": []
    },
    {
      "cell_type": "code",
      "metadata": {
        "id": "EnmhEu88OL9S",
        "colab_type": "code",
        "colab": {}
      },
      "source": [
        "users=ul.groupby('userid').count().reset_index()\n",
        "userids=np.array(users[users['likeid']>=50]['userid'])\n",
        "\n",
        "likes=ul.groupby('likeid').count().reset_index()\n",
        "likeids=np.array(likes[likes['userid']>=150]['likeid'])\n",
        "\n",
        "like_row=like_row[(like_row['userid'].isin(userids))&(like_row['likeid'].isin(likeids))]\n",
        "useridMap = {elem:index for index,elem in enumerate(set(like_row[\"userid\"]))}\n",
        "nameMap = {elem:index for index,elem in enumerate(set(like_row[\"name\"]))}\n",
        "likeidMap = {elem:index for index,elem in enumerate(set(like_row[\"likeid\"]))}\n",
        "\n",
        "like_row['name']=like_row['name'].map(nameMap)\n",
        "like_row['userid']=like_row['userid'].map(useridMap)\n",
        "like_row['likeid']=like_row['likeid'].map(likeidMap)\n",
        "\n",
        "data = np.array(like_row['name'])\n",
        "row = np.array(like_row['userid'])\n",
        "col = np.array(like_row['likeid'])\n",
        "M = csr_matrix((data, (row,col)),dtype=int)"
      ],
      "execution_count": 0,
      "outputs": []
    },
    {
      "cell_type": "code",
      "metadata": {
        "id": "8jq6JbEnCYZV",
        "colab_type": "code",
        "colab": {}
      },
      "source": [
        "#M = csr_matrix(row_sums,col_sums)"
      ],
      "execution_count": 0,
      "outputs": []
    },
    {
      "cell_type": "code",
      "metadata": {
        "id": "aWYTv5cQSmWQ",
        "colab_type": "code",
        "outputId": "cd5fe19d-e228-4aa8-8823-d98d8712d683",
        "colab": {
          "base_uri": "https://localhost:8080/",
          "height": 34
        }
      },
      "source": [
        "M.shape"
      ],
      "execution_count": 29,
      "outputs": [
        {
          "output_type": "execute_result",
          "data": {
            "text/plain": [
              "(35080, 10830)"
            ]
          },
          "metadata": {
            "tags": []
          },
          "execution_count": 29
        }
      ]
    },
    {
      "cell_type": "code",
      "metadata": {
        "id": "6ywuRl88caaG",
        "colab_type": "code",
        "colab": {}
      },
      "source": [
        "#\n",
        "# Answer summary cell:  Print the shape of the matrix M after trimming. \n",
        "# \n",
        "\n",
        "#After trimming the matrix has 35080 columns and 10830 rows.\n"
      ],
      "execution_count": 0,
      "outputs": []
    },
    {
      "cell_type": "markdown",
      "metadata": {
        "id": "CPCmSbfCcs4P",
        "colab_type": "text"
      },
      "source": [
        "## Challenge 4:  Split the sparse matrix into a training and testing matrices\n",
        "To build a prediction model the paper calls for separating the data matrix (i.e. the user-like matrix) into a training and testing matrices. As part of this challenge, you need to create a training matrix `M_train` that includes the preferences of 80% of the users, and a testing matrix `M_test` that include the preferences of the remaining 20% of the users in the dataset. Both matrices `M_train` and `M_test` must be stored as sparse matrices. User will be randomly assigned to the training or testing set.\n",
        "\n",
        "Print the shapes of the `M_train` and `M_test` matrices.\n",
        "\n",
        "\n"
      ]
    },
    {
      "cell_type": "code",
      "metadata": {
        "id": "h1avbiXTygvz",
        "colab_type": "code",
        "colab": {}
      },
      "source": [
        "# Your code here. \n",
        "test_row=like_row.sample(frac=0.2,axis=0)\n",
        "rowlist=[]\n",
        "for indexs in test_row.index:\n",
        "    rowlist.append(indexs)\n",
        "train_row=like_row.drop(rowlist,axis=0)\n",
        "train_data = np.array(train_row['name'])\n",
        "train_col = np.array(train_row['likeid'])\n",
        "train_row = np.array(train_row['userid'])\n",
        "M_train = csr_matrix((train_data, (train_row,train_col)),dtype=int)\n",
        "\n",
        "test_row=test_row.reset_index()\n",
        "test_data = np.array(test_row['name'])\n",
        "test_col = np.array(test_row['likeid'])\n",
        "test_row = np.array(test_row['userid'])\n",
        "M_test = csr_matrix((test_data, (test_row,test_col)),dtype=int)"
      ],
      "execution_count": 0,
      "outputs": []
    },
    {
      "cell_type": "code",
      "metadata": {
        "id": "vbTijUQ0ykDn",
        "colab_type": "code",
        "outputId": "b35733bd-32d8-4190-b199-b2ffa0963c10",
        "colab": {
          "base_uri": "https://localhost:8080/",
          "height": 51
        }
      },
      "source": [
        "#\n",
        "# Answer summary cell: Print the shapes of M_train, M_test and M matrices.  \n",
        "# print(M_train.shape)\n",
        "print(M_test.shape)\n",
        "print(M.shape)"
      ],
      "execution_count": 63,
      "outputs": [
        {
          "output_type": "stream",
          "text": [
            "(35080, 10830)\n",
            "(35080, 10830)\n"
          ],
          "name": "stdout"
        }
      ]
    },
    {
      "cell_type": "markdown",
      "metadata": {
        "id": "3cPhHjAdciZP",
        "colab_type": "text"
      },
      "source": [
        "## Challege 5 : Reduce the dimensionality of the M_train matrix using SVD\n",
        "\n",
        "In this challenge, you must use singular value decomposition (SVD) to reduce the dimensionality of the training matrix `M_train`. Remember that `M_train` is encoded as a sparse matrix so you would need to use an appropriate implementation of the SVD for sparse matrices. Your output should be the matrices `U`, `S` and `Vt` that correspond to the left singular vectors, the singular values, and the right singular vectors, respectively. You must specify a parameter `k` that defines the number of reduced dimensions you want to keep.\n",
        "\n",
        "Print the shapes of the `U`, `S` and `Vt` matrices and the value you selected for parameter `k`.\n",
        "\n"
      ]
    },
    {
      "cell_type": "code",
      "metadata": {
        "id": "Sh5Sod_NqF57",
        "colab_type": "code",
        "colab": {
          "base_uri": "https://localhost:8080/",
          "height": 34
        },
        "outputId": "deb3fd88-e7d6-4ceb-fa70-385e554ed61e"
      },
      "source": [
        "print(M_train.dtype)"
      ],
      "execution_count": 64,
      "outputs": [
        {
          "output_type": "stream",
          "text": [
            "int64\n"
          ],
          "name": "stdout"
        }
      ]
    },
    {
      "cell_type": "code",
      "metadata": {
        "id": "UWTQrp03STMB",
        "colab_type": "code",
        "colab": {}
      },
      "source": [
        "U, S, Vt = svds(M_train)\n",
        "print(U.shape)\n",
        "[m,n]=S.shape\n",
        "print(S.shape)\n",
        "print(Vt.shape)\n",
        "print(\"k\",min(m,n))\n"
      ],
      "execution_count": 0,
      "outputs": []
    },
    {
      "cell_type": "code",
      "metadata": {
        "id": "ZEtb9wsn1mzZ",
        "colab_type": "code",
        "colab": {}
      },
      "source": [
        "#\n",
        "# Answer summary cell: Print the shapes of U, S and Vt; and the value you selected for parameter `k`.\n",
        "# \n",
        "\n",
        "print(S.shape)\n",
        "print(Vt.shape)\n",
        "print(\"k\",min(m,n))"
      ],
      "execution_count": 0,
      "outputs": []
    },
    {
      "cell_type": "markdown",
      "metadata": {
        "id": "YJa9qQVr1vmv",
        "colab_type": "text"
      },
      "source": [
        "## Challege 6 : Use the varimax algorithm to rotate the SVD dimensions. \n",
        "Use the varimax algorithm to rotate the SVD dimensions as described in the paper. A good python library that implements varimax algorithm is the `factor_analyzer` and its `Rotator` class (already installed in this notebook for your in the started cell above); i.e. using `rotator = Rotator(method='varimax')`. Store the varimax SVD into the matrices `U_rot` and `V_rot` respectively. *Hint: you can apply varimax of `Vt` to get `V_rot` and then multiply `M` by  `Vt_rot` to obtain the `U_rot` (as done in the paper); you might want to research hot to user the `Rotator` class*. \n",
        "\n",
        "Print the shapes of the matrices `U_rot` and `V_rot`.\n"
      ]
    },
    {
      "cell_type": "code",
      "metadata": {
        "id": "pxGmf_MN4KH0",
        "colab_type": "code",
        "colab": {}
      },
      "source": [
        "#\n",
        "# Your code here. \n",
        "#\n",
        "rotator = Rotator(method = 'varimax')\n",
        "V_rot = rotator.fit_transform(Vt.T)\n",
        "U_rot = M_train @ V_rot\n"
      ],
      "execution_count": 0,
      "outputs": []
    },
    {
      "cell_type": "code",
      "metadata": {
        "id": "v_2U3n2X4h_0",
        "colab_type": "code",
        "colab": {}
      },
      "source": [
        "#\n",
        "# Answer summary cell: Print the shapes of the matrices `U_rot` and `V_rot`\n",
        "# "
      ],
      "execution_count": 0,
      "outputs": []
    },
    {
      "cell_type": "markdown",
      "metadata": {
        "id": "Lp0BpsHd4wfg",
        "colab_type": "text"
      },
      "source": [
        "## Challenge 7 : Train two predictive model to predict the political  affilication of users.\n",
        "Build a predictive model that predicts the political affiliation of the users given the user's post preferences (as those are captured in the paper's dataset). To train your model you can use data from matrix `M_train` only. You are expected to use two different predictive models of your choice (i.e. Knn, SVM, Logistic Regression or some other model of your choice).\n",
        "\n",
        "As part of this challenge you are expected to:\n",
        "- Apply any necessary preprocessing to handle missing values.\n",
        "- The models must be applied on the reduced-dimensional feature generated by your analysis above (i.e. use the singular rotated singular dimensions)\n",
        "- Use cross-validation for model selection (i.e. to identify optimal parameters for your model, or any meta-parameters)\n",
        "- Report training and cross-validation performance of the two models as well as the optimal parameters for your model identified by cross validation. \n"
      ]
    },
    {
      "cell_type": "markdown",
      "metadata": {
        "id": "iiQ_wRcs7pA7",
        "colab_type": "text"
      },
      "source": [
        "**FIRST MODEL TRAINING: Use the cells below to train the predictive model using the first model you selected.**"
      ]
    },
    {
      "cell_type": "code",
      "metadata": {
        "id": "WK6Yd4hf7fAA",
        "colab_type": "code",
        "colab": {}
      },
      "source": [
        "#\n",
        "# Use this cell to train the first model you selected for challenge 7. \n",
        "# Add additional cells as needed below this cell.\n",
        "#\n",
        "M_train.isnull().sum()\n",
        "\n",
        "#Logistic Regression\n",
        "\n",
        "logisticRegr = LogisticRegression()\n",
        "\n",
        "x_test = user['political']\n",
        "\n",
        "logisticRegs.fit(U_rot, x_test)\n",
        "predictions = logisticRegr.predict(x_test)"
      ],
      "execution_count": 0,
      "outputs": []
    },
    {
      "cell_type": "markdown",
      "metadata": {
        "id": "uHxGNOFf83pO",
        "colab_type": "text"
      },
      "source": [
        "**FIRST MODEL ACCURACY REPORT: Use the cell below to report on the accuracy of your first model**\n"
      ]
    },
    {
      "cell_type": "code",
      "metadata": {
        "id": "hDrzCnB99i9h",
        "colab_type": "code",
        "colab": {}
      },
      "source": [
        "#\n",
        "# Use this cell to report on the accuracy of the first model (i.e. training and cross validation performance)\n",
        "# and model selection results. \n",
        "\n",
        "score = logisticRegr.score(x_test, y_test)\n",
        "print(score)\n"
      ],
      "execution_count": 0,
      "outputs": []
    },
    {
      "cell_type": "markdown",
      "metadata": {
        "id": "zrkRGd1t-ISp",
        "colab_type": "text"
      },
      "source": [
        "**SECOND MODEL TRAINING: Use the cells below to train the predictive model using the second model you selected.**"
      ]
    },
    {
      "cell_type": "code",
      "metadata": {
        "id": "GR8wUcci-Lnj",
        "colab_type": "code",
        "colab": {}
      },
      "source": [
        "#\n",
        "# Use this cell to train the second model you selected for challenge 7. \n",
        "# Add additional cells as needed below this cell.\n",
        "#\n",
        "\n",
        "knn_find = KNeighborsClassifier(n_neighbors = 3) #n_neighbors = K value\n",
        "knn_find.fit(U_rot,y_train) \n",
        "knn_prediction = knn_find.predict(X_test)\n",
        "print(\"{}-NN Score: {}\".format(15,knn_find.score(X_test,y_test)))\n",
        "knn_score = knn_find.score(X_test,y_test)"
      ],
      "execution_count": 0,
      "outputs": []
    },
    {
      "cell_type": "markdown",
      "metadata": {
        "id": "8RcnRV85-SkD",
        "colab_type": "text"
      },
      "source": [
        "**SECOND MODEL ACCURACY REPORT: Use the cell below to report on the accuracy of your second model**"
      ]
    },
    {
      "cell_type": "code",
      "metadata": {
        "id": "2DxNn4gl-SCN",
        "colab_type": "code",
        "colab": {}
      },
      "source": [
        "#\n",
        "# Use this cell to report on the accuracy of the second model (i.e. training and cross validation performance)\n",
        "# and model selection results.\n",
        "\n",
        "\n",
        "scores = []\n",
        "for each in range(1,30):\n",
        "    knn = KNeighborsClassifier(n_neighbors = each)\n",
        "    score = cross_val_score(knn, X_train, y_train, cv = 5)\n",
        "    scores.append(score.mean())\n",
        "    \n",
        "plt.plot(range(1,30),scores,color=\"black\")\n",
        "plt.xlabel(\"K Values\")\n",
        "plt.ylabel(\"Score(Accuracy)\")\n",
        "plt.show()"
      ],
      "execution_count": 0,
      "outputs": []
    },
    {
      "cell_type": "markdown",
      "metadata": {
        "id": "2D6o6Cy-8xKp",
        "colab_type": "text"
      },
      "source": [
        "## Challenge 8 Apply your model in the independent test set.\n",
        "User the cells below to apply your two predictive models on the test dataset `M_test` and report testing accuracy for each model.\n",
        "\n",
        "As part of this challenge you are expected to:\n",
        "- Project each observation in the test dataset `M_test` onto the reduced-dimensional features space.\n",
        "- Apply each on of your model to make predict each user's political preference (for users in the testing set only)\n",
        "- Report testing accuracy on each of your models.\n",
        "- Make an assessment as to which model is better and whether either of your models is overfitted or under-fitted."
      ]
    },
    {
      "cell_type": "code",
      "metadata": {
        "id": "HtC0osVlCgr4",
        "colab_type": "code",
        "colab": {}
      },
      "source": [
        "#\n",
        "# Use this cell to comlete challege 8; add more cells as necessary. \n",
        "#\n",
        "#test_row & test_col\n",
        "#Logistic Regression\n",
        "\n",
        "M_test, m_test, y_train, y_test = train_test_split(M_test, y, test_size=0.2, random_state=0)\n",
        "logreg = LogisticRegression()\n",
        "logreg.fit(M_test, y_train)\n",
        "\n",
        "logisticRegs.fit(test_row, test_col)\n",
        "predictions = logisticRegr.predict(test_col)"
      ],
      "execution_count": 0,
      "outputs": []
    },
    {
      "cell_type": "code",
      "metadata": {
        "id": "omVd0cbbzRm0",
        "colab_type": "code",
        "colab": {}
      },
      "source": [
        "#accuracy"
      ],
      "execution_count": 0,
      "outputs": []
    },
    {
      "cell_type": "code",
      "metadata": {
        "id": "cNMh8qBvzTC-",
        "colab_type": "code",
        "colab": {}
      },
      "source": [
        ""
      ],
      "execution_count": 0,
      "outputs": []
    },
    {
      "cell_type": "markdown",
      "metadata": {
        "id": "tqDyqK9qb4Ze",
        "colab_type": "text"
      },
      "source": [
        "# END OF EXAM/CODE"
      ]
    },
    {
      "cell_type": "markdown",
      "metadata": {
        "id": "ha290eSXRT9R",
        "colab_type": "text"
      },
      "source": [
        "\n",
        "*Copyright Statement*: Copyright © 2020 Christoforou. The materials provided by the instructor of this course, including this notebook, are for the use of the students enrolled in the course. Materials are presented in an educational context for personal use and study and should not be shared, distributed, disseminated or sold in print — or digitally — outside the course without permission. You may not, nor may you knowingly allow others to reproduce or distribute lecture notes, course materials  as well as any of their derivatives without the instructor's express written consent."
      ]
    },
    {
      "cell_type": "code",
      "metadata": {
        "id": "dp_ijPXabKsG",
        "colab_type": "code",
        "colab": {}
      },
      "source": [
        ""
      ],
      "execution_count": 0,
      "outputs": []
    }
  ]
}