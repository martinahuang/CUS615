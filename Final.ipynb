{
  "nbformat": 4,
  "nbformat_minor": 0,
  "metadata": {
    "colab": {
      "name": "Copy of Final_Exam_Project_CUS615.ipynb",
      "provenance": [],
      "collapsed_sections": [
        "TKJldPiWY5Tr",
        "CPCmSbfCcs4P",
        "3cPhHjAdciZP",
        "YJa9qQVr1vmv",
        "Lp0BpsHd4wfg",
        "2D6o6Cy-8xKp"
      ],
      "machine_shape": "hm",
      "include_colab_link": true
    },
    "kernelspec": {
      "name": "python3",
      "display_name": "Python 3"
    }
  },
  "cells": [
    {
      "cell_type": "markdown",
      "metadata": {
        "id": "view-in-github",
        "colab_type": "text"
      },
      "source": [
        "<a href=\"https://colab.research.google.com/github/martinahuang/CUS615/blob/master/Final.ipynb\" target=\"_parent\"><img src=\"https://colab.research.google.com/assets/colab-badge.svg\" alt=\"Open In Colab\"/></a>"
      ]
    },
    {
      "cell_type": "markdown",
      "metadata": {
        "id": "I81n6Tk2bTd3",
        "colab_type": "text"
      },
      "source": [
        "This notebook is part the of **Dr. Christoforos Christoforou's** course materials. You may not, nor may you knowingly allow others to reproduce or distribute lecture notes, course materials or any of their derivatives without the instructor's express written consent."
      ]
    },
    {
      "cell_type": "markdown",
      "metadata": {
        "id": "zJd26bpK54JR",
        "colab_type": "text"
      },
      "source": [
        "# Final Exam Project\n",
        "**Professor**: Dr. Christoforos Christoforou\n",
        "\n",
        "The objective of this project is to reproduce the data analysis method presented in the paper:\n",
        "\n",
        "* **\"Mining Big Data to Extract Patterns and Predict Real-Life Outcomes\"**\n",
        "by Michal Kosinski, Yilun Wang, Himabindu Lakkaraju, and Jure Leskovec.\n",
        "\n",
        "\n",
        "You must implement the analysis using python code. This notebook provides you with the starting code to load the data and guides you through the requirement and each sub-task of the analysis. To complete this project you are expected to:\n",
        "\n",
        "1. Carefully read the paper.\n",
        "2. Refer the class lecture where this paper was discussed in detail.\n",
        "3. Research various python libraries and utility functions needed to implement your analysis.\n",
        "4. Complete all the challenges outlined in this notebook.\n",
        "\n"
      ]
    },
    {
      "cell_type": "markdown",
      "metadata": {
        "id": "BA45dOL-iEkE",
        "colab_type": "text"
      },
      "source": [
        "## Student Information \n",
        "Complete your information in the form provided below. This is visible in colab. \n"
      ]
    },
    {
      "cell_type": "code",
      "metadata": {
        "id": "NaAt15_OiVnw",
        "colab_type": "code",
        "cellView": "both",
        "colab": {}
      },
      "source": [
        "#@title Student Information \n",
        "student_name = \"Martina Huang\" #@param {type:\"string\"}\n",
        "course_code = \"CUS 615 -CRN: 12094\" #@param {type:\"string\"}\n"
      ],
      "execution_count": 0,
      "outputs": []
    },
    {
      "cell_type": "markdown",
      "metadata": {
        "id": "ZqGbeNmFGCCU",
        "colab_type": "text"
      },
      "source": [
        "## Starter code - Configuring the analysis environment\n",
        "The code cells below provide you a starting code to setup the environment for you to complete this project's tasks.\n",
        "\n",
        "In particular, the code downloads the three dataset associated with this project and stores them in the folder `/content/sample_data/`. The data files from the paper comprise the `likes.csv` file, the `users.csv` file and the `users-likes.csv`; description of each data file is availabile in the paper.\n",
        "\n",
        "\n"
      ]
    },
    {
      "cell_type": "code",
      "metadata": {
        "id": "AB33C_sJ5p4H",
        "colab_type": "code",
        "outputId": "5ee08a7d-abe5-45c9-e81c-77496a1504a6",
        "colab": {
          "base_uri": "https://localhost:8080/",
          "height": 377
        }
      },
      "source": [
        "#\n",
        "# Run this sell to download the data for your analysis. \n",
        "#\n",
        "!wget -O /content/sample_data/sample_dataset.zip https://osf.io/9m87k/download\n",
        "!unzip /content/sample_data/sample_dataset.zip -d /content/sample_data/\n"
      ],
      "execution_count": 109,
      "outputs": [
        {
          "output_type": "stream",
          "text": [
            "--2020-05-05 05:00:32--  https://osf.io/9m87k/download\n",
            "Resolving osf.io (osf.io)... 35.190.84.173\n",
            "Connecting to osf.io (osf.io)|35.190.84.173|:443... connected.\n",
            "HTTP request sent, awaiting response... 302 FOUND\n",
            "Location: https://files.osf.io/v1/resources/fuqjg/providers/osfstorage/5e946850f1353503a3d52f24?action=download&direct&version=1 [following]\n",
            "--2020-05-05 05:00:33--  https://files.osf.io/v1/resources/fuqjg/providers/osfstorage/5e946850f1353503a3d52f24?action=download&direct&version=1\n",
            "Resolving files.osf.io (files.osf.io)... 35.186.214.196\n",
            "Connecting to files.osf.io (files.osf.io)|35.186.214.196|:443... connected.\n",
            "HTTP request sent, awaiting response... 200 OK\n",
            "Length: 314322145 (300M) [application/octet-stream]\n",
            "Saving to: ‘/content/sample_data/sample_dataset.zip’\n",
            "\n",
            "/content/sample_dat 100%[===================>] 299.76M  14.5MB/s    in 21s     \n",
            "\n",
            "2020-05-05 05:00:55 (14.1 MB/s) - ‘/content/sample_data/sample_dataset.zip’ saved [314322145/314322145]\n",
            "\n",
            "Archive:  /content/sample_data/sample_dataset.zip\n",
            "replace /content/sample_data/likes.csv? [y]es, [n]o, [A]ll, [N]one, [r]ename: n\n",
            "replace /content/sample_data/users.csv? [y]es, [n]o, [A]ll, [N]one, [r]ename: n\n",
            "replace /content/sample_data/users-likes.csv? [y]es, [n]o, [A]ll, [N]one, [r]ename: n\n"
          ],
          "name": "stdout"
        }
      ]
    },
    {
      "cell_type": "code",
      "metadata": {
        "id": "D_k8ynI123ng",
        "colab_type": "code",
        "colab": {
          "base_uri": "https://localhost:8080/",
          "height": 190
        },
        "outputId": "97f04c14-7897-4ad1-e33a-b25f12adcebc"
      },
      "source": [
        "#\n",
        "# Install additional package not available in colab.\n",
        "#\n",
        "pip install factor_analyzer"
      ],
      "execution_count": 110,
      "outputs": [
        {
          "output_type": "stream",
          "text": [
            "Requirement already satisfied: factor_analyzer in /usr/local/lib/python3.6/dist-packages (0.3.2)\n",
            "Requirement already satisfied: pandas in /usr/local/lib/python3.6/dist-packages (from factor_analyzer) (1.0.3)\n",
            "Requirement already satisfied: scikit-learn in /usr/local/lib/python3.6/dist-packages (from factor_analyzer) (0.22.2.post1)\n",
            "Requirement already satisfied: scipy in /usr/local/lib/python3.6/dist-packages (from factor_analyzer) (1.4.1)\n",
            "Requirement already satisfied: numpy in /usr/local/lib/python3.6/dist-packages (from factor_analyzer) (1.18.3)\n",
            "Requirement already satisfied: pytz>=2017.2 in /usr/local/lib/python3.6/dist-packages (from pandas->factor_analyzer) (2018.9)\n",
            "Requirement already satisfied: python-dateutil>=2.6.1 in /usr/local/lib/python3.6/dist-packages (from pandas->factor_analyzer) (2.8.1)\n",
            "Requirement already satisfied: joblib>=0.11 in /usr/local/lib/python3.6/dist-packages (from scikit-learn->factor_analyzer) (0.14.1)\n",
            "Requirement already satisfied: six>=1.5 in /usr/local/lib/python3.6/dist-packages (from python-dateutil>=2.6.1->pandas->factor_analyzer) (1.12.0)\n"
          ],
          "name": "stdout"
        }
      ]
    },
    {
      "cell_type": "code",
      "metadata": {
        "id": "aO_u3jLnJ6ut",
        "colab_type": "code",
        "colab": {}
      },
      "source": [
        "#\n",
        "# You will likely need the following python packages when implementing this project.\n",
        "# Add any additional package as you deem necessary \n",
        "\n",
        "import pandas as pd\n",
        "import numpy as np\n",
        "import matplotlib.pyplot as plt\n",
        "from scipy.sparse import csr_matrix\n",
        "from scipy.sparse.linalg import svds, eigs\n",
        "from factor_analyzer import Rotator\n",
        "\n",
        "# Additional package you want to use:\n",
        "from sklearn.model_selection import train_test_split\n"
      ],
      "execution_count": 0,
      "outputs": []
    },
    {
      "cell_type": "markdown",
      "metadata": {
        "id": "qc6GFQPhKTUn",
        "colab_type": "text"
      },
      "source": [
        "## Challenge 1 : Load the data into dataframes\n",
        "In this challenge you are expected to load the data from the raw files into the following variables:\n",
        "-  `users` : should reference a dataframe with the data in the `users.csv` file\n",
        "-  `likes` : should reference a dataframe with the data in the `likes.csv` file\n",
        "-  `ul` : should reference a dataframe with the data in `users.csv` file\n",
        "\n",
        "Then print the top 10 rows of reach dataframe."
      ]
    },
    {
      "cell_type": "code",
      "metadata": {
        "id": "U7jYTqf_Mabo",
        "colab_type": "code",
        "colab": {}
      },
      "source": [
        "# Your code goes here \n",
        "# \n",
        "\n",
        "datafile1 = './sample_data/likes.csv'  \n",
        "datafile2 =  './sample_data/users.csv'  \n",
        "datafile3 = './sample_data/users-likes.csv'\n",
        "\n",
        "likes = pd.read_csv(datafile1)\n",
        "users = pd.read_csv(datafile2)\n",
        "ul = pd.read_csv(datafile3)\n"
      ],
      "execution_count": 0,
      "outputs": []
    },
    {
      "cell_type": "code",
      "metadata": {
        "id": "9tlspDtjMf89",
        "colab_type": "code",
        "colab": {
          "base_uri": "https://localhost:8080/",
          "height": 376
        },
        "outputId": "8aba0133-932f-4d20-c03a-cc833ac8fc87"
      },
      "source": [
        "# Answer summary cell: Print the top 10 row from each datafame. \n",
        "# \n",
        "likes.head(10)"
      ],
      "execution_count": 113,
      "outputs": [
        {
          "output_type": "execute_result",
          "data": {
            "text/html": [
              "<div>\n",
              "<style scoped>\n",
              "    .dataframe tbody tr th:only-of-type {\n",
              "        vertical-align: middle;\n",
              "    }\n",
              "\n",
              "    .dataframe tbody tr th {\n",
              "        vertical-align: top;\n",
              "    }\n",
              "\n",
              "    .dataframe thead th {\n",
              "        text-align: right;\n",
              "    }\n",
              "</style>\n",
              "<table border=\"1\" class=\"dataframe\">\n",
              "  <thead>\n",
              "    <tr style=\"text-align: right;\">\n",
              "      <th></th>\n",
              "      <th>likeid</th>\n",
              "      <th>name</th>\n",
              "    </tr>\n",
              "  </thead>\n",
              "  <tbody>\n",
              "    <tr>\n",
              "      <th>0</th>\n",
              "      <td>3c1636c878e6eb2acfd00c6b61086e38</td>\n",
              "      <td>REIGN by Paul Gibson</td>\n",
              "    </tr>\n",
              "    <tr>\n",
              "      <th>1</th>\n",
              "      <td>feca46ddb8ef04f86172ace0cb7e004c</td>\n",
              "      <td>Cupcake Wishes &amp; Birthday Dreams</td>\n",
              "    </tr>\n",
              "    <tr>\n",
              "      <th>2</th>\n",
              "      <td>b65f46d64c688fe98bdbcf93a76a71fc</td>\n",
              "      <td>Yo también me rei de la caída de otro jejeje</td>\n",
              "    </tr>\n",
              "    <tr>\n",
              "      <th>3</th>\n",
              "      <td>9c5c8bb82d2cd46fbd7582f944fe370e</td>\n",
              "      <td>Abraham Joshua Heschel Day School- Alumni Network</td>\n",
              "    </tr>\n",
              "    <tr>\n",
              "      <th>4</th>\n",
              "      <td>2d82fa84ad79b085dc516dde154327a2</td>\n",
              "      <td>Kennesaw Farmer's Market</td>\n",
              "    </tr>\n",
              "    <tr>\n",
              "      <th>5</th>\n",
              "      <td>0a7a01c82143347fc4703faa4e7f415c</td>\n",
              "      <td>Karlsruher SC</td>\n",
              "    </tr>\n",
              "    <tr>\n",
              "      <th>6</th>\n",
              "      <td>8ed466215d9a6a4168120387d6e390b8</td>\n",
              "      <td>Intercessory Prayer</td>\n",
              "    </tr>\n",
              "    <tr>\n",
              "      <th>7</th>\n",
              "      <td>f82d6a5b5fbfd48bd293971f998d4da5</td>\n",
              "      <td>Nitti Development</td>\n",
              "    </tr>\n",
              "    <tr>\n",
              "      <th>8</th>\n",
              "      <td>d2c160d8e526a8cd38a73b3186a06fbf</td>\n",
              "      <td>Lakewood Organic Juices</td>\n",
              "    </tr>\n",
              "    <tr>\n",
              "      <th>9</th>\n",
              "      <td>5485abaac8afc3f3807a92515aca3f2a</td>\n",
              "      <td>Space Lieutenant Z Hippo Tomahawk</td>\n",
              "    </tr>\n",
              "  </tbody>\n",
              "</table>\n",
              "</div>"
            ],
            "text/plain": [
              "                             likeid                                               name\n",
              "0  3c1636c878e6eb2acfd00c6b61086e38                               REIGN by Paul Gibson\n",
              "1  feca46ddb8ef04f86172ace0cb7e004c                   Cupcake Wishes & Birthday Dreams\n",
              "2  b65f46d64c688fe98bdbcf93a76a71fc       Yo también me rei de la caída de otro jejeje\n",
              "3  9c5c8bb82d2cd46fbd7582f944fe370e  Abraham Joshua Heschel Day School- Alumni Network\n",
              "4  2d82fa84ad79b085dc516dde154327a2                           Kennesaw Farmer's Market\n",
              "5  0a7a01c82143347fc4703faa4e7f415c                                      Karlsruher SC\n",
              "6  8ed466215d9a6a4168120387d6e390b8                                Intercessory Prayer\n",
              "7  f82d6a5b5fbfd48bd293971f998d4da5                                  Nitti Development\n",
              "8  d2c160d8e526a8cd38a73b3186a06fbf                            Lakewood Organic Juices\n",
              "9  5485abaac8afc3f3807a92515aca3f2a                  Space Lieutenant Z Hippo Tomahawk"
            ]
          },
          "metadata": {
            "tags": []
          },
          "execution_count": 113
        }
      ]
    },
    {
      "cell_type": "code",
      "metadata": {
        "id": "bDwjd2OE-9g1",
        "colab_type": "code",
        "colab": {
          "base_uri": "https://localhost:8080/",
          "height": 379
        },
        "outputId": "4e70eb47-2110-48ea-ceef-84b4a78a00f7"
      },
      "source": [
        "users.head(10)"
      ],
      "execution_count": 114,
      "outputs": [
        {
          "output_type": "execute_result",
          "data": {
            "text/html": [
              "<div>\n",
              "<style scoped>\n",
              "    .dataframe tbody tr th:only-of-type {\n",
              "        vertical-align: middle;\n",
              "    }\n",
              "\n",
              "    .dataframe tbody tr th {\n",
              "        vertical-align: top;\n",
              "    }\n",
              "\n",
              "    .dataframe thead th {\n",
              "        text-align: right;\n",
              "    }\n",
              "</style>\n",
              "<table border=\"1\" class=\"dataframe\">\n",
              "  <thead>\n",
              "    <tr style=\"text-align: right;\">\n",
              "      <th></th>\n",
              "      <th>userid</th>\n",
              "      <th>gender</th>\n",
              "      <th>age</th>\n",
              "      <th>political</th>\n",
              "      <th>ope</th>\n",
              "      <th>con</th>\n",
              "      <th>ext</th>\n",
              "      <th>agr</th>\n",
              "      <th>neu</th>\n",
              "    </tr>\n",
              "  </thead>\n",
              "  <tbody>\n",
              "    <tr>\n",
              "      <th>0</th>\n",
              "      <td>54f34605aebd63f7680e37ffd299af79</td>\n",
              "      <td>0</td>\n",
              "      <td>33</td>\n",
              "      <td>0.0</td>\n",
              "      <td>1.26</td>\n",
              "      <td>1.65</td>\n",
              "      <td>1.17</td>\n",
              "      <td>-1.76</td>\n",
              "      <td>0.61</td>\n",
              "    </tr>\n",
              "    <tr>\n",
              "      <th>1</th>\n",
              "      <td>86399f8c44ba54224b2e60177ca89fa9</td>\n",
              "      <td>1</td>\n",
              "      <td>35</td>\n",
              "      <td>0.0</td>\n",
              "      <td>1.07</td>\n",
              "      <td>0.17</td>\n",
              "      <td>-0.14</td>\n",
              "      <td>1.49</td>\n",
              "      <td>0.30</td>\n",
              "    </tr>\n",
              "    <tr>\n",
              "      <th>2</th>\n",
              "      <td>84fab50f3c60d1fdc83aa91b5e584a78</td>\n",
              "      <td>1</td>\n",
              "      <td>36</td>\n",
              "      <td>0.0</td>\n",
              "      <td>0.89</td>\n",
              "      <td>1.28</td>\n",
              "      <td>0.86</td>\n",
              "      <td>1.07</td>\n",
              "      <td>0.99</td>\n",
              "    </tr>\n",
              "    <tr>\n",
              "      <th>3</th>\n",
              "      <td>f3b8fdaccce12ef6352bfad4d6052fe9</td>\n",
              "      <td>0</td>\n",
              "      <td>39</td>\n",
              "      <td>NaN</td>\n",
              "      <td>0.33</td>\n",
              "      <td>-1.01</td>\n",
              "      <td>-0.33</td>\n",
              "      <td>-0.68</td>\n",
              "      <td>0.92</td>\n",
              "    </tr>\n",
              "    <tr>\n",
              "      <th>4</th>\n",
              "      <td>8b06ea5e9cb87c61da387995450607f7</td>\n",
              "      <td>0</td>\n",
              "      <td>31</td>\n",
              "      <td>NaN</td>\n",
              "      <td>0.15</td>\n",
              "      <td>0.47</td>\n",
              "      <td>1.17</td>\n",
              "      <td>-1.01</td>\n",
              "      <td>-0.32</td>\n",
              "    </tr>\n",
              "    <tr>\n",
              "      <th>5</th>\n",
              "      <td>7a2ec9c1de4ec137367e66ad759ec848</td>\n",
              "      <td>0</td>\n",
              "      <td>38</td>\n",
              "      <td>NaN</td>\n",
              "      <td>1.26</td>\n",
              "      <td>0.76</td>\n",
              "      <td>-0.46</td>\n",
              "      <td>-1.76</td>\n",
              "      <td>-0.76</td>\n",
              "    </tr>\n",
              "    <tr>\n",
              "      <th>6</th>\n",
              "      <td>259f8f9cce95b214dc9924af48bcd6f0</td>\n",
              "      <td>1</td>\n",
              "      <td>36</td>\n",
              "      <td>NaN</td>\n",
              "      <td>1.44</td>\n",
              "      <td>-0.12</td>\n",
              "      <td>-0.21</td>\n",
              "      <td>0.99</td>\n",
              "      <td>0.18</td>\n",
              "    </tr>\n",
              "    <tr>\n",
              "      <th>7</th>\n",
              "      <td>ea3d6b771a87038cbc9e7da666f82b7a</td>\n",
              "      <td>0</td>\n",
              "      <td>58</td>\n",
              "      <td>NaN</td>\n",
              "      <td>0.70</td>\n",
              "      <td>-0.94</td>\n",
              "      <td>0.86</td>\n",
              "      <td>0.99</td>\n",
              "      <td>-0.32</td>\n",
              "    </tr>\n",
              "    <tr>\n",
              "      <th>8</th>\n",
              "      <td>e9552c9fe95d5cda02e2b55c05a943bc</td>\n",
              "      <td>0</td>\n",
              "      <td>37</td>\n",
              "      <td>NaN</td>\n",
              "      <td>1.63</td>\n",
              "      <td>0.32</td>\n",
              "      <td>0.98</td>\n",
              "      <td>1.49</td>\n",
              "      <td>-1.50</td>\n",
              "    </tr>\n",
              "    <tr>\n",
              "      <th>9</th>\n",
              "      <td>db85e9a0b1ab33ab7be878b9c236e7f2</td>\n",
              "      <td>1</td>\n",
              "      <td>33</td>\n",
              "      <td>0.0</td>\n",
              "      <td>0.70</td>\n",
              "      <td>0.54</td>\n",
              "      <td>-0.27</td>\n",
              "      <td>-0.26</td>\n",
              "      <td>0.92</td>\n",
              "    </tr>\n",
              "  </tbody>\n",
              "</table>\n",
              "</div>"
            ],
            "text/plain": [
              "                             userid  gender  age  ...   ext   agr   neu\n",
              "0  54f34605aebd63f7680e37ffd299af79       0   33  ...  1.17 -1.76  0.61\n",
              "1  86399f8c44ba54224b2e60177ca89fa9       1   35  ... -0.14  1.49  0.30\n",
              "2  84fab50f3c60d1fdc83aa91b5e584a78       1   36  ...  0.86  1.07  0.99\n",
              "3  f3b8fdaccce12ef6352bfad4d6052fe9       0   39  ... -0.33 -0.68  0.92\n",
              "4  8b06ea5e9cb87c61da387995450607f7       0   31  ...  1.17 -1.01 -0.32\n",
              "5  7a2ec9c1de4ec137367e66ad759ec848       0   38  ... -0.46 -1.76 -0.76\n",
              "6  259f8f9cce95b214dc9924af48bcd6f0       1   36  ... -0.21  0.99  0.18\n",
              "7  ea3d6b771a87038cbc9e7da666f82b7a       0   58  ...  0.86  0.99 -0.32\n",
              "8  e9552c9fe95d5cda02e2b55c05a943bc       0   37  ...  0.98  1.49 -1.50\n",
              "9  db85e9a0b1ab33ab7be878b9c236e7f2       1   33  ... -0.27 -0.26  0.92\n",
              "\n",
              "[10 rows x 9 columns]"
            ]
          },
          "metadata": {
            "tags": []
          },
          "execution_count": 114
        }
      ]
    },
    {
      "cell_type": "code",
      "metadata": {
        "id": "zLHrH5Js_B7l",
        "colab_type": "code",
        "colab": {
          "base_uri": "https://localhost:8080/",
          "height": 359
        },
        "outputId": "3f75fcc3-3936-4de1-9fa9-d29cd9d72907"
      },
      "source": [
        "ul.head(10)"
      ],
      "execution_count": 115,
      "outputs": [
        {
          "output_type": "execute_result",
          "data": {
            "text/html": [
              "<div>\n",
              "<style scoped>\n",
              "    .dataframe tbody tr th:only-of-type {\n",
              "        vertical-align: middle;\n",
              "    }\n",
              "\n",
              "    .dataframe tbody tr th {\n",
              "        vertical-align: top;\n",
              "    }\n",
              "\n",
              "    .dataframe thead th {\n",
              "        text-align: right;\n",
              "    }\n",
              "</style>\n",
              "<table border=\"1\" class=\"dataframe\">\n",
              "  <thead>\n",
              "    <tr style=\"text-align: right;\">\n",
              "      <th></th>\n",
              "      <th>userid</th>\n",
              "      <th>likeid</th>\n",
              "    </tr>\n",
              "  </thead>\n",
              "  <tbody>\n",
              "    <tr>\n",
              "      <th>0</th>\n",
              "      <td>71bc7c0901488aec6d30f0add257e7c5</td>\n",
              "      <td>3c1636c878e6eb2acfd00c6b61086e38</td>\n",
              "    </tr>\n",
              "    <tr>\n",
              "      <th>1</th>\n",
              "      <td>978ab8e90c4d6ad1a48ef5c973b62f4d</td>\n",
              "      <td>feca46ddb8ef04f86172ace0cb7e004c</td>\n",
              "    </tr>\n",
              "    <tr>\n",
              "      <th>2</th>\n",
              "      <td>85123b0e358907725cf19a2cb0ec3983</td>\n",
              "      <td>b65f46d64c688fe98bdbcf93a76a71fc</td>\n",
              "    </tr>\n",
              "    <tr>\n",
              "      <th>3</th>\n",
              "      <td>ce110562b3e2f7e5cad3775b32d9caa5</td>\n",
              "      <td>b65f46d64c688fe98bdbcf93a76a71fc</td>\n",
              "    </tr>\n",
              "    <tr>\n",
              "      <th>4</th>\n",
              "      <td>8188d20745471273fa69ba44a5b28473</td>\n",
              "      <td>b65f46d64c688fe98bdbcf93a76a71fc</td>\n",
              "    </tr>\n",
              "    <tr>\n",
              "      <th>5</th>\n",
              "      <td>e9c621f322640e5f3b3842d19b38aaa8</td>\n",
              "      <td>b65f46d64c688fe98bdbcf93a76a71fc</td>\n",
              "    </tr>\n",
              "    <tr>\n",
              "      <th>6</th>\n",
              "      <td>f0c99cfcdbda49dc424848666c6b31a9</td>\n",
              "      <td>b65f46d64c688fe98bdbcf93a76a71fc</td>\n",
              "    </tr>\n",
              "    <tr>\n",
              "      <th>7</th>\n",
              "      <td>7de7b4609c6b51d956d27050c958d885</td>\n",
              "      <td>b65f46d64c688fe98bdbcf93a76a71fc</td>\n",
              "    </tr>\n",
              "    <tr>\n",
              "      <th>8</th>\n",
              "      <td>05ce4ab49d90139ec1f7af9f0255c9c6</td>\n",
              "      <td>b65f46d64c688fe98bdbcf93a76a71fc</td>\n",
              "    </tr>\n",
              "    <tr>\n",
              "      <th>9</th>\n",
              "      <td>051caa763b05e64d4c8699078e942dfd</td>\n",
              "      <td>9c5c8bb82d2cd46fbd7582f944fe370e</td>\n",
              "    </tr>\n",
              "  </tbody>\n",
              "</table>\n",
              "</div>"
            ],
            "text/plain": [
              "                             userid                            likeid\n",
              "0  71bc7c0901488aec6d30f0add257e7c5  3c1636c878e6eb2acfd00c6b61086e38\n",
              "1  978ab8e90c4d6ad1a48ef5c973b62f4d  feca46ddb8ef04f86172ace0cb7e004c\n",
              "2  85123b0e358907725cf19a2cb0ec3983  b65f46d64c688fe98bdbcf93a76a71fc\n",
              "3  ce110562b3e2f7e5cad3775b32d9caa5  b65f46d64c688fe98bdbcf93a76a71fc\n",
              "4  8188d20745471273fa69ba44a5b28473  b65f46d64c688fe98bdbcf93a76a71fc\n",
              "5  e9c621f322640e5f3b3842d19b38aaa8  b65f46d64c688fe98bdbcf93a76a71fc\n",
              "6  f0c99cfcdbda49dc424848666c6b31a9  b65f46d64c688fe98bdbcf93a76a71fc\n",
              "7  7de7b4609c6b51d956d27050c958d885  b65f46d64c688fe98bdbcf93a76a71fc\n",
              "8  05ce4ab49d90139ec1f7af9f0255c9c6  b65f46d64c688fe98bdbcf93a76a71fc\n",
              "9  051caa763b05e64d4c8699078e942dfd  9c5c8bb82d2cd46fbd7582f944fe370e"
            ]
          },
          "metadata": {
            "tags": []
          },
          "execution_count": 115
        }
      ]
    },
    {
      "cell_type": "markdown",
      "metadata": {
        "id": "XJYv5EFuMfkL",
        "colab_type": "text"
      },
      "source": [
        "## Challenge 2: Create the sparse user-likes matrix \n",
        "Create a **sparse matrix** that stores the data for the user-likes associations as described in the paper. The name of the user-likes matrix must be `M`, to keep the naming convention used in the paper. It is important that to store the data in a sparse matrix; you might need to research the topic of using sparse matrices in python (i.e. look at the `scipy.sparse` package and the `csr_matrix` class). *Hint: For this challenge,  you might find  the `merge` method from `pandas` library useful*. \n",
        "\n",
        "Once you create the matrix print its shape on the answer summary cell."
      ]
    },
    {
      "cell_type": "code",
      "metadata": {
        "id": "QnI9ocfkYox-",
        "colab_type": "code",
        "colab": {}
      },
      "source": [
        "#Merge the files first then matrix\n",
        "# Your code goes here.\n",
        "# \n",
        "\n",
        "likes['like_row'] = range(len(likes))\n",
        "users['user_row'] = range(len(users))\n"
      ],
      "execution_count": 0,
      "outputs": []
    },
    {
      "cell_type": "code",
      "metadata": {
        "id": "EcKx_KSG3CvO",
        "colab_type": "code",
        "colab": {}
      },
      "source": [
        "ul1 = pd.merge(ul, likes[['likeid','like_row']] , on = 'likeid', how = 'left')\n",
        "df = pd.merge (ul1, users [['userid','user_row']] , on = 'userid', how = 'left')\n",
        "df['id']=range(len(df))"
      ],
      "execution_count": 0,
      "outputs": []
    },
    {
      "cell_type": "code",
      "metadata": {
        "id": "pIwoSwTE3g8a",
        "colab_type": "code",
        "colab": {
          "base_uri": "https://localhost:8080/",
          "height": 224
        },
        "outputId": "b261212c-bf78-4f46-f58f-5cc5e4876b22"
      },
      "source": [
        "df.head()"
      ],
      "execution_count": 118,
      "outputs": [
        {
          "output_type": "execute_result",
          "data": {
            "text/html": [
              "<div>\n",
              "<style scoped>\n",
              "    .dataframe tbody tr th:only-of-type {\n",
              "        vertical-align: middle;\n",
              "    }\n",
              "\n",
              "    .dataframe tbody tr th {\n",
              "        vertical-align: top;\n",
              "    }\n",
              "\n",
              "    .dataframe thead th {\n",
              "        text-align: right;\n",
              "    }\n",
              "</style>\n",
              "<table border=\"1\" class=\"dataframe\">\n",
              "  <thead>\n",
              "    <tr style=\"text-align: right;\">\n",
              "      <th></th>\n",
              "      <th>userid</th>\n",
              "      <th>likeid</th>\n",
              "      <th>like_row</th>\n",
              "      <th>user_row</th>\n",
              "      <th>id</th>\n",
              "    </tr>\n",
              "  </thead>\n",
              "  <tbody>\n",
              "    <tr>\n",
              "      <th>0</th>\n",
              "      <td>71bc7c0901488aec6d30f0add257e7c5</td>\n",
              "      <td>3c1636c878e6eb2acfd00c6b61086e38</td>\n",
              "      <td>0</td>\n",
              "      <td>59352</td>\n",
              "      <td>0</td>\n",
              "    </tr>\n",
              "    <tr>\n",
              "      <th>1</th>\n",
              "      <td>978ab8e90c4d6ad1a48ef5c973b62f4d</td>\n",
              "      <td>feca46ddb8ef04f86172ace0cb7e004c</td>\n",
              "      <td>1</td>\n",
              "      <td>36792</td>\n",
              "      <td>1</td>\n",
              "    </tr>\n",
              "    <tr>\n",
              "      <th>2</th>\n",
              "      <td>85123b0e358907725cf19a2cb0ec3983</td>\n",
              "      <td>b65f46d64c688fe98bdbcf93a76a71fc</td>\n",
              "      <td>2</td>\n",
              "      <td>30997</td>\n",
              "      <td>2</td>\n",
              "    </tr>\n",
              "    <tr>\n",
              "      <th>3</th>\n",
              "      <td>ce110562b3e2f7e5cad3775b32d9caa5</td>\n",
              "      <td>b65f46d64c688fe98bdbcf93a76a71fc</td>\n",
              "      <td>2</td>\n",
              "      <td>50636</td>\n",
              "      <td>3</td>\n",
              "    </tr>\n",
              "    <tr>\n",
              "      <th>4</th>\n",
              "      <td>8188d20745471273fa69ba44a5b28473</td>\n",
              "      <td>b65f46d64c688fe98bdbcf93a76a71fc</td>\n",
              "      <td>2</td>\n",
              "      <td>72223</td>\n",
              "      <td>4</td>\n",
              "    </tr>\n",
              "  </tbody>\n",
              "</table>\n",
              "</div>"
            ],
            "text/plain": [
              "                             userid  ... id\n",
              "0  71bc7c0901488aec6d30f0add257e7c5  ...  0\n",
              "1  978ab8e90c4d6ad1a48ef5c973b62f4d  ...  1\n",
              "2  85123b0e358907725cf19a2cb0ec3983  ...  2\n",
              "3  ce110562b3e2f7e5cad3775b32d9caa5  ...  3\n",
              "4  8188d20745471273fa69ba44a5b28473  ...  4\n",
              "\n",
              "[5 rows x 5 columns]"
            ]
          },
          "metadata": {
            "tags": []
          },
          "execution_count": 118
        }
      ]
    },
    {
      "cell_type": "code",
      "metadata": {
        "id": "LAjo7_3SWcv0",
        "colab_type": "code",
        "colab": {
          "base_uri": "https://localhost:8080/",
          "height": 221
        },
        "outputId": "82a7e3eb-dfb2-42d3-89e3-ff7bf0d5b1b1"
      },
      "source": [
        "df.info()"
      ],
      "execution_count": 119,
      "outputs": [
        {
          "output_type": "stream",
          "text": [
            "<class 'pandas.core.frame.DataFrame'>\n",
            "Int64Index: 10612326 entries, 0 to 10612325\n",
            "Data columns (total 5 columns):\n",
            " #   Column    Dtype \n",
            "---  ------    ----- \n",
            " 0   userid    object\n",
            " 1   likeid    object\n",
            " 2   like_row  int64 \n",
            " 3   user_row  int64 \n",
            " 4   id        int64 \n",
            "dtypes: int64(3), object(2)\n",
            "memory usage: 485.8+ MB\n"
          ],
          "name": "stdout"
        }
      ]
    },
    {
      "cell_type": "code",
      "metadata": {
        "id": "j1oBOMpoWJtN",
        "colab_type": "code",
        "colab": {}
      },
      "source": [
        "#M = csr_matrix (data, (rows,columns))\n",
        "\n",
        "data = np.array(df['id']).astype(int)\n",
        "row = np.array(df['user_row']).astype(int)\n",
        "col = np.array(df['like_row']).astype(int)\n",
        "\n",
        "M =csr_matrix((data, (row,col)),dtype=int)"
      ],
      "execution_count": 0,
      "outputs": []
    },
    {
      "cell_type": "code",
      "metadata": {
        "id": "ujmtRhD2zX3L",
        "colab_type": "code",
        "colab": {
          "base_uri": "https://localhost:8080/",
          "height": 34
        },
        "outputId": "7e6941a5-4bf1-4fb8-fb84-0eec740ca45c"
      },
      "source": [
        "M.shape"
      ],
      "execution_count": 121,
      "outputs": [
        {
          "output_type": "execute_result",
          "data": {
            "text/plain": [
              "(110728, 1580284)"
            ]
          },
          "metadata": {
            "tags": []
          },
          "execution_count": 121
        }
      ]
    },
    {
      "cell_type": "code",
      "metadata": {
        "id": "JDuZJyKKXSom",
        "colab_type": "code",
        "colab": {
          "base_uri": "https://localhost:8080/",
          "height": 34
        },
        "outputId": "c8b997e3-c7f7-4776-e91a-966505d5c4db"
      },
      "source": [
        "num_rows, num_cols = M.shape\n",
        "print (num_rows, num_cols)"
      ],
      "execution_count": 91,
      "outputs": [
        {
          "output_type": "stream",
          "text": [
            "110728 1580284\n"
          ],
          "name": "stdout"
        }
      ]
    },
    {
      "cell_type": "code",
      "metadata": {
        "id": "ckYGEacxYvho",
        "colab_type": "code",
        "colab": {}
      },
      "source": [
        "#\n",
        "# Answer summary cell:  Print the shape of the matrix M\n",
        "# The shape is 110,728 x 1,580,284\n"
      ],
      "execution_count": 0,
      "outputs": []
    },
    {
      "cell_type": "code",
      "metadata": {
        "id": "PXwPxzhdMLBv",
        "colab_type": "code",
        "colab": {
          "base_uri": "https://localhost:8080/",
          "height": 34
        },
        "outputId": "68b8beb6-0046-4308-c068-608efb8c3c79"
      },
      "source": [
        ""
      ],
      "execution_count": 107,
      "outputs": [
        {
          "output_type": "execute_result",
          "data": {
            "text/plain": [
              "array([ 59352,  36792,  30997, ...,  44279,  47598, 103984])"
            ]
          },
          "metadata": {
            "tags": []
          },
          "execution_count": 107
        }
      ]
    },
    {
      "cell_type": "markdown",
      "metadata": {
        "id": "TKJldPiWY5Tr",
        "colab_type": "text"
      },
      "source": [
        "## Challege 3: Trim the sparse user-likes matrix M.\n",
        "The paper calls for the matrix `M` to be trimmed (i.e. to remove users which did not like a minimum number of posts and posts that did not receive a minimum number of likes). In this challenge, you are expected to implement the trimming preprocessing step as described in the paper. The resulting matrix must be a sparse matrix. *Hint: you might want to research to index slice sparse matrices in python*"
      ]
    },
    {
      "cell_type": "code",
      "metadata": {
        "id": "L_M8CC9-cXZs",
        "colab_type": "code",
        "colab": {}
      },
      "source": [
        "#\n",
        "# Your code here. \n",
        "# rowsums (likes per user , 'like_row') > 50, colsums (users per like 'user_row')>=150\n",
        "#np.delete\n",
        "import numpy.ma as ma\n",
        "\n",
        "#rowsums = row[(-100<=row)&(row<=100)]\n",
        "\n",
        "#data = np.array(df['id']).astype(int)\n",
        "#row = np.array(df['user_row']).astype(int)\n",
        "#col = np.array(df['like_row']).astype(int)\n",
        "\n",
        "#M =csr_matrix((data, (row,col)),dtype=int)\n",
        "\n",
        "#row_sums = row[(50<=row)]\n",
        "#col_sums = col[(150<=col)]\n",
        "\n",
        "#row_sums = row\n",
        "#sum(i > 50 for i in row_sums)\n",
        "\n",
        "#>>> j = [4, 5, 6, 7, 1, 3, 7, 5]\n",
        "#>>> sum(i > 5 for i in j)\n",
        "\n",
        "#print(len(col_sums))\n",
        "#print(max(col_sums))"
      ],
      "execution_count": 0,
      "outputs": []
    },
    {
      "cell_type": "code",
      "metadata": {
        "id": "xpKv7uBvHnsg",
        "colab_type": "code",
        "colab": {}
      },
      "source": [
        "M1 =csr_matrix((M, (row_sums,col_sums)),dtype=int)"
      ],
      "execution_count": 0,
      "outputs": []
    },
    {
      "cell_type": "code",
      "metadata": {
        "id": "dJLKuBoIF-Ek",
        "colab_type": "code",
        "colab": {}
      },
      "source": [
        "TM =csr_matrix((M, (row_sums,col_sums)),dtype=int)"
      ],
      "execution_count": 0,
      "outputs": []
    },
    {
      "cell_type": "code",
      "metadata": {
        "id": "6ywuRl88caaG",
        "colab_type": "code",
        "colab": {}
      },
      "source": [
        "#\n",
        "# Answer summary cell:  Print the shape of the matrix M after trimming. \n",
        "# \n",
        "\n",
        "1\n"
      ],
      "execution_count": 0,
      "outputs": []
    },
    {
      "cell_type": "markdown",
      "metadata": {
        "id": "CPCmSbfCcs4P",
        "colab_type": "text"
      },
      "source": [
        "## Challenge 4:  Split the sparse matrix into a training and testing matrices\n",
        "To build a prediction model the paper calls for separating the data matrix (i.e. the user-like matrix) into a training and testing matrices. As part of this challenge, you need to create a training matrix `M_train` that includes the preferences of 80% of the users, and a testing matrix `M_test` that include the preferences of the remaining 20% of the users in the dataset. Both matrices `M_train` and `M_test` must be stored as sparse matrices. User will be randomly assigned to the training or testing set.\n",
        "\n",
        "Print the shapes of the `M_train` and `M_test` matrices.\n",
        "\n",
        "\n"
      ]
    },
    {
      "cell_type": "code",
      "metadata": {
        "id": "h1avbiXTygvz",
        "colab_type": "code",
        "colab": {
          "base_uri": "https://localhost:8080/",
          "height": 184
        },
        "outputId": "093f4cea-dd46-4635-dbdb-62b25d810b47"
      },
      "source": [
        "#X = \n",
        "#y =\n",
        "\n",
        "# Your code here. \n",
        "M_test, M_test, y_train, y_test = train_test_split(X, y, test_size = 0.2, random_state = 0)"
      ],
      "execution_count": 128,
      "outputs": [
        {
          "output_type": "error",
          "ename": "NameError",
          "evalue": "ignored",
          "traceback": [
            "\u001b[0;31m---------------------------------------------------------------------------\u001b[0m",
            "\u001b[0;31mNameError\u001b[0m                                 Traceback (most recent call last)",
            "\u001b[0;32m<ipython-input-128-65a3c2cb8066>\u001b[0m in \u001b[0;36m<module>\u001b[0;34m()\u001b[0m\n\u001b[0;32m----> 1\u001b[0;31m \u001b[0mM_test\u001b[0m\u001b[0;34m,\u001b[0m \u001b[0mM_test\u001b[0m\u001b[0;34m,\u001b[0m \u001b[0my_train\u001b[0m\u001b[0;34m,\u001b[0m \u001b[0my_test\u001b[0m \u001b[0;34m=\u001b[0m \u001b[0mtrain_test_split\u001b[0m\u001b[0;34m(\u001b[0m\u001b[0mM\u001b[0m\u001b[0;34m,\u001b[0m \u001b[0my\u001b[0m\u001b[0;34m,\u001b[0m \u001b[0mtest_size\u001b[0m \u001b[0;34m=\u001b[0m \u001b[0;36m0.2\u001b[0m\u001b[0;34m,\u001b[0m \u001b[0mrandom_state\u001b[0m \u001b[0;34m=\u001b[0m \u001b[0;36m0\u001b[0m\u001b[0;34m)\u001b[0m\u001b[0;34m\u001b[0m\u001b[0;34m\u001b[0m\u001b[0m\n\u001b[0m",
            "\u001b[0;31mNameError\u001b[0m: name 'y' is not defined"
          ]
        }
      ]
    },
    {
      "cell_type": "code",
      "metadata": {
        "id": "vbTijUQ0ykDn",
        "colab_type": "code",
        "colab": {}
      },
      "source": [
        "#\n",
        "# Answer summary cell: Print the shapes of M_train, M_test and M matrices.  \n",
        "# "
      ],
      "execution_count": 0,
      "outputs": []
    },
    {
      "cell_type": "markdown",
      "metadata": {
        "id": "3cPhHjAdciZP",
        "colab_type": "text"
      },
      "source": [
        "## Challege 5 : Reduce the dimensionality of the M_train matrix using SVD\n",
        "\n",
        "In this challenge, you must use singular value decomposition (SVD) to reduce the dimensionality of the training matrix `M_train`. Remember that `M_train` is encoded as a sparse matrix so you would need to use an appropriate implementation of the SVD for sparse matrices. Your output should be the matrices `U`, `S` and `Vt` that correspond to the left singular vectors, the singular values, and the right singular vectors, respectively. You must specify a parameter `k` that defines the number of reduced dimensions you want to keep.\n",
        "\n",
        "Print the shapes of the `U`, `S` and `Vt` matrices and the value you selected for parameter `k`.\n",
        "\n"
      ]
    },
    {
      "cell_type": "code",
      "metadata": {
        "id": "--NlzhH21mWj",
        "colab_type": "code",
        "colab": {}
      },
      "source": [
        "#\n",
        "# Your code here. \n",
        "#"
      ],
      "execution_count": 0,
      "outputs": []
    },
    {
      "cell_type": "code",
      "metadata": {
        "id": "ZEtb9wsn1mzZ",
        "colab_type": "code",
        "colab": {}
      },
      "source": [
        "#\n",
        "# Answer summary cell: Print the shapes of U, S and Vt; and the value you selected for parameter `k`.\n",
        "# "
      ],
      "execution_count": 0,
      "outputs": []
    },
    {
      "cell_type": "markdown",
      "metadata": {
        "id": "YJa9qQVr1vmv",
        "colab_type": "text"
      },
      "source": [
        "## Challege 6 : Use the varimax algorithm to rotate the SVD dimensions. \n",
        "Use the varimax algorithm to rotate the SVD dimensions as described in the paper. A good python library that implements varimax algorithm is the `factor_analyzer` and its `Rotator` class (already installed in this notebook for your in the started cell above); i.e. using `rotator = Rotator(method='varimax')`. Store the varimax SVD into the matrices `U_rot` and `V_rot` respectively. *Hint: you can apply varimax of `Vt` to get `V_rot` and then multiply `M` by  `Vt_rot` to obtain the `U_rot` (as done in the paper); you might want to research hot to user the `Rotator` class*. \n",
        "\n",
        "Print the shapes of the matrices `U_rot` and `V_rot`.\n"
      ]
    },
    {
      "cell_type": "code",
      "metadata": {
        "id": "pxGmf_MN4KH0",
        "colab_type": "code",
        "colab": {}
      },
      "source": [
        "#\n",
        "# Your code here. \n",
        "#\n"
      ],
      "execution_count": 0,
      "outputs": []
    },
    {
      "cell_type": "code",
      "metadata": {
        "id": "v_2U3n2X4h_0",
        "colab_type": "code",
        "colab": {}
      },
      "source": [
        "#\n",
        "# Answer summary cell: Print the shapes of the matrices `U_rot` and `V_rot`\n",
        "# "
      ],
      "execution_count": 0,
      "outputs": []
    },
    {
      "cell_type": "markdown",
      "metadata": {
        "id": "Lp0BpsHd4wfg",
        "colab_type": "text"
      },
      "source": [
        "## Challenge 7 : Train two predictive model to predict the political  affilication of users.\n",
        "Build a predictive model that predicts the political affiliation of the users given the user's post preferences (as those are captured in the paper's dataset). To train your model you can use data from matrix `M_train` only. You are expected to use two different predictive models of your choice (i.e. Knn, SVM, Logistic Regression or some other model of your choice).\n",
        "\n",
        "As part of this challenge you are expected to:\n",
        "- Apply any necessary preprocessing to handle missing values.\n",
        "- The models must be applied on the reduced-dimensional feature generated by your analysis above (i.e. use the singular rotated singular dimensions)\n",
        "- Use cross-validation for model selection (i.e. to identify optimal parameters for your model, or any meta-parameters)\n",
        "- Report training and cross-validation performance of the two models as well as the optimal parameters for your model identified by cross validation. \n"
      ]
    },
    {
      "cell_type": "markdown",
      "metadata": {
        "id": "iiQ_wRcs7pA7",
        "colab_type": "text"
      },
      "source": [
        "**FIRST MODEL TRAINING: Use the cells below to train the predictive model using the first model you selected.**"
      ]
    },
    {
      "cell_type": "code",
      "metadata": {
        "id": "WK6Yd4hf7fAA",
        "colab_type": "code",
        "colab": {}
      },
      "source": [
        "#\n",
        "# Use this cell to train the first model you selected for challenge 7. \n",
        "# Add additional cells as needed below this cell.\n",
        "#\n"
      ],
      "execution_count": 0,
      "outputs": []
    },
    {
      "cell_type": "markdown",
      "metadata": {
        "id": "uHxGNOFf83pO",
        "colab_type": "text"
      },
      "source": [
        "**FIRST MODEL ACCURACY REPORT: Use the cell below to report on the accuracy of your first model**\n"
      ]
    },
    {
      "cell_type": "code",
      "metadata": {
        "id": "hDrzCnB99i9h",
        "colab_type": "code",
        "colab": {}
      },
      "source": [
        "#\n",
        "# Use this cell to report on the accuracy of the first model (i.e. training and cross validation performance)\n",
        "# and model selection results. \n"
      ],
      "execution_count": 0,
      "outputs": []
    },
    {
      "cell_type": "markdown",
      "metadata": {
        "id": "zrkRGd1t-ISp",
        "colab_type": "text"
      },
      "source": [
        "**SECOND MODEL TRAINING: Use the cells below to train the predictive model using the second model you selected.**"
      ]
    },
    {
      "cell_type": "code",
      "metadata": {
        "id": "GR8wUcci-Lnj",
        "colab_type": "code",
        "colab": {}
      },
      "source": [
        "#\n",
        "# Use this cell to train the second model you selected for challenge 7. \n",
        "# Add additional cells as needed below this cell.\n",
        "#\n"
      ],
      "execution_count": 0,
      "outputs": []
    },
    {
      "cell_type": "markdown",
      "metadata": {
        "id": "8RcnRV85-SkD",
        "colab_type": "text"
      },
      "source": [
        "**SECOND MODEL ACCURACY REPORT: Use the cell below to report on the accuracy of your second model**"
      ]
    },
    {
      "cell_type": "code",
      "metadata": {
        "id": "2DxNn4gl-SCN",
        "colab_type": "code",
        "colab": {}
      },
      "source": [
        "#\n",
        "# Use this cell to report on the accuracy of the second model (i.e. training and cross validation performance)\n",
        "# and model selection results.\n"
      ],
      "execution_count": 0,
      "outputs": []
    },
    {
      "cell_type": "markdown",
      "metadata": {
        "id": "2D6o6Cy-8xKp",
        "colab_type": "text"
      },
      "source": [
        "## Challenge 8 Apply your model in the independent test set.\n",
        "User the cells below to apply your two predictive models on the test dataset `M_test` and report testing accuracy for each model.\n",
        "\n",
        "As part of this challenge you are expected to:\n",
        "- Project each observation in the test dataset `M_test` onto the reduced-dimensional features space.\n",
        "- Apply each on of your model to make predict each user's political preference (for users in the testing set only)\n",
        "- Report testing accuracy on each of your models.\n",
        "- Make an assessment as to which model is better and whether either of your models is overfitted or under-fitted."
      ]
    },
    {
      "cell_type": "code",
      "metadata": {
        "id": "HtC0osVlCgr4",
        "colab_type": "code",
        "colab": {}
      },
      "source": [
        "#\n",
        "# Use this cell to comlete challege 8; add more cells as necessary. \n",
        "#"
      ],
      "execution_count": 0,
      "outputs": []
    },
    {
      "cell_type": "markdown",
      "metadata": {
        "id": "tqDyqK9qb4Ze",
        "colab_type": "text"
      },
      "source": [
        "# END OF EXAM/CODE"
      ]
    },
    {
      "cell_type": "markdown",
      "metadata": {
        "id": "ha290eSXRT9R",
        "colab_type": "text"
      },
      "source": [
        "\n",
        "*Copyright Statement*: Copyright © 2020 Christoforou. The materials provided by the instructor of this course, including this notebook, are for the use of the students enrolled in the course. Materials are presented in an educational context for personal use and study and should not be shared, distributed, disseminated or sold in print — or digitally — outside the course without permission. You may not, nor may you knowingly allow others to reproduce or distribute lecture notes, course materials  as well as any of their derivatives without the instructor's express written consent."
      ]
    },
    {
      "cell_type": "code",
      "metadata": {
        "id": "dp_ijPXabKsG",
        "colab_type": "code",
        "colab": {}
      },
      "source": [
        ""
      ],
      "execution_count": 0,
      "outputs": []
    }
  ]
}