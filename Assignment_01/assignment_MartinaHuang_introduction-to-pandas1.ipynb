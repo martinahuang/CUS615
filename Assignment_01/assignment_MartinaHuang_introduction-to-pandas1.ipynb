{
  "nbformat": 4,
  "nbformat_minor": 0,
  "metadata": {
    "kernelspec": {
      "display_name": "Python 3",
      "language": "python",
      "name": "python3"
    },
    "language_info": {
      "codemirror_mode": {
        "name": "ipython",
        "version": 3
      },
      "file_extension": ".py",
      "mimetype": "text/x-python",
      "name": "python",
      "nbconvert_exporter": "python",
      "pygments_lexer": "ipython3",
      "version": "3.6.7"
    },
    "colab": {
      "name": "assignment_yourname_introduction-to-pandas.ipynb",
      "provenance": [],
      "include_colab_link": true
    }
  },
  "cells": [
    {
      "cell_type": "markdown",
      "metadata": {
        "id": "view-in-github",
        "colab_type": "text"
      },
      "source": [
        "<a href=\"https://colab.research.google.com/github/martinahuang/CUS615/blob/master/Assignment_01/assignment_MartinaHuang_introduction-to-pandas1.ipynb\" target=\"_parent\"><img src=\"https://colab.research.google.com/assets/colab-badge.svg\" alt=\"Open In Colab\"/></a>"
      ]
    },
    {
      "cell_type": "markdown",
      "metadata": {
        "id": "0MHVVssfUMHr",
        "colab_type": "text"
      },
      "source": [
        "# Workshop on `pandas`\n",
        "\n",
        "This workshop's goal&mdash;which is facilitated by this Jupyter notebook&mdash;is to give attendees the confidence to use `pandas` in their research projects. Basic familiarity with Python *is* assumed.\n",
        "\n",
        "`pandas` is designed to make it easier to work with structured data. Most of the analyses you might perform will likely involve using tabular data, e.g., from .csv files or relational databases (e.g., SQL). The `DataFrame` object in `pandas` is \"a two-dimensional tabular, column-oriented data structure with both row and column labels.\"\n",
        "\n",
        "If you're curious:\n",
        "\n",
        ">The `pandas` name itself is derived from *panel data*, an econometrics term for multidimensional structured data sets, and *Python data analysis* itself. After getting introduced, you can consult the full [`pandas` documentation](http://pandas.pydata.org/pandas-docs/stable/).\n",
        "\n",
        "To motivate this workshop, we'll work with example data and go through the various steps you might need to prepare data for analysis. You'll (hopefully) realize that doing this type of work is much more difficult using Python's built-in data structures."
      ]
    },
    {
      "cell_type": "markdown",
      "metadata": {
        "id": "4V0epfvIUMHu",
        "colab_type": "text"
      },
      "source": [
        "### Table of Contents\n",
        "\n",
        "1 - [The DataFrame](#section1)<br>\n",
        "\n",
        "2 - [Rename, Index, and Slice](#section2)<br>\n",
        "\n",
        "3 - [Manipulating Columns](#section3)<br>\n",
        "\n",
        "4 - [Merging](#section4)<br>\n",
        "\n",
        "5 - [Calculating Unique And Missing Values](#section5)<br>\n",
        "\n",
        "6 - [Groupby](#section6)<br>\n",
        "\n",
        "7- [Exporting To CSV](#section7)<br>\n",
        "\n",
        "8 - [Handling Missing Values (Boolean Indexing)](#section8)<br>\n",
        "\n",
        "9 - [Sorting Values](#section9)<br>\n",
        "\n",
        "10 - [Plotting In Pandas](#section10)<br>"
      ]
    },
    {
      "cell_type": "markdown",
      "metadata": {
        "id": "Wc600B9nUMHw",
        "colab_type": "text"
      },
      "source": [
        "## 1. The DataFrame: Importing Data and Summary Statistics <a id=\"section1\"/>\n",
        "The data used in these examples is available in the following [GitHub repository](https://github.com/dlab-berkeley/introduction-to-pandas). If you've [cloned that repo](https://www.atlassian.com/git/tutorials/setting-up-a-repository/git-clone), which is the recommended approach, you'll have everything you need to run this notebook. Otherwise, you can download the data file(s) from the above link. (Note: this notebook assumes that the data files are in a directory named `data/` found within your current working directory.)\n",
        "\n",
        "For this example, we're working with European unemployment data from Eurostat, which is hosted by [Google](https://code.google.com/p/dspl/downloads/list). There are several .csv files that we'll work with in this workshop.\n",
        "\n",
        "Let's begin by importing `pandas` using the conventional abbreviation."
      ]
    },
    {
      "cell_type": "code",
      "metadata": {
        "id": "o8z-fm5BUQlb",
        "colab_type": "code",
        "colab": {}
      },
      "source": [
        "%%capture \n",
        "\n",
        "# Execute this cell first to download the necessary data \n",
        "# This cell installs sample data necessary for this workshow on your colab virtual enviroment\n",
        "!wget -O /content/sample_data/countries.csv https://raw.githubusercontent.com/christoforou/intro_to_pandas_lab/master/data/countries.csv\n",
        "!wget -O /content/sample_data/country_total.csv https://raw.githubusercontent.com/christoforou/intro_to_pandas_lab/master/data/country_total.csv\n",
        "\n"
      ],
      "execution_count": 0,
      "outputs": []
    },
    {
      "cell_type": "code",
      "metadata": {
        "id": "9ArL2ZskUMHx",
        "colab_type": "code",
        "colab": {}
      },
      "source": [
        "%matplotlib inline\n",
        "\n",
        "import pandas as pd\n",
        "import matplotlib as mpl\n",
        "import matplotlib.pyplot as plt\n",
        "\n",
        "mpl.rc('savefig', dpi=200)\n",
        "plt.style.use('ggplot')\n",
        "plt.rcParams['xtick.minor.size'] = 0\n",
        "plt.rcParams['ytick.minor.size'] = 0"
      ],
      "execution_count": 0,
      "outputs": []
    },
    {
      "cell_type": "markdown",
      "metadata": {
        "id": "9vnTHPFmUMH1",
        "colab_type": "text"
      },
      "source": [
        "The `read_csv()` function in `pandas` allows us to easily import our data. By default, it assumes the data is comma-delimited. However, you can specify the delimiter used in your data (e.g., tab, semicolon, pipe, etc.). There are several parameters that you can specify. See the documentation [here](http://pandas.pydata.org/pandas-docs/stable/generated/pandas.read_csv.html). `read_csv()` returns a `DataFrame`.\n",
        "\n",
        "Notice that we call `read_csv()` using the `pd` abbreviation from the import statement above."
      ]
    },
    {
      "cell_type": "code",
      "metadata": {
        "id": "28pKi8knUMH2",
        "colab_type": "code",
        "colab": {}
      },
      "source": [
        "unemployment = pd.read_csv('sample_data/country_total.csv')"
      ],
      "execution_count": 0,
      "outputs": []
    },
    {
      "cell_type": "markdown",
      "metadata": {
        "id": "42RUKvlXUMH6",
        "colab_type": "text"
      },
      "source": [
        "Great! You've created a `pandas` `DataFrame`. We can look at our data by using the `.head()` method. By default, this shows the header (column names) and the first five rows. Passing an integer, $n$, to `.head()` returns that number of rows. To see the last $n$ rows, use `.tail()`."
      ]
    },
    {
      "cell_type": "code",
      "metadata": {
        "id": "65k00dPwUMH7",
        "colab_type": "code",
        "outputId": "4b324255-d7f5-44f0-8d4c-612d1015c98f",
        "colab": {
          "base_uri": "https://localhost:8080/",
          "height": 204
        }
      },
      "source": [
        "unemployment.head()"
      ],
      "execution_count": 31,
      "outputs": [
        {
          "output_type": "execute_result",
          "data": {
            "text/html": [
              "<div>\n",
              "<style scoped>\n",
              "    .dataframe tbody tr th:only-of-type {\n",
              "        vertical-align: middle;\n",
              "    }\n",
              "\n",
              "    .dataframe tbody tr th {\n",
              "        vertical-align: top;\n",
              "    }\n",
              "\n",
              "    .dataframe thead th {\n",
              "        text-align: right;\n",
              "    }\n",
              "</style>\n",
              "<table border=\"1\" class=\"dataframe\">\n",
              "  <thead>\n",
              "    <tr style=\"text-align: right;\">\n",
              "      <th></th>\n",
              "      <th>country</th>\n",
              "      <th>seasonality</th>\n",
              "      <th>month</th>\n",
              "      <th>unemployment</th>\n",
              "      <th>unemployment_rate</th>\n",
              "    </tr>\n",
              "  </thead>\n",
              "  <tbody>\n",
              "    <tr>\n",
              "      <th>0</th>\n",
              "      <td>at</td>\n",
              "      <td>nsa</td>\n",
              "      <td>1993.01</td>\n",
              "      <td>171000</td>\n",
              "      <td>4.5</td>\n",
              "    </tr>\n",
              "    <tr>\n",
              "      <th>1</th>\n",
              "      <td>at</td>\n",
              "      <td>nsa</td>\n",
              "      <td>1993.02</td>\n",
              "      <td>175000</td>\n",
              "      <td>4.6</td>\n",
              "    </tr>\n",
              "    <tr>\n",
              "      <th>2</th>\n",
              "      <td>at</td>\n",
              "      <td>nsa</td>\n",
              "      <td>1993.03</td>\n",
              "      <td>166000</td>\n",
              "      <td>4.4</td>\n",
              "    </tr>\n",
              "    <tr>\n",
              "      <th>3</th>\n",
              "      <td>at</td>\n",
              "      <td>nsa</td>\n",
              "      <td>1993.04</td>\n",
              "      <td>157000</td>\n",
              "      <td>4.1</td>\n",
              "    </tr>\n",
              "    <tr>\n",
              "      <th>4</th>\n",
              "      <td>at</td>\n",
              "      <td>nsa</td>\n",
              "      <td>1993.05</td>\n",
              "      <td>147000</td>\n",
              "      <td>3.9</td>\n",
              "    </tr>\n",
              "  </tbody>\n",
              "</table>\n",
              "</div>"
            ],
            "text/plain": [
              "  country seasonality    month  unemployment  unemployment_rate\n",
              "0      at         nsa  1993.01        171000                4.5\n",
              "1      at         nsa  1993.02        175000                4.6\n",
              "2      at         nsa  1993.03        166000                4.4\n",
              "3      at         nsa  1993.04        157000                4.1\n",
              "4      at         nsa  1993.05        147000                3.9"
            ]
          },
          "metadata": {
            "tags": []
          },
          "execution_count": 31
        }
      ]
    },
    {
      "cell_type": "markdown",
      "metadata": {
        "id": "oHKnOKhXUMIA",
        "colab_type": "text"
      },
      "source": [
        "To find the number of rows, you can use the `len()` function. Alternatively, you can use the `shape` attribute."
      ]
    },
    {
      "cell_type": "code",
      "metadata": {
        "id": "z_q8ZFChUMIC",
        "colab_type": "code",
        "outputId": "bde418d4-d174-41f0-b095-e9ffcac3769b",
        "colab": {
          "base_uri": "https://localhost:8080/",
          "height": 34
        }
      },
      "source": [
        "unemployment.shape"
      ],
      "execution_count": 32,
      "outputs": [
        {
          "output_type": "execute_result",
          "data": {
            "text/plain": [
              "(20796, 5)"
            ]
          },
          "metadata": {
            "tags": []
          },
          "execution_count": 32
        }
      ]
    },
    {
      "cell_type": "markdown",
      "metadata": {
        "id": "cIcEdMIlUMIF",
        "colab_type": "text"
      },
      "source": [
        "There are 20,796 rows and 5 columns.\n",
        "\n",
        "A useful method that generates various summary statistics is `.describe()`."
      ]
    },
    {
      "cell_type": "code",
      "metadata": {
        "id": "2Lq0OEWRUMIG",
        "colab_type": "code",
        "outputId": "04de3178-c48f-4db8-9680-ccba048d415c",
        "colab": {
          "base_uri": "https://localhost:8080/",
          "height": 297
        }
      },
      "source": [
        "unemployment.describe()"
      ],
      "execution_count": 33,
      "outputs": [
        {
          "output_type": "execute_result",
          "data": {
            "text/html": [
              "<div>\n",
              "<style scoped>\n",
              "    .dataframe tbody tr th:only-of-type {\n",
              "        vertical-align: middle;\n",
              "    }\n",
              "\n",
              "    .dataframe tbody tr th {\n",
              "        vertical-align: top;\n",
              "    }\n",
              "\n",
              "    .dataframe thead th {\n",
              "        text-align: right;\n",
              "    }\n",
              "</style>\n",
              "<table border=\"1\" class=\"dataframe\">\n",
              "  <thead>\n",
              "    <tr style=\"text-align: right;\">\n",
              "      <th></th>\n",
              "      <th>month</th>\n",
              "      <th>unemployment</th>\n",
              "      <th>unemployment_rate</th>\n",
              "    </tr>\n",
              "  </thead>\n",
              "  <tbody>\n",
              "    <tr>\n",
              "      <th>count</th>\n",
              "      <td>20796.000000</td>\n",
              "      <td>2.079600e+04</td>\n",
              "      <td>19851.000000</td>\n",
              "    </tr>\n",
              "    <tr>\n",
              "      <th>mean</th>\n",
              "      <td>1999.401290</td>\n",
              "      <td>7.900818e+05</td>\n",
              "      <td>8.179764</td>\n",
              "    </tr>\n",
              "    <tr>\n",
              "      <th>std</th>\n",
              "      <td>7.483751</td>\n",
              "      <td>1.015280e+06</td>\n",
              "      <td>3.922533</td>\n",
              "    </tr>\n",
              "    <tr>\n",
              "      <th>min</th>\n",
              "      <td>1983.010000</td>\n",
              "      <td>2.000000e+03</td>\n",
              "      <td>1.100000</td>\n",
              "    </tr>\n",
              "    <tr>\n",
              "      <th>25%</th>\n",
              "      <td>1994.090000</td>\n",
              "      <td>1.400000e+05</td>\n",
              "      <td>5.200000</td>\n",
              "    </tr>\n",
              "    <tr>\n",
              "      <th>50%</th>\n",
              "      <td>2001.010000</td>\n",
              "      <td>3.100000e+05</td>\n",
              "      <td>7.600000</td>\n",
              "    </tr>\n",
              "    <tr>\n",
              "      <th>75%</th>\n",
              "      <td>2006.010000</td>\n",
              "      <td>1.262250e+06</td>\n",
              "      <td>10.000000</td>\n",
              "    </tr>\n",
              "    <tr>\n",
              "      <th>max</th>\n",
              "      <td>2010.120000</td>\n",
              "      <td>4.773000e+06</td>\n",
              "      <td>20.900000</td>\n",
              "    </tr>\n",
              "  </tbody>\n",
              "</table>\n",
              "</div>"
            ],
            "text/plain": [
              "              month  unemployment  unemployment_rate\n",
              "count  20796.000000  2.079600e+04       19851.000000\n",
              "mean    1999.401290  7.900818e+05           8.179764\n",
              "std        7.483751  1.015280e+06           3.922533\n",
              "min     1983.010000  2.000000e+03           1.100000\n",
              "25%     1994.090000  1.400000e+05           5.200000\n",
              "50%     2001.010000  3.100000e+05           7.600000\n",
              "75%     2006.010000  1.262250e+06          10.000000\n",
              "max     2010.120000  4.773000e+06          20.900000"
            ]
          },
          "metadata": {
            "tags": []
          },
          "execution_count": 33
        }
      ]
    },
    {
      "cell_type": "markdown",
      "metadata": {
        "id": "q8Uv02LwUMIK",
        "colab_type": "text"
      },
      "source": [
        "You may have noticed that the \"count\" is lower for the unemployment rate. This is because the summary statistics are based on *non-missing* values and count reflects that.\n",
        "\n",
        "The values depend on what it's called on. If the `DataFrame` includes both numeric and object (e.g., strings) `dtype`s, it will default to summarizing the numeric data. If `.describe()` is called on strings, for example, it will return the count, number of unique values, and the most frequent value along with its count."
      ]
    },
    {
      "cell_type": "markdown",
      "metadata": {
        "id": "1xmPBIyNUMIL",
        "colab_type": "text"
      },
      "source": [
        "### Challenge 1: Import Data From A URL\n",
        "\n",
        "Above, we imported the unemployment data using the `read_csv` function and a relative file path. `read_csv` is [a very flexible method](https://pandas.pydata.org/pandas-docs/version/0.23/generated/pandas.read_csv.html); it also allows us to import data using a URL as the file path. \n",
        "\n",
        "A csv file with data on world countries and their abbreviations is located at [https://raw.githubusercontent.com/dlab-berkeley/introduction-to-pandas/master/data/countries.csv](https://raw.githubusercontent.com/dlab-berkeley/introduction-to-pandas/master/data/countries.csv) (saved as a string variable `countries_url` below).\n",
        "\n",
        "Using `read_csv`, import the country data and save it to the variable `countries`."
      ]
    },
    {
      "cell_type": "code",
      "metadata": {
        "id": "2s8_feeeUMIM",
        "colab_type": "code",
        "colab": {}
      },
      "source": [
        "countries_url = 'https://raw.githubusercontent.com/dlab-berkeley/introduction-to-pandas/master/data/countries.csv'\n",
        "#countries = ...\n",
        "countries = pd.read_csv(countries_url) "
      ],
      "execution_count": 0,
      "outputs": []
    },
    {
      "cell_type": "markdown",
      "metadata": {
        "id": "lsIV2uq-UMIQ",
        "colab_type": "text"
      },
      "source": [
        "### Challenge 2: The `tail` method\n",
        "\n",
        "DataFrames all have a method called `tail` that takes an integer as an argument and returns a new DataFrame. Before using `tail`, can you guess at what it does? Try using `tail`; was your guess correct?"
      ]
    },
    {
      "cell_type": "code",
      "metadata": {
        "id": "7P8bWxXVUMIR",
        "colab_type": "code",
        "colab": {}
      },
      "source": [
        "# use the tail method on either the unemployment or countries dataframe"
      ],
      "execution_count": 0,
      "outputs": []
    },
    {
      "cell_type": "code",
      "metadata": {
        "id": "UovQl7zzWnBh",
        "colab_type": "code",
        "outputId": "016ca2dc-8164-4edc-a87f-a8da3b40645a",
        "colab": {
          "base_uri": "https://localhost:8080/",
          "height": 204
        }
      },
      "source": [
        "countries.tail()"
      ],
      "execution_count": 35,
      "outputs": [
        {
          "output_type": "execute_result",
          "data": {
            "text/html": [
              "<div>\n",
              "<style scoped>\n",
              "    .dataframe tbody tr th:only-of-type {\n",
              "        vertical-align: middle;\n",
              "    }\n",
              "\n",
              "    .dataframe tbody tr th {\n",
              "        vertical-align: top;\n",
              "    }\n",
              "\n",
              "    .dataframe thead th {\n",
              "        text-align: right;\n",
              "    }\n",
              "</style>\n",
              "<table border=\"1\" class=\"dataframe\">\n",
              "  <thead>\n",
              "    <tr style=\"text-align: right;\">\n",
              "      <th></th>\n",
              "      <th>country</th>\n",
              "      <th>google_country_code</th>\n",
              "      <th>country_group</th>\n",
              "      <th>name_en</th>\n",
              "      <th>name_fr</th>\n",
              "      <th>name_de</th>\n",
              "      <th>latitude</th>\n",
              "      <th>longitude</th>\n",
              "    </tr>\n",
              "  </thead>\n",
              "  <tbody>\n",
              "    <tr>\n",
              "      <th>25</th>\n",
              "      <td>si</td>\n",
              "      <td>SI</td>\n",
              "      <td>eu</td>\n",
              "      <td>Slovenia</td>\n",
              "      <td>Slovénie</td>\n",
              "      <td>Slowenien</td>\n",
              "      <td>46.149259</td>\n",
              "      <td>14.986617</td>\n",
              "    </tr>\n",
              "    <tr>\n",
              "      <th>26</th>\n",
              "      <td>es</td>\n",
              "      <td>ES</td>\n",
              "      <td>eu</td>\n",
              "      <td>Spain</td>\n",
              "      <td>Espagne</td>\n",
              "      <td>Spanien</td>\n",
              "      <td>39.895013</td>\n",
              "      <td>-2.988296</td>\n",
              "    </tr>\n",
              "    <tr>\n",
              "      <th>27</th>\n",
              "      <td>se</td>\n",
              "      <td>SE</td>\n",
              "      <td>eu</td>\n",
              "      <td>Sweden</td>\n",
              "      <td>Suède</td>\n",
              "      <td>Schweden</td>\n",
              "      <td>62.198468</td>\n",
              "      <td>14.896307</td>\n",
              "    </tr>\n",
              "    <tr>\n",
              "      <th>28</th>\n",
              "      <td>tr</td>\n",
              "      <td>TR</td>\n",
              "      <td>non-eu</td>\n",
              "      <td>Turkey</td>\n",
              "      <td>Turquie</td>\n",
              "      <td>Türkei</td>\n",
              "      <td>38.952942</td>\n",
              "      <td>35.439795</td>\n",
              "    </tr>\n",
              "    <tr>\n",
              "      <th>29</th>\n",
              "      <td>uk</td>\n",
              "      <td>GB</td>\n",
              "      <td>eu</td>\n",
              "      <td>United Kingdom</td>\n",
              "      <td>Royaume-Uni</td>\n",
              "      <td>Vereinigtes Königreich</td>\n",
              "      <td>54.315447</td>\n",
              "      <td>-2.232612</td>\n",
              "    </tr>\n",
              "  </tbody>\n",
              "</table>\n",
              "</div>"
            ],
            "text/plain": [
              "   country google_country_code  ...   latitude  longitude\n",
              "25      si                  SI  ...  46.149259  14.986617\n",
              "26      es                  ES  ...  39.895013  -2.988296\n",
              "27      se                  SE  ...  62.198468  14.896307\n",
              "28      tr                  TR  ...  38.952942  35.439795\n",
              "29      uk                  GB  ...  54.315447  -2.232612\n",
              "\n",
              "[5 rows x 8 columns]"
            ]
          },
          "metadata": {
            "tags": []
          },
          "execution_count": 35
        }
      ]
    },
    {
      "cell_type": "markdown",
      "metadata": {
        "id": "H0_zANt_UMIV",
        "colab_type": "text"
      },
      "source": [
        "### Challenge 3: Describe `countries`\n",
        "\n",
        "It's important to understand a few fundamentals about your data before you start work with it, including what information it contains, how large it is, and how the values are generally distributed.\n",
        "\n",
        "Using the methods and attributes above, answer the following questions about `countries`:\n",
        "* what columns does it contain?\n",
        "* what does each row stand for?\n",
        "* how many rows and columns does it contain?\n",
        "* are there any missing values in the latitude or longitude columns? \n",
        "\n",
        "Hint: the `head` and `describe` functions, as well as the `shape` attribute, will be helpful here."
      ]
    },
    {
      "cell_type": "code",
      "metadata": {
        "id": "7ElWduwSUMIW",
        "colab_type": "code",
        "colab": {}
      },
      "source": [
        ""
      ],
      "execution_count": 0,
      "outputs": []
    },
    {
      "cell_type": "markdown",
      "metadata": {
        "id": "ehr37nQNUMIZ",
        "colab_type": "text"
      },
      "source": [
        "**YOUR ANSWER HERE ** \n"
      ]
    },
    {
      "cell_type": "code",
      "metadata": {
        "id": "HTfWGL2rWqTQ",
        "colab_type": "code",
        "outputId": "de37b093-dace-482b-bf2c-60a324eab19c",
        "colab": {
          "base_uri": "https://localhost:8080/",
          "height": 297
        }
      },
      "source": [
        "countries.describe()"
      ],
      "execution_count": 36,
      "outputs": [
        {
          "output_type": "execute_result",
          "data": {
            "text/html": [
              "<div>\n",
              "<style scoped>\n",
              "    .dataframe tbody tr th:only-of-type {\n",
              "        vertical-align: middle;\n",
              "    }\n",
              "\n",
              "    .dataframe tbody tr th {\n",
              "        vertical-align: top;\n",
              "    }\n",
              "\n",
              "    .dataframe thead th {\n",
              "        text-align: right;\n",
              "    }\n",
              "</style>\n",
              "<table border=\"1\" class=\"dataframe\">\n",
              "  <thead>\n",
              "    <tr style=\"text-align: right;\">\n",
              "      <th></th>\n",
              "      <th>latitude</th>\n",
              "      <th>longitude</th>\n",
              "    </tr>\n",
              "  </thead>\n",
              "  <tbody>\n",
              "    <tr>\n",
              "      <th>count</th>\n",
              "      <td>30.000000</td>\n",
              "      <td>30.000000</td>\n",
              "    </tr>\n",
              "    <tr>\n",
              "      <th>mean</th>\n",
              "      <td>49.092609</td>\n",
              "      <td>14.324579</td>\n",
              "    </tr>\n",
              "    <tr>\n",
              "      <th>std</th>\n",
              "      <td>7.956624</td>\n",
              "      <td>11.257010</td>\n",
              "    </tr>\n",
              "    <tr>\n",
              "      <th>min</th>\n",
              "      <td>35.129141</td>\n",
              "      <td>-8.239122</td>\n",
              "    </tr>\n",
              "    <tr>\n",
              "      <th>25%</th>\n",
              "      <td>43.230916</td>\n",
              "      <td>6.979186</td>\n",
              "    </tr>\n",
              "    <tr>\n",
              "      <th>50%</th>\n",
              "      <td>49.238087</td>\n",
              "      <td>14.941462</td>\n",
              "    </tr>\n",
              "    <tr>\n",
              "      <th>75%</th>\n",
              "      <td>54.090400</td>\n",
              "      <td>23.351690</td>\n",
              "    </tr>\n",
              "    <tr>\n",
              "      <th>max</th>\n",
              "      <td>64.950159</td>\n",
              "      <td>35.439795</td>\n",
              "    </tr>\n",
              "  </tbody>\n",
              "</table>\n",
              "</div>"
            ],
            "text/plain": [
              "        latitude  longitude\n",
              "count  30.000000  30.000000\n",
              "mean   49.092609  14.324579\n",
              "std     7.956624  11.257010\n",
              "min    35.129141  -8.239122\n",
              "25%    43.230916   6.979186\n",
              "50%    49.238087  14.941462\n",
              "75%    54.090400  23.351690\n",
              "max    64.950159  35.439795"
            ]
          },
          "metadata": {
            "tags": []
          },
          "execution_count": 36
        }
      ]
    },
    {
      "cell_type": "code",
      "metadata": {
        "id": "s91P9CLYW09R",
        "colab_type": "code",
        "outputId": "481f09fb-a1c0-435e-dd5d-9fc309629993",
        "colab": {
          "base_uri": "https://localhost:8080/",
          "height": 34
        }
      },
      "source": [
        "countries.shape"
      ],
      "execution_count": 37,
      "outputs": [
        {
          "output_type": "execute_result",
          "data": {
            "text/plain": [
              "(30, 8)"
            ]
          },
          "metadata": {
            "tags": []
          },
          "execution_count": 37
        }
      ]
    },
    {
      "cell_type": "markdown",
      "metadata": {
        "id": "oqqixsarW4f-",
        "colab_type": "text"
      },
      "source": [
        "The countries dataset has 8 columns and 30 rows."
      ]
    },
    {
      "cell_type": "code",
      "metadata": {
        "id": "YlAM_hqGW9ai",
        "colab_type": "code",
        "colab": {}
      },
      "source": [
        ""
      ],
      "execution_count": 0,
      "outputs": []
    },
    {
      "cell_type": "markdown",
      "metadata": {
        "id": "YZSITtYcUMIa",
        "colab_type": "text"
      },
      "source": [
        "## 2. Rename, Index, and Slice <a id=\"section2\"/>\n",
        "Back to the entire unemployment data set. You may have noticed that the `month` column also includes the year. Let's go ahead and rename it."
      ]
    },
    {
      "cell_type": "code",
      "metadata": {
        "id": "2aDWrS0XUMIb",
        "colab_type": "code",
        "colab": {}
      },
      "source": [
        "unemployment.rename(columns={'month' : 'year_month'}, inplace=True)"
      ],
      "execution_count": 0,
      "outputs": []
    },
    {
      "cell_type": "markdown",
      "metadata": {
        "id": "ICVcaLXuUMId",
        "colab_type": "text"
      },
      "source": [
        "The `.rename()` method allows you to modify index labels and/or column names. As you can see, we passed a `dict` to the `columns` parameter, with the original name as the key and the new name as the value. Importantly, we also set the `inplace` parameter to `True`, which modifies the *actual* `DataFrame`, not a copy of it.\n",
        "\n",
        "It might also make sense to separate the data in `year_month` into two separate columns. To do this, you'll need to know how to select a single column. We can either use bracket (`[]`) or dot notation (referred to as *attribute access*)."
      ]
    },
    {
      "cell_type": "code",
      "metadata": {
        "id": "8jr3aSp1UMIe",
        "colab_type": "code",
        "colab": {
          "base_uri": "https://localhost:8080/",
          "height": 119
        },
        "outputId": "e166b109-6c43-4b03-e46f-d10b23975a61"
      },
      "source": [
        "unemployment['year_month'].head()"
      ],
      "execution_count": 27,
      "outputs": [
        {
          "output_type": "execute_result",
          "data": {
            "text/plain": [
              "0    1993.01\n",
              "1    1993.02\n",
              "2    1993.03\n",
              "3    1993.04\n",
              "4    1993.05\n",
              "Name: year_month, dtype: float64"
            ]
          },
          "metadata": {
            "tags": []
          },
          "execution_count": 27
        }
      ]
    },
    {
      "cell_type": "code",
      "metadata": {
        "id": "3WYK0HM2UMIi",
        "colab_type": "code",
        "colab": {
          "base_uri": "https://localhost:8080/",
          "height": 119
        },
        "outputId": "def0e7b9-72ef-46f4-f79e-996317262bd7"
      },
      "source": [
        "unemployment.year_month.head()"
      ],
      "execution_count": 17,
      "outputs": [
        {
          "output_type": "execute_result",
          "data": {
            "text/plain": [
              "0    1993.01\n",
              "1    1993.02\n",
              "2    1993.03\n",
              "3    1993.04\n",
              "4    1993.05\n",
              "Name: year_month, dtype: float64"
            ]
          },
          "metadata": {
            "tags": []
          },
          "execution_count": 17
        }
      ]
    },
    {
      "cell_type": "code",
      "metadata": {
        "id": "TGqsmnN5riRv",
        "colab_type": "code",
        "colab": {}
      },
      "source": [
        ""
      ],
      "execution_count": 0,
      "outputs": []
    },
    {
      "cell_type": "code",
      "metadata": {
        "id": "ctXWkmvDuy4n",
        "colab_type": "code",
        "colab": {}
      },
      "source": [
        ""
      ],
      "execution_count": 0,
      "outputs": []
    },
    {
      "cell_type": "markdown",
      "metadata": {
        "id": "H__3SPOOUMIm",
        "colab_type": "text"
      },
      "source": [
        "It is preferrable to use the bracket notation as a column name might inadvertently have the same name as a `DataFrame` (or `Series`) method. In addition, only bracket notation can be used to create a new column. If you try and use attribute access to create a new column, you'll create a new attribute, *not* a new column.\n",
        "\n",
        "When selecting a single column, we have a `pandas` `Series` object, which is a single vector of data (e.g., a NumPy array) with \"an associated array of data labels, called its *index*.\" A `DataFrame` also has an index. In our example, the indices are an array of sequential integers, which is the default. You can find them in the left-most position, without a column label.\n",
        "\n",
        "Indices need not be a sequence of integers. They can, for example, be dates or strings. Note that indices do *not* need to be unique.\n",
        "\n",
        "Indices, like column names, can be used to select data. Indices can be used to select particular rows. In fact, you can do something like `.head()` with slicing using the `[]` operator."
      ]
    },
    {
      "cell_type": "code",
      "metadata": {
        "id": "LMgeLHSIUMIo",
        "colab_type": "code",
        "colab": {
          "base_uri": "https://localhost:8080/",
          "height": 204
        },
        "outputId": "3f3fea9d-9364-458a-d8f1-d52bd5a7eba2"
      },
      "source": [
        "unemployment[:5]"
      ],
      "execution_count": 19,
      "outputs": [
        {
          "output_type": "execute_result",
          "data": {
            "text/html": [
              "<div>\n",
              "<style scoped>\n",
              "    .dataframe tbody tr th:only-of-type {\n",
              "        vertical-align: middle;\n",
              "    }\n",
              "\n",
              "    .dataframe tbody tr th {\n",
              "        vertical-align: top;\n",
              "    }\n",
              "\n",
              "    .dataframe thead th {\n",
              "        text-align: right;\n",
              "    }\n",
              "</style>\n",
              "<table border=\"1\" class=\"dataframe\">\n",
              "  <thead>\n",
              "    <tr style=\"text-align: right;\">\n",
              "      <th></th>\n",
              "      <th>country</th>\n",
              "      <th>seasonality</th>\n",
              "      <th>year_month</th>\n",
              "      <th>unemployment</th>\n",
              "      <th>unemployment_rate</th>\n",
              "    </tr>\n",
              "  </thead>\n",
              "  <tbody>\n",
              "    <tr>\n",
              "      <th>0</th>\n",
              "      <td>at</td>\n",
              "      <td>nsa</td>\n",
              "      <td>1993.01</td>\n",
              "      <td>171000</td>\n",
              "      <td>4.5</td>\n",
              "    </tr>\n",
              "    <tr>\n",
              "      <th>1</th>\n",
              "      <td>at</td>\n",
              "      <td>nsa</td>\n",
              "      <td>1993.02</td>\n",
              "      <td>175000</td>\n",
              "      <td>4.6</td>\n",
              "    </tr>\n",
              "    <tr>\n",
              "      <th>2</th>\n",
              "      <td>at</td>\n",
              "      <td>nsa</td>\n",
              "      <td>1993.03</td>\n",
              "      <td>166000</td>\n",
              "      <td>4.4</td>\n",
              "    </tr>\n",
              "    <tr>\n",
              "      <th>3</th>\n",
              "      <td>at</td>\n",
              "      <td>nsa</td>\n",
              "      <td>1993.04</td>\n",
              "      <td>157000</td>\n",
              "      <td>4.1</td>\n",
              "    </tr>\n",
              "    <tr>\n",
              "      <th>4</th>\n",
              "      <td>at</td>\n",
              "      <td>nsa</td>\n",
              "      <td>1993.05</td>\n",
              "      <td>147000</td>\n",
              "      <td>3.9</td>\n",
              "    </tr>\n",
              "  </tbody>\n",
              "</table>\n",
              "</div>"
            ],
            "text/plain": [
              "  country seasonality  year_month  unemployment  unemployment_rate\n",
              "0      at         nsa     1993.01        171000                4.5\n",
              "1      at         nsa     1993.02        175000                4.6\n",
              "2      at         nsa     1993.03        166000                4.4\n",
              "3      at         nsa     1993.04        157000                4.1\n",
              "4      at         nsa     1993.05        147000                3.9"
            ]
          },
          "metadata": {
            "tags": []
          },
          "execution_count": 19
        }
      ]
    },
    {
      "cell_type": "markdown",
      "metadata": {
        "id": "dphYp_UrUMIv",
        "colab_type": "text"
      },
      "source": [
        "Before we continue, let's look at a few useful ways to index data&mdash;that is, select rows.\n",
        "\n",
        "`.loc` primarily works with string labels. It accepts a single label, a list (or array) of labels, or a slice of labels (e.g., `'a' : 'f'`).\n",
        "\n",
        "Let's create a `DataFrame` to see how this works. (This is based on an [example](https://github.com/fonnesbeck/scipy2015_tutorial/blob/master/notebooks/1.%20Data%20Preparation.ipynb) from Chris Fonnesbeck's [Computational Statistics II Tutorial](https://github.com/fonnesbeck/scipy2015_tutorial).)"
      ]
    },
    {
      "cell_type": "code",
      "metadata": {
        "id": "FHSR4MPoUMIw",
        "colab_type": "code",
        "colab": {}
      },
      "source": [
        "bacteria = pd.DataFrame({'bacteria_counts' : [632, 1638, 569, 115],\n",
        "                         'other_feature' : [438, 833, 234, 298]},\n",
        "                         index=['Firmicutes', 'Proteobacteria', 'Actinobacteria', 'Bacteroidetes'])"
      ],
      "execution_count": 0,
      "outputs": []
    },
    {
      "cell_type": "markdown",
      "metadata": {
        "id": "nD46WA-bUMIz",
        "colab_type": "text"
      },
      "source": [
        "Notice that we pass in a `dict`, where the keys correspond to column names and the values to the data. In this example, we've also set the indices&mdash;strings in this case&mdash;to be the taxon of each bacterium."
      ]
    },
    {
      "cell_type": "code",
      "metadata": {
        "id": "5wfA1pYMUMI0",
        "colab_type": "code",
        "colab": {
          "base_uri": "https://localhost:8080/",
          "height": 173
        },
        "outputId": "b91988f7-74b3-49ce-b337-99b4b1f751e1"
      },
      "source": [
        "bacteria"
      ],
      "execution_count": 55,
      "outputs": [
        {
          "output_type": "execute_result",
          "data": {
            "text/html": [
              "<div>\n",
              "<style scoped>\n",
              "    .dataframe tbody tr th:only-of-type {\n",
              "        vertical-align: middle;\n",
              "    }\n",
              "\n",
              "    .dataframe tbody tr th {\n",
              "        vertical-align: top;\n",
              "    }\n",
              "\n",
              "    .dataframe thead th {\n",
              "        text-align: right;\n",
              "    }\n",
              "</style>\n",
              "<table border=\"1\" class=\"dataframe\">\n",
              "  <thead>\n",
              "    <tr style=\"text-align: right;\">\n",
              "      <th></th>\n",
              "      <th>bacteria_counts</th>\n",
              "      <th>other_feature</th>\n",
              "    </tr>\n",
              "  </thead>\n",
              "  <tbody>\n",
              "    <tr>\n",
              "      <th>Firmicutes</th>\n",
              "      <td>632</td>\n",
              "      <td>438</td>\n",
              "    </tr>\n",
              "    <tr>\n",
              "      <th>Proteobacteria</th>\n",
              "      <td>1638</td>\n",
              "      <td>833</td>\n",
              "    </tr>\n",
              "    <tr>\n",
              "      <th>Actinobacteria</th>\n",
              "      <td>569</td>\n",
              "      <td>234</td>\n",
              "    </tr>\n",
              "    <tr>\n",
              "      <th>Bacteroidetes</th>\n",
              "      <td>115</td>\n",
              "      <td>298</td>\n",
              "    </tr>\n",
              "  </tbody>\n",
              "</table>\n",
              "</div>"
            ],
            "text/plain": [
              "                bacteria_counts  other_feature\n",
              "Firmicutes                  632            438\n",
              "Proteobacteria             1638            833\n",
              "Actinobacteria              569            234\n",
              "Bacteroidetes               115            298"
            ]
          },
          "metadata": {
            "tags": []
          },
          "execution_count": 55
        }
      ]
    },
    {
      "cell_type": "markdown",
      "metadata": {
        "id": "553Qvwq2UMI2",
        "colab_type": "text"
      },
      "source": [
        "Now, if we're interested in the values (row) associated with \"Actinobacteria,\" we can use `.loc` and the index name."
      ]
    },
    {
      "cell_type": "code",
      "metadata": {
        "id": "Ow6edL84UMI3",
        "colab_type": "code",
        "colab": {
          "base_uri": "https://localhost:8080/",
          "height": 68
        },
        "outputId": "3ef3e73e-552b-4d8b-f203-a02b4d0aae4e"
      },
      "source": [
        "bacteria.loc['Actinobacteria']"
      ],
      "execution_count": 56,
      "outputs": [
        {
          "output_type": "execute_result",
          "data": {
            "text/plain": [
              "bacteria_counts    569\n",
              "other_feature      234\n",
              "Name: Actinobacteria, dtype: int64"
            ]
          },
          "metadata": {
            "tags": []
          },
          "execution_count": 56
        }
      ]
    },
    {
      "cell_type": "markdown",
      "metadata": {
        "id": "JwL6pD-lUMI7",
        "colab_type": "text"
      },
      "source": [
        "This returns the column values for the specified row. Interestingly, we could have also used \"positional indexing,\" even though the indices are strings."
      ]
    },
    {
      "cell_type": "code",
      "metadata": {
        "id": "YpSOqcHDUMI8",
        "colab_type": "code",
        "colab": {
          "base_uri": "https://localhost:8080/",
          "height": 80
        },
        "outputId": "572c6036-a4ff-4689-e0a8-9b230ad4fb54"
      },
      "source": [
        "bacteria[2:3]"
      ],
      "execution_count": 57,
      "outputs": [
        {
          "output_type": "execute_result",
          "data": {
            "text/html": [
              "<div>\n",
              "<style scoped>\n",
              "    .dataframe tbody tr th:only-of-type {\n",
              "        vertical-align: middle;\n",
              "    }\n",
              "\n",
              "    .dataframe tbody tr th {\n",
              "        vertical-align: top;\n",
              "    }\n",
              "\n",
              "    .dataframe thead th {\n",
              "        text-align: right;\n",
              "    }\n",
              "</style>\n",
              "<table border=\"1\" class=\"dataframe\">\n",
              "  <thead>\n",
              "    <tr style=\"text-align: right;\">\n",
              "      <th></th>\n",
              "      <th>bacteria_counts</th>\n",
              "      <th>other_feature</th>\n",
              "    </tr>\n",
              "  </thead>\n",
              "  <tbody>\n",
              "    <tr>\n",
              "      <th>Actinobacteria</th>\n",
              "      <td>569</td>\n",
              "      <td>234</td>\n",
              "    </tr>\n",
              "  </tbody>\n",
              "</table>\n",
              "</div>"
            ],
            "text/plain": [
              "                bacteria_counts  other_feature\n",
              "Actinobacteria              569            234"
            ]
          },
          "metadata": {
            "tags": []
          },
          "execution_count": 57
        }
      ]
    },
    {
      "cell_type": "markdown",
      "metadata": {
        "id": "MbUSMiDZUMI-",
        "colab_type": "text"
      },
      "source": [
        "The difference is that the former returns a `Series` because we selected a single lable, while the latter returns a `DataFrame` because we selected a range of positions.\n",
        "\n",
        "Let's return to our unemployment data. Another indexing option, `.iloc`, primarily works with integer positions. To select specific rows, we can do the following."
      ]
    },
    {
      "cell_type": "code",
      "metadata": {
        "id": "_sX6lac-UMJA",
        "colab_type": "code",
        "colab": {
          "base_uri": "https://localhost:8080/",
          "height": 173
        },
        "outputId": "c9c3ff26-4048-4331-f107-2a8432d15226"
      },
      "source": [
        "unemployment.iloc[[1, 5, 6, 9]]"
      ],
      "execution_count": 58,
      "outputs": [
        {
          "output_type": "execute_result",
          "data": {
            "text/html": [
              "<div>\n",
              "<style scoped>\n",
              "    .dataframe tbody tr th:only-of-type {\n",
              "        vertical-align: middle;\n",
              "    }\n",
              "\n",
              "    .dataframe tbody tr th {\n",
              "        vertical-align: top;\n",
              "    }\n",
              "\n",
              "    .dataframe thead th {\n",
              "        text-align: right;\n",
              "    }\n",
              "</style>\n",
              "<table border=\"1\" class=\"dataframe\">\n",
              "  <thead>\n",
              "    <tr style=\"text-align: right;\">\n",
              "      <th></th>\n",
              "      <th>country</th>\n",
              "      <th>seasonality</th>\n",
              "      <th>year_month</th>\n",
              "      <th>unemployment</th>\n",
              "      <th>unemployment_rate</th>\n",
              "    </tr>\n",
              "  </thead>\n",
              "  <tbody>\n",
              "    <tr>\n",
              "      <th>1</th>\n",
              "      <td>at</td>\n",
              "      <td>nsa</td>\n",
              "      <td>1993.02</td>\n",
              "      <td>175000</td>\n",
              "      <td>4.6</td>\n",
              "    </tr>\n",
              "    <tr>\n",
              "      <th>5</th>\n",
              "      <td>at</td>\n",
              "      <td>nsa</td>\n",
              "      <td>1993.06</td>\n",
              "      <td>134000</td>\n",
              "      <td>3.5</td>\n",
              "    </tr>\n",
              "    <tr>\n",
              "      <th>6</th>\n",
              "      <td>at</td>\n",
              "      <td>nsa</td>\n",
              "      <td>1993.07</td>\n",
              "      <td>128000</td>\n",
              "      <td>3.4</td>\n",
              "    </tr>\n",
              "    <tr>\n",
              "      <th>9</th>\n",
              "      <td>at</td>\n",
              "      <td>nsa</td>\n",
              "      <td>1993.10</td>\n",
              "      <td>141000</td>\n",
              "      <td>3.7</td>\n",
              "    </tr>\n",
              "  </tbody>\n",
              "</table>\n",
              "</div>"
            ],
            "text/plain": [
              "  country seasonality  year_month  unemployment  unemployment_rate\n",
              "1      at         nsa     1993.02        175000                4.6\n",
              "5      at         nsa     1993.06        134000                3.5\n",
              "6      at         nsa     1993.07        128000                3.4\n",
              "9      at         nsa     1993.10        141000                3.7"
            ]
          },
          "metadata": {
            "tags": []
          },
          "execution_count": 58
        }
      ]
    },
    {
      "cell_type": "markdown",
      "metadata": {
        "id": "NV6VJv36UMJC",
        "colab_type": "text"
      },
      "source": [
        "We can select a range of rows and specify the step value."
      ]
    },
    {
      "cell_type": "code",
      "metadata": {
        "id": "a1tpDferUMJD",
        "colab_type": "code",
        "colab": {
          "base_uri": "https://localhost:8080/",
          "height": 204
        },
        "outputId": "c222ffa4-3f1d-4084-96ea-f2c045f5a5a9"
      },
      "source": [
        "unemployment.iloc[25:50:5]"
      ],
      "execution_count": 59,
      "outputs": [
        {
          "output_type": "execute_result",
          "data": {
            "text/html": [
              "<div>\n",
              "<style scoped>\n",
              "    .dataframe tbody tr th:only-of-type {\n",
              "        vertical-align: middle;\n",
              "    }\n",
              "\n",
              "    .dataframe tbody tr th {\n",
              "        vertical-align: top;\n",
              "    }\n",
              "\n",
              "    .dataframe thead th {\n",
              "        text-align: right;\n",
              "    }\n",
              "</style>\n",
              "<table border=\"1\" class=\"dataframe\">\n",
              "  <thead>\n",
              "    <tr style=\"text-align: right;\">\n",
              "      <th></th>\n",
              "      <th>country</th>\n",
              "      <th>seasonality</th>\n",
              "      <th>year_month</th>\n",
              "      <th>unemployment</th>\n",
              "      <th>unemployment_rate</th>\n",
              "    </tr>\n",
              "  </thead>\n",
              "  <tbody>\n",
              "    <tr>\n",
              "      <th>25</th>\n",
              "      <td>at</td>\n",
              "      <td>nsa</td>\n",
              "      <td>1995.02</td>\n",
              "      <td>174000</td>\n",
              "      <td>4.5</td>\n",
              "    </tr>\n",
              "    <tr>\n",
              "      <th>30</th>\n",
              "      <td>at</td>\n",
              "      <td>nsa</td>\n",
              "      <td>1995.07</td>\n",
              "      <td>123000</td>\n",
              "      <td>3.3</td>\n",
              "    </tr>\n",
              "    <tr>\n",
              "      <th>35</th>\n",
              "      <td>at</td>\n",
              "      <td>nsa</td>\n",
              "      <td>1995.12</td>\n",
              "      <td>175000</td>\n",
              "      <td>4.7</td>\n",
              "    </tr>\n",
              "    <tr>\n",
              "      <th>40</th>\n",
              "      <td>at</td>\n",
              "      <td>nsa</td>\n",
              "      <td>1996.05</td>\n",
              "      <td>159000</td>\n",
              "      <td>4.3</td>\n",
              "    </tr>\n",
              "    <tr>\n",
              "      <th>45</th>\n",
              "      <td>at</td>\n",
              "      <td>nsa</td>\n",
              "      <td>1996.10</td>\n",
              "      <td>146000</td>\n",
              "      <td>3.9</td>\n",
              "    </tr>\n",
              "  </tbody>\n",
              "</table>\n",
              "</div>"
            ],
            "text/plain": [
              "   country seasonality  year_month  unemployment  unemployment_rate\n",
              "25      at         nsa     1995.02        174000                4.5\n",
              "30      at         nsa     1995.07        123000                3.3\n",
              "35      at         nsa     1995.12        175000                4.7\n",
              "40      at         nsa     1996.05        159000                4.3\n",
              "45      at         nsa     1996.10        146000                3.9"
            ]
          },
          "metadata": {
            "tags": []
          },
          "execution_count": 59
        }
      ]
    },
    {
      "cell_type": "markdown",
      "metadata": {
        "id": "g8IKN_gZUMJF",
        "colab_type": "text"
      },
      "source": [
        "(Note: As is typical in Python, the end position is not included. Therefore, we don't see the row associated with the index 50.)\n",
        "\n",
        "Indexing is important. You'll use it a lot. Below, we'll show how to index based on data values.\n",
        "\n"
      ]
    },
    {
      "cell_type": "markdown",
      "metadata": {
        "id": "uuotH6YSUMJG",
        "colab_type": "text"
      },
      "source": [
        "### Challenge 4: Renaming `bacteria`\n",
        "\n",
        "The \"other_feature\" column in our `bacteria` table isn't very descriptive. Suppose we know that \"other_feature\" refers to a second set of bacteria count observations. Use the `rename` method to give \"other_feature\" a more descriptive name."
      ]
    },
    {
      "cell_type": "code",
      "metadata": {
        "id": "gn_MCxSNUMJH",
        "colab_type": "code",
        "colab": {}
      },
      "source": [
        "# rename \"other_feature\" in bacteria\n",
        "\n",
        "bacteria.rename(columns={'other_feature' : 'bacteria2'}, inplace=True)\n"
      ],
      "execution_count": 0,
      "outputs": []
    },
    {
      "cell_type": "markdown",
      "metadata": {
        "id": "JolaHLupUMJL",
        "colab_type": "text"
      },
      "source": [
        "### Challenge 5: Indexing to get a specific value\n",
        "\n",
        "Both `loc` and `iloc` can be used to select a particular value if they are given two arguments. The first argument is the name (when using `loc`) or index number (when using `iloc`) of the *row* you want, while the second argument is the name or index number of the *column* you want.\n",
        "\n",
        "Using `loc`, select \"Bacteroidetes\" and \"bacteria_counts\" to get the count of Bacteroidetes.\n",
        "\n",
        "BONUS: how could you do the same task using `iloc`?"
      ]
    },
    {
      "cell_type": "code",
      "metadata": {
        "id": "SLV-SCvjUMJM",
        "colab_type": "code",
        "colab": {
          "base_uri": "https://localhost:8080/",
          "height": 68
        },
        "outputId": "e593cb82-dce2-4df0-f6b9-5c7a1079aa46"
      },
      "source": [
        "bacteria.loc['Bacteroidetes']"
      ],
      "execution_count": 63,
      "outputs": [
        {
          "output_type": "execute_result",
          "data": {
            "text/plain": [
              "bacteria_counts    115\n",
              "bacteria2          298\n",
              "Name: Bacteroidetes, dtype: int64"
            ]
          },
          "metadata": {
            "tags": []
          },
          "execution_count": 63
        }
      ]
    },
    {
      "cell_type": "code",
      "metadata": {
        "id": "GbC4AspGNvr3",
        "colab_type": "code",
        "colab": {
          "base_uri": "https://localhost:8080/",
          "height": 80
        },
        "outputId": "ef38a966-4057-44ca-c8d0-fac3bbc62c8a"
      },
      "source": [
        "bacteria.iloc[3:4]"
      ],
      "execution_count": 64,
      "outputs": [
        {
          "output_type": "execute_result",
          "data": {
            "text/html": [
              "<div>\n",
              "<style scoped>\n",
              "    .dataframe tbody tr th:only-of-type {\n",
              "        vertical-align: middle;\n",
              "    }\n",
              "\n",
              "    .dataframe tbody tr th {\n",
              "        vertical-align: top;\n",
              "    }\n",
              "\n",
              "    .dataframe thead th {\n",
              "        text-align: right;\n",
              "    }\n",
              "</style>\n",
              "<table border=\"1\" class=\"dataframe\">\n",
              "  <thead>\n",
              "    <tr style=\"text-align: right;\">\n",
              "      <th></th>\n",
              "      <th>bacteria_counts</th>\n",
              "      <th>bacteria2</th>\n",
              "    </tr>\n",
              "  </thead>\n",
              "  <tbody>\n",
              "    <tr>\n",
              "      <th>Bacteroidetes</th>\n",
              "      <td>115</td>\n",
              "      <td>298</td>\n",
              "    </tr>\n",
              "  </tbody>\n",
              "</table>\n",
              "</div>"
            ],
            "text/plain": [
              "               bacteria_counts  bacteria2\n",
              "Bacteroidetes              115        298"
            ]
          },
          "metadata": {
            "tags": []
          },
          "execution_count": 64
        }
      ]
    },
    {
      "cell_type": "markdown",
      "metadata": {
        "id": "xGNP4879UMJO",
        "colab_type": "text"
      },
      "source": [
        "### Challenge 6: Indexing multiple rows and columns\n",
        "\n",
        "Both `loc` and `iloc` can be used to select subsets of columns *and* rows at the same time if they are given lists (and/or slices, for `iloc`] as their two arguments. \n",
        "\n",
        "Using `iloc` on the `unemployment` DataFrame, get:\n",
        "* every row starting at row 4 and ending at row 7\n",
        "* the 0th, 2nd, and 3rd columns\n",
        "\n",
        "BONUS: how could you do the same task using `loc`?"
      ]
    },
    {
      "cell_type": "code",
      "metadata": {
        "id": "ZpvCUK3PPpfM",
        "colab_type": "code",
        "colab": {
          "base_uri": "https://localhost:8080/",
          "height": 204
        },
        "outputId": "690a06ef-b6f8-49a3-e2ff-2e12e7e19b47"
      },
      "source": [
        "unemployment.head()"
      ],
      "execution_count": 85,
      "outputs": [
        {
          "output_type": "execute_result",
          "data": {
            "text/html": [
              "<div>\n",
              "<style scoped>\n",
              "    .dataframe tbody tr th:only-of-type {\n",
              "        vertical-align: middle;\n",
              "    }\n",
              "\n",
              "    .dataframe tbody tr th {\n",
              "        vertical-align: top;\n",
              "    }\n",
              "\n",
              "    .dataframe thead th {\n",
              "        text-align: right;\n",
              "    }\n",
              "</style>\n",
              "<table border=\"1\" class=\"dataframe\">\n",
              "  <thead>\n",
              "    <tr style=\"text-align: right;\">\n",
              "      <th></th>\n",
              "      <th>country</th>\n",
              "      <th>seasonality</th>\n",
              "      <th>year_month</th>\n",
              "      <th>unemployment</th>\n",
              "      <th>unemployment_rate</th>\n",
              "    </tr>\n",
              "  </thead>\n",
              "  <tbody>\n",
              "    <tr>\n",
              "      <th>0</th>\n",
              "      <td>at</td>\n",
              "      <td>nsa</td>\n",
              "      <td>1993.01</td>\n",
              "      <td>171000</td>\n",
              "      <td>4.5</td>\n",
              "    </tr>\n",
              "    <tr>\n",
              "      <th>1</th>\n",
              "      <td>at</td>\n",
              "      <td>nsa</td>\n",
              "      <td>1993.02</td>\n",
              "      <td>175000</td>\n",
              "      <td>4.6</td>\n",
              "    </tr>\n",
              "    <tr>\n",
              "      <th>2</th>\n",
              "      <td>at</td>\n",
              "      <td>nsa</td>\n",
              "      <td>1993.03</td>\n",
              "      <td>166000</td>\n",
              "      <td>4.4</td>\n",
              "    </tr>\n",
              "    <tr>\n",
              "      <th>3</th>\n",
              "      <td>at</td>\n",
              "      <td>nsa</td>\n",
              "      <td>1993.04</td>\n",
              "      <td>157000</td>\n",
              "      <td>4.1</td>\n",
              "    </tr>\n",
              "    <tr>\n",
              "      <th>4</th>\n",
              "      <td>at</td>\n",
              "      <td>nsa</td>\n",
              "      <td>1993.05</td>\n",
              "      <td>147000</td>\n",
              "      <td>3.9</td>\n",
              "    </tr>\n",
              "  </tbody>\n",
              "</table>\n",
              "</div>"
            ],
            "text/plain": [
              "  country seasonality  year_month  unemployment  unemployment_rate\n",
              "0      at         nsa     1993.01        171000                4.5\n",
              "1      at         nsa     1993.02        175000                4.6\n",
              "2      at         nsa     1993.03        166000                4.4\n",
              "3      at         nsa     1993.04        157000                4.1\n",
              "4      at         nsa     1993.05        147000                3.9"
            ]
          },
          "metadata": {
            "tags": []
          },
          "execution_count": 85
        }
      ]
    },
    {
      "cell_type": "code",
      "metadata": {
        "id": "K84beSZVWyRk",
        "colab_type": "code",
        "colab": {
          "base_uri": "https://localhost:8080/",
          "height": 173
        },
        "outputId": "940da6ab-1a59-4708-d447-eccca81cbbe8"
      },
      "source": [
        "unemployment.iloc[4:8,[0,2,3]].head()"
      ],
      "execution_count": 87,
      "outputs": [
        {
          "output_type": "execute_result",
          "data": {
            "text/html": [
              "<div>\n",
              "<style scoped>\n",
              "    .dataframe tbody tr th:only-of-type {\n",
              "        vertical-align: middle;\n",
              "    }\n",
              "\n",
              "    .dataframe tbody tr th {\n",
              "        vertical-align: top;\n",
              "    }\n",
              "\n",
              "    .dataframe thead th {\n",
              "        text-align: right;\n",
              "    }\n",
              "</style>\n",
              "<table border=\"1\" class=\"dataframe\">\n",
              "  <thead>\n",
              "    <tr style=\"text-align: right;\">\n",
              "      <th></th>\n",
              "      <th>country</th>\n",
              "      <th>year_month</th>\n",
              "      <th>unemployment</th>\n",
              "    </tr>\n",
              "  </thead>\n",
              "  <tbody>\n",
              "    <tr>\n",
              "      <th>4</th>\n",
              "      <td>at</td>\n",
              "      <td>1993.05</td>\n",
              "      <td>147000</td>\n",
              "    </tr>\n",
              "    <tr>\n",
              "      <th>5</th>\n",
              "      <td>at</td>\n",
              "      <td>1993.06</td>\n",
              "      <td>134000</td>\n",
              "    </tr>\n",
              "    <tr>\n",
              "      <th>6</th>\n",
              "      <td>at</td>\n",
              "      <td>1993.07</td>\n",
              "      <td>128000</td>\n",
              "    </tr>\n",
              "    <tr>\n",
              "      <th>7</th>\n",
              "      <td>at</td>\n",
              "      <td>1993.08</td>\n",
              "      <td>130000</td>\n",
              "    </tr>\n",
              "  </tbody>\n",
              "</table>\n",
              "</div>"
            ],
            "text/plain": [
              "  country  year_month  unemployment\n",
              "4      at     1993.05        147000\n",
              "5      at     1993.06        134000\n",
              "6      at     1993.07        128000\n",
              "7      at     1993.08        130000"
            ]
          },
          "metadata": {
            "tags": []
          },
          "execution_count": 87
        }
      ]
    },
    {
      "cell_type": "code",
      "metadata": {
        "id": "yv62WkCpOkO1",
        "colab_type": "code",
        "colab": {}
      },
      "source": [
        ""
      ],
      "execution_count": 0,
      "outputs": []
    },
    {
      "cell_type": "code",
      "metadata": {
        "id": "_J8Y9mP3UMJP",
        "colab_type": "code",
        "colab": {
          "base_uri": "https://localhost:8080/",
          "height": 102
        },
        "outputId": "27406c9c-3fdf-43c9-93d2-dd8b0e186c1a"
      },
      "source": [
        "unemployment.loc[4:7,['country','year_month','unemployment']].head"
      ],
      "execution_count": 90,
      "outputs": [
        {
          "output_type": "execute_result",
          "data": {
            "text/plain": [
              "<bound method NDFrame.head of   country  year_month  unemployment\n",
              "4      at     1993.05        147000\n",
              "5      at     1993.06        134000\n",
              "6      at     1993.07        128000\n",
              "7      at     1993.08        130000>"
            ]
          },
          "metadata": {
            "tags": []
          },
          "execution_count": 90
        }
      ]
    },
    {
      "cell_type": "markdown",
      "metadata": {
        "id": "mn0LFN4xUMJT",
        "colab_type": "text"
      },
      "source": [
        "## 3. Manipulating Columns: Renaming, Creating, Reordering"
      ]
    },
    {
      "cell_type": "markdown",
      "metadata": {
        "id": "qhToO_FqUMJU",
        "colab_type": "text"
      },
      "source": [
        "So, we still want to **split `year_month` into two separate columns.** Above, we saw that this column is type (technically, `dtype`) `float64`. We'll first extract the year using the `.astype()` method. This allows for type casting&mdash;basically converting from one type to another. We'll then subtract this value from `year_month`&mdash;to get the decimal portion of the value&mdash;and multiply the result by 100 and convert to `int`.\n",
        "\n",
        "For more information on `pandas` `dtype`s, check the documentation [here](http://pandas.pydata.org/pandas-docs/stable/basics.html#dtypes)."
      ]
    },
    {
      "cell_type": "code",
      "metadata": {
        "id": "ZWCdkICiUMJV",
        "colab_type": "code",
        "colab": {}
      },
      "source": [
        "unemployment['year'] = unemployment['year_month'].astype(int)"
      ],
      "execution_count": 0,
      "outputs": []
    },
    {
      "cell_type": "markdown",
      "metadata": {
        "id": "ulV9R-zMUMJZ",
        "colab_type": "text"
      },
      "source": [
        "In this case, we're casting the floating point values to integers. In Python, this [truncates the decimals](https://docs.python.org/2/library/stdtypes.html#numeric-types-int-float-long-complex).\n",
        "\n",
        "Finally, let's create our **month** variable as described above. (Because of the truncating that occurs when casting to `int`, we first round the values to the nearest whole number.)"
      ]
    },
    {
      "cell_type": "code",
      "metadata": {
        "id": "muGC-Jl4UMJZ",
        "colab_type": "code",
        "colab": {}
      },
      "source": [
        "unemployment['month'] = ((unemployment['year_month'] - unemployment['year']) * 100).round(0).astype(int)"
      ],
      "execution_count": 0,
      "outputs": []
    },
    {
      "cell_type": "code",
      "metadata": {
        "id": "R48WV5wKUMJd",
        "colab_type": "code",
        "colab": {
          "base_uri": "https://localhost:8080/",
          "height": 421
        },
        "outputId": "8cf5d368-6544-4287-8355-069731874233"
      },
      "source": [
        "unemployment.head(12)"
      ],
      "execution_count": 96,
      "outputs": [
        {
          "output_type": "execute_result",
          "data": {
            "text/html": [
              "<div>\n",
              "<style scoped>\n",
              "    .dataframe tbody tr th:only-of-type {\n",
              "        vertical-align: middle;\n",
              "    }\n",
              "\n",
              "    .dataframe tbody tr th {\n",
              "        vertical-align: top;\n",
              "    }\n",
              "\n",
              "    .dataframe thead th {\n",
              "        text-align: right;\n",
              "    }\n",
              "</style>\n",
              "<table border=\"1\" class=\"dataframe\">\n",
              "  <thead>\n",
              "    <tr style=\"text-align: right;\">\n",
              "      <th></th>\n",
              "      <th>country</th>\n",
              "      <th>seasonality</th>\n",
              "      <th>year_month</th>\n",
              "      <th>unemployment</th>\n",
              "      <th>unemployment_rate</th>\n",
              "      <th>year</th>\n",
              "      <th>month</th>\n",
              "    </tr>\n",
              "  </thead>\n",
              "  <tbody>\n",
              "    <tr>\n",
              "      <th>0</th>\n",
              "      <td>at</td>\n",
              "      <td>nsa</td>\n",
              "      <td>1993.01</td>\n",
              "      <td>171000</td>\n",
              "      <td>4.5</td>\n",
              "      <td>1993</td>\n",
              "      <td>1</td>\n",
              "    </tr>\n",
              "    <tr>\n",
              "      <th>1</th>\n",
              "      <td>at</td>\n",
              "      <td>nsa</td>\n",
              "      <td>1993.02</td>\n",
              "      <td>175000</td>\n",
              "      <td>4.6</td>\n",
              "      <td>1993</td>\n",
              "      <td>2</td>\n",
              "    </tr>\n",
              "    <tr>\n",
              "      <th>2</th>\n",
              "      <td>at</td>\n",
              "      <td>nsa</td>\n",
              "      <td>1993.03</td>\n",
              "      <td>166000</td>\n",
              "      <td>4.4</td>\n",
              "      <td>1993</td>\n",
              "      <td>3</td>\n",
              "    </tr>\n",
              "    <tr>\n",
              "      <th>3</th>\n",
              "      <td>at</td>\n",
              "      <td>nsa</td>\n",
              "      <td>1993.04</td>\n",
              "      <td>157000</td>\n",
              "      <td>4.1</td>\n",
              "      <td>1993</td>\n",
              "      <td>4</td>\n",
              "    </tr>\n",
              "    <tr>\n",
              "      <th>4</th>\n",
              "      <td>at</td>\n",
              "      <td>nsa</td>\n",
              "      <td>1993.05</td>\n",
              "      <td>147000</td>\n",
              "      <td>3.9</td>\n",
              "      <td>1993</td>\n",
              "      <td>5</td>\n",
              "    </tr>\n",
              "    <tr>\n",
              "      <th>5</th>\n",
              "      <td>at</td>\n",
              "      <td>nsa</td>\n",
              "      <td>1993.06</td>\n",
              "      <td>134000</td>\n",
              "      <td>3.5</td>\n",
              "      <td>1993</td>\n",
              "      <td>6</td>\n",
              "    </tr>\n",
              "    <tr>\n",
              "      <th>6</th>\n",
              "      <td>at</td>\n",
              "      <td>nsa</td>\n",
              "      <td>1993.07</td>\n",
              "      <td>128000</td>\n",
              "      <td>3.4</td>\n",
              "      <td>1993</td>\n",
              "      <td>7</td>\n",
              "    </tr>\n",
              "    <tr>\n",
              "      <th>7</th>\n",
              "      <td>at</td>\n",
              "      <td>nsa</td>\n",
              "      <td>1993.08</td>\n",
              "      <td>130000</td>\n",
              "      <td>3.4</td>\n",
              "      <td>1993</td>\n",
              "      <td>8</td>\n",
              "    </tr>\n",
              "    <tr>\n",
              "      <th>8</th>\n",
              "      <td>at</td>\n",
              "      <td>nsa</td>\n",
              "      <td>1993.09</td>\n",
              "      <td>132000</td>\n",
              "      <td>3.5</td>\n",
              "      <td>1993</td>\n",
              "      <td>9</td>\n",
              "    </tr>\n",
              "    <tr>\n",
              "      <th>9</th>\n",
              "      <td>at</td>\n",
              "      <td>nsa</td>\n",
              "      <td>1993.10</td>\n",
              "      <td>141000</td>\n",
              "      <td>3.7</td>\n",
              "      <td>1993</td>\n",
              "      <td>10</td>\n",
              "    </tr>\n",
              "    <tr>\n",
              "      <th>10</th>\n",
              "      <td>at</td>\n",
              "      <td>nsa</td>\n",
              "      <td>1993.11</td>\n",
              "      <td>156000</td>\n",
              "      <td>4.1</td>\n",
              "      <td>1993</td>\n",
              "      <td>11</td>\n",
              "    </tr>\n",
              "    <tr>\n",
              "      <th>11</th>\n",
              "      <td>at</td>\n",
              "      <td>nsa</td>\n",
              "      <td>1993.12</td>\n",
              "      <td>169000</td>\n",
              "      <td>4.4</td>\n",
              "      <td>1993</td>\n",
              "      <td>12</td>\n",
              "    </tr>\n",
              "  </tbody>\n",
              "</table>\n",
              "</div>"
            ],
            "text/plain": [
              "   country seasonality  year_month  ...  unemployment_rate  year  month\n",
              "0       at         nsa     1993.01  ...                4.5  1993      1\n",
              "1       at         nsa     1993.02  ...                4.6  1993      2\n",
              "2       at         nsa     1993.03  ...                4.4  1993      3\n",
              "3       at         nsa     1993.04  ...                4.1  1993      4\n",
              "4       at         nsa     1993.05  ...                3.9  1993      5\n",
              "5       at         nsa     1993.06  ...                3.5  1993      6\n",
              "6       at         nsa     1993.07  ...                3.4  1993      7\n",
              "7       at         nsa     1993.08  ...                3.4  1993      8\n",
              "8       at         nsa     1993.09  ...                3.5  1993      9\n",
              "9       at         nsa     1993.10  ...                3.7  1993     10\n",
              "10      at         nsa     1993.11  ...                4.1  1993     11\n",
              "11      at         nsa     1993.12  ...                4.4  1993     12\n",
              "\n",
              "[12 rows x 7 columns]"
            ]
          },
          "metadata": {
            "tags": []
          },
          "execution_count": 96
        }
      ]
    },
    {
      "cell_type": "markdown",
      "metadata": {
        "collapsed": true,
        "id": "2_sVDiN7UMJg",
        "colab_type": "text"
      },
      "source": [
        "To create the `month` column, we subtracted two vectors. This resulted in the decimal value in `year_month`. To transform the values to integers, we multiplied by 100.\n",
        "\n",
        "Now, let's say we wanted to **reorder the columns** in the `DataFrame`. For this, we use bracket notation again, passing in a list of column names in the order we'd like to see them."
      ]
    },
    {
      "cell_type": "code",
      "metadata": {
        "id": "fn1QRBLHUMJh",
        "colab_type": "code",
        "colab": {}
      },
      "source": [
        "unemployment = unemployment[['country', 'seasonality',\n",
        "                             'year_month', 'year', 'month',\n",
        "                             'unemployment', 'unemployment_rate']]"
      ],
      "execution_count": 0,
      "outputs": []
    },
    {
      "cell_type": "code",
      "metadata": {
        "id": "lp2Elti0UMJk",
        "colab_type": "code",
        "colab": {
          "base_uri": "https://localhost:8080/",
          "height": 359
        },
        "outputId": "c48f0ada-7dd0-40eb-c0b0-75d5fd2690b7"
      },
      "source": [
        "unemployment.head(10)"
      ],
      "execution_count": 98,
      "outputs": [
        {
          "output_type": "execute_result",
          "data": {
            "text/html": [
              "<div>\n",
              "<style scoped>\n",
              "    .dataframe tbody tr th:only-of-type {\n",
              "        vertical-align: middle;\n",
              "    }\n",
              "\n",
              "    .dataframe tbody tr th {\n",
              "        vertical-align: top;\n",
              "    }\n",
              "\n",
              "    .dataframe thead th {\n",
              "        text-align: right;\n",
              "    }\n",
              "</style>\n",
              "<table border=\"1\" class=\"dataframe\">\n",
              "  <thead>\n",
              "    <tr style=\"text-align: right;\">\n",
              "      <th></th>\n",
              "      <th>country</th>\n",
              "      <th>seasonality</th>\n",
              "      <th>year_month</th>\n",
              "      <th>year</th>\n",
              "      <th>month</th>\n",
              "      <th>unemployment</th>\n",
              "      <th>unemployment_rate</th>\n",
              "    </tr>\n",
              "  </thead>\n",
              "  <tbody>\n",
              "    <tr>\n",
              "      <th>0</th>\n",
              "      <td>at</td>\n",
              "      <td>nsa</td>\n",
              "      <td>1993.01</td>\n",
              "      <td>1993</td>\n",
              "      <td>1</td>\n",
              "      <td>171000</td>\n",
              "      <td>4.5</td>\n",
              "    </tr>\n",
              "    <tr>\n",
              "      <th>1</th>\n",
              "      <td>at</td>\n",
              "      <td>nsa</td>\n",
              "      <td>1993.02</td>\n",
              "      <td>1993</td>\n",
              "      <td>2</td>\n",
              "      <td>175000</td>\n",
              "      <td>4.6</td>\n",
              "    </tr>\n",
              "    <tr>\n",
              "      <th>2</th>\n",
              "      <td>at</td>\n",
              "      <td>nsa</td>\n",
              "      <td>1993.03</td>\n",
              "      <td>1993</td>\n",
              "      <td>3</td>\n",
              "      <td>166000</td>\n",
              "      <td>4.4</td>\n",
              "    </tr>\n",
              "    <tr>\n",
              "      <th>3</th>\n",
              "      <td>at</td>\n",
              "      <td>nsa</td>\n",
              "      <td>1993.04</td>\n",
              "      <td>1993</td>\n",
              "      <td>4</td>\n",
              "      <td>157000</td>\n",
              "      <td>4.1</td>\n",
              "    </tr>\n",
              "    <tr>\n",
              "      <th>4</th>\n",
              "      <td>at</td>\n",
              "      <td>nsa</td>\n",
              "      <td>1993.05</td>\n",
              "      <td>1993</td>\n",
              "      <td>5</td>\n",
              "      <td>147000</td>\n",
              "      <td>3.9</td>\n",
              "    </tr>\n",
              "    <tr>\n",
              "      <th>5</th>\n",
              "      <td>at</td>\n",
              "      <td>nsa</td>\n",
              "      <td>1993.06</td>\n",
              "      <td>1993</td>\n",
              "      <td>6</td>\n",
              "      <td>134000</td>\n",
              "      <td>3.5</td>\n",
              "    </tr>\n",
              "    <tr>\n",
              "      <th>6</th>\n",
              "      <td>at</td>\n",
              "      <td>nsa</td>\n",
              "      <td>1993.07</td>\n",
              "      <td>1993</td>\n",
              "      <td>7</td>\n",
              "      <td>128000</td>\n",
              "      <td>3.4</td>\n",
              "    </tr>\n",
              "    <tr>\n",
              "      <th>7</th>\n",
              "      <td>at</td>\n",
              "      <td>nsa</td>\n",
              "      <td>1993.08</td>\n",
              "      <td>1993</td>\n",
              "      <td>8</td>\n",
              "      <td>130000</td>\n",
              "      <td>3.4</td>\n",
              "    </tr>\n",
              "    <tr>\n",
              "      <th>8</th>\n",
              "      <td>at</td>\n",
              "      <td>nsa</td>\n",
              "      <td>1993.09</td>\n",
              "      <td>1993</td>\n",
              "      <td>9</td>\n",
              "      <td>132000</td>\n",
              "      <td>3.5</td>\n",
              "    </tr>\n",
              "    <tr>\n",
              "      <th>9</th>\n",
              "      <td>at</td>\n",
              "      <td>nsa</td>\n",
              "      <td>1993.10</td>\n",
              "      <td>1993</td>\n",
              "      <td>10</td>\n",
              "      <td>141000</td>\n",
              "      <td>3.7</td>\n",
              "    </tr>\n",
              "  </tbody>\n",
              "</table>\n",
              "</div>"
            ],
            "text/plain": [
              "  country seasonality  year_month  year  month  unemployment  unemployment_rate\n",
              "0      at         nsa     1993.01  1993      1        171000                4.5\n",
              "1      at         nsa     1993.02  1993      2        175000                4.6\n",
              "2      at         nsa     1993.03  1993      3        166000                4.4\n",
              "3      at         nsa     1993.04  1993      4        157000                4.1\n",
              "4      at         nsa     1993.05  1993      5        147000                3.9\n",
              "5      at         nsa     1993.06  1993      6        134000                3.5\n",
              "6      at         nsa     1993.07  1993      7        128000                3.4\n",
              "7      at         nsa     1993.08  1993      8        130000                3.4\n",
              "8      at         nsa     1993.09  1993      9        132000                3.5\n",
              "9      at         nsa     1993.10  1993     10        141000                3.7"
            ]
          },
          "metadata": {
            "tags": []
          },
          "execution_count": 98
        }
      ]
    },
    {
      "cell_type": "markdown",
      "metadata": {
        "id": "y6kZAsXgUMJo",
        "colab_type": "text"
      },
      "source": [
        "### Challenge 7: Another way to get the month\n",
        "\n",
        "If you didn't know that casting floats to ints truncates the decimals in Python, you could have used NumPy's `floor()` function. `np.floor` takes an array or Pandas Series of floats as its argument, and returns an array or Series where every float has been rounded down to the nearest whole number. \n",
        "\n",
        "\n",
        "Use `np.floor` to round the values in the \"year_month\" column down so we can cast them as integer years. Note that the types are still floats, so we'll still need to use `astype` to typecast."
      ]
    },
    {
      "cell_type": "code",
      "metadata": {
        "id": "nWXGIEMoUMJp",
        "colab_type": "code",
        "colab": {
          "base_uri": "https://localhost:8080/",
          "height": 34
        },
        "outputId": "4c3a9acb-799d-432d-eb9d-0333c4ee1943"
      },
      "source": [
        "import numpy as np\n",
        "\n",
        "# select the \"year_month\" column\n",
        "year_month = unemployment.loc[:,'year_month']\n",
        "\n",
        "# use np.floor on year_month to get the years as floats\n",
        "years_by_floor = np.floor(year_month)\n",
        "\n",
        "# cast years_by_floor to integers using astype(int)\n",
        "int_years = years_by_floor.astype(int)\n",
        "\n",
        "# check that this gets the same answers as our first approach\n",
        "# this should return True\n",
        "(unemployment['year_month'].astype(int) == int_years).all()"
      ],
      "execution_count": 109,
      "outputs": [
        {
          "output_type": "execute_result",
          "data": {
            "text/plain": [
              "True"
            ]
          },
          "metadata": {
            "tags": []
          },
          "execution_count": 109
        }
      ]
    },
    {
      "cell_type": "code",
      "metadata": {
        "id": "IV8URwVPSUnM",
        "colab_type": "code",
        "colab": {}
      },
      "source": [
        ""
      ],
      "execution_count": 0,
      "outputs": []
    },
    {
      "cell_type": "markdown",
      "metadata": {
        "id": "08DknwrdUMJs",
        "colab_type": "text"
      },
      "source": [
        "The last line of code in the previous cell does an element-wise comparison of the values in the corresponding arrays. The `.all()` method checks whether *all* elements are `True`."
      ]
    },
    {
      "cell_type": "markdown",
      "metadata": {
        "id": "X9JL4zxAUMJt",
        "colab_type": "text"
      },
      "source": [
        "## 4. Merging"
      ]
    },
    {
      "cell_type": "markdown",
      "metadata": {
        "collapsed": true,
        "id": "WvpOVA7FUMJy",
        "colab_type": "text"
      },
      "source": [
        "So far, our `DataFrame` is organized in a reasonable way. But, we know we can do better. We're eventually going to be interested in the unemployment rate for each country. The trouble is, we don't exactly know what the values in `country` refer to. We can fix that by getting country names. These can be found in `countries.csv`. Run the following cell to import the countries data using a URL as the file path."
      ]
    },
    {
      "cell_type": "code",
      "metadata": {
        "id": "QEvlmVXmUMJz",
        "colab_type": "code",
        "colab": {}
      },
      "source": [
        "countries_url = 'https://raw.githubusercontent.com/dlab-berkeley/introduction-to-pandas/master/data/countries.csv'\n",
        "countries = pd.read_csv(countries_url)"
      ],
      "execution_count": 0,
      "outputs": []
    },
    {
      "cell_type": "code",
      "metadata": {
        "id": "a5Z_hSTiUMJ1",
        "colab_type": "code",
        "colab": {
          "base_uri": "https://localhost:8080/",
          "height": 142
        },
        "outputId": "d39ad687-b65c-4004-937c-284b7e26e2e4"
      },
      "source": [
        "countries.tail(3)"
      ],
      "execution_count": 111,
      "outputs": [
        {
          "output_type": "execute_result",
          "data": {
            "text/html": [
              "<div>\n",
              "<style scoped>\n",
              "    .dataframe tbody tr th:only-of-type {\n",
              "        vertical-align: middle;\n",
              "    }\n",
              "\n",
              "    .dataframe tbody tr th {\n",
              "        vertical-align: top;\n",
              "    }\n",
              "\n",
              "    .dataframe thead th {\n",
              "        text-align: right;\n",
              "    }\n",
              "</style>\n",
              "<table border=\"1\" class=\"dataframe\">\n",
              "  <thead>\n",
              "    <tr style=\"text-align: right;\">\n",
              "      <th></th>\n",
              "      <th>country</th>\n",
              "      <th>google_country_code</th>\n",
              "      <th>country_group</th>\n",
              "      <th>name_en</th>\n",
              "      <th>name_fr</th>\n",
              "      <th>name_de</th>\n",
              "      <th>latitude</th>\n",
              "      <th>longitude</th>\n",
              "    </tr>\n",
              "  </thead>\n",
              "  <tbody>\n",
              "    <tr>\n",
              "      <th>27</th>\n",
              "      <td>se</td>\n",
              "      <td>SE</td>\n",
              "      <td>eu</td>\n",
              "      <td>Sweden</td>\n",
              "      <td>Suède</td>\n",
              "      <td>Schweden</td>\n",
              "      <td>62.198468</td>\n",
              "      <td>14.896307</td>\n",
              "    </tr>\n",
              "    <tr>\n",
              "      <th>28</th>\n",
              "      <td>tr</td>\n",
              "      <td>TR</td>\n",
              "      <td>non-eu</td>\n",
              "      <td>Turkey</td>\n",
              "      <td>Turquie</td>\n",
              "      <td>Türkei</td>\n",
              "      <td>38.952942</td>\n",
              "      <td>35.439795</td>\n",
              "    </tr>\n",
              "    <tr>\n",
              "      <th>29</th>\n",
              "      <td>uk</td>\n",
              "      <td>GB</td>\n",
              "      <td>eu</td>\n",
              "      <td>United Kingdom</td>\n",
              "      <td>Royaume-Uni</td>\n",
              "      <td>Vereinigtes Königreich</td>\n",
              "      <td>54.315447</td>\n",
              "      <td>-2.232612</td>\n",
              "    </tr>\n",
              "  </tbody>\n",
              "</table>\n",
              "</div>"
            ],
            "text/plain": [
              "   country google_country_code  ...   latitude  longitude\n",
              "27      se                  SE  ...  62.198468  14.896307\n",
              "28      tr                  TR  ...  38.952942  35.439795\n",
              "29      uk                  GB  ...  54.315447  -2.232612\n",
              "\n",
              "[3 rows x 8 columns]"
            ]
          },
          "metadata": {
            "tags": []
          },
          "execution_count": 111
        }
      ]
    },
    {
      "cell_type": "markdown",
      "metadata": {
        "id": "YKxjVWxaUMJ3",
        "colab_type": "text"
      },
      "source": [
        "This file has lots of useful information. It even has the country names is three different languages.\n",
        "\n",
        "Because the data we need is stored in two separate files, we'll want to merge the data somehow. Let's determine which column we can use to join this data. `country` looks like a good option. However, we don't need all of the columns in the `countries` `DataFrame`. To select certain columns, we use the name bracket notation we used to reorder the columns."
      ]
    },
    {
      "cell_type": "code",
      "metadata": {
        "id": "Vel5SV5JUMJ4",
        "colab_type": "code",
        "colab": {}
      },
      "source": [
        "country_names = countries[['country', 'country_group', 'name_en']]"
      ],
      "execution_count": 0,
      "outputs": []
    },
    {
      "cell_type": "code",
      "metadata": {
        "id": "pOsOUaBzUMJ7",
        "colab_type": "code",
        "colab": {
          "base_uri": "https://localhost:8080/",
          "height": 111
        },
        "outputId": "a9724311-89dc-48de-aecb-5ed7d5284747"
      },
      "source": [
        "country_names.head(2)"
      ],
      "execution_count": 114,
      "outputs": [
        {
          "output_type": "execute_result",
          "data": {
            "text/html": [
              "<div>\n",
              "<style scoped>\n",
              "    .dataframe tbody tr th:only-of-type {\n",
              "        vertical-align: middle;\n",
              "    }\n",
              "\n",
              "    .dataframe tbody tr th {\n",
              "        vertical-align: top;\n",
              "    }\n",
              "\n",
              "    .dataframe thead th {\n",
              "        text-align: right;\n",
              "    }\n",
              "</style>\n",
              "<table border=\"1\" class=\"dataframe\">\n",
              "  <thead>\n",
              "    <tr style=\"text-align: right;\">\n",
              "      <th></th>\n",
              "      <th>country</th>\n",
              "      <th>country_group</th>\n",
              "      <th>name_en</th>\n",
              "    </tr>\n",
              "  </thead>\n",
              "  <tbody>\n",
              "    <tr>\n",
              "      <th>0</th>\n",
              "      <td>at</td>\n",
              "      <td>eu</td>\n",
              "      <td>Austria</td>\n",
              "    </tr>\n",
              "    <tr>\n",
              "      <th>1</th>\n",
              "      <td>be</td>\n",
              "      <td>eu</td>\n",
              "      <td>Belgium</td>\n",
              "    </tr>\n",
              "  </tbody>\n",
              "</table>\n",
              "</div>"
            ],
            "text/plain": [
              "  country country_group  name_en\n",
              "0      at            eu  Austria\n",
              "1      be            eu  Belgium"
            ]
          },
          "metadata": {
            "tags": []
          },
          "execution_count": 114
        }
      ]
    },
    {
      "cell_type": "markdown",
      "metadata": {
        "id": "WGM3QsceUMKC",
        "colab_type": "text"
      },
      "source": [
        "`pandas` includes an easy-to-use merge function. Let's use it to **merge the two `DataFrame`s on country code.**"
      ]
    },
    {
      "cell_type": "code",
      "metadata": {
        "id": "IKCOE1VWUMKD",
        "colab_type": "code",
        "colab": {}
      },
      "source": [
        "unemployment = pd.merge(unemployment, country_names, on='country')"
      ],
      "execution_count": 0,
      "outputs": []
    },
    {
      "cell_type": "markdown",
      "metadata": {
        "id": "uxNfYiFkUMKG",
        "colab_type": "text"
      },
      "source": [
        "Merging is often more complex than this example. If you want to merge on multiple columns, you can pass a list of column names to the `on` parameter.\n",
        "\n",
        "```\n",
        "pd.merge(first, second, on=['name', 'id'])\n",
        "```\n",
        "\n",
        "For more information on merging, check the [documentation](http://pandas.pydata.org/pandas-docs/stable/merging.html#database-style-dataframe-joining-merging).\n",
        "\n",
        "`pandas` also provides a `.merge()` method that can act on a `DataFrame`. You can read more about that [here](http://pandas.pydata.org/pandas-docs/stable/generated/pandas.DataFrame.merge.html)."
      ]
    },
    {
      "cell_type": "markdown",
      "metadata": {
        "id": "8CZvYxMZUMKH",
        "colab_type": "text"
      },
      "source": [
        "### Challenge 8: \n",
        "\n",
        "You may sometimes need to merge on columns with different names. To do so, use the `left_on` and `right_on` parameters, where the first listed `DataFrame` is the \"left\" one and the second is the \"right.\" It might look something this.\n",
        "\n",
        "```\n",
        "pd.merge(one, two, left_on='city', right_on='city_name')\n",
        "```\n",
        "\n",
        "Suppose wanted to merge `unemployment` with a new DataFrame called `country_codes`, where the abbreviation for each country is in the column \"c_code\":"
      ]
    },
    {
      "cell_type": "code",
      "metadata": {
        "id": "Jz1Rdo9bUMKI",
        "colab_type": "code",
        "colab": {
          "base_uri": "https://localhost:8080/",
          "height": 204
        },
        "outputId": "4d06acca-6fe1-4631-8ec6-6505dea46668"
      },
      "source": [
        "country_codes = country_names.rename({\"country\":\"c_code\"}, axis=1).drop(\"country_group\", axis=1)\n",
        "country_codes.head()"
      ],
      "execution_count": 117,
      "outputs": [
        {
          "output_type": "execute_result",
          "data": {
            "text/html": [
              "<div>\n",
              "<style scoped>\n",
              "    .dataframe tbody tr th:only-of-type {\n",
              "        vertical-align: middle;\n",
              "    }\n",
              "\n",
              "    .dataframe tbody tr th {\n",
              "        vertical-align: top;\n",
              "    }\n",
              "\n",
              "    .dataframe thead th {\n",
              "        text-align: right;\n",
              "    }\n",
              "</style>\n",
              "<table border=\"1\" class=\"dataframe\">\n",
              "  <thead>\n",
              "    <tr style=\"text-align: right;\">\n",
              "      <th></th>\n",
              "      <th>c_code</th>\n",
              "      <th>name_en</th>\n",
              "    </tr>\n",
              "  </thead>\n",
              "  <tbody>\n",
              "    <tr>\n",
              "      <th>0</th>\n",
              "      <td>at</td>\n",
              "      <td>Austria</td>\n",
              "    </tr>\n",
              "    <tr>\n",
              "      <th>1</th>\n",
              "      <td>be</td>\n",
              "      <td>Belgium</td>\n",
              "    </tr>\n",
              "    <tr>\n",
              "      <th>2</th>\n",
              "      <td>bg</td>\n",
              "      <td>Bulgaria</td>\n",
              "    </tr>\n",
              "    <tr>\n",
              "      <th>3</th>\n",
              "      <td>hr</td>\n",
              "      <td>Croatia</td>\n",
              "    </tr>\n",
              "    <tr>\n",
              "      <th>4</th>\n",
              "      <td>cy</td>\n",
              "      <td>Cyprus</td>\n",
              "    </tr>\n",
              "  </tbody>\n",
              "</table>\n",
              "</div>"
            ],
            "text/plain": [
              "  c_code   name_en\n",
              "0     at   Austria\n",
              "1     be   Belgium\n",
              "2     bg  Bulgaria\n",
              "3     hr   Croatia\n",
              "4     cy    Cyprus"
            ]
          },
          "metadata": {
            "tags": []
          },
          "execution_count": 117
        }
      ]
    },
    {
      "cell_type": "markdown",
      "metadata": {
        "id": "teUzEVvSUMKM",
        "colab_type": "text"
      },
      "source": [
        "Use `merge` to merge `unemployment` and `country_codes` on their country codes. Make sure to specify `left_on=` and `right_on=` in the call to `merge`!"
      ]
    },
    {
      "cell_type": "code",
      "metadata": {
        "id": "kDNVzyWuUMKN",
        "colab_type": "code",
        "colab": {
          "base_uri": "https://localhost:8080/",
          "height": 524
        },
        "outputId": "a5b9ba25-4171-4e08-bf67-854ea51e0906"
      },
      "source": [
        "pd.merge(unemployment, country_codes, left_on='country', right_on='c_code')"
      ],
      "execution_count": 118,
      "outputs": [
        {
          "output_type": "execute_result",
          "data": {
            "text/html": [
              "<div>\n",
              "<style scoped>\n",
              "    .dataframe tbody tr th:only-of-type {\n",
              "        vertical-align: middle;\n",
              "    }\n",
              "\n",
              "    .dataframe tbody tr th {\n",
              "        vertical-align: top;\n",
              "    }\n",
              "\n",
              "    .dataframe thead th {\n",
              "        text-align: right;\n",
              "    }\n",
              "</style>\n",
              "<table border=\"1\" class=\"dataframe\">\n",
              "  <thead>\n",
              "    <tr style=\"text-align: right;\">\n",
              "      <th></th>\n",
              "      <th>country</th>\n",
              "      <th>seasonality</th>\n",
              "      <th>year_month</th>\n",
              "      <th>year</th>\n",
              "      <th>month</th>\n",
              "      <th>unemployment</th>\n",
              "      <th>unemployment_rate</th>\n",
              "      <th>country_group</th>\n",
              "      <th>name_en_x</th>\n",
              "      <th>c_code</th>\n",
              "      <th>name_en_y</th>\n",
              "    </tr>\n",
              "  </thead>\n",
              "  <tbody>\n",
              "    <tr>\n",
              "      <th>0</th>\n",
              "      <td>at</td>\n",
              "      <td>nsa</td>\n",
              "      <td>1993.01</td>\n",
              "      <td>1993</td>\n",
              "      <td>1</td>\n",
              "      <td>171000</td>\n",
              "      <td>4.5</td>\n",
              "      <td>eu</td>\n",
              "      <td>Austria</td>\n",
              "      <td>at</td>\n",
              "      <td>Austria</td>\n",
              "    </tr>\n",
              "    <tr>\n",
              "      <th>1</th>\n",
              "      <td>at</td>\n",
              "      <td>nsa</td>\n",
              "      <td>1993.02</td>\n",
              "      <td>1993</td>\n",
              "      <td>2</td>\n",
              "      <td>175000</td>\n",
              "      <td>4.6</td>\n",
              "      <td>eu</td>\n",
              "      <td>Austria</td>\n",
              "      <td>at</td>\n",
              "      <td>Austria</td>\n",
              "    </tr>\n",
              "    <tr>\n",
              "      <th>2</th>\n",
              "      <td>at</td>\n",
              "      <td>nsa</td>\n",
              "      <td>1993.03</td>\n",
              "      <td>1993</td>\n",
              "      <td>3</td>\n",
              "      <td>166000</td>\n",
              "      <td>4.4</td>\n",
              "      <td>eu</td>\n",
              "      <td>Austria</td>\n",
              "      <td>at</td>\n",
              "      <td>Austria</td>\n",
              "    </tr>\n",
              "    <tr>\n",
              "      <th>3</th>\n",
              "      <td>at</td>\n",
              "      <td>nsa</td>\n",
              "      <td>1993.04</td>\n",
              "      <td>1993</td>\n",
              "      <td>4</td>\n",
              "      <td>157000</td>\n",
              "      <td>4.1</td>\n",
              "      <td>eu</td>\n",
              "      <td>Austria</td>\n",
              "      <td>at</td>\n",
              "      <td>Austria</td>\n",
              "    </tr>\n",
              "    <tr>\n",
              "      <th>4</th>\n",
              "      <td>at</td>\n",
              "      <td>nsa</td>\n",
              "      <td>1993.05</td>\n",
              "      <td>1993</td>\n",
              "      <td>5</td>\n",
              "      <td>147000</td>\n",
              "      <td>3.9</td>\n",
              "      <td>eu</td>\n",
              "      <td>Austria</td>\n",
              "      <td>at</td>\n",
              "      <td>Austria</td>\n",
              "    </tr>\n",
              "    <tr>\n",
              "      <th>...</th>\n",
              "      <td>...</td>\n",
              "      <td>...</td>\n",
              "      <td>...</td>\n",
              "      <td>...</td>\n",
              "      <td>...</td>\n",
              "      <td>...</td>\n",
              "      <td>...</td>\n",
              "      <td>...</td>\n",
              "      <td>...</td>\n",
              "      <td>...</td>\n",
              "      <td>...</td>\n",
              "    </tr>\n",
              "    <tr>\n",
              "      <th>20791</th>\n",
              "      <td>uk</td>\n",
              "      <td>trend</td>\n",
              "      <td>2010.06</td>\n",
              "      <td>2010</td>\n",
              "      <td>6</td>\n",
              "      <td>2429000</td>\n",
              "      <td>7.7</td>\n",
              "      <td>eu</td>\n",
              "      <td>United Kingdom</td>\n",
              "      <td>uk</td>\n",
              "      <td>United Kingdom</td>\n",
              "    </tr>\n",
              "    <tr>\n",
              "      <th>20792</th>\n",
              "      <td>uk</td>\n",
              "      <td>trend</td>\n",
              "      <td>2010.07</td>\n",
              "      <td>2010</td>\n",
              "      <td>7</td>\n",
              "      <td>2422000</td>\n",
              "      <td>7.7</td>\n",
              "      <td>eu</td>\n",
              "      <td>United Kingdom</td>\n",
              "      <td>uk</td>\n",
              "      <td>United Kingdom</td>\n",
              "    </tr>\n",
              "    <tr>\n",
              "      <th>20793</th>\n",
              "      <td>uk</td>\n",
              "      <td>trend</td>\n",
              "      <td>2010.08</td>\n",
              "      <td>2010</td>\n",
              "      <td>8</td>\n",
              "      <td>2429000</td>\n",
              "      <td>7.7</td>\n",
              "      <td>eu</td>\n",
              "      <td>United Kingdom</td>\n",
              "      <td>uk</td>\n",
              "      <td>United Kingdom</td>\n",
              "    </tr>\n",
              "    <tr>\n",
              "      <th>20794</th>\n",
              "      <td>uk</td>\n",
              "      <td>trend</td>\n",
              "      <td>2010.09</td>\n",
              "      <td>2010</td>\n",
              "      <td>9</td>\n",
              "      <td>2447000</td>\n",
              "      <td>7.8</td>\n",
              "      <td>eu</td>\n",
              "      <td>United Kingdom</td>\n",
              "      <td>uk</td>\n",
              "      <td>United Kingdom</td>\n",
              "    </tr>\n",
              "    <tr>\n",
              "      <th>20795</th>\n",
              "      <td>uk</td>\n",
              "      <td>trend</td>\n",
              "      <td>2010.10</td>\n",
              "      <td>2010</td>\n",
              "      <td>10</td>\n",
              "      <td>2455000</td>\n",
              "      <td>7.8</td>\n",
              "      <td>eu</td>\n",
              "      <td>United Kingdom</td>\n",
              "      <td>uk</td>\n",
              "      <td>United Kingdom</td>\n",
              "    </tr>\n",
              "  </tbody>\n",
              "</table>\n",
              "<p>20796 rows × 11 columns</p>\n",
              "</div>"
            ],
            "text/plain": [
              "      country seasonality  year_month  ...       name_en_x  c_code       name_en_y\n",
              "0          at         nsa     1993.01  ...         Austria      at         Austria\n",
              "1          at         nsa     1993.02  ...         Austria      at         Austria\n",
              "2          at         nsa     1993.03  ...         Austria      at         Austria\n",
              "3          at         nsa     1993.04  ...         Austria      at         Austria\n",
              "4          at         nsa     1993.05  ...         Austria      at         Austria\n",
              "...       ...         ...         ...  ...             ...     ...             ...\n",
              "20791      uk       trend     2010.06  ...  United Kingdom      uk  United Kingdom\n",
              "20792      uk       trend     2010.07  ...  United Kingdom      uk  United Kingdom\n",
              "20793      uk       trend     2010.08  ...  United Kingdom      uk  United Kingdom\n",
              "20794      uk       trend     2010.09  ...  United Kingdom      uk  United Kingdom\n",
              "20795      uk       trend     2010.10  ...  United Kingdom      uk  United Kingdom\n",
              "\n",
              "[20796 rows x 11 columns]"
            ]
          },
          "metadata": {
            "tags": []
          },
          "execution_count": 118
        }
      ]
    },
    {
      "cell_type": "markdown",
      "metadata": {
        "id": "mMvRgiFJUMKQ",
        "colab_type": "text"
      },
      "source": [
        "## 5. Calculating Unique and Missing Values"
      ]
    },
    {
      "cell_type": "code",
      "metadata": {
        "id": "CmoOtqsJUMKR",
        "colab_type": "code",
        "colab": {
          "base_uri": "https://localhost:8080/",
          "height": 204
        },
        "outputId": "aacd1d52-cf98-476b-c4bd-f7f78b491520"
      },
      "source": [
        "unemployment.head()"
      ],
      "execution_count": 119,
      "outputs": [
        {
          "output_type": "execute_result",
          "data": {
            "text/html": [
              "<div>\n",
              "<style scoped>\n",
              "    .dataframe tbody tr th:only-of-type {\n",
              "        vertical-align: middle;\n",
              "    }\n",
              "\n",
              "    .dataframe tbody tr th {\n",
              "        vertical-align: top;\n",
              "    }\n",
              "\n",
              "    .dataframe thead th {\n",
              "        text-align: right;\n",
              "    }\n",
              "</style>\n",
              "<table border=\"1\" class=\"dataframe\">\n",
              "  <thead>\n",
              "    <tr style=\"text-align: right;\">\n",
              "      <th></th>\n",
              "      <th>country</th>\n",
              "      <th>seasonality</th>\n",
              "      <th>year_month</th>\n",
              "      <th>year</th>\n",
              "      <th>month</th>\n",
              "      <th>unemployment</th>\n",
              "      <th>unemployment_rate</th>\n",
              "      <th>country_group</th>\n",
              "      <th>name_en</th>\n",
              "    </tr>\n",
              "  </thead>\n",
              "  <tbody>\n",
              "    <tr>\n",
              "      <th>0</th>\n",
              "      <td>at</td>\n",
              "      <td>nsa</td>\n",
              "      <td>1993.01</td>\n",
              "      <td>1993</td>\n",
              "      <td>1</td>\n",
              "      <td>171000</td>\n",
              "      <td>4.5</td>\n",
              "      <td>eu</td>\n",
              "      <td>Austria</td>\n",
              "    </tr>\n",
              "    <tr>\n",
              "      <th>1</th>\n",
              "      <td>at</td>\n",
              "      <td>nsa</td>\n",
              "      <td>1993.02</td>\n",
              "      <td>1993</td>\n",
              "      <td>2</td>\n",
              "      <td>175000</td>\n",
              "      <td>4.6</td>\n",
              "      <td>eu</td>\n",
              "      <td>Austria</td>\n",
              "    </tr>\n",
              "    <tr>\n",
              "      <th>2</th>\n",
              "      <td>at</td>\n",
              "      <td>nsa</td>\n",
              "      <td>1993.03</td>\n",
              "      <td>1993</td>\n",
              "      <td>3</td>\n",
              "      <td>166000</td>\n",
              "      <td>4.4</td>\n",
              "      <td>eu</td>\n",
              "      <td>Austria</td>\n",
              "    </tr>\n",
              "    <tr>\n",
              "      <th>3</th>\n",
              "      <td>at</td>\n",
              "      <td>nsa</td>\n",
              "      <td>1993.04</td>\n",
              "      <td>1993</td>\n",
              "      <td>4</td>\n",
              "      <td>157000</td>\n",
              "      <td>4.1</td>\n",
              "      <td>eu</td>\n",
              "      <td>Austria</td>\n",
              "    </tr>\n",
              "    <tr>\n",
              "      <th>4</th>\n",
              "      <td>at</td>\n",
              "      <td>nsa</td>\n",
              "      <td>1993.05</td>\n",
              "      <td>1993</td>\n",
              "      <td>5</td>\n",
              "      <td>147000</td>\n",
              "      <td>3.9</td>\n",
              "      <td>eu</td>\n",
              "      <td>Austria</td>\n",
              "    </tr>\n",
              "  </tbody>\n",
              "</table>\n",
              "</div>"
            ],
            "text/plain": [
              "  country seasonality  year_month  ...  unemployment_rate  country_group  name_en\n",
              "0      at         nsa     1993.01  ...                4.5             eu  Austria\n",
              "1      at         nsa     1993.02  ...                4.6             eu  Austria\n",
              "2      at         nsa     1993.03  ...                4.4             eu  Austria\n",
              "3      at         nsa     1993.04  ...                4.1             eu  Austria\n",
              "4      at         nsa     1993.05  ...                3.9             eu  Austria\n",
              "\n",
              "[5 rows x 9 columns]"
            ]
          },
          "metadata": {
            "tags": []
          },
          "execution_count": 119
        }
      ]
    },
    {
      "cell_type": "markdown",
      "metadata": {
        "id": "4lVmaIEpUMKU",
        "colab_type": "text"
      },
      "source": [
        "That's better. We now know that the abbreviation \"at\" corresponds to Austria. We might be curious to check what countries we have data for. The `Series` object includes a `.unique()` method. We'll use this to check the countries. We can select the name either using bracket or dot notation. (While we suggested using brackets above, it *is* sometimes easier to use dot notation. Just be careful.)"
      ]
    },
    {
      "cell_type": "code",
      "metadata": {
        "scrolled": true,
        "id": "vQ_O3g5YUMKV",
        "colab_type": "code",
        "colab": {
          "base_uri": "https://localhost:8080/",
          "height": 119
        },
        "outputId": "a5beefba-442d-4c70-a3ef-1af2dfa7ac26"
      },
      "source": [
        "unemployment.name_en.unique()"
      ],
      "execution_count": 120,
      "outputs": [
        {
          "output_type": "execute_result",
          "data": {
            "text/plain": [
              "array(['Austria', 'Belgium', 'Bulgaria', 'Cyprus', 'Czech Republic',\n",
              "       'Germany (including  former GDR from 1991)', 'Denmark', 'Estonia',\n",
              "       'Spain', 'Finland', 'France', 'Greece', 'Croatia', 'Hungary',\n",
              "       'Ireland', 'Italy', 'Lithuania', 'Luxembourg', 'Latvia', 'Malta',\n",
              "       'Netherlands', 'Norway', 'Poland', 'Portugal', 'Romania', 'Sweden',\n",
              "       'Slovenia', 'Slovakia', 'Turkey', 'United Kingdom'], dtype=object)"
            ]
          },
          "metadata": {
            "tags": []
          },
          "execution_count": 120
        }
      ]
    },
    {
      "cell_type": "markdown",
      "metadata": {
        "id": "G_mk0ZMUUMKZ",
        "colab_type": "text"
      },
      "source": [
        "To get a count of the **number of unique countries,** we can either wrap the above code with `len()` to get the number of items in the array, or we can use the  `Series.nunique()` method."
      ]
    },
    {
      "cell_type": "code",
      "metadata": {
        "id": "FT1mVKylUMKZ",
        "colab_type": "code",
        "colab": {
          "base_uri": "https://localhost:8080/",
          "height": 34
        },
        "outputId": "0ea0f003-b702-4345-dfdf-022b871e5b5b"
      },
      "source": [
        "unemployment.name_en.nunique()"
      ],
      "execution_count": 121,
      "outputs": [
        {
          "output_type": "execute_result",
          "data": {
            "text/plain": [
              "30"
            ]
          },
          "metadata": {
            "tags": []
          },
          "execution_count": 121
        }
      ]
    },
    {
      "cell_type": "markdown",
      "metadata": {
        "id": "9mFCAFXhUMKc",
        "colab_type": "text"
      },
      "source": [
        "It might be more interesting to know **how many observations** we actually have. `pandas` has a `Series` method called `.value_counts()` that returns the counts for the unique values in the `Series`."
      ]
    },
    {
      "cell_type": "code",
      "metadata": {
        "id": "3GJzI9eOUMKd",
        "colab_type": "code",
        "colab": {
          "base_uri": "https://localhost:8080/",
          "height": 544
        },
        "outputId": "d9ba8bf6-f67c-445f-abd4-d32b6f357f46"
      },
      "source": [
        "unemployment['name_en'].value_counts()"
      ],
      "execution_count": 122,
      "outputs": [
        {
          "output_type": "execute_result",
          "data": {
            "text/plain": [
              "Spain                                        1008\n",
              "Ireland                                      1008\n",
              "Portugal                                     1008\n",
              "Netherlands                                  1008\n",
              "France                                       1008\n",
              "Luxembourg                                   1008\n",
              "Sweden                                       1008\n",
              "Belgium                                      1008\n",
              "Denmark                                      1008\n",
              "United Kingdom                               1002\n",
              "Italy                                         924\n",
              "Finland                                       828\n",
              "Norway                                        786\n",
              "Austria                                       648\n",
              "Hungary                                       576\n",
              "Slovenia                                      576\n",
              "Slovakia                                      576\n",
              "Malta                                         576\n",
              "Bulgaria                                      576\n",
              "Poland                                        576\n",
              "Germany (including  former GDR from 1991)     504\n",
              "Czech Republic                                468\n",
              "Latvia                                        459\n",
              "Lithuania                                     459\n",
              "Greece                                        450\n",
              "Romania                                       423\n",
              "Cyprus                                        396\n",
              "Estonia                                       387\n",
              "Croatia                                       324\n",
              "Turkey                                        210\n",
              "Name: name_en, dtype: int64"
            ]
          },
          "metadata": {
            "tags": []
          },
          "execution_count": 122
        }
      ]
    },
    {
      "cell_type": "markdown",
      "metadata": {
        "id": "0eR-7JkrUMKs",
        "colab_type": "text"
      },
      "source": [
        "By default, the `Series` is sorted by values. If you'd like it sorted by index&mdash;country name in this case&mdash;append the `.sort_index()` method."
      ]
    },
    {
      "cell_type": "code",
      "metadata": {
        "id": "IHlN35VHUMKt",
        "colab_type": "code",
        "colab": {
          "base_uri": "https://localhost:8080/",
          "height": 544
        },
        "outputId": "65a7922a-c4fc-4318-bc40-75a006dba90c"
      },
      "source": [
        "unemployment['name_en'].value_counts().sort_index()"
      ],
      "execution_count": 123,
      "outputs": [
        {
          "output_type": "execute_result",
          "data": {
            "text/plain": [
              "Austria                                       648\n",
              "Belgium                                      1008\n",
              "Bulgaria                                      576\n",
              "Croatia                                       324\n",
              "Cyprus                                        396\n",
              "Czech Republic                                468\n",
              "Denmark                                      1008\n",
              "Estonia                                       387\n",
              "Finland                                       828\n",
              "France                                       1008\n",
              "Germany (including  former GDR from 1991)     504\n",
              "Greece                                        450\n",
              "Hungary                                       576\n",
              "Ireland                                      1008\n",
              "Italy                                         924\n",
              "Latvia                                        459\n",
              "Lithuania                                     459\n",
              "Luxembourg                                   1008\n",
              "Malta                                         576\n",
              "Netherlands                                  1008\n",
              "Norway                                        786\n",
              "Poland                                        576\n",
              "Portugal                                     1008\n",
              "Romania                                       423\n",
              "Slovakia                                      576\n",
              "Slovenia                                      576\n",
              "Spain                                        1008\n",
              "Sweden                                       1008\n",
              "Turkey                                        210\n",
              "United Kingdom                               1002\n",
              "Name: name_en, dtype: int64"
            ]
          },
          "metadata": {
            "tags": []
          },
          "execution_count": 123
        }
      ]
    },
    {
      "cell_type": "markdown",
      "metadata": {
        "id": "x70X7-7IUMKw",
        "colab_type": "text"
      },
      "source": [
        "This will be useful for our analysis. The maximum number of observations for a given country for this time period is 1,008 observations. We'll note that certain countries, such as Turkey, have far less data.\n",
        "\n",
        "How about finding the **date range** for this data set? Let's look at the minimum and maximum years."
      ]
    },
    {
      "cell_type": "code",
      "metadata": {
        "id": "qXThQq2JUMKy",
        "colab_type": "code",
        "colab": {
          "base_uri": "https://localhost:8080/",
          "height": 34
        },
        "outputId": "c4e08f6d-6d6f-4d80-8402-3c5c1e3edcd5"
      },
      "source": [
        "unemployment['year'].min(), unemployment['year'].max()"
      ],
      "execution_count": 124,
      "outputs": [
        {
          "output_type": "execute_result",
          "data": {
            "text/plain": [
              "(1983, 2010)"
            ]
          },
          "metadata": {
            "tags": []
          },
          "execution_count": 124
        }
      ]
    },
    {
      "cell_type": "markdown",
      "metadata": {
        "id": "YqBUGHciUMK0",
        "colab_type": "text"
      },
      "source": [
        "Next, we should pause for a moment and think about what data we really care about. For our purposes, the variable of interest is `unemployment_rate`. The number of observations by country only reflect the number of instances of each country name in the dataset. It is possible, maybe even expected, to have some missing data within those instances. Let's find out **how many unemployment rate values are missing.**"
      ]
    },
    {
      "cell_type": "code",
      "metadata": {
        "id": "Y_A-J6BTUMK1",
        "colab_type": "code",
        "colab": {
          "base_uri": "https://localhost:8080/",
          "height": 34
        },
        "outputId": "7bc279bd-99a3-4e7f-b472-f7f377f05867"
      },
      "source": [
        "unemployment['unemployment_rate'].isnull().sum()"
      ],
      "execution_count": 125,
      "outputs": [
        {
          "output_type": "execute_result",
          "data": {
            "text/plain": [
              "945"
            ]
          },
          "metadata": {
            "tags": []
          },
          "execution_count": 125
        }
      ]
    },
    {
      "cell_type": "markdown",
      "metadata": {
        "id": "6z_OQen6UMK2",
        "colab_type": "text"
      },
      "source": [
        "The `.isnull()` method returns a corresponding boolean value for each entry in the unemployment rate `Series`. In Python `True` is equivalent to 1 and `False` is equivalent to 0. Thus, when we add the result (with `.sum()`), we get a count for the *total* number of missing values."
      ]
    },
    {
      "cell_type": "markdown",
      "metadata": {
        "id": "HQPH9_6mUMK3",
        "colab_type": "text"
      },
      "source": [
        "### Challenge 9: Exploring unemployment rates\n",
        "\n",
        "What are the minimum and maximum unemployment rates in our data set? Which unemployment rates are most and least common?\n",
        "\n",
        "Hint: look at where we found the minimum and maximum years for a hint to the first question, and use `value_counts` for the second."
      ]
    },
    {
      "cell_type": "code",
      "metadata": {
        "id": "tARG87GkUsWh",
        "colab_type": "code",
        "colab": {
          "base_uri": "https://localhost:8080/",
          "height": 34
        },
        "outputId": "9fd6c0f7-547b-487f-a30e-8733bf9d8868"
      },
      "source": [
        "unemployment['unemployment_rate'].min(),unemployment['unemployment_rate'].max()"
      ],
      "execution_count": 143,
      "outputs": [
        {
          "output_type": "execute_result",
          "data": {
            "text/plain": [
              "(1.1, 20.9)"
            ]
          },
          "metadata": {
            "tags": []
          },
          "execution_count": 143
        }
      ]
    },
    {
      "cell_type": "code",
      "metadata": {
        "id": "b2KLhRLGUcqv",
        "colab_type": "code",
        "colab": {
          "base_uri": "https://localhost:8080/",
          "height": 221
        },
        "outputId": "e1b3f4ff-cc3f-4318-a1cb-20f56d635277"
      },
      "source": [
        "unemployment['unemployment_rate'].value_counts()\n"
      ],
      "execution_count": 149,
      "outputs": [
        {
          "output_type": "execute_result",
          "data": {
            "text/plain": [
              "7.2     305\n",
              "7.1     290\n",
              "7.4     285\n",
              "7.3     271\n",
              "7.8     255\n",
              "       ... \n",
              "1.3       4\n",
              "20.5      3\n",
              "1.1       2\n",
              "20.7      2\n",
              "20.9      1\n",
              "Name: unemployment_rate, Length: 197, dtype: int64"
            ]
          },
          "metadata": {
            "tags": []
          },
          "execution_count": 149
        }
      ]
    },
    {
      "cell_type": "markdown",
      "metadata": {
        "id": "f3PBc0nkZjvx",
        "colab_type": "text"
      },
      "source": [
        "unemployment rate of 7.2 is the most common with 305 observations and 20.9 is the least common observation with the value of 1"
      ]
    },
    {
      "cell_type": "markdown",
      "metadata": {
        "id": "tN2uynyQUMK5",
        "colab_type": "text"
      },
      "source": [
        "## 6. GroupBy"
      ]
    },
    {
      "cell_type": "markdown",
      "metadata": {
        "id": "4OcDdm-uUMK6",
        "colab_type": "text"
      },
      "source": [
        "\n",
        "What if we'd like to know how many missing values exist at the *country* level? We can take the main part of what we had above and create a new column in the `DataFrame`."
      ]
    },
    {
      "cell_type": "code",
      "metadata": {
        "id": "ICKqV3X4UMK7",
        "colab_type": "code",
        "colab": {}
      },
      "source": [
        "unemployment['unemployment_rate_null'] = unemployment['unemployment_rate'].isnull()"
      ],
      "execution_count": 0,
      "outputs": []
    },
    {
      "cell_type": "markdown",
      "metadata": {
        "id": "XWpB1fiOUMK8",
        "colab_type": "text"
      },
      "source": [
        "To count the **number of missing values for each country,** we introduce the `.groupby()` method."
      ]
    },
    {
      "cell_type": "code",
      "metadata": {
        "id": "3wkdEjmIUMK9",
        "colab_type": "code",
        "colab": {
          "base_uri": "https://localhost:8080/",
          "height": 561
        },
        "outputId": "7aa7e389-5141-4c6c-e290-8f42db8b2cad"
      },
      "source": [
        "unemployment.groupby('name_en')['unemployment_rate_null'].sum()"
      ],
      "execution_count": 175,
      "outputs": [
        {
          "output_type": "execute_result",
          "data": {
            "text/plain": [
              "name_en\n",
              "Austria                                        0.0\n",
              "Belgium                                        0.0\n",
              "Bulgaria                                     180.0\n",
              "Croatia                                      216.0\n",
              "Cyprus                                         0.0\n",
              "Czech Republic                                 0.0\n",
              "Denmark                                        0.0\n",
              "Estonia                                        0.0\n",
              "Finland                                        0.0\n",
              "France                                         0.0\n",
              "Germany (including  former GDR from 1991)      0.0\n",
              "Greece                                         0.0\n",
              "Hungary                                       36.0\n",
              "Ireland                                        0.0\n",
              "Italy                                          0.0\n",
              "Latvia                                         0.0\n",
              "Lithuania                                      0.0\n",
              "Luxembourg                                     0.0\n",
              "Malta                                        180.0\n",
              "Netherlands                                    0.0\n",
              "Norway                                         0.0\n",
              "Poland                                        72.0\n",
              "Portugal                                       0.0\n",
              "Romania                                        0.0\n",
              "Slovakia                                     108.0\n",
              "Slovenia                                      36.0\n",
              "Spain                                        117.0\n",
              "Sweden                                         0.0\n",
              "Turkey                                         0.0\n",
              "United Kingdom                                 0.0\n",
              "Name: unemployment_rate_null, dtype: float64"
            ]
          },
          "metadata": {
            "tags": []
          },
          "execution_count": 175
        }
      ]
    },
    {
      "cell_type": "markdown",
      "metadata": {
        "id": "3cjMMeTZUMK-",
        "colab_type": "text"
      },
      "source": [
        "Let's explain what just happened. We start with our `DataFrame`. We tell `pandas` that we want to group the data by country name&mdash;that's what goes in the parentheses. Next, we need to tell it what column we'd like to perform the `.sum()` operation on. In this case, it's the indicator for whether or not the unemployment rate was missing.\n",
        "\n",
        "As we saw above, the number of records for each country differs. We might, then, want to have the **missing values by country shown as percentages.** Let's create a new `DataFrame` for this.\n",
        "\n",
        "We'll take the code from above and set the `as_index` parameter to `False`."
      ]
    },
    {
      "cell_type": "code",
      "metadata": {
        "id": "qjz9Du7KUMK_",
        "colab_type": "code",
        "colab": {}
      },
      "source": [
        "unemployment_rate = unemployment.groupby('name_en', as_index=False)['unemployment_rate_null'].sum()"
      ],
      "execution_count": 0,
      "outputs": []
    },
    {
      "cell_type": "code",
      "metadata": {
        "id": "vA-FSah-UMLB",
        "colab_type": "code",
        "colab": {
          "base_uri": "https://localhost:8080/",
          "height": 142
        },
        "outputId": "cdab39f4-79bb-4206-b1d2-5f544ebaa59f"
      },
      "source": [
        "unemployment_rate.head(3)"
      ],
      "execution_count": 156,
      "outputs": [
        {
          "output_type": "execute_result",
          "data": {
            "text/html": [
              "<div>\n",
              "<style scoped>\n",
              "    .dataframe tbody tr th:only-of-type {\n",
              "        vertical-align: middle;\n",
              "    }\n",
              "\n",
              "    .dataframe tbody tr th {\n",
              "        vertical-align: top;\n",
              "    }\n",
              "\n",
              "    .dataframe thead th {\n",
              "        text-align: right;\n",
              "    }\n",
              "</style>\n",
              "<table border=\"1\" class=\"dataframe\">\n",
              "  <thead>\n",
              "    <tr style=\"text-align: right;\">\n",
              "      <th></th>\n",
              "      <th>name_en</th>\n",
              "      <th>unemployment_rate_null</th>\n",
              "    </tr>\n",
              "  </thead>\n",
              "  <tbody>\n",
              "    <tr>\n",
              "      <th>0</th>\n",
              "      <td>Austria</td>\n",
              "      <td>0.0</td>\n",
              "    </tr>\n",
              "    <tr>\n",
              "      <th>1</th>\n",
              "      <td>Belgium</td>\n",
              "      <td>0.0</td>\n",
              "    </tr>\n",
              "    <tr>\n",
              "      <th>2</th>\n",
              "      <td>Bulgaria</td>\n",
              "      <td>180.0</td>\n",
              "    </tr>\n",
              "  </tbody>\n",
              "</table>\n",
              "</div>"
            ],
            "text/plain": [
              "    name_en  unemployment_rate_null\n",
              "0   Austria                     0.0\n",
              "1   Belgium                     0.0\n",
              "2  Bulgaria                   180.0"
            ]
          },
          "metadata": {
            "tags": []
          },
          "execution_count": 156
        }
      ]
    },
    {
      "cell_type": "markdown",
      "metadata": {
        "id": "DRcJbX8zUMLE",
        "colab_type": "text"
      },
      "source": [
        "`unemployment_rate` is a `DataFrame` with the information from cell 34, above. It's important to note that using `as_index=False` in `.groupby()` only works if the grouping column(s) are not the same as the columns on which we're performing the operation.\n",
        "\n",
        "Also, to group by several columns, simply pass in a list of column names to `.groupby()`.\n",
        "\n",
        "```\n",
        "unemployment.groupby(['name_en', 'seasonality'])['unemployment_rate'].mean()\n",
        "```\n",
        "\n",
        "Now, let's add the number of observations by country to the `DataFrame`."
      ]
    },
    {
      "cell_type": "code",
      "metadata": {
        "id": "UEIo5G4nUMLF",
        "colab_type": "code",
        "colab": {}
      },
      "source": [
        "unemployment_rate['n_obs'] = unemployment.groupby('name_en')['name_en'].count().values"
      ],
      "execution_count": 0,
      "outputs": []
    },
    {
      "cell_type": "markdown",
      "metadata": {
        "id": "J4OBZM2RUMLH",
        "colab_type": "text"
      },
      "source": [
        "Here, we need to use the `values` attribute to get an array of the counts. Excluding `values` will result in a column full of `NaN`s. This is because the index in `unemployment.groupby('name_en')['name_en'].count()` is a list of the country names. When creating a new column, `pandas` tries to match on index. Recall that the default index values for a `DataFrame` is a sequence of integers.\n",
        "\n",
        "Because we know (or have noticed) that the `.groupby()` function returns the values in alphabetical order, we can simply set the new column to the list of values, as we have done. You can, however, be more explicit and create another `DataFrame` and merge on country name.\n",
        "\n",
        "Finally, let's create the column for the percentage of missing values."
      ]
    },
    {
      "cell_type": "code",
      "metadata": {
        "id": "6zKgDfZdUMLH",
        "colab_type": "code",
        "colab": {}
      },
      "source": [
        "unemployment_rate['null_percentage'] = unemployment_rate['unemployment_rate_null'] / unemployment_rate['n_obs']"
      ],
      "execution_count": 0,
      "outputs": []
    },
    {
      "cell_type": "code",
      "metadata": {
        "id": "PVCv_MZFUMLJ",
        "colab_type": "code",
        "colab": {
          "base_uri": "https://localhost:8080/",
          "height": 979
        },
        "outputId": "33caa5fd-cecd-4f47-d121-906140c55a27"
      },
      "source": [
        "unemployment_rate"
      ],
      "execution_count": 159,
      "outputs": [
        {
          "output_type": "execute_result",
          "data": {
            "text/html": [
              "<div>\n",
              "<style scoped>\n",
              "    .dataframe tbody tr th:only-of-type {\n",
              "        vertical-align: middle;\n",
              "    }\n",
              "\n",
              "    .dataframe tbody tr th {\n",
              "        vertical-align: top;\n",
              "    }\n",
              "\n",
              "    .dataframe thead th {\n",
              "        text-align: right;\n",
              "    }\n",
              "</style>\n",
              "<table border=\"1\" class=\"dataframe\">\n",
              "  <thead>\n",
              "    <tr style=\"text-align: right;\">\n",
              "      <th></th>\n",
              "      <th>name_en</th>\n",
              "      <th>unemployment_rate_null</th>\n",
              "      <th>n_obs</th>\n",
              "      <th>null_percentage</th>\n",
              "    </tr>\n",
              "  </thead>\n",
              "  <tbody>\n",
              "    <tr>\n",
              "      <th>0</th>\n",
              "      <td>Austria</td>\n",
              "      <td>0.0</td>\n",
              "      <td>648</td>\n",
              "      <td>0.000000</td>\n",
              "    </tr>\n",
              "    <tr>\n",
              "      <th>1</th>\n",
              "      <td>Belgium</td>\n",
              "      <td>0.0</td>\n",
              "      <td>1008</td>\n",
              "      <td>0.000000</td>\n",
              "    </tr>\n",
              "    <tr>\n",
              "      <th>2</th>\n",
              "      <td>Bulgaria</td>\n",
              "      <td>180.0</td>\n",
              "      <td>576</td>\n",
              "      <td>0.312500</td>\n",
              "    </tr>\n",
              "    <tr>\n",
              "      <th>3</th>\n",
              "      <td>Croatia</td>\n",
              "      <td>216.0</td>\n",
              "      <td>324</td>\n",
              "      <td>0.666667</td>\n",
              "    </tr>\n",
              "    <tr>\n",
              "      <th>4</th>\n",
              "      <td>Cyprus</td>\n",
              "      <td>0.0</td>\n",
              "      <td>396</td>\n",
              "      <td>0.000000</td>\n",
              "    </tr>\n",
              "    <tr>\n",
              "      <th>5</th>\n",
              "      <td>Czech Republic</td>\n",
              "      <td>0.0</td>\n",
              "      <td>468</td>\n",
              "      <td>0.000000</td>\n",
              "    </tr>\n",
              "    <tr>\n",
              "      <th>6</th>\n",
              "      <td>Denmark</td>\n",
              "      <td>0.0</td>\n",
              "      <td>1008</td>\n",
              "      <td>0.000000</td>\n",
              "    </tr>\n",
              "    <tr>\n",
              "      <th>7</th>\n",
              "      <td>Estonia</td>\n",
              "      <td>0.0</td>\n",
              "      <td>387</td>\n",
              "      <td>0.000000</td>\n",
              "    </tr>\n",
              "    <tr>\n",
              "      <th>8</th>\n",
              "      <td>Finland</td>\n",
              "      <td>0.0</td>\n",
              "      <td>828</td>\n",
              "      <td>0.000000</td>\n",
              "    </tr>\n",
              "    <tr>\n",
              "      <th>9</th>\n",
              "      <td>France</td>\n",
              "      <td>0.0</td>\n",
              "      <td>1008</td>\n",
              "      <td>0.000000</td>\n",
              "    </tr>\n",
              "    <tr>\n",
              "      <th>10</th>\n",
              "      <td>Germany (including  former GDR from 1991)</td>\n",
              "      <td>0.0</td>\n",
              "      <td>504</td>\n",
              "      <td>0.000000</td>\n",
              "    </tr>\n",
              "    <tr>\n",
              "      <th>11</th>\n",
              "      <td>Greece</td>\n",
              "      <td>0.0</td>\n",
              "      <td>450</td>\n",
              "      <td>0.000000</td>\n",
              "    </tr>\n",
              "    <tr>\n",
              "      <th>12</th>\n",
              "      <td>Hungary</td>\n",
              "      <td>36.0</td>\n",
              "      <td>576</td>\n",
              "      <td>0.062500</td>\n",
              "    </tr>\n",
              "    <tr>\n",
              "      <th>13</th>\n",
              "      <td>Ireland</td>\n",
              "      <td>0.0</td>\n",
              "      <td>1008</td>\n",
              "      <td>0.000000</td>\n",
              "    </tr>\n",
              "    <tr>\n",
              "      <th>14</th>\n",
              "      <td>Italy</td>\n",
              "      <td>0.0</td>\n",
              "      <td>924</td>\n",
              "      <td>0.000000</td>\n",
              "    </tr>\n",
              "    <tr>\n",
              "      <th>15</th>\n",
              "      <td>Latvia</td>\n",
              "      <td>0.0</td>\n",
              "      <td>459</td>\n",
              "      <td>0.000000</td>\n",
              "    </tr>\n",
              "    <tr>\n",
              "      <th>16</th>\n",
              "      <td>Lithuania</td>\n",
              "      <td>0.0</td>\n",
              "      <td>459</td>\n",
              "      <td>0.000000</td>\n",
              "    </tr>\n",
              "    <tr>\n",
              "      <th>17</th>\n",
              "      <td>Luxembourg</td>\n",
              "      <td>0.0</td>\n",
              "      <td>1008</td>\n",
              "      <td>0.000000</td>\n",
              "    </tr>\n",
              "    <tr>\n",
              "      <th>18</th>\n",
              "      <td>Malta</td>\n",
              "      <td>180.0</td>\n",
              "      <td>576</td>\n",
              "      <td>0.312500</td>\n",
              "    </tr>\n",
              "    <tr>\n",
              "      <th>19</th>\n",
              "      <td>Netherlands</td>\n",
              "      <td>0.0</td>\n",
              "      <td>1008</td>\n",
              "      <td>0.000000</td>\n",
              "    </tr>\n",
              "    <tr>\n",
              "      <th>20</th>\n",
              "      <td>Norway</td>\n",
              "      <td>0.0</td>\n",
              "      <td>786</td>\n",
              "      <td>0.000000</td>\n",
              "    </tr>\n",
              "    <tr>\n",
              "      <th>21</th>\n",
              "      <td>Poland</td>\n",
              "      <td>72.0</td>\n",
              "      <td>576</td>\n",
              "      <td>0.125000</td>\n",
              "    </tr>\n",
              "    <tr>\n",
              "      <th>22</th>\n",
              "      <td>Portugal</td>\n",
              "      <td>0.0</td>\n",
              "      <td>1008</td>\n",
              "      <td>0.000000</td>\n",
              "    </tr>\n",
              "    <tr>\n",
              "      <th>23</th>\n",
              "      <td>Romania</td>\n",
              "      <td>0.0</td>\n",
              "      <td>423</td>\n",
              "      <td>0.000000</td>\n",
              "    </tr>\n",
              "    <tr>\n",
              "      <th>24</th>\n",
              "      <td>Slovakia</td>\n",
              "      <td>108.0</td>\n",
              "      <td>576</td>\n",
              "      <td>0.187500</td>\n",
              "    </tr>\n",
              "    <tr>\n",
              "      <th>25</th>\n",
              "      <td>Slovenia</td>\n",
              "      <td>36.0</td>\n",
              "      <td>576</td>\n",
              "      <td>0.062500</td>\n",
              "    </tr>\n",
              "    <tr>\n",
              "      <th>26</th>\n",
              "      <td>Spain</td>\n",
              "      <td>117.0</td>\n",
              "      <td>1008</td>\n",
              "      <td>0.116071</td>\n",
              "    </tr>\n",
              "    <tr>\n",
              "      <th>27</th>\n",
              "      <td>Sweden</td>\n",
              "      <td>0.0</td>\n",
              "      <td>1008</td>\n",
              "      <td>0.000000</td>\n",
              "    </tr>\n",
              "    <tr>\n",
              "      <th>28</th>\n",
              "      <td>Turkey</td>\n",
              "      <td>0.0</td>\n",
              "      <td>210</td>\n",
              "      <td>0.000000</td>\n",
              "    </tr>\n",
              "    <tr>\n",
              "      <th>29</th>\n",
              "      <td>United Kingdom</td>\n",
              "      <td>0.0</td>\n",
              "      <td>1002</td>\n",
              "      <td>0.000000</td>\n",
              "    </tr>\n",
              "  </tbody>\n",
              "</table>\n",
              "</div>"
            ],
            "text/plain": [
              "                                      name_en  ...  null_percentage\n",
              "0                                     Austria  ...         0.000000\n",
              "1                                     Belgium  ...         0.000000\n",
              "2                                    Bulgaria  ...         0.312500\n",
              "3                                     Croatia  ...         0.666667\n",
              "4                                      Cyprus  ...         0.000000\n",
              "5                              Czech Republic  ...         0.000000\n",
              "6                                     Denmark  ...         0.000000\n",
              "7                                     Estonia  ...         0.000000\n",
              "8                                     Finland  ...         0.000000\n",
              "9                                      France  ...         0.000000\n",
              "10  Germany (including  former GDR from 1991)  ...         0.000000\n",
              "11                                     Greece  ...         0.000000\n",
              "12                                    Hungary  ...         0.062500\n",
              "13                                    Ireland  ...         0.000000\n",
              "14                                      Italy  ...         0.000000\n",
              "15                                     Latvia  ...         0.000000\n",
              "16                                  Lithuania  ...         0.000000\n",
              "17                                 Luxembourg  ...         0.000000\n",
              "18                                      Malta  ...         0.312500\n",
              "19                                Netherlands  ...         0.000000\n",
              "20                                     Norway  ...         0.000000\n",
              "21                                     Poland  ...         0.125000\n",
              "22                                   Portugal  ...         0.000000\n",
              "23                                    Romania  ...         0.000000\n",
              "24                                   Slovakia  ...         0.187500\n",
              "25                                   Slovenia  ...         0.062500\n",
              "26                                      Spain  ...         0.116071\n",
              "27                                     Sweden  ...         0.000000\n",
              "28                                     Turkey  ...         0.000000\n",
              "29                             United Kingdom  ...         0.000000\n",
              "\n",
              "[30 rows x 4 columns]"
            ]
          },
          "metadata": {
            "tags": []
          },
          "execution_count": 159
        }
      ]
    },
    {
      "cell_type": "markdown",
      "metadata": {
        "id": "16k9_VIcUMLL",
        "colab_type": "text"
      },
      "source": [
        "This is the second time we've called a `DataFrame` without something like `.head()`. Let's describe what it does. By default, `pandas` prints 60 rows. In this case, because there are only 30 countries, we see the entire `DataFrame`."
      ]
    },
    {
      "cell_type": "markdown",
      "metadata": {
        "id": "V2mY0aRhUMLM",
        "colab_type": "text"
      },
      "source": [
        "### Challenge 10: GroupBy \n",
        "\n",
        "Find the average unemployment rate for European Union vs. non-European Union countries. \n",
        "\n",
        "1. use `groupby` to group on \"country_group\"\n",
        "2. select the \"unemployment_rate\" column\n",
        "3. use `.mean()` to get the average"
      ]
    },
    {
      "cell_type": "code",
      "metadata": {
        "id": "kQBwQvm8UMLO",
        "colab_type": "code",
        "colab": {
          "base_uri": "https://localhost:8080/",
          "height": 85
        },
        "outputId": "972ad14d-5702-4bca-9cb8-baa9c80e1553"
      },
      "source": [
        "unemployment.groupby(['country_group'])['unemployment_rate'].mean()"
      ],
      "execution_count": 160,
      "outputs": [
        {
          "output_type": "execute_result",
          "data": {
            "text/plain": [
              "country_group\n",
              "eu        8.303382\n",
              "non-eu    6.080616\n",
              "Name: unemployment_rate, dtype: float64"
            ]
          },
          "metadata": {
            "tags": []
          },
          "execution_count": 160
        }
      ]
    },
    {
      "cell_type": "markdown",
      "metadata": {
        "id": "tmgmwSlLUMLQ",
        "colab_type": "text"
      },
      "source": [
        "## 7. Exporting A DataFrame to csv <a id=\"section7\"/>\n",
        "\n",
        "As we can see, Croatia has lots of missing data. This `DataFrame` contains useful information&mdash;things to consider&mdash;when analyzing the data.\n",
        "\n",
        "Suppose we wanted to save this as a .csv file. For this, we'd use the `.to_csv()` method."
      ]
    },
    {
      "cell_type": "code",
      "metadata": {
        "id": "ilF2n5GDUMLQ",
        "colab_type": "code",
        "colab": {}
      },
      "source": [
        "unemployment_rate.to_csv('sample_data/country_total.csv')"
      ],
      "execution_count": 0,
      "outputs": []
    },
    {
      "cell_type": "code",
      "metadata": {
        "id": "wGSfAcXpepl7",
        "colab_type": "code",
        "colab": {}
      },
      "source": [
        ""
      ],
      "execution_count": 0,
      "outputs": []
    },
    {
      "cell_type": "markdown",
      "metadata": {
        "id": "LhcxNCZMUMLU",
        "colab_type": "text"
      },
      "source": [
        "Let's look at our file."
      ]
    },
    {
      "cell_type": "code",
      "metadata": {
        "id": "BKXqtMVQUMLU",
        "colab_type": "code",
        "colab": {
          "base_uri": "https://localhost:8080/",
          "height": 102
        },
        "outputId": "1bf49e59-767f-49d4-9b7e-4855377cc2f5"
      },
      "source": [
        "!head -5 sample_data/country_total.csv"
      ],
      "execution_count": 168,
      "outputs": [
        {
          "output_type": "stream",
          "text": [
            ",name_en,unemployment_rate_null,n_obs,null_percentage\n",
            "0,Austria,0.0,648,0.0\n",
            "1,Belgium,0.0,1008,0.0\n",
            "2,Bulgaria,180.0,576,0.3125\n",
            "3,Croatia,216.0,324,0.6666666666666666\n"
          ],
          "name": "stdout"
        }
      ]
    },
    {
      "cell_type": "markdown",
      "metadata": {
        "id": "PGFKzYLoUMLW",
        "colab_type": "text"
      },
      "source": [
        "By default, this method writes the indices. We probably don't want that. Let's edit the code. Let's also be explicit about the type of delimiter we're interested in. (Values can be separated by pipes (`|`), semicolons (`;`), tabs (`\\t`), etc.)"
      ]
    },
    {
      "cell_type": "code",
      "metadata": {
        "id": "HgeaY4K5UMLW",
        "colab_type": "code",
        "colab": {}
      },
      "source": [
        "unemployment_rate.to_csv('sample_data/country_total.csv', index=False, sep=',')"
      ],
      "execution_count": 0,
      "outputs": []
    },
    {
      "cell_type": "code",
      "metadata": {
        "id": "sXMHuyfZUMLY",
        "colab_type": "code",
        "colab": {
          "base_uri": "https://localhost:8080/",
          "height": 102
        },
        "outputId": "69bf89f0-4360-4f40-b69a-f0b7789655b3"
      },
      "source": [
        "!head -5 sample_data/country_total.csv"
      ],
      "execution_count": 171,
      "outputs": [
        {
          "output_type": "stream",
          "text": [
            "name_en,unemployment_rate_null,n_obs,null_percentage\n",
            "Austria,0.0,648,0.0\n",
            "Belgium,0.0,1008,0.0\n",
            "Bulgaria,180.0,576,0.3125\n",
            "Croatia,216.0,324,0.6666666666666666\n"
          ],
          "name": "stdout"
        }
      ]
    },
    {
      "cell_type": "markdown",
      "metadata": {
        "id": "spYgKU9SUMLZ",
        "colab_type": "text"
      },
      "source": [
        "Much better!\n",
        "\n",
        "Let's return to our main `DataFrame`. Now that we have the missing values information in `unemployment_rate`, we can **drop the last column** we added to `unemployment`."
      ]
    },
    {
      "cell_type": "code",
      "metadata": {
        "id": "upPuWjFYUMLa",
        "colab_type": "code",
        "colab": {}
      },
      "source": [
        "unemployment.drop('unemployment_rate_null', axis=1, inplace=True)"
      ],
      "execution_count": 0,
      "outputs": []
    },
    {
      "cell_type": "markdown",
      "metadata": {
        "id": "u3OhawlZUMLc",
        "colab_type": "text"
      },
      "source": [
        "It's important to specify the `axis` parameter. `axis=1` refers to columns (`axis=0` refers to rows.) The parameter `inplace=True` simply modifies the actual `DataFrame` rather than returning a new `DataFrame`."
      ]
    },
    {
      "cell_type": "code",
      "metadata": {
        "id": "wwzs3t8KUMLd",
        "colab_type": "code",
        "colab": {
          "base_uri": "https://localhost:8080/",
          "height": 204
        },
        "outputId": "30520d34-5cec-43e0-a6b7-770acf880baa"
      },
      "source": [
        "unemployment.head()"
      ],
      "execution_count": 180,
      "outputs": [
        {
          "output_type": "execute_result",
          "data": {
            "text/html": [
              "<div>\n",
              "<style scoped>\n",
              "    .dataframe tbody tr th:only-of-type {\n",
              "        vertical-align: middle;\n",
              "    }\n",
              "\n",
              "    .dataframe tbody tr th {\n",
              "        vertical-align: top;\n",
              "    }\n",
              "\n",
              "    .dataframe thead th {\n",
              "        text-align: right;\n",
              "    }\n",
              "</style>\n",
              "<table border=\"1\" class=\"dataframe\">\n",
              "  <thead>\n",
              "    <tr style=\"text-align: right;\">\n",
              "      <th></th>\n",
              "      <th>country</th>\n",
              "      <th>seasonality</th>\n",
              "      <th>year_month</th>\n",
              "      <th>year</th>\n",
              "      <th>month</th>\n",
              "      <th>unemployment</th>\n",
              "      <th>unemployment_rate</th>\n",
              "      <th>country_group</th>\n",
              "      <th>name_en</th>\n",
              "    </tr>\n",
              "  </thead>\n",
              "  <tbody>\n",
              "    <tr>\n",
              "      <th>0</th>\n",
              "      <td>at</td>\n",
              "      <td>nsa</td>\n",
              "      <td>1993.01</td>\n",
              "      <td>1993</td>\n",
              "      <td>1</td>\n",
              "      <td>171000</td>\n",
              "      <td>4.5</td>\n",
              "      <td>eu</td>\n",
              "      <td>Austria</td>\n",
              "    </tr>\n",
              "    <tr>\n",
              "      <th>1</th>\n",
              "      <td>at</td>\n",
              "      <td>nsa</td>\n",
              "      <td>1993.02</td>\n",
              "      <td>1993</td>\n",
              "      <td>2</td>\n",
              "      <td>175000</td>\n",
              "      <td>4.6</td>\n",
              "      <td>eu</td>\n",
              "      <td>Austria</td>\n",
              "    </tr>\n",
              "    <tr>\n",
              "      <th>2</th>\n",
              "      <td>at</td>\n",
              "      <td>nsa</td>\n",
              "      <td>1993.03</td>\n",
              "      <td>1993</td>\n",
              "      <td>3</td>\n",
              "      <td>166000</td>\n",
              "      <td>4.4</td>\n",
              "      <td>eu</td>\n",
              "      <td>Austria</td>\n",
              "    </tr>\n",
              "    <tr>\n",
              "      <th>3</th>\n",
              "      <td>at</td>\n",
              "      <td>nsa</td>\n",
              "      <td>1993.04</td>\n",
              "      <td>1993</td>\n",
              "      <td>4</td>\n",
              "      <td>157000</td>\n",
              "      <td>4.1</td>\n",
              "      <td>eu</td>\n",
              "      <td>Austria</td>\n",
              "    </tr>\n",
              "    <tr>\n",
              "      <th>4</th>\n",
              "      <td>at</td>\n",
              "      <td>nsa</td>\n",
              "      <td>1993.05</td>\n",
              "      <td>1993</td>\n",
              "      <td>5</td>\n",
              "      <td>147000</td>\n",
              "      <td>3.9</td>\n",
              "      <td>eu</td>\n",
              "      <td>Austria</td>\n",
              "    </tr>\n",
              "  </tbody>\n",
              "</table>\n",
              "</div>"
            ],
            "text/plain": [
              "  country seasonality  year_month  ...  unemployment_rate  country_group  name_en\n",
              "0      at         nsa     1993.01  ...                4.5             eu  Austria\n",
              "1      at         nsa     1993.02  ...                4.6             eu  Austria\n",
              "2      at         nsa     1993.03  ...                4.4             eu  Austria\n",
              "3      at         nsa     1993.04  ...                4.1             eu  Austria\n",
              "4      at         nsa     1993.05  ...                3.9             eu  Austria\n",
              "\n",
              "[5 rows x 9 columns]"
            ]
          },
          "metadata": {
            "tags": []
          },
          "execution_count": 180
        }
      ]
    },
    {
      "cell_type": "markdown",
      "metadata": {
        "id": "VjRci-nxUMLf",
        "colab_type": "text"
      },
      "source": [
        "## 8. Dealing With Missing Values: Boolean Indexing <a id=\"section8\"/>\n",
        "\n",
        "Now that we know about the missing values, we have to deal with them. There are two main options:\n",
        "\n",
        "* Fill the missing values with some other values.\n",
        "* Do not use observations with missing values.\n",
        "    * Depending on the analysis, we may want to exclude entire countries.\n",
        "    \n",
        "Because countries with missing unemployment rate data have at least 36 missing values, which is too many to fill, we'll take the second approach and **exclude missing values** from our primary analyses.\n",
        "\n",
        "Instead of just getting rid of that data, it might make sense to store it in a separate `DataFrame`. This way, we could answer questions such as, \"do missing values occur during certain months (or years) more frequently?\" With this, we will introduce the concept of *boolean indexing* for filtering data."
      ]
    },
    {
      "cell_type": "code",
      "metadata": {
        "id": "sEPOsPS2UMLg",
        "colab_type": "code",
        "colab": {}
      },
      "source": [
        "unemployment_rate_missing = unemployment[unemployment['unemployment_rate'].isnull()]"
      ],
      "execution_count": 0,
      "outputs": []
    },
    {
      "cell_type": "markdown",
      "metadata": {
        "id": "A3t7kaQJUMLh",
        "colab_type": "text"
      },
      "source": [
        "Recall that `unemployment['unemployment_rate'].isnull()` produces an array of boolean values. We used this previously when counting the number of missing values, though we did not see its output. Let's see some of that now."
      ]
    },
    {
      "cell_type": "code",
      "metadata": {
        "id": "I3gnbKpdUMLi",
        "colab_type": "code",
        "colab": {
          "base_uri": "https://localhost:8080/",
          "height": 204
        },
        "outputId": "0ee4e0ce-d791-4a05-9824-98db7f3d6652"
      },
      "source": [
        "unemployment['unemployment_rate'].isnull()[:10]"
      ],
      "execution_count": 182,
      "outputs": [
        {
          "output_type": "execute_result",
          "data": {
            "text/plain": [
              "0    False\n",
              "1    False\n",
              "2    False\n",
              "3    False\n",
              "4    False\n",
              "5    False\n",
              "6    False\n",
              "7    False\n",
              "8    False\n",
              "9    False\n",
              "Name: unemployment_rate, dtype: bool"
            ]
          },
          "metadata": {
            "tags": []
          },
          "execution_count": 182
        }
      ]
    },
    {
      "cell_type": "markdown",
      "metadata": {
        "id": "DN8UEOrSUMLj",
        "colab_type": "text"
      },
      "source": [
        "To create `unemployment_rate_missing`, we're indexing `unemployment` with the array above. This returns only the rows where the value in the array is `True`. Let's see if it worked."
      ]
    },
    {
      "cell_type": "code",
      "metadata": {
        "id": "FvaKgMQiUMLk",
        "colab_type": "code",
        "colab": {
          "base_uri": "https://localhost:8080/",
          "height": 204
        },
        "outputId": "3a5ae3d3-d03a-4482-9e5e-3bbbb4fa3375"
      },
      "source": [
        "unemployment_rate_missing.head()"
      ],
      "execution_count": 183,
      "outputs": [
        {
          "output_type": "execute_result",
          "data": {
            "text/html": [
              "<div>\n",
              "<style scoped>\n",
              "    .dataframe tbody tr th:only-of-type {\n",
              "        vertical-align: middle;\n",
              "    }\n",
              "\n",
              "    .dataframe tbody tr th {\n",
              "        vertical-align: top;\n",
              "    }\n",
              "\n",
              "    .dataframe thead th {\n",
              "        text-align: right;\n",
              "    }\n",
              "</style>\n",
              "<table border=\"1\" class=\"dataframe\">\n",
              "  <thead>\n",
              "    <tr style=\"text-align: right;\">\n",
              "      <th></th>\n",
              "      <th>country</th>\n",
              "      <th>seasonality</th>\n",
              "      <th>year_month</th>\n",
              "      <th>year</th>\n",
              "      <th>month</th>\n",
              "      <th>unemployment</th>\n",
              "      <th>unemployment_rate</th>\n",
              "      <th>country_group</th>\n",
              "      <th>name_en</th>\n",
              "    </tr>\n",
              "  </thead>\n",
              "  <tbody>\n",
              "    <tr>\n",
              "      <th>1656</th>\n",
              "      <td>bg</td>\n",
              "      <td>nsa</td>\n",
              "      <td>1995.01</td>\n",
              "      <td>1995</td>\n",
              "      <td>1</td>\n",
              "      <td>391000</td>\n",
              "      <td>NaN</td>\n",
              "      <td>eu</td>\n",
              "      <td>Bulgaria</td>\n",
              "    </tr>\n",
              "    <tr>\n",
              "      <th>1657</th>\n",
              "      <td>bg</td>\n",
              "      <td>nsa</td>\n",
              "      <td>1995.02</td>\n",
              "      <td>1995</td>\n",
              "      <td>2</td>\n",
              "      <td>387000</td>\n",
              "      <td>NaN</td>\n",
              "      <td>eu</td>\n",
              "      <td>Bulgaria</td>\n",
              "    </tr>\n",
              "    <tr>\n",
              "      <th>1658</th>\n",
              "      <td>bg</td>\n",
              "      <td>nsa</td>\n",
              "      <td>1995.03</td>\n",
              "      <td>1995</td>\n",
              "      <td>3</td>\n",
              "      <td>378000</td>\n",
              "      <td>NaN</td>\n",
              "      <td>eu</td>\n",
              "      <td>Bulgaria</td>\n",
              "    </tr>\n",
              "    <tr>\n",
              "      <th>1659</th>\n",
              "      <td>bg</td>\n",
              "      <td>nsa</td>\n",
              "      <td>1995.04</td>\n",
              "      <td>1995</td>\n",
              "      <td>4</td>\n",
              "      <td>365000</td>\n",
              "      <td>NaN</td>\n",
              "      <td>eu</td>\n",
              "      <td>Bulgaria</td>\n",
              "    </tr>\n",
              "    <tr>\n",
              "      <th>1660</th>\n",
              "      <td>bg</td>\n",
              "      <td>nsa</td>\n",
              "      <td>1995.05</td>\n",
              "      <td>1995</td>\n",
              "      <td>5</td>\n",
              "      <td>346000</td>\n",
              "      <td>NaN</td>\n",
              "      <td>eu</td>\n",
              "      <td>Bulgaria</td>\n",
              "    </tr>\n",
              "  </tbody>\n",
              "</table>\n",
              "</div>"
            ],
            "text/plain": [
              "     country seasonality  year_month  ...  unemployment_rate  country_group   name_en\n",
              "1656      bg         nsa     1995.01  ...                NaN             eu  Bulgaria\n",
              "1657      bg         nsa     1995.02  ...                NaN             eu  Bulgaria\n",
              "1658      bg         nsa     1995.03  ...                NaN             eu  Bulgaria\n",
              "1659      bg         nsa     1995.04  ...                NaN             eu  Bulgaria\n",
              "1660      bg         nsa     1995.05  ...                NaN             eu  Bulgaria\n",
              "\n",
              "[5 rows x 9 columns]"
            ]
          },
          "metadata": {
            "tags": []
          },
          "execution_count": 183
        }
      ]
    },
    {
      "cell_type": "markdown",
      "metadata": {
        "id": "974UFSJrUMLp",
        "colab_type": "text"
      },
      "source": [
        "It is also possible to specify multiple conditions using the `&` operator, but each condition needs to be inside of parentheses. The `.isin()` method, which takes a `list` of values, is useful when you're interested in conditioning on multiple values on a given column. For example, if you want to select multiple countries.\n",
        "\n",
        "Now, we're ready to remove the missing data in `unemployment`. To do this, we can use the `.dropna()` method."
      ]
    },
    {
      "cell_type": "code",
      "metadata": {
        "id": "neOmaFOmUMLq",
        "colab_type": "code",
        "colab": {}
      },
      "source": [
        "unemployment.dropna(subset=['unemployment_rate'], inplace=True)"
      ],
      "execution_count": 0,
      "outputs": []
    },
    {
      "cell_type": "markdown",
      "metadata": {
        "id": "LpKjqmQHUMLr",
        "colab_type": "text"
      },
      "source": [
        "(Note that while we have dropped all observations for which `unemployment_rate == NaN`, this doesn't mean that all of our observations overlap exactly in time. We may find that there are dates where we have data for one country and no data for others.)"
      ]
    },
    {
      "cell_type": "markdown",
      "metadata": {
        "id": "AgJQzconUMLs",
        "colab_type": "text"
      },
      "source": [
        "### Challenge 11: Boolean Indexing\n",
        "Suppose we only want to look at unemployment data from the year 2000 or later. Use Boolean indexing to create a DataFrame with only these years.\n",
        "\n",
        "1. Select the \"year\" column from `unemployment`\n",
        "2. Using the year data, create a **mask**: an array of Booleans where each value is True if and only if the year is 2000 or later. Remember, you can use Boolean operators like `>`, `<`, and `==` on a column\n",
        "3. Use the mask from step 2 to index `unemployment`"
      ]
    },
    {
      "cell_type": "code",
      "metadata": {
        "id": "GzNHoQXLUMLs",
        "colab_type": "code",
        "colab": {
          "base_uri": "https://localhost:8080/",
          "height": 221
        },
        "outputId": "da0ac93c-25d2-40c7-8149-29b23995c481"
      },
      "source": [
        "# select the year column from unemployment\n",
        "year = unemployment['year']\n",
        "\n",
        "# create a mask\n",
        "later_or_equal_2000 = year >= 2000\n",
        "\n",
        "# Boolean index unemployment\n",
        "print(later_or_equal_2000)"
      ],
      "execution_count": 189,
      "outputs": [
        {
          "output_type": "stream",
          "text": [
            "0        False\n",
            "1        False\n",
            "2        False\n",
            "3        False\n",
            "4        False\n",
            "         ...  \n",
            "20791     True\n",
            "20792     True\n",
            "20793     True\n",
            "20794     True\n",
            "20795     True\n",
            "Name: year, Length: 19851, dtype: bool\n"
          ],
          "name": "stdout"
        }
      ]
    },
    {
      "cell_type": "markdown",
      "metadata": {
        "id": "ZZjt6VPDUMLu",
        "colab_type": "text"
      },
      "source": [
        "## 9. Sorting Values\n",
        "\n",
        "At this point, you might be curious to know what the highest unemployment rates were. For this, we'll use the `DataFrame.sort_values()` method to **sort the data.**"
      ]
    },
    {
      "cell_type": "code",
      "metadata": {
        "id": "Yz6fAIpPUMLu",
        "colab_type": "code",
        "colab": {
          "base_uri": "https://localhost:8080/",
          "height": 204
        },
        "outputId": "117a248d-c425-4a38-99b6-5f6fb31e85f6"
      },
      "source": [
        "unemployment.sort_values('unemployment_rate', ascending=False)[:5]"
      ],
      "execution_count": 191,
      "outputs": [
        {
          "output_type": "execute_result",
          "data": {
            "text/html": [
              "<div>\n",
              "<style scoped>\n",
              "    .dataframe tbody tr th:only-of-type {\n",
              "        vertical-align: middle;\n",
              "    }\n",
              "\n",
              "    .dataframe tbody tr th {\n",
              "        vertical-align: top;\n",
              "    }\n",
              "\n",
              "    .dataframe thead th {\n",
              "        text-align: right;\n",
              "    }\n",
              "</style>\n",
              "<table border=\"1\" class=\"dataframe\">\n",
              "  <thead>\n",
              "    <tr style=\"text-align: right;\">\n",
              "      <th></th>\n",
              "      <th>country</th>\n",
              "      <th>seasonality</th>\n",
              "      <th>year_month</th>\n",
              "      <th>year</th>\n",
              "      <th>month</th>\n",
              "      <th>unemployment</th>\n",
              "      <th>unemployment_rate</th>\n",
              "      <th>country_group</th>\n",
              "      <th>name_en</th>\n",
              "    </tr>\n",
              "  </thead>\n",
              "  <tbody>\n",
              "    <tr>\n",
              "      <th>15526</th>\n",
              "      <td>pl</td>\n",
              "      <td>nsa</td>\n",
              "      <td>2004.02</td>\n",
              "      <td>2004</td>\n",
              "      <td>2</td>\n",
              "      <td>3531000</td>\n",
              "      <td>20.9</td>\n",
              "      <td>eu</td>\n",
              "      <td>Poland</td>\n",
              "    </tr>\n",
              "    <tr>\n",
              "      <th>15525</th>\n",
              "      <td>pl</td>\n",
              "      <td>nsa</td>\n",
              "      <td>2004.01</td>\n",
              "      <td>2004</td>\n",
              "      <td>1</td>\n",
              "      <td>3520000</td>\n",
              "      <td>20.7</td>\n",
              "      <td>eu</td>\n",
              "      <td>Poland</td>\n",
              "    </tr>\n",
              "    <tr>\n",
              "      <th>15514</th>\n",
              "      <td>pl</td>\n",
              "      <td>nsa</td>\n",
              "      <td>2003.02</td>\n",
              "      <td>2003</td>\n",
              "      <td>2</td>\n",
              "      <td>3460000</td>\n",
              "      <td>20.7</td>\n",
              "      <td>eu</td>\n",
              "      <td>Poland</td>\n",
              "    </tr>\n",
              "    <tr>\n",
              "      <th>5663</th>\n",
              "      <td>es</td>\n",
              "      <td>sa</td>\n",
              "      <td>2010.09</td>\n",
              "      <td>2010</td>\n",
              "      <td>9</td>\n",
              "      <td>4773000</td>\n",
              "      <td>20.6</td>\n",
              "      <td>eu</td>\n",
              "      <td>Spain</td>\n",
              "    </tr>\n",
              "    <tr>\n",
              "      <th>15527</th>\n",
              "      <td>pl</td>\n",
              "      <td>nsa</td>\n",
              "      <td>2004.03</td>\n",
              "      <td>2004</td>\n",
              "      <td>3</td>\n",
              "      <td>3475000</td>\n",
              "      <td>20.6</td>\n",
              "      <td>eu</td>\n",
              "      <td>Poland</td>\n",
              "    </tr>\n",
              "  </tbody>\n",
              "</table>\n",
              "</div>"
            ],
            "text/plain": [
              "      country seasonality  year_month  ...  unemployment_rate  country_group  name_en\n",
              "15526      pl         nsa     2004.02  ...               20.9             eu   Poland\n",
              "15525      pl         nsa     2004.01  ...               20.7             eu   Poland\n",
              "15514      pl         nsa     2003.02  ...               20.7             eu   Poland\n",
              "5663       es          sa     2010.09  ...               20.6             eu    Spain\n",
              "15527      pl         nsa     2004.03  ...               20.6             eu   Poland\n",
              "\n",
              "[5 rows x 9 columns]"
            ]
          },
          "metadata": {
            "tags": []
          },
          "execution_count": 191
        }
      ]
    },
    {
      "cell_type": "markdown",
      "metadata": {
        "id": "zbJfl6-eUMLv",
        "colab_type": "text"
      },
      "source": [
        "The above code creates a copy of the `DataFrame`, sorted in *descending* order, and prints the first five rows.\n",
        "\n",
        "You may have noticed that the data set includes a `seasonality` column, which we haven't yet discussed. The unemployment rate in this data is actually calculated in three separate ways. Let's look at the values."
      ]
    },
    {
      "cell_type": "code",
      "metadata": {
        "id": "15easJbxUMLw",
        "colab_type": "code",
        "colab": {
          "base_uri": "https://localhost:8080/",
          "height": 34
        },
        "outputId": "d960a08a-066f-4152-f83a-265b7e915f79"
      },
      "source": [
        "unemployment['seasonality'].unique()"
      ],
      "execution_count": 193,
      "outputs": [
        {
          "output_type": "execute_result",
          "data": {
            "text/plain": [
              "array(['nsa', 'sa', 'trend'], dtype=object)"
            ]
          },
          "metadata": {
            "tags": []
          },
          "execution_count": 193
        }
      ]
    },
    {
      "cell_type": "markdown",
      "metadata": {
        "id": "HuxbHXZQUMLx",
        "colab_type": "text"
      },
      "source": [
        "The three options above correspond to:\n",
        "\n",
        "* not seasonally adjusted\n",
        "* seasonally adjusted\n",
        "* trend cycle\n",
        "\n",
        "We'll stick with seasonally adjusted data so that the values are more comparable. Let's look at the highest unemployment rates in this context."
      ]
    },
    {
      "cell_type": "code",
      "metadata": {
        "id": "287s16iZUMLy",
        "colab_type": "code",
        "colab": {
          "base_uri": "https://localhost:8080/",
          "height": 204
        },
        "outputId": "926a4c14-517a-42bb-f5da-ca230a7d1c6f"
      },
      "source": [
        "unemployment[unemployment['seasonality'] == 'sa'].sort_values('unemployment_rate', ascending=False)[:5]"
      ],
      "execution_count": 195,
      "outputs": [
        {
          "output_type": "execute_result",
          "data": {
            "text/html": [
              "<div>\n",
              "<style scoped>\n",
              "    .dataframe tbody tr th:only-of-type {\n",
              "        vertical-align: middle;\n",
              "    }\n",
              "\n",
              "    .dataframe tbody tr th {\n",
              "        vertical-align: top;\n",
              "    }\n",
              "\n",
              "    .dataframe thead th {\n",
              "        text-align: right;\n",
              "    }\n",
              "</style>\n",
              "<table border=\"1\" class=\"dataframe\">\n",
              "  <thead>\n",
              "    <tr style=\"text-align: right;\">\n",
              "      <th></th>\n",
              "      <th>country</th>\n",
              "      <th>seasonality</th>\n",
              "      <th>year_month</th>\n",
              "      <th>year</th>\n",
              "      <th>month</th>\n",
              "      <th>unemployment</th>\n",
              "      <th>unemployment_rate</th>\n",
              "      <th>country_group</th>\n",
              "      <th>name_en</th>\n",
              "    </tr>\n",
              "  </thead>\n",
              "  <tbody>\n",
              "    <tr>\n",
              "      <th>5664</th>\n",
              "      <td>es</td>\n",
              "      <td>sa</td>\n",
              "      <td>2010.10</td>\n",
              "      <td>2010</td>\n",
              "      <td>10</td>\n",
              "      <td>4758000</td>\n",
              "      <td>20.6</td>\n",
              "      <td>eu</td>\n",
              "      <td>Spain</td>\n",
              "    </tr>\n",
              "    <tr>\n",
              "      <th>5663</th>\n",
              "      <td>es</td>\n",
              "      <td>sa</td>\n",
              "      <td>2010.09</td>\n",
              "      <td>2010</td>\n",
              "      <td>9</td>\n",
              "      <td>4773000</td>\n",
              "      <td>20.6</td>\n",
              "      <td>eu</td>\n",
              "      <td>Spain</td>\n",
              "    </tr>\n",
              "    <tr>\n",
              "      <th>5662</th>\n",
              "      <td>es</td>\n",
              "      <td>sa</td>\n",
              "      <td>2010.08</td>\n",
              "      <td>2010</td>\n",
              "      <td>8</td>\n",
              "      <td>4739000</td>\n",
              "      <td>20.5</td>\n",
              "      <td>eu</td>\n",
              "      <td>Spain</td>\n",
              "    </tr>\n",
              "    <tr>\n",
              "      <th>5665</th>\n",
              "      <td>es</td>\n",
              "      <td>sa</td>\n",
              "      <td>2010.11</td>\n",
              "      <td>2010</td>\n",
              "      <td>11</td>\n",
              "      <td>4723000</td>\n",
              "      <td>20.4</td>\n",
              "      <td>eu</td>\n",
              "      <td>Spain</td>\n",
              "    </tr>\n",
              "    <tr>\n",
              "      <th>15702</th>\n",
              "      <td>pl</td>\n",
              "      <td>sa</td>\n",
              "      <td>2002.10</td>\n",
              "      <td>2002</td>\n",
              "      <td>10</td>\n",
              "      <td>3471000</td>\n",
              "      <td>20.3</td>\n",
              "      <td>eu</td>\n",
              "      <td>Poland</td>\n",
              "    </tr>\n",
              "  </tbody>\n",
              "</table>\n",
              "</div>"
            ],
            "text/plain": [
              "      country seasonality  year_month  ...  unemployment_rate  country_group  name_en\n",
              "5664       es          sa     2010.10  ...               20.6             eu    Spain\n",
              "5663       es          sa     2010.09  ...               20.6             eu    Spain\n",
              "5662       es          sa     2010.08  ...               20.5             eu    Spain\n",
              "5665       es          sa     2010.11  ...               20.4             eu    Spain\n",
              "15702      pl          sa     2002.10  ...               20.3             eu   Poland\n",
              "\n",
              "[5 rows x 9 columns]"
            ]
          },
          "metadata": {
            "tags": []
          },
          "execution_count": 195
        }
      ]
    },
    {
      "cell_type": "markdown",
      "metadata": {
        "id": "6WbgFiwjUMLz",
        "colab_type": "text"
      },
      "source": [
        "Spain has the highest seasonally adjusted unemployment rate.\n",
        "\n"
      ]
    },
    {
      "cell_type": "markdown",
      "metadata": {
        "id": "0EHUJayTUML0",
        "colab_type": "text"
      },
      "source": [
        "## 10. Plotting With Pandas\n",
        "\n",
        "The best way to get a sense of this data is to **plot it.** Next, we'll start to look at some basic plotting with `pandas`. Before we begin, let's sort the data by country and date. This is good practice and is especially important when using `pandas`'s `.plot()` method because the x-axis values are based on the indices. When we sort, the index values remain unchanged. Thus, we need to reset them. The `drop` parameter tells `pandas` to construct a `DataFrame` *without* adding a column."
      ]
    },
    {
      "cell_type": "code",
      "metadata": {
        "id": "mhMAYifpUML0",
        "colab_type": "code",
        "colab": {}
      },
      "source": [
        "unemployment.sort_values(['name_en', 'year_month'], inplace=True)\n",
        "unemployment.reset_index(drop=True, inplace=True)"
      ],
      "execution_count": 0,
      "outputs": []
    },
    {
      "cell_type": "markdown",
      "metadata": {
        "id": "cuDBClyVUML2",
        "colab_type": "text"
      },
      "source": [
        "Let's take a look at Spain's unemployment rate (only because it was the highest) across time."
      ]
    },
    {
      "cell_type": "code",
      "metadata": {
        "id": "cOS0dIP9UML2",
        "colab_type": "code",
        "colab": {}
      },
      "source": [
        "spain = unemployment[(unemployment['name_en'] == 'Spain') &\n",
        "                     (unemployment['seasonality'] == 'sa')]"
      ],
      "execution_count": 0,
      "outputs": []
    },
    {
      "cell_type": "code",
      "metadata": {
        "id": "Mmfjx3r6UML4",
        "colab_type": "code",
        "colab": {
          "base_uri": "https://localhost:8080/",
          "height": 500
        },
        "outputId": "9cba2f7a-4051-4ab3-c9a2-9824b9cd8187"
      },
      "source": [
        "spain['unemployment_rate'].plot(figsize=(10, 8), color='#348ABD')"
      ],
      "execution_count": 198,
      "outputs": [
        {
          "output_type": "execute_result",
          "data": {
            "text/plain": [
              "<matplotlib.axes._subplots.AxesSubplot at 0x7f92377a1128>"
            ]
          },
          "metadata": {
            "tags": []
          },
          "execution_count": 198
        },
        {
          "output_type": "display_data",
          "data": {
            "image/png": "[encoded data removed]",
            "text/plain": [
              "<Figure size 720x576 with 1 Axes>"
            ]
          },
          "metadata": {
            "tags": []
          }
        }
      ]
    },
    {
      "cell_type": "markdown",
      "metadata": {
        "id": "2iCDklG4UML6",
        "colab_type": "text"
      },
      "source": [
        "Note that the values along the x-axis represent the indices associated with Spain in the sorted `unemployment` `DataFrame`. Wouldn't it be nice if, instead, we could **show the time period** associated with the various unemployment rates for Spain? It might also be interesting to **compare** Spain's unemployment rate with its neighbor to the west, Portugal.\n",
        "\n",
        "Let's first create a `DataFrame` that contains the unemployment data for both countries."
      ]
    },
    {
      "cell_type": "code",
      "metadata": {
        "id": "FQisCKaKUML9",
        "colab_type": "code",
        "colab": {}
      },
      "source": [
        "ps = unemployment[(unemployment['name_en'].isin(['Portugal', 'Spain'])) &\n",
        "                  (unemployment['seasonality'] == 'sa')]"
      ],
      "execution_count": 0,
      "outputs": []
    },
    {
      "cell_type": "markdown",
      "metadata": {
        "id": "QF1Kz8BSUML_",
        "colab_type": "text"
      },
      "source": [
        "Next, we'll **generate time series data** by converting our years and months into `datetime` objects. `pandas` provides a `to_datetime()` function that makes this relatively simple. It converts an argument&mdash;a single value or an array of values&mdash;to `datetime`. (Note that the return value [depends on the input](http://pandas.pydata.org/pandas-docs/stable/generated/pandas.to_datetime.html).) If we were interested in March 23, 1868, for example, we could do the following."
      ]
    },
    {
      "cell_type": "code",
      "metadata": {
        "id": "72h4oksLUMMA",
        "colab_type": "code",
        "colab": {
          "base_uri": "https://localhost:8080/",
          "height": 34
        },
        "outputId": "5739bbf1-af27-47f6-ce62-c84f4f3171a6"
      },
      "source": [
        "pd.to_datetime('1868/3/23')"
      ],
      "execution_count": 200,
      "outputs": [
        {
          "output_type": "execute_result",
          "data": {
            "text/plain": [
              "Timestamp('1868-03-23 00:00:00')"
            ]
          },
          "metadata": {
            "tags": []
          },
          "execution_count": 200
        }
      ]
    },
    {
      "cell_type": "markdown",
      "metadata": {
        "id": "_gM5rKDNUMMC",
        "colab_type": "text"
      },
      "source": [
        "The argument doesn't necessarily have to be specified in the `yyyy/mm/dd` format. You could list it as `mm/dd/yyyy`, but it's a good idea to be explicit. As a result, we pass in a valid string format."
      ]
    },
    {
      "cell_type": "code",
      "metadata": {
        "id": "WG-2R7qlUMMD",
        "colab_type": "code",
        "colab": {
          "base_uri": "https://localhost:8080/",
          "height": 34
        },
        "outputId": "92075684-c207-4531-a7eb-cead0aa96c13"
      },
      "source": [
        "pd.to_datetime('3/23/1868', format='%m/%d/%Y')"
      ],
      "execution_count": 201,
      "outputs": [
        {
          "output_type": "execute_result",
          "data": {
            "text/plain": [
              "Timestamp('1868-03-23 00:00:00')"
            ]
          },
          "metadata": {
            "tags": []
          },
          "execution_count": 201
        }
      ]
    },
    {
      "cell_type": "markdown",
      "metadata": {
        "id": "bNoXcljNUMME",
        "colab_type": "text"
      },
      "source": [
        "Let's create the `datetime` object and add it to the `DataFrame` as a column named `date`. For this, we'll use the `DataFrame.insert()` method."
      ]
    },
    {
      "cell_type": "code",
      "metadata": {
        "id": "A2Fk-HIxUMMG",
        "colab_type": "code",
        "colab": {}
      },
      "source": [
        "ps.insert(loc=0, column='date',\n",
        "          value=pd.to_datetime(ps['year'].astype(str) + '/' + ps['month'].astype(str) + '/1'))"
      ],
      "execution_count": 0,
      "outputs": []
    },
    {
      "cell_type": "markdown",
      "metadata": {
        "id": "HZB1LLDRUMMI",
        "colab_type": "text"
      },
      "source": [
        "Finally, let's only keep certain columns, rename them, and reshape the `DataFrame`."
      ]
    },
    {
      "cell_type": "code",
      "metadata": {
        "id": "qK9l6D3RUMMI",
        "colab_type": "code",
        "colab": {
          "base_uri": "https://localhost:8080/",
          "height": 235
        },
        "outputId": "1797ad7b-ea86-4ae5-ac82-5d216f1cc2b2"
      },
      "source": [
        "ps = ps[['date', 'name_en', 'unemployment_rate']]\n",
        "ps.columns = ['Time Period', 'Country', 'Unemployment Rate']\n",
        "ps = ps.pivot(index='Time Period', columns='Country', values='Unemployment Rate')\n",
        "ps.tail()"
      ],
      "execution_count": 203,
      "outputs": [
        {
          "output_type": "execute_result",
          "data": {
            "text/html": [
              "<div>\n",
              "<style scoped>\n",
              "    .dataframe tbody tr th:only-of-type {\n",
              "        vertical-align: middle;\n",
              "    }\n",
              "\n",
              "    .dataframe tbody tr th {\n",
              "        vertical-align: top;\n",
              "    }\n",
              "\n",
              "    .dataframe thead th {\n",
              "        text-align: right;\n",
              "    }\n",
              "</style>\n",
              "<table border=\"1\" class=\"dataframe\">\n",
              "  <thead>\n",
              "    <tr style=\"text-align: right;\">\n",
              "      <th>Country</th>\n",
              "      <th>Portugal</th>\n",
              "      <th>Spain</th>\n",
              "    </tr>\n",
              "    <tr>\n",
              "      <th>Time Period</th>\n",
              "      <th></th>\n",
              "      <th></th>\n",
              "    </tr>\n",
              "  </thead>\n",
              "  <tbody>\n",
              "    <tr>\n",
              "      <th>2010-08-01</th>\n",
              "      <td>11.1</td>\n",
              "      <td>20.5</td>\n",
              "    </tr>\n",
              "    <tr>\n",
              "      <th>2010-09-01</th>\n",
              "      <td>11.1</td>\n",
              "      <td>20.6</td>\n",
              "    </tr>\n",
              "    <tr>\n",
              "      <th>2010-10-01</th>\n",
              "      <td>11.0</td>\n",
              "      <td>20.6</td>\n",
              "    </tr>\n",
              "    <tr>\n",
              "      <th>2010-11-01</th>\n",
              "      <td>10.9</td>\n",
              "      <td>20.4</td>\n",
              "    </tr>\n",
              "    <tr>\n",
              "      <th>2010-12-01</th>\n",
              "      <td>10.9</td>\n",
              "      <td>20.2</td>\n",
              "    </tr>\n",
              "  </tbody>\n",
              "</table>\n",
              "</div>"
            ],
            "text/plain": [
              "Country      Portugal  Spain\n",
              "Time Period                 \n",
              "2010-08-01       11.1   20.5\n",
              "2010-09-01       11.1   20.6\n",
              "2010-10-01       11.0   20.6\n",
              "2010-11-01       10.9   20.4\n",
              "2010-12-01       10.9   20.2"
            ]
          },
          "metadata": {
            "tags": []
          },
          "execution_count": 203
        }
      ]
    },
    {
      "cell_type": "code",
      "metadata": {
        "id": "pwoaNx7MUMMK",
        "colab_type": "code",
        "colab": {
          "base_uri": "https://localhost:8080/",
          "height": 235
        },
        "outputId": "095c0091-9978-4404-f744-a7821485d9a2"
      },
      "source": [
        "ps.head()"
      ],
      "execution_count": 208,
      "outputs": [
        {
          "output_type": "execute_result",
          "data": {
            "text/html": [
              "<div>\n",
              "<style scoped>\n",
              "    .dataframe tbody tr th:only-of-type {\n",
              "        vertical-align: middle;\n",
              "    }\n",
              "\n",
              "    .dataframe tbody tr th {\n",
              "        vertical-align: top;\n",
              "    }\n",
              "\n",
              "    .dataframe thead th {\n",
              "        text-align: right;\n",
              "    }\n",
              "</style>\n",
              "<table border=\"1\" class=\"dataframe\">\n",
              "  <thead>\n",
              "    <tr style=\"text-align: right;\">\n",
              "      <th>Country</th>\n",
              "      <th>Portugal</th>\n",
              "      <th>Spain</th>\n",
              "    </tr>\n",
              "    <tr>\n",
              "      <th>Time Period</th>\n",
              "      <th></th>\n",
              "      <th></th>\n",
              "    </tr>\n",
              "  </thead>\n",
              "  <tbody>\n",
              "    <tr>\n",
              "      <th>1983-01-01</th>\n",
              "      <td>7.5</td>\n",
              "      <td>NaN</td>\n",
              "    </tr>\n",
              "    <tr>\n",
              "      <th>1983-02-01</th>\n",
              "      <td>7.6</td>\n",
              "      <td>NaN</td>\n",
              "    </tr>\n",
              "    <tr>\n",
              "      <th>1983-03-01</th>\n",
              "      <td>7.7</td>\n",
              "      <td>NaN</td>\n",
              "    </tr>\n",
              "    <tr>\n",
              "      <th>1983-04-01</th>\n",
              "      <td>7.9</td>\n",
              "      <td>NaN</td>\n",
              "    </tr>\n",
              "    <tr>\n",
              "      <th>1983-05-01</th>\n",
              "      <td>8.0</td>\n",
              "      <td>NaN</td>\n",
              "    </tr>\n",
              "  </tbody>\n",
              "</table>\n",
              "</div>"
            ],
            "text/plain": [
              "Country      Portugal  Spain\n",
              "Time Period                 \n",
              "1983-01-01        7.5    NaN\n",
              "1983-02-01        7.6    NaN\n",
              "1983-03-01        7.7    NaN\n",
              "1983-04-01        7.9    NaN\n",
              "1983-05-01        8.0    NaN"
            ]
          },
          "metadata": {
            "tags": []
          },
          "execution_count": 208
        }
      ]
    },
    {
      "cell_type": "markdown",
      "metadata": {
        "id": "WzU3jU0JUMML",
        "colab_type": "text"
      },
      "source": [
        "Notice the indices."
      ]
    },
    {
      "cell_type": "code",
      "metadata": {
        "id": "W2QldZtNUMML",
        "colab_type": "code",
        "colab": {
          "base_uri": "https://localhost:8080/",
          "height": 550
        },
        "outputId": "5aa98f88-9452-4f7a-ae68-4ae3330b2a06"
      },
      "source": [
        "ps.plot(figsize=(10, 8), title='Unemployment Rate\\n')"
      ],
      "execution_count": 205,
      "outputs": [
        {
          "output_type": "execute_result",
          "data": {
            "text/plain": [
              "<matplotlib.axes._subplots.AxesSubplot at 0x7f92376deb38>"
            ]
          },
          "metadata": {
            "tags": []
          },
          "execution_count": 205
        },
        {
          "output_type": "display_data",
          "data": {
            "image/png": "[encoded data removed]",
            "text/plain": [
              "<Figure size 720x576 with 1 Axes>"
            ]
          },
          "metadata": {
            "tags": []
          }
        }
      ]
    },
    {
      "cell_type": "markdown",
      "metadata": {
        "collapsed": true,
        "id": "G0Xe_m79UMMN",
        "colab_type": "text"
      },
      "source": [
        "### Challenge 12: Plot without missing values\n",
        "Note that there are some dates for which we lack data on Spain's unemployment rate. What could you do if you wanted your plot to show only dates where both Spain and Portugal have a defined unemployment rate?"
      ]
    },
    {
      "cell_type": "code",
      "metadata": {
        "id": "DBwlxI_TUMMN",
        "colab_type": "code",
        "colab": {
          "base_uri": "https://localhost:8080/",
          "height": 85
        },
        "outputId": "3a4b8567-a4db-4457-89ba-fb1b2be13e11"
      },
      "source": [
        "ps.isna().sum()"
      ],
      "execution_count": 218,
      "outputs": [
        {
          "output_type": "execute_result",
          "data": {
            "text/plain": [
              "Country\n",
              "Portugal     0\n",
              "Spain       39\n",
              "dtype: int64"
            ]
          },
          "metadata": {
            "tags": []
          },
          "execution_count": 218
        }
      ]
    },
    {
      "cell_type": "code",
      "metadata": {
        "id": "MMSF_ubXhVVr",
        "colab_type": "code",
        "colab": {}
      },
      "source": [
        "a = ps.dropna()"
      ],
      "execution_count": 0,
      "outputs": []
    },
    {
      "cell_type": "code",
      "metadata": {
        "id": "hc4BiB17h6_k",
        "colab_type": "code",
        "colab": {
          "base_uri": "https://localhost:8080/",
          "height": 85
        },
        "outputId": "730b90c7-b768-4cd3-82db-1cc360e08f27"
      },
      "source": [
        "a.isna().sum()"
      ],
      "execution_count": 224,
      "outputs": [
        {
          "output_type": "execute_result",
          "data": {
            "text/plain": [
              "Country\n",
              "Portugal    0\n",
              "Spain       0\n",
              "dtype: int64"
            ]
          },
          "metadata": {
            "tags": []
          },
          "execution_count": 224
        }
      ]
    },
    {
      "cell_type": "code",
      "metadata": {
        "id": "yhFKIVfoiG2p",
        "colab_type": "code",
        "colab": {}
      },
      "source": [
        ""
      ],
      "execution_count": 0,
      "outputs": []
    },
    {
      "cell_type": "code",
      "metadata": {
        "id": "BzFdbD4Nhcqn",
        "colab_type": "code",
        "colab": {
          "base_uri": "https://localhost:8080/",
          "height": 550
        },
        "outputId": "8f06cbc7-b80a-4af0-a05f-e46f3c798ba1"
      },
      "source": [
        "a.plot(figsize=(10, 8), title='Unemployment Rate\\n')"
      ],
      "execution_count": 225,
      "outputs": [
        {
          "output_type": "execute_result",
          "data": {
            "text/plain": [
              "<matplotlib.axes._subplots.AxesSubplot at 0x7f92370d2048>"
            ]
          },
          "metadata": {
            "tags": []
          },
          "execution_count": 225
        },
        {
          "output_type": "display_data",
          "data": {
            "image/png": "[encoded data removed]",
            "text/plain": [
              "<Figure size 720x576 with 1 Axes>"
            ]
          },
          "metadata": {
            "tags": []
          }
        }
      ]
    }
  ]
}