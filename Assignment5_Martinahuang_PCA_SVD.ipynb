{
  "nbformat": 4,
  "nbformat_minor": 0,
  "metadata": {
    "colab": {
      "name": "Copy of assignment_name_PCA_SVD.ipynb",
      "provenance": [],
      "include_colab_link": true
    },
    "kernelspec": {
      "name": "python3",
      "display_name": "Python 3"
    }
  },
  "cells": [
    {
      "cell_type": "markdown",
      "metadata": {
        "id": "view-in-github",
        "colab_type": "text"
      },
      "source": [
        "<a href=\"https://colab.research.google.com/github/martinahuang/CUS615/blob/master/Assignment5_Martinahuang_PCA_SVD.ipynb\" target=\"_parent\"><img src=\"https://colab.research.google.com/assets/colab-badge.svg\" alt=\"Open In Colab\"/></a>"
      ]
    },
    {
      "cell_type": "markdown",
      "metadata": {
        "id": "e7H1KjiCex81",
        "colab_type": "text"
      },
      "source": [
        "## Workshop on using PCA\n",
        "This assignment is intended as a workshop to practice the use of Singular Value Decomposition and Principal Component Analysis as two ways to perform Matrix Factorization and Dimensionality Reduction. \n",
        "\n",
        "<div> By: Dr. Christoforos Christoforou </div>"
      ]
    },
    {
      "cell_type": "code",
      "metadata": {
        "id": "0VttSzIpsI3m",
        "colab_type": "code",
        "colab": {}
      },
      "source": [
        "%matplotlib inline\n",
        "import numpy as np\n",
        "import matplotlib.pyplot as plt\n",
        "import seaborn as sns; sns.set()\n",
        "from sklearn.preprocessing import StandardScaler\n",
        "\n"
      ],
      "execution_count": 0,
      "outputs": []
    },
    {
      "cell_type": "markdown",
      "metadata": {
        "id": "XdJsj33pEdlZ",
        "colab_type": "text"
      },
      "source": [
        "## Challenge 1: Apply PCA on sample data - using numpy. \n",
        "In this section you need to apply PCA on a simulated dataset. You need to extract the prinipal components and use them to reduce the dimensionality of the data. For this challenge **do not use** sklearn library. Some starting code is provided for you in each cell. Complete all the exercises to earn all points in this challenge. "
      ]
    },
    {
      "cell_type": "code",
      "metadata": {
        "id": "sn4tJNf2rPf9",
        "colab_type": "code",
        "colab": {}
      },
      "source": [
        "#\n",
        "# Generate the dataset, split it into \n",
        "# \n",
        "rng = np.random.RandomState(4)     # Seed the random number generator.\n",
        "n_samples = 1000                    # Specify the number of samples. \n",
        "X_all = np.array([5,1,1,1,2]).T + np.dot(rng.rand(5, 5), rng.randn(5, n_samples)).T \n",
        "X_train, X_test = X_all[:n_samples//2,:],X_all[n_samples//2:,:] \n"
      ],
      "execution_count": 0,
      "outputs": []
    },
    {
      "cell_type": "markdown",
      "metadata": {
        "id": "AvO7Si-XtY9_",
        "colab_type": "text"
      },
      "source": [
        "### Answer the following question.\n",
        "Use the cell below to find the answer to the following questions. \n",
        "\n",
        "- What is the dimensions of `X_train` and `X_test`?\n",
        "- How many `features` does each sample has (i.e. what is the dimensionality of the observations in data matrix X_all)?\n",
        "- Create three 2D scatter plots to show the relationship between to features-pairs (1,2), (1,4), (3,4)? Make sure you label each scatter plot. \n",
        "\n",
        "As an example, the following code create a scatter plot between the 1st and 3rd feature dimension\n",
        "```python \n",
        "plt.scatter(X_train[:,1],X_train[:,3])\n",
        "plt.title(\"Scatter plot between feature 2 and feature 4\")\n",
        "plt.xlabel(\"Feature 2\")\n",
        "plt.ylabel(\"Feature 4\")\n",
        "plt.axis(\"square\")\n",
        "\n",
        "``` "
      ]
    },
    {
      "cell_type": "code",
      "metadata": {
        "id": "YkHb5BQIsCci",
        "colab_type": "code",
        "colab": {}
      },
      "source": [
        "#\n",
        "# Use this cell to figure out the anwers to the questions above.\n",
        "#\n",
        "# 1. The dimensions for  X train are 2 \n",
        "    # The dimensions and for X_test are start from the second np.array thus, there are 2 dimensions.\n",
        "\n",
        "\n",
        "#2. There are 500 samples and 5 features in X_train and 500 samples and 5 features in X_test.\n",
        "     # X_all has 2 dimensions\n",
        "\n"
      ],
      "execution_count": 0,
      "outputs": []
    },
    {
      "cell_type": "code",
      "metadata": {
        "id": "g41hJghzZ-We",
        "colab_type": "code",
        "colab": {
          "base_uri": "https://localhost:8080/",
          "height": 34
        },
        "outputId": "ac300468-197b-46a7-e383-473d5cee4e8c"
      },
      "source": [
        "X_test.shape, X_train.shape, X_all.ndim"
      ],
      "execution_count": 17,
      "outputs": [
        {
          "output_type": "execute_result",
          "data": {
            "text/plain": [
              "((500, 5), (500, 5), 2)"
            ]
          },
          "metadata": {
            "tags": []
          },
          "execution_count": 17
        }
      ]
    },
    {
      "cell_type": "code",
      "metadata": {
        "id": "e1KCauPRufWZ",
        "colab_type": "code",
        "outputId": "e143feec-8fdd-4f88-cb4d-271d547ae8f0",
        "colab": {
          "base_uri": "https://localhost:8080/",
          "height": 247
        }
      },
      "source": [
        "#\n",
        "# Display the scatter plot between the feature pairs (1,2), (1,4), (3,4) \n",
        "# \n",
        "plt.figure(figsize=(20,10))\n",
        "\n",
        "# Plot the scatter plot between feature-pair (1,2) \n",
        "plt.subplot(1,4,1)\n",
        "plt.scatter(X_train[:,1],X_train[:,2])\n",
        "plt.title(\"Scatter plot between feature 1 and feature 2\")\n",
        "plt.xlabel(\"Feature 1\")\n",
        "plt.ylabel(\"Feature 2\")\n",
        "plt.axis(\"square\")\n",
        "\n",
        "\n",
        "# Plot the scatter plot between feature-pair (1,4)\n",
        "plt.subplot(1,4,2)\n",
        "plt.scatter(X_train[:,1],X_train[:,4])\n",
        "plt.title(\"Scatter plot between feature 1 and feature 4\")\n",
        "plt.xlabel(\"Feature 1\")\n",
        "plt.ylabel(\"Feature 4\")\n",
        "plt.axis(\"square\")\n",
        "\n",
        "\n",
        "# Plot the scatter plot between feature-pair (3,4)\n",
        "plt.subplot(1,4,3)\n",
        "plt.scatter(X_train[:,3],X_train[:,4])\n",
        "plt.title(\"Scatter plot between feature 3 and feature 4\")\n",
        "plt.xlabel(\"Feature 3\")\n",
        "plt.ylabel(\"Feature 4\")\n",
        "plt.axis(\"square\")\n",
        "\n",
        "\n",
        "# Plot the scatter plot between feature-pair (1,2) \n",
        "plt.subplot(1,4,4)\n",
        "plt.scatter(X_train[:,1],X_train[:,2])\n",
        "plt.title(\"Scatter plot between feature 1 and feature 2\")\n",
        "plt.xlabel(\"Feature 1\")\n",
        "plt.ylabel(\"Feature 2\")\n",
        "plt.axis(\"square\")\n",
        "# Plot the scatter plot between feature-pair (1,4)\n",
        "plt.subplot(1,4,4)\n",
        "plt.scatter(X_train[:,1],X_train[:,4])\n",
        "plt.title(\"Scatter plot between feature 1 and feature 4\")\n",
        "plt.xlabel(\"Feature 1\")\n",
        "plt.ylabel(\"Feature 4\")\n",
        "plt.axis(\"square\")\n",
        "# Plot the scatter plot between feature-pair (3,4)\n",
        "plt.subplot(1,4,4)\n",
        "plt.scatter(X_train[:,3],X_train[:,4])\n",
        "plt.title(\"Scatter plot between feature 3 and feature 4\")\n",
        "plt.xlabel(\"Feature 3\")\n",
        "plt.ylabel(\"Feature 4\")\n",
        "plt.axis(\"square\")\n",
        "\n",
        "plt.show()\n"
      ],
      "execution_count": 18,
      "outputs": [
        {
          "output_type": "stream",
          "text": [
            "/usr/local/lib/python3.6/dist-packages/ipykernel_launcher.py:38: MatplotlibDeprecationWarning: Adding an axes using the same arguments as a previous axes currently reuses the earlier instance.  In a future version, a new instance will always be created and returned.  Meanwhile, this warning can be suppressed, and the future behavior ensured, by passing a unique label to each axes instance.\n",
            "/usr/local/lib/python3.6/dist-packages/ipykernel_launcher.py:45: MatplotlibDeprecationWarning: Adding an axes using the same arguments as a previous axes currently reuses the earlier instance.  In a future version, a new instance will always be created and returned.  Meanwhile, this warning can be suppressed, and the future behavior ensured, by passing a unique label to each axes instance.\n"
          ],
          "name": "stderr"
        },
        {
          "output_type": "display_data",
          "data": {
            "image/png": "[encoded data removed]",
            "text/plain": [
              "<Figure size 1440x720 with 4 Axes>"
            ]
          },
          "metadata": {
            "tags": []
          }
        }
      ]
    },
    {
      "cell_type": "markdown",
      "metadata": {
        "id": "zySDhljMzba5",
        "colab_type": "text"
      },
      "source": [
        "### Exercise 1.1 : Calculate the covariance matrix.\n",
        "Calculate the covariance matrix of the training data matrix `X_train`. Show all you steps as outlined in the skeleton code provided. In particular, you need to \n",
        "calculate the observations' mean; subtract the mean from the data matrix; standardize the observations by dividing each feature with its corresponding standard deviation; and calculate the covarnace matrix. \n",
        "\n",
        "**Hints**\n",
        "  - Notice that you can find the mean of an array `A` along a particular dimension `b`, using the numpy command `np.mean(A,axis=b)`. In case `b=0` the mean is taken along the 0th dimension (i.e along the rows), when `b=1` the mean is taken along the 1st dimension (i.e. along the columns). Similarly, you can find the standard deviation of the array using the command `np.std(A,axis=b)` \n",
        "\n",
        "  - Python `broadcasting` allows you to perform artithmetic operation on arrays with different sizes, thus vectorizing the arithmetic operations and eliminates the need for using inefficent for loops. The following example shows how boradcasting is used to add  a row vector from every row in the 2D array.\n",
        "  ```python\n",
        "    # Example of using broadcasting\n",
        "    sample = np.array([[2,4], [10,-5]])\n",
        "    to_add = np.array([3,7])\n",
        "    sample_add_using_broadcasting  = sample + to_add \n",
        "    print(sample)\n",
        "    print(sample_add_using_broadcasting)\n",
        "  ``` \n",
        "  - The covariance matrix of a data matrix $X\\in \\mathbb{R}^{N\\times D}$(i.e. a matrix with $N$ rows/observations and $D$ columns/features is defined as \n",
        "    $\\frac{1}{N-1} X^T X$ where the term $\\frac{1}{N-1}$ is the normalization constant, and $^T$ denotes the matrix transpose. \n",
        "     In numpy, we can multiply two numpy arrays/matrices using the `np.matmul()` method and we can transpose a matrix by accessing the `.T`  property of the array (i.e. `np.matmul(X.T,X)`).\n"
      ]
    },
    {
      "cell_type": "code",
      "metadata": {
        "id": "RlhdZ9y30qCN",
        "colab_type": "code",
        "colab": {}
      },
      "source": [
        "#\n",
        "# Calculate the mean of X_train\n",
        "# \n",
        "\n",
        "X_mean = np.mean(X_train)\n",
        "\n",
        "#\n",
        "# Subtract the mean \n",
        "#\n",
        "\n",
        "X_train_mean_subtracted = X_all - X_mean\n",
        "\n",
        "# \n",
        "# Standarized observation to unit variance (i.e. divide by standard deviation)\n",
        "#\n",
        "\n",
        "X_std = np.std(X_train.T)\n",
        "X_train_std = X_train.T/X_std.T\n",
        "\n",
        "\n",
        "#\n",
        "# Calculate the covariance of the standarized observations.\n",
        "# Make sure you use the appropripate normalization constant \n",
        "\n",
        "X_train_cov = np.cov(X_train_std.T)\n"
      ],
      "execution_count": 0,
      "outputs": []
    },
    {
      "cell_type": "code",
      "metadata": {
        "id": "EEJvquHlZkyf",
        "colab_type": "code",
        "outputId": "5846a789-619c-4c75-d5da-6250c1f85a1c",
        "colab": {
          "base_uri": "https://localhost:8080/",
          "height": 136
        }
      },
      "source": [
        "print(X_train_cov)"
      ],
      "execution_count": 0,
      "outputs": [
        {
          "output_type": "stream",
          "text": [
            "[[0.47726892 1.07114772 1.1119482  ... 0.36011532 0.76808071 0.40245277]\n",
            " [1.07114772 2.41296599 2.50889746 ... 0.80688047 1.72939391 0.90054223]\n",
            " [1.1119482  2.50889746 2.61079242 ... 0.83705556 1.79785731 0.93354202]\n",
            " ...\n",
            " [0.36011532 0.80688047 0.83705556 ... 0.27192603 0.57871809 0.30404938]\n",
            " [0.76808071 1.72939391 1.79785731 ... 0.57871809 1.23959551 0.64600472]\n",
            " [0.40245277 0.90054223 0.93354202 ... 0.30404938 0.64600472 0.34024133]]\n"
          ],
          "name": "stdout"
        }
      ]
    },
    {
      "cell_type": "code",
      "metadata": {
        "id": "xcpBCBHhSwfR",
        "colab_type": "code",
        "colab": {}
      },
      "source": [
        ""
      ],
      "execution_count": 0,
      "outputs": []
    },
    {
      "cell_type": "markdown",
      "metadata": {
        "id": "aunT2XPB-RDW",
        "colab_type": "text"
      },
      "source": [
        "#### Answer the following questions:\n",
        "Use the cell below to answer the following questions and show your work.\n",
        "\n",
        "- Print the content of the covariance matrix.\n",
        "- What are the dimensions of the covariance matrix `X_train_cov` \n",
        "- What values do you see on the diagonal elements of the covariance matrix.\n",
        "- Which feature-pairs have the largest covariance value; what is that value. "
      ]
    },
    {
      "cell_type": "code",
      "metadata": {
        "id": "cH7VfTR-2hvY",
        "colab_type": "code",
        "outputId": "d2354826-a584-46dd-a0fd-df4564978e28",
        "colab": {
          "base_uri": "https://localhost:8080/",
          "height": 516
        }
      },
      "source": [
        "#\n",
        "# Complete the code below to display a heatmap of the Covariance matrix \n",
        "#\n",
        "colormap = sns.diverging_palette(110, 10, as_cmap=True)\n",
        "sns.heatmap(X_train_cov, cmap= colormap, annot=True, fmt=\".2f\")\n",
        "plt.title(\"Covariance Matrix\")\n",
        "plt.show()\n",
        "\n",
        "\n",
        "#\n",
        "# Write code to find the answers to the questions in the cell above. \n",
        "#\n",
        "print(X_train_cov)\n"
      ],
      "execution_count": 20,
      "outputs": [
        {
          "output_type": "display_data",
          "data": {
            "image/png": "[encoded data removed]",
            "text/plain": [
              "<Figure size 432x288 with 2 Axes>"
            ]
          },
          "metadata": {
            "tags": []
          }
        },
        {
          "output_type": "stream",
          "text": [
            "[[ 1.34419542  0.43755956  1.05780733 ...  0.14485977  1.05002179\n",
            "   0.17972209]\n",
            " [ 0.43755956  0.55858339  0.74936144 ...  0.58865395  0.48382513\n",
            "   0.51638126]\n",
            " [ 1.05780733  0.74936144  1.39502536 ...  0.35124038  1.16670374\n",
            "   0.43598586]\n",
            " ...\n",
            " [ 0.14485977  0.58865395  0.35124038 ...  1.2479663  -0.06701164\n",
            "   0.8826452 ]\n",
            " [ 1.05002179  0.48382513  1.16670374 ... -0.06701164  1.12143576\n",
            "   0.11087449]\n",
            " [ 0.17972209  0.51638126  0.43598586 ...  0.8826452   0.11087449\n",
            "   0.66530316]]\n"
          ],
          "name": "stdout"
        }
      ]
    },
    {
      "cell_type": "code",
      "metadata": {
        "id": "tprSThMgXmnA",
        "colab_type": "code",
        "outputId": "0d5dca31-737d-437e-b2eb-de874794d7cb",
        "colab": {
          "base_uri": "https://localhost:8080/",
          "height": 34
        }
      },
      "source": [
        "X_train_cov.ndim"
      ],
      "execution_count": 21,
      "outputs": [
        {
          "output_type": "execute_result",
          "data": {
            "text/plain": [
              "2"
            ]
          },
          "metadata": {
            "tags": []
          },
          "execution_count": 21
        }
      ]
    },
    {
      "cell_type": "markdown",
      "metadata": {
        "id": "Klhor9TMCr3e",
        "colab_type": "text"
      },
      "source": [
        "### Exercise 1.2: Estimate the Eigen-vectors and Eigen-values of the covariance matrix. \n",
        "The principal components of a covariance matrix are the eigen-vectors of the covariance matrix. The variance of each principal component is proportional to the eigen-value of its corresponding eigen-vector. \n",
        "\n",
        "As part of this exercise you need to extract the two the principal component of the covariance matrix that have the highest variance. Then answer the following questions. \n",
        "\n",
        "**Hints**\n",
        "- The numpy method `eigh` can be used to estimate the eighen-vectors and eigen-values of a square symetric matrix. For example, \n",
        "```python \n",
        "  a_symetric_square_matrix = np.array([[1,0.7],[0.7, 1]])\n",
        "  eig_vals, eig_vecs  = np.linalg.eigh(a_symetric_square_matrix)\n",
        "```\n",
        "\n",
        "\n"
      ]
    },
    {
      "cell_type": "code",
      "metadata": {
        "id": "By6WHK_qEDKF",
        "colab_type": "code",
        "colab": {}
      },
      "source": [
        "#\n",
        "# Calculate the eigenvectors and eigenvalues of the covariance matrix. \n",
        "# \n",
        "import scipy.linalg as la\n",
        "\n",
        "eig_vals, eig_vecs = np.linalg.eigh(X_train_cov)\n",
        "\n"
      ],
      "execution_count": 0,
      "outputs": []
    },
    {
      "cell_type": "markdown",
      "metadata": {
        "id": "x96Ndyh_Gych",
        "colab_type": "text"
      },
      "source": [
        "#### Answer the following questions. \n",
        "Use the code-cell below to find the answer to the following questions and show your work.\n",
        "- Print the eigen-vector with the largest eigen-value, also print the eigen-value itself, and the index of the vector in the `eig_vecs` matrix\n",
        "\n",
        "- Print the eigen-vector with the second largest eigen-value, also print the eigen-value itself, and the index of the vector in the `eig_vecs` matrix\n",
        "\n",
        "- Calculate the percentage of the variance in the data that is captured by the three eigen-vectors with the largest eigen-values.\n",
        "\n",
        "- Calculate the total variance captured by the two eigen-vectors with the smallest eigen-values. \n",
        "\n",
        "- What is the minimum number of principal component you can use to ensure that the least `85%` of the variance is captured in the reduced dataset.  "
      ]
    },
    {
      "cell_type": "code",
      "metadata": {
        "id": "aCkcuuiUFmKZ",
        "colab_type": "code",
        "colab": {
          "base_uri": "https://localhost:8080/",
          "height": 1000
        },
        "outputId": "ebd0be60-3905-4b95-ef4c-f5662db7cbcf"
      },
      "source": [
        "#\n",
        "# Use this cell to find the answers to the above questions, and to show your work. \n",
        "#\n",
        "print(\"first tuple of eig:\", eig_vals)\n",
        "print(\"second tuple of eig\", eig_vecs)"
      ],
      "execution_count": 36,
      "outputs": [
        {
          "output_type": "stream",
          "text": [
            "first tuple of eig: [-1.46431335e-13 -1.07373563e-13 -9.68829325e-14 -9.38455969e-14\n",
            " -7.86761955e-14 -7.39435456e-14 -5.55890708e-14 -5.49559973e-14\n",
            " -4.56115277e-14 -3.84551034e-14 -3.33226723e-14 -3.21184544e-14\n",
            " -3.19155585e-14 -2.76019147e-14 -2.56654068e-14 -2.19612122e-14\n",
            " -2.18551876e-14 -2.17323543e-14 -1.90074833e-14 -1.89422551e-14\n",
            " -1.82219097e-14 -1.79459963e-14 -1.67819353e-14 -1.57431203e-14\n",
            " -1.56588072e-14 -1.41844775e-14 -1.17320153e-14 -1.16118504e-14\n",
            " -1.02251182e-14 -9.07691846e-15 -8.44167811e-15 -7.88483821e-15\n",
            " -7.38656086e-15 -7.30643867e-15 -6.51298106e-15 -6.27702127e-15\n",
            " -6.16264835e-15 -6.08152633e-15 -6.02168009e-15 -5.98894566e-15\n",
            " -5.84832408e-15 -5.83214553e-15 -5.62820431e-15 -5.60717272e-15\n",
            " -5.52917013e-15 -5.45590648e-15 -5.35161802e-15 -5.33867569e-15\n",
            " -5.25095022e-15 -5.15761958e-15 -5.09238287e-15 -5.08744676e-15\n",
            " -5.03445450e-15 -5.00123849e-15 -4.95585100e-15 -4.94568721e-15\n",
            " -4.84735579e-15 -4.81210872e-15 -4.73848169e-15 -4.73792916e-15\n",
            " -4.61363036e-15 -4.60268884e-15 -4.58250268e-15 -4.56960328e-15\n",
            " -4.54324134e-15 -4.48923227e-15 -4.41002102e-15 -4.34840260e-15\n",
            " -4.28984850e-15 -4.23944832e-15 -4.21414514e-15 -4.21011136e-15\n",
            " -4.19950507e-15 -4.16554756e-15 -4.15315540e-15 -4.14651558e-15\n",
            " -4.14012363e-15 -4.10238189e-15 -4.03539805e-15 -3.88639207e-15\n",
            " -3.85457304e-15 -3.79322369e-15 -3.76929835e-15 -3.76799800e-15\n",
            " -3.75145829e-15 -3.71925661e-15 -3.71226568e-15 -3.71204328e-15\n",
            " -3.60066745e-15 -3.47491302e-15 -3.45306273e-15 -3.43447589e-15\n",
            " -3.42960913e-15 -3.41703512e-15 -3.40940632e-15 -3.40286256e-15\n",
            " -3.37344011e-15 -3.32699693e-15 -3.31243199e-15 -3.29091261e-15\n",
            " -3.28096286e-15 -3.27421410e-15 -3.26533150e-15 -3.25252103e-15\n",
            " -3.19643753e-15 -3.15987159e-15 -3.14406801e-15 -3.10630618e-15\n",
            " -3.09463295e-15 -3.07052883e-15 -3.01651235e-15 -2.97236230e-15\n",
            " -2.96503112e-15 -2.94611231e-15 -2.94524200e-15 -2.93696334e-15\n",
            " -2.91799684e-15 -2.81625256e-15 -2.79328502e-15 -2.78371968e-15\n",
            " -2.77508923e-15 -2.68751760e-15 -2.68675612e-15 -2.65645208e-15\n",
            " -2.63807965e-15 -2.63742152e-15 -2.59118058e-15 -2.55865077e-15\n",
            " -2.54973040e-15 -2.54771313e-15 -2.50514413e-15 -2.50341964e-15\n",
            " -2.42899107e-15 -2.41315684e-15 -2.40032550e-15 -2.36776922e-15\n",
            " -2.36088774e-15 -2.33258615e-15 -2.32758548e-15 -2.32751694e-15\n",
            " -2.28259681e-15 -2.27212541e-15 -2.26568486e-15 -2.26155025e-15\n",
            " -2.24341424e-15 -2.21687111e-15 -2.11550964e-15 -2.10081377e-15\n",
            " -2.06661562e-15 -2.06380873e-15 -2.04960051e-15 -2.03694383e-15\n",
            " -2.01088662e-15 -2.00489965e-15 -1.99562675e-15 -1.98907178e-15\n",
            " -1.98852537e-15 -1.95442576e-15 -1.87761420e-15 -1.85255012e-15\n",
            " -1.84372824e-15 -1.83674174e-15 -1.83050584e-15 -1.80257222e-15\n",
            " -1.76029433e-15 -1.75318779e-15 -1.73261878e-15 -1.73126888e-15\n",
            " -1.69542268e-15 -1.69300809e-15 -1.69157222e-15 -1.68463945e-15\n",
            " -1.66106579e-15 -1.65117541e-15 -1.59823009e-15 -1.59163813e-15\n",
            " -1.52092214e-15 -1.51127445e-15 -1.49612309e-15 -1.48973099e-15\n",
            " -1.48209182e-15 -1.47263999e-15 -1.45605949e-15 -1.37462648e-15\n",
            " -1.36183197e-15 -1.35543466e-15 -1.29508162e-15 -1.29044137e-15\n",
            " -1.28576463e-15 -1.27874873e-15 -1.27132954e-15 -1.27030152e-15\n",
            " -1.26997664e-15 -1.21602051e-15 -1.21112645e-15 -1.20706688e-15\n",
            " -1.13837889e-15 -1.10929410e-15 -1.10161763e-15 -1.09334521e-15\n",
            " -1.07707643e-15 -1.05115746e-15 -1.04085700e-15 -1.04009682e-15\n",
            " -1.03711745e-15 -1.03640158e-15 -1.02533775e-15 -1.01628380e-15\n",
            " -1.01040748e-15 -9.74531417e-16 -9.59376904e-16 -9.36925062e-16\n",
            " -9.25845589e-16 -8.25773908e-16 -7.97939684e-16 -7.92481032e-16\n",
            " -7.86601388e-16 -7.67287365e-16 -7.48939038e-16 -7.43975624e-16\n",
            " -7.42833493e-16 -7.18117970e-16 -7.11812130e-16 -6.78396175e-16\n",
            " -6.46344701e-16 -6.17393735e-16 -5.96343006e-16 -5.73531060e-16\n",
            " -5.68544493e-16 -5.66666739e-16 -5.64840419e-16 -5.62888622e-16\n",
            " -5.24593846e-16 -5.23260985e-16 -5.17096772e-16 -5.08072145e-16\n",
            " -4.67195547e-16 -4.58305306e-16 -4.44780374e-16 -4.04337333e-16\n",
            " -4.02586619e-16 -3.96891935e-16 -3.89515394e-16 -3.59611060e-16\n",
            " -3.47915509e-16 -3.21289611e-16 -3.20462093e-16 -2.30403492e-16\n",
            " -2.15375406e-16 -1.90313900e-16 -1.63258535e-16 -1.55482167e-16\n",
            " -1.49546151e-16 -1.47933977e-16 -9.78311731e-17 -9.77828680e-17\n",
            " -9.36586132e-17 -8.06844213e-17 -6.22507148e-17 -3.78994912e-17\n",
            " -2.72814811e-17 -2.29209764e-17 -1.40994515e-17  4.79736817e-18\n",
            "  6.75696496e-18  7.71841569e-18  9.03882053e-18  3.05876240e-17\n",
            "  3.55658690e-17  3.84659659e-17  5.12662001e-17  6.58671393e-17\n",
            "  7.84287811e-17  8.21682295e-17  8.31933326e-17  1.48216206e-16\n",
            "  1.80045753e-16  1.99927776e-16  2.33599657e-16  2.46410962e-16\n",
            "  2.48670154e-16  2.52182225e-16  3.43128270e-16  3.77054048e-16\n",
            "  4.08563475e-16  4.49314121e-16  4.63545166e-16  4.73689040e-16\n",
            "  4.80184203e-16  4.90446480e-16  5.06175468e-16  5.08520069e-16\n",
            "  5.20756347e-16  5.44089728e-16  5.47048861e-16  6.20690013e-16\n",
            "  6.31583623e-16  6.48422341e-16  6.66301452e-16  6.67430478e-16\n",
            "  6.84535329e-16  6.88061920e-16  6.97628029e-16  7.30881843e-16\n",
            "  7.47622884e-16  7.62385387e-16  7.87812348e-16  7.98375512e-16\n",
            "  8.47735231e-16  8.65528123e-16  8.87787558e-16  9.19078066e-16\n",
            "  9.19536588e-16  9.43894232e-16  9.64187030e-16  9.81446422e-16\n",
            "  1.02202301e-15  1.05788920e-15  1.05976225e-15  1.06866746e-15\n",
            "  1.07844313e-15  1.08233383e-15  1.09089000e-15  1.09918999e-15\n",
            "  1.14930026e-15  1.15189770e-15  1.16188979e-15  1.16406486e-15\n",
            "  1.20019721e-15  1.23897971e-15  1.25908857e-15  1.26602582e-15\n",
            "  1.28426144e-15  1.28779308e-15  1.29270470e-15  1.34029761e-15\n",
            "  1.34761462e-15  1.35009245e-15  1.37176173e-15  1.47991755e-15\n",
            "  1.48277696e-15  1.48680328e-15  1.53043830e-15  1.53343474e-15\n",
            "  1.55659495e-15  1.56298484e-15  1.59136244e-15  1.63734107e-15\n",
            "  1.64310785e-15  1.65709470e-15  1.66961471e-15  1.68490172e-15\n",
            "  1.71971475e-15  1.72421732e-15  1.73453074e-15  1.74020581e-15\n",
            "  1.80464479e-15  1.81490186e-15  1.84021969e-15  1.87009024e-15\n",
            "  1.88333793e-15  1.90508180e-15  1.97696722e-15  1.97722433e-15\n",
            "  1.98076020e-15  2.00967801e-15  2.08729386e-15  2.09030075e-15\n",
            "  2.09094596e-15  2.11233287e-15  2.12554020e-15  2.18187268e-15\n",
            "  2.19518114e-15  2.21356717e-15  2.22528317e-15  2.23331065e-15\n",
            "  2.29550803e-15  2.31062802e-15  2.34682550e-15  2.37803407e-15\n",
            "  2.38955084e-15  2.40356029e-15  2.41691652e-15  2.42638832e-15\n",
            "  2.43264997e-15  2.43608960e-15  2.50452536e-15  2.54411333e-15\n",
            "  2.58168103e-15  2.61356798e-15  2.64177599e-15  2.67700198e-15\n",
            "  2.72107305e-15  2.72119260e-15  2.74347234e-15  2.77502012e-15\n",
            "  2.79699827e-15  2.82573682e-15  2.84545238e-15  2.86133959e-15\n",
            "  2.86197284e-15  2.88086616e-15  2.91658055e-15  3.00482689e-15\n",
            "  3.01904887e-15  3.08500022e-15  3.08905234e-15  3.09942372e-15\n",
            "  3.12661132e-15  3.17092835e-15  3.19522757e-15  3.26885426e-15\n",
            "  3.28524124e-15  3.28770607e-15  3.32340804e-15  3.32613349e-15\n",
            "  3.37745235e-15  3.37904074e-15  3.38039761e-15  3.43786364e-15\n",
            "  3.49722771e-15  3.59174922e-15  3.62327300e-15  3.75068245e-15\n",
            "  3.79497416e-15  3.79757828e-15  3.84182193e-15  3.84309804e-15\n",
            "  3.84866951e-15  3.96223431e-15  3.96307742e-15  3.96596957e-15\n",
            "  4.00623595e-15  4.07427875e-15  4.15780505e-15  4.23953144e-15\n",
            "  4.26196686e-15  4.26680952e-15  4.29460600e-15  4.39739819e-15\n",
            "  4.42072191e-15  4.44308377e-15  4.54250122e-15  4.62126513e-15\n",
            "  4.62143467e-15  4.65425518e-15  4.71168286e-15  4.75856146e-15\n",
            "  4.77395603e-15  4.80397259e-15  4.89359702e-15  5.07668368e-15\n",
            "  5.09144048e-15  5.11125048e-15  5.17773852e-15  5.21045840e-15\n",
            "  5.34827955e-15  5.37399832e-15  5.41860919e-15  5.59866753e-15\n",
            "  5.60469875e-15  5.61571780e-15  5.70515801e-15  6.00683892e-15\n",
            "  6.05391792e-15  6.41558326e-15  7.23062233e-15  7.73147294e-15\n",
            "  8.54727593e-15  9.31426876e-15  1.01568098e-14  1.03091989e-14\n",
            "  1.09997818e-14  1.22317090e-14  1.26616755e-14  1.50675789e-14\n",
            "  1.66185191e-14  1.66663656e-14  1.73561016e-14  1.79193109e-14\n",
            "  1.91483547e-14  2.12055523e-14  2.27880271e-14  2.64618721e-14\n",
            "  3.07371757e-14  3.33640104e-14  3.48096413e-14  4.51295847e-14\n",
            "  4.66467689e-14  5.04568014e-14  6.50959280e-14  7.92508881e-14\n",
            "  8.09115381e-14  9.74937490e-14  1.14961390e-13  1.31902653e-13\n",
            "  8.74482766e-01  3.12764945e+01  3.75471063e+01  3.45930774e+02]\n",
            "second tuple of eig [[ 0.          0.          0.         ...  0.10432167 -0.01583359\n",
            "  -0.05361447]\n",
            " [ 0.02050875 -0.09141071  0.00874586 ... -0.06134809  0.02062805\n",
            "  -0.03504396]\n",
            " [ 0.04710286 -0.03764195 -0.08899408 ... -0.02891372 -0.05054338\n",
            "  -0.06051831]\n",
            " ...\n",
            " [ 0.01844678 -0.02188544 -0.00159915 ... -0.07992346  0.14633549\n",
            "  -0.02656314]\n",
            " [-0.06102606 -0.03367001  0.10689047 ...  0.02620741 -0.08280813\n",
            "  -0.04934992]\n",
            " [-0.00103103 -0.04304335  0.00033727 ... -0.07416977  0.08441985\n",
            "  -0.02543442]]\n"
          ],
          "name": "stdout"
        }
      ]
    },
    {
      "cell_type": "markdown",
      "metadata": {
        "id": "9iBcKBCqzGN1",
        "colab_type": "text"
      },
      "source": [
        "### Exercise 1.3 Dimensionality Reduction using Principal Components\n",
        "Use the principal component you calculated in the previous step to reduce the dimensionality of the feature space. \n",
        "\n",
        "- First, you must identify the two principal component with the highest variance (i.e. using the eigen-values you calculated in the previous code-cells).Then append the two principal components into their own matrix `PCA_mx` such that the metrix columns correspond to the selected Principal Components. \n",
        "\n",
        "- Use the resulting matrix `PCA_mx` to reduce the dimensions in the training set; from its original dimension down to two dimentions. You can do that by multiplying the *standaraized* training set X_train_std with the principal component's matrix `PCA_mx`. Store the resulting reduced-dimensionality training set into a variable `X_train_proj` \n",
        "\n",
        "- Use the resulting matrix `PCA_mx` to reduce the dimensions in the testing set; `X_test`. (*Hint: you must first standardize the testing set; using only quantities you calculated from the training set. Remember, standardization is the process of transforming the data to zero mean, and unit standard deviation*). Store the resulting reduced-dimensionality training set into a variable `X_test_proj`    \n",
        "\n",
        "\n"
      ]
    },
    {
      "cell_type": "code",
      "metadata": {
        "id": "k0JpkeNs0E1W",
        "colab_type": "code",
        "colab": {}
      },
      "source": [
        "\n",
        "#\n",
        "# Create a matrix whose columns are the two major principal component.\n",
        "# \n",
        "\n",
        "PCA_mx = ...\n",
        "\n",
        "#\n",
        "# Project the training set X_train onto the two major principal Components. \n",
        "# Use the matrix PCA_mx \n",
        "\n",
        "X_train_proj = ...\n"
      ],
      "execution_count": 0,
      "outputs": []
    },
    {
      "cell_type": "code",
      "metadata": {
        "id": "k1R4ldZx23Vu",
        "colab_type": "code",
        "colab": {}
      },
      "source": [
        "#\n",
        "# Project the test dataset X_test onto the two major principal components\n",
        "# See hint for answering. \n",
        "# \n",
        "\n",
        "X_test_mean_subtracted = ...\n",
        "\n",
        "X_test_std = ...\n",
        "\n",
        "X_test proj = ... \n"
      ],
      "execution_count": 0,
      "outputs": []
    },
    {
      "cell_type": "markdown",
      "metadata": {
        "id": "zZcCqHDs2m-D",
        "colab_type": "text"
      },
      "source": [
        "#### Answer the following questions\n",
        "Use the code-cells below to find the anwers to the following question, and display the requested figures.\n",
        "\n",
        "- What is the shape of the matrix `X_train_proj` and what does each dimension represents. \n",
        "\n",
        "- What is the shape of the matrix `X_test_proj` and what does each dimension represents. \n",
        "\n",
        "- Display a scatter-plot showing the `X_train_proj` data.\n",
        "\n",
        "- Display a scatter-plot showing the `X_test_proj` data. \n",
        "\n",
        "- Calculate the covariance matrix of `X_train_proj` and identify what is the covariance between the first and second features. \n",
        "\n",
        "- Calculate the covariance matrix of `X_test_proj` and identify what is the covariance between the first and second features. \n",
        "\n",
        "\n",
        "\n"
      ]
    },
    {
      "cell_type": "code",
      "metadata": {
        "id": "Agy715Ih1yNC",
        "colab_type": "code",
        "colab": {}
      },
      "source": [
        "#\n",
        "# Use this code-cell to find the answer to the questions above. \n",
        "# \n",
        "X_train_proj.shape()\n",
        "X_train_proj.head()\n",
        "    \n",
        "X_test_proj.shape()\n",
        "X_test_proj.head()"
      ],
      "execution_count": 0,
      "outputs": []
    },
    {
      "cell_type": "code",
      "metadata": {
        "id": "atHscI6M_-3y",
        "colab_type": "code",
        "colab": {}
      },
      "source": [
        "#\n",
        "# Display the scatter-plots of the reduced-dimensional training and testing datasets.\n",
        "#\n",
        "\n",
        "plt.figure(figsize=(10,5))\n",
        "\n",
        "plt.subplot(1,2,1)\n",
        "plt.scatter(X_train_proj[:,1],X_train_proj[:,2])\n",
        "plt.title(\"Reduced-dimensional Training Set\")\n",
        "plt.axis('equal')\n",
        "\n",
        "\n",
        "plt.subplot(1,2,2)\n",
        "plt.scatter(X_test_proj[:,1],X_test_proj[:,2])\n",
        "plt.title(\"Reduced-dimensional Test Set\")\n",
        "plt.axis('equal')\n",
        "plt.show()"
      ],
      "execution_count": 0,
      "outputs": []
    },
    {
      "cell_type": "markdown",
      "metadata": {
        "id": "Hy7p3OPDBrHO",
        "colab_type": "text"
      },
      "source": [
        "## Challenge 2: Apply PCA on sample data - Using the sklearn library\n",
        "\n",
        "Principal Component Analysis is often used as a pre-processing and dimenionality-reductiion step in predictive modeling. As such, the sklearn library provides a helper class that encapulates the step of extracting the principal component. \n",
        "\n",
        "Specifically, sklearn library provides the `PCA` class as part of its `sklearn.decomposition` module. You can clear a new instance of the PCA class as follows:\n",
        "```python \n",
        "  pca = PCA(n_components=2) \n",
        "```\n",
        "Notice the the variable `n_components` specifies the number of principal components we want to keep as part of the dimensionality reduction. \n",
        "\n",
        "To apply the PCA class, we must make sure that we standardize the dataset, that is to transform the data so they have zero mean and unit variance. Sklearn provides another helper function the  performnce the standardization of the data. The `StandardScaler` class, part of the `sklearning.preprocessing` module achieves that. For example, the following code would standardize a matrix X\n",
        "```python \n",
        "D = np.array([[1,2],[4,9],[1,5],[7,19],[4,9]])\n",
        "sc = StandardScaler()\n",
        "sc.fit_transform(D)        # Learn the standardization parameters (i.e. mean, std parameters)\n",
        "D_std = sc.transform(D)    # Standardize the dataset D\n",
        "\n",
        "np.cov(D_std.T, ddof=False)# Check the covariance matrix.\n",
        "```\n",
        "\n",
        "Once the dataset is standardized, we can extract the principal components using the `fit` method of the `PCA` class, for example using\n",
        "\n",
        "```python \n",
        "pca.fit(D_std)\n",
        "``` \n",
        "Notice that under the hood the fit method creates the covariance matrix, and solves the eigen-vector/eigen-value problem. \n",
        "\n",
        "The principal components (i.e. eigen-vectors) and their explained variance (i.e. corresponding eigen-value) can be retrived from the fitted `pca` instance through the `explained_variance_` and `components_` attributes, such as \n",
        "```python\n",
        "print(\"Extracted Principal Components (i.e. eigen-vectors\")\n",
        "print(pca.components_)\n",
        "\n",
        "print(\"Explained variabce of extracted components (i.e. eigen-values)\n",
        "print(pca.explained_variance_)\n",
        "```\n",
        "Finally, project a dataset onto the extracted principal components, we can use the `transform` method of the PCA class. For example,\n",
        "```python\n",
        "D_projected = pca.transform(D_std)\n",
        "``` \n",
        "**Exercise**\n",
        "Using the reference code above, extract the principal components of the same sample dataset (as the one in Challenge 1), but now using the helper classes provided in the sklearn library.  Moreover, reduce the dimensionality of the `X_train` and `X_test` dataset by projecting to the two major principal components. \n",
        " \n",
        "\n"
      ]
    },
    {
      "cell_type": "code",
      "metadata": {
        "id": "L36yCl5XIC4Z",
        "colab_type": "code",
        "colab": {}
      },
      "source": [
        "# Import the sklearn libaries \n",
        "from sklearn.decomposition import PCA\n",
        "from sklearn.preprocessing import StandardScaler "
      ],
      "execution_count": 0,
      "outputs": []
    },
    {
      "cell_type": "code",
      "metadata": {
        "id": "7ChRGsXkH0_y",
        "colab_type": "code",
        "colab": {}
      },
      "source": [
        "#\n",
        "# Create an Instance of the PCA class from sklearn.decomposition import PCA\n",
        "#\n",
        "\n",
        "pca = PCA(n_components=2) \n",
        "\n",
        "\n",
        "\n",
        "#\n",
        "# Standardize the training and testing dataset. \n",
        "#\n",
        "\n",
        "sc = StandardScaler()\n",
        "X_train_std = sc.fit_transform(X_train)\n",
        "X_test_std = sc.fit_transform(X_test)\n",
        "\n",
        "#\n",
        "# Extract/learn the principal components\n",
        "#\n",
        "\n",
        "\n",
        "\n",
        "\n",
        "#\n",
        "# Project the train dataset onto the two major principal components. \n",
        "#\n",
        "\n",
        "X_train_proj_sklearn = pca.fit_transform(X_train_std)\n",
        "\n",
        "\n",
        "\n",
        "#\n",
        "# Project the train dataset onto the two major principal components. \n",
        "# Hint: do not forget to standardize the test dataset. \n",
        "\n",
        "X_test_proj_sklearn = pca.fit_transform(X_test_std)\n",
        "\n"
      ],
      "execution_count": 0,
      "outputs": []
    },
    {
      "cell_type": "code",
      "metadata": {
        "id": "TU8NQ-6XWMM8",
        "colab_type": "code",
        "outputId": "bcdb0a74-13c2-43dc-e6eb-af5620bf3f3c",
        "colab": {
          "base_uri": "https://localhost:8080/",
          "height": 343
        }
      },
      "source": [
        "#\n",
        "#  Display a scatter-plot showing the `X_train_proj_sklearn` data.\n",
        "#\n",
        "#  Display a scatter-plot showing the `X_test_proj_sklearn` data. \n",
        "#. Hint: See sample code from Challenge 1.\n",
        "#  \n",
        "\n",
        "\n",
        "plt.figure(figsize=(20,10))\n",
        "\n",
        "# Plot the scatter plot between feature-pair (1,2) \n",
        "plt.subplot(1,4,1)\n",
        "plt.scatter(X_train_proj_sklearn[:,-1],X_train_proj_sklearn[:,1])\n",
        "plt.title(\"Scatter plot between X_train_proj_sklearn\")\n",
        "plt.xlabel(\"Feature 1\")\n",
        "plt.ylabel(\"Feature 2\")\n",
        "plt.axis(\"square\")\n",
        "\n",
        "# your code here"
      ],
      "execution_count": 39,
      "outputs": [
        {
          "output_type": "execute_result",
          "data": {
            "text/plain": [
              "(-3.288934817756037, 3.5190705126209303, -3.2889348177560374, 3.51907051262093)"
            ]
          },
          "metadata": {
            "tags": []
          },
          "execution_count": 39
        },
        {
          "output_type": "display_data",
          "data": {
            "image/png": "[encoded data removed]",
            "text/plain": [
              "<Figure size 1440x720 with 1 Axes>"
            ]
          },
          "metadata": {
            "tags": []
          }
        }
      ]
    },
    {
      "cell_type": "markdown",
      "metadata": {
        "id": "1UlytNdsDvCR",
        "colab_type": "text"
      },
      "source": [
        "## Challenge 3: Perform PCA to reduce the dimensions of the wine dataset.\n",
        "\n",
        "The code-cell below load an example dataset called `wine.data` as a panda's dataframe, and then split it into a training `X_train` and testing dataset `X_test`. Each observation corresponds to a particular wine brand and the features correspond to various characteristics associated with each wine (for example, 'Alcohol', 'Malic acid', 'Ash','Alcalinity of ash', 'Magnesium'). There are total 13 such features for each wine. Moreover, each wine belongs to one of three quality classes (i.e. 1,2 or 3). The class labels for each onservation are stored in the `y_train` and `y_test` vectors. \n"
      ]
    },
    {
      "cell_type": "code",
      "metadata": {
        "id": "aSGeoxykeq_j",
        "colab_type": "code",
        "colab": {}
      },
      "source": [
        "import pandas as pd\n",
        "from sklearn.model_selection import train_test_split\n",
        "\n",
        "df_wine = pd.read_csv('https://archive.ics.uci.edu/ml/'\n",
        "                      'machine-learning-databases/wine/wine.data',\n",
        "                      header=None)\n",
        "\n",
        "df_wine.columns = ['Class label', 'Alcohol', 'Malic acid', 'Ash',\n",
        "                   'Alcalinity of ash', 'Magnesium', 'Total phenols',\n",
        "                   'Flavanoids', 'Nonflavanoid phenols', 'Proanthocyanins',\n",
        "                   'Color intensity', 'Hue',\n",
        "                   'OD280/OD315 of diluted wines', 'Proline']\n",
        "                   \n",
        "X, y = df_wine.iloc[:, 1:].values, df_wine.iloc[:, 0].values\n",
        "\n",
        "X_train, X_test, y_train, y_test = train_test_split(X, y, test_size=0.3, \n",
        "                     stratify=y,\n",
        "                     random_state=0)"
      ],
      "execution_count": 0,
      "outputs": []
    },
    {
      "cell_type": "markdown",
      "metadata": {
        "id": "b5nSaaf9fqLJ",
        "colab_type": "text"
      },
      "source": [
        "### Exercise 3.1  \n",
        "\n",
        "Your goal is to find a classifier to predict the quality class of a wine, given its observed features. You suspect that several of the features covay and that you are better off to reduce the number of dimession of the same before performing the classificaton.\n",
        "\n",
        "In this exercise you are expected to use PCA to reduce the dimensionality of the original dataset from 13 down to two. Then use the K-NN to train a classifier that predicts the wine quality class. \n",
        "\n",
        "Compare the performance of your classifier, to a classifier that uses all 13 features. You must report cross validation performance, and independent test performance. \n",
        "\n"
      ]
    },
    {
      "cell_type": "code",
      "metadata": {
        "id": "5lr6NJsngXm4",
        "colab_type": "code",
        "colab": {}
      },
      "source": [
        "#\n",
        "# Use as many code-cell you deem necessary to complete exercise 3.1\n",
        "# Make sure you add comments, to explain your code. \n",
        "# "
      ],
      "execution_count": 0,
      "outputs": []
    },
    {
      "cell_type": "code",
      "metadata": {
        "id": "DTeztEgfgXbc",
        "colab_type": "code",
        "colab": {}
      },
      "source": [
        "from sklearn.neighbors import KNeighborsClassifier as knn\n",
        "from sklearn.decomposition import PCA\n",
        "import pandas as pd"
      ],
      "execution_count": 0,
      "outputs": []
    },
    {
      "cell_type": "code",
      "metadata": {
        "id": "5z7PXQ_baIZU",
        "colab_type": "code",
        "outputId": "6dc9300b-c44b-4dd1-c3ed-ce7ea73dcef2",
        "colab": {
          "base_uri": "https://localhost:8080/",
          "height": 258
        }
      },
      "source": [
        "df_wine.head()"
      ],
      "execution_count": 43,
      "outputs": [
        {
          "output_type": "execute_result",
          "data": {
            "text/html": [
              "<div>\n",
              "<style scoped>\n",
              "    .dataframe tbody tr th:only-of-type {\n",
              "        vertical-align: middle;\n",
              "    }\n",
              "\n",
              "    .dataframe tbody tr th {\n",
              "        vertical-align: top;\n",
              "    }\n",
              "\n",
              "    .dataframe thead th {\n",
              "        text-align: right;\n",
              "    }\n",
              "</style>\n",
              "<table border=\"1\" class=\"dataframe\">\n",
              "  <thead>\n",
              "    <tr style=\"text-align: right;\">\n",
              "      <th></th>\n",
              "      <th>Class label</th>\n",
              "      <th>Alcohol</th>\n",
              "      <th>Malic acid</th>\n",
              "      <th>Ash</th>\n",
              "      <th>Alcalinity of ash</th>\n",
              "      <th>Magnesium</th>\n",
              "      <th>Total phenols</th>\n",
              "      <th>Flavanoids</th>\n",
              "      <th>Nonflavanoid phenols</th>\n",
              "      <th>Proanthocyanins</th>\n",
              "      <th>Color intensity</th>\n",
              "      <th>Hue</th>\n",
              "      <th>OD280/OD315 of diluted wines</th>\n",
              "      <th>Proline</th>\n",
              "    </tr>\n",
              "  </thead>\n",
              "  <tbody>\n",
              "    <tr>\n",
              "      <th>0</th>\n",
              "      <td>1</td>\n",
              "      <td>14.23</td>\n",
              "      <td>1.71</td>\n",
              "      <td>2.43</td>\n",
              "      <td>15.6</td>\n",
              "      <td>127</td>\n",
              "      <td>2.80</td>\n",
              "      <td>3.06</td>\n",
              "      <td>0.28</td>\n",
              "      <td>2.29</td>\n",
              "      <td>5.64</td>\n",
              "      <td>1.04</td>\n",
              "      <td>3.92</td>\n",
              "      <td>1065</td>\n",
              "    </tr>\n",
              "    <tr>\n",
              "      <th>1</th>\n",
              "      <td>1</td>\n",
              "      <td>13.20</td>\n",
              "      <td>1.78</td>\n",
              "      <td>2.14</td>\n",
              "      <td>11.2</td>\n",
              "      <td>100</td>\n",
              "      <td>2.65</td>\n",
              "      <td>2.76</td>\n",
              "      <td>0.26</td>\n",
              "      <td>1.28</td>\n",
              "      <td>4.38</td>\n",
              "      <td>1.05</td>\n",
              "      <td>3.40</td>\n",
              "      <td>1050</td>\n",
              "    </tr>\n",
              "    <tr>\n",
              "      <th>2</th>\n",
              "      <td>1</td>\n",
              "      <td>13.16</td>\n",
              "      <td>2.36</td>\n",
              "      <td>2.67</td>\n",
              "      <td>18.6</td>\n",
              "      <td>101</td>\n",
              "      <td>2.80</td>\n",
              "      <td>3.24</td>\n",
              "      <td>0.30</td>\n",
              "      <td>2.81</td>\n",
              "      <td>5.68</td>\n",
              "      <td>1.03</td>\n",
              "      <td>3.17</td>\n",
              "      <td>1185</td>\n",
              "    </tr>\n",
              "    <tr>\n",
              "      <th>3</th>\n",
              "      <td>1</td>\n",
              "      <td>14.37</td>\n",
              "      <td>1.95</td>\n",
              "      <td>2.50</td>\n",
              "      <td>16.8</td>\n",
              "      <td>113</td>\n",
              "      <td>3.85</td>\n",
              "      <td>3.49</td>\n",
              "      <td>0.24</td>\n",
              "      <td>2.18</td>\n",
              "      <td>7.80</td>\n",
              "      <td>0.86</td>\n",
              "      <td>3.45</td>\n",
              "      <td>1480</td>\n",
              "    </tr>\n",
              "    <tr>\n",
              "      <th>4</th>\n",
              "      <td>1</td>\n",
              "      <td>13.24</td>\n",
              "      <td>2.59</td>\n",
              "      <td>2.87</td>\n",
              "      <td>21.0</td>\n",
              "      <td>118</td>\n",
              "      <td>2.80</td>\n",
              "      <td>2.69</td>\n",
              "      <td>0.39</td>\n",
              "      <td>1.82</td>\n",
              "      <td>4.32</td>\n",
              "      <td>1.04</td>\n",
              "      <td>2.93</td>\n",
              "      <td>735</td>\n",
              "    </tr>\n",
              "  </tbody>\n",
              "</table>\n",
              "</div>"
            ],
            "text/plain": [
              "   Class label  Alcohol  ...  OD280/OD315 of diluted wines  Proline\n",
              "0            1    14.23  ...                          3.92     1065\n",
              "1            1    13.20  ...                          3.40     1050\n",
              "2            1    13.16  ...                          3.17     1185\n",
              "3            1    14.37  ...                          3.45     1480\n",
              "4            1    13.24  ...                          2.93      735\n",
              "\n",
              "[5 rows x 14 columns]"
            ]
          },
          "metadata": {
            "tags": []
          },
          "execution_count": 43
        }
      ]
    },
    {
      "cell_type": "code",
      "metadata": {
        "id": "3dWOw7bXa6cD",
        "colab_type": "code",
        "colab": {}
      },
      "source": [
        "from sklearn.decomposition import PCA\n",
        "from sklearn.neighbors import KNeighborsClassifier\n"
      ],
      "execution_count": 0,
      "outputs": []
    },
    {
      "cell_type": "code",
      "metadata": {
        "id": "QT69aFySa82W",
        "colab_type": "code",
        "outputId": "4c0dfada-772e-4f97-dd93-e1658569ed8b",
        "colab": {
          "base_uri": "https://localhost:8080/",
          "height": 170
        }
      },
      "source": [
        "pca = PCA(n_components=2)\n",
        "sc = StandardScaler() \n",
        "Xsm_sklearn =  sc.fit_transform(X)\n",
        "pca.fit(Xsm_sklearn)\n",
        "\n",
        "print(\"Eigen Values\")\n",
        "print(pca.explained_variance_) \n",
        "print(\"Eigen Vectors\")\n",
        "print(pca.components_)"
      ],
      "execution_count": 51,
      "outputs": [
        {
          "output_type": "stream",
          "text": [
            "Eigen Values\n",
            "[4.73243698 2.51108093]\n",
            "Eigen Vectors\n",
            "[[ 0.1443294  -0.24518758 -0.00205106 -0.23932041  0.14199204  0.39466085\n",
            "   0.4229343  -0.2985331   0.31342949 -0.0886167   0.29671456  0.37616741\n",
            "   0.28675223]\n",
            " [-0.48365155 -0.22493093 -0.31606881  0.0105905  -0.299634   -0.06503951\n",
            "   0.00335981 -0.02877949 -0.03930172 -0.52999567  0.27923515  0.16449619\n",
            "  -0.36490283]]\n"
          ],
          "name": "stdout"
        }
      ]
    },
    {
      "cell_type": "code",
      "metadata": {
        "id": "f4gUZ0ibfAd-",
        "colab_type": "code",
        "outputId": "375a29be-6b77-42f3-c7cf-fdb15ed47aab",
        "colab": {
          "base_uri": "https://localhost:8080/",
          "height": 51
        }
      },
      "source": [
        "Xsm_apply = sc.transform(X)\n",
        "\n",
        "X_pca = pca.transform(Xsm_apply)\n",
        "print(\"original shape:   \", X.shape)\n",
        "print(\"transformed shape:\", X_pca.shape)"
      ],
      "execution_count": 52,
      "outputs": [
        {
          "output_type": "stream",
          "text": [
            "original shape:    (178, 13)\n",
            "transformed shape: (178, 2)\n"
          ],
          "name": "stdout"
        }
      ]
    },
    {
      "cell_type": "code",
      "metadata": {
        "id": "CwpcmMAXgfUE",
        "colab_type": "code",
        "colab": {
          "base_uri": "https://localhost:8080/",
          "height": 296
        },
        "outputId": "24b7e10b-701d-4740-a9a6-ef285a272a38"
      },
      "source": [
        "scores = []\n",
        "for each in range(1,30):\n",
        "    knn = KNeighborsClassifier(n_neighbors = each)\n",
        "    score = pca.transform(Xsm_apply)\n",
        "    scores.append(score.mean())\n",
        "    \n",
        "plt.plot(range(1,30),scores,color=\"black\")\n",
        "plt.xlabel(\"K Values\")\n",
        "plt.ylabel(\"Score(Accuracy)\")\n",
        "plt.show()"
      ],
      "execution_count": 54,
      "outputs": [
        {
          "output_type": "display_data",
          "data": {
            "image/png": "[encoded data removed]",
            "text/plain": [
              "<Figure size 432x288 with 1 Axes>"
            ]
          },
          "metadata": {
            "tags": []
          }
        }
      ]
    },
    {
      "cell_type": "code",
      "metadata": {
        "id": "qwsxbN5ej7_U",
        "colab_type": "code",
        "colab": {
          "base_uri": "https://localhost:8080/",
          "height": 34
        },
        "outputId": "6eecb5c2-7424-46e8-bee5-c3fbfe9a0856"
      },
      "source": [
        "knn_find = KNeighborsClassifier()\n",
        "knn_find.fit(X_train,y_train) \n",
        "knn_prediction = knn_find.predict(X_test)\n",
        "print(\"{}-NN Score: {}\".format( k ,knn_find.score(X_test,y_test)))\n",
        "knn_score = knn_find.score(X_test,y_test)"
      ],
      "execution_count": 56,
      "outputs": [
        {
          "output_type": "stream",
          "text": [
            "5-NN Score: 0.7222222222222222\n"
          ],
          "name": "stdout"
        }
      ]
    },
    {
      "cell_type": "code",
      "metadata": {
        "id": "E1qKVE4vk48Q",
        "colab_type": "code",
        "colab": {
          "base_uri": "https://localhost:8080/",
          "height": 34
        },
        "outputId": "aa1e3500-4711-4853-867e-fbb1b12a335d"
      },
      "source": [
        "np.var(knn_score)"
      ],
      "execution_count": 63,
      "outputs": [
        {
          "output_type": "execute_result",
          "data": {
            "text/plain": [
              "0.0"
            ]
          },
          "metadata": {
            "tags": []
          },
          "execution_count": 63
        }
      ]
    },
    {
      "cell_type": "code",
      "metadata": {
        "id": "hDDKUhD1kHGo",
        "colab_type": "code",
        "colab": {
          "base_uri": "https://localhost:8080/",
          "height": 285
        },
        "outputId": "506464c0-d7f5-46d7-a061-df819fd2ee7b"
      },
      "source": [
        "from sklearn.model_selection import cross_val_score\n",
        "\n",
        "scores = []\n",
        "for each in range(1,20):\n",
        "    knn = KNeighborsClassifier(n_neighbors = each)\n",
        "    score = cross_val_score(knn, X_train, y_train, cv = 5)\n",
        "    scores.append(score.mean())\n",
        "    \n",
        "plt.plot(range(1,20),scores,color=\"black\")\n",
        "plt.xlabel(\"K Values\")\n",
        "plt.ylabel(\"Score(Accuracy)\")\n",
        "plt.show()"
      ],
      "execution_count": 59,
      "outputs": [
        {
          "output_type": "display_data",
          "data": {
            "image/png": "[encoded data removed]",
            "text/plain": [
              "<Figure size 432x288 with 1 Axes>"
            ]
          },
          "metadata": {
            "tags": []
          }
        }
      ]
    },
    {
      "cell_type": "code",
      "metadata": {
        "id": "XNTE4aJckU26",
        "colab_type": "code",
        "colab": {
          "base_uri": "https://localhost:8080/",
          "height": 34
        },
        "outputId": "0b724cd2-1968-400d-da01-afe5bc2071a4"
      },
      "source": [
        "knn_find = KNeighborsClassifier(n_neighbors = 6) #n_neighbors = K value\n",
        "knn_find.fit(X_train,y_train) \n",
        "knn_prediction = knn_find.predict(X_test)\n",
        "print(\"{}-NN Score: {}\".format(6,knn_find.score(X_test,y_test)))\n",
        "knn_score1 = knn_find.score(X_test,y_test)"
      ],
      "execution_count": 64,
      "outputs": [
        {
          "output_type": "stream",
          "text": [
            "6-NN Score: 0.6481481481481481\n"
          ],
          "name": "stdout"
        }
      ]
    },
    {
      "cell_type": "code",
      "metadata": {
        "id": "hyHlWyL1lKkE",
        "colab_type": "code",
        "colab": {
          "base_uri": "https://localhost:8080/",
          "height": 34
        },
        "outputId": "2785a405-c54c-4cb9-abc0-ab055761f124"
      },
      "source": [
        "np.var(knn_score1)"
      ],
      "execution_count": 65,
      "outputs": [
        {
          "output_type": "execute_result",
          "data": {
            "text/plain": [
              "0.0"
            ]
          },
          "metadata": {
            "tags": []
          },
          "execution_count": 65
        }
      ]
    },
    {
      "cell_type": "markdown",
      "metadata": {
        "id": "iL2rcSRffzI6",
        "colab_type": "text"
      },
      "source": [
        "#### Summarize the results of your analysis on the wine Dataset.\n",
        "Use the following text-cell to summarize the results of your analysis. For example, consider the following questions: which classifer performces better and by how match? Did PCA dimensionallity reduction helped imporove the classification performance or not? Should you have used more or less principal components to improve classification performance. How much of the variance is captured by the reduced feature space? \n"
      ]
    },
    {
      "cell_type": "markdown",
      "metadata": {
        "id": "m3zFiik2gQjL",
        "colab_type": "text"
      },
      "source": [
        "#### Your results summary here"
      ]
    },
    {
      "cell_type": "markdown",
      "metadata": {
        "id": "fxqfZVnqkcuX",
        "colab_type": "text"
      },
      "source": [
        "The k-NN classification with PCA shows an accuracy value of 0.72 while the k-NN with cross validation showed an accuracy of 0.65. PCA helped improve the performance. "
      ]
    },
    {
      "cell_type": "markdown",
      "metadata": {
        "id": "YzQMvN1Mi8zA",
        "colab_type": "text"
      },
      "source": [
        "## License \n",
        "\n",
        "<div> This workbook is prepare by Dr. Christoforos Christoforou for the purposed of course. If you identify any typos/errors please let the author know. Not for circulation outside the course</div>"
      ]
    },
    {
      "cell_type": "code",
      "metadata": {
        "id": "dFr8UHJfjS--",
        "colab_type": "code",
        "colab": {}
      },
      "source": [
        ""
      ],
      "execution_count": 0,
      "outputs": []
    }
  ]
}